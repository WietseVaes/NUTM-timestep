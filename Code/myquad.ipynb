{
 "cells": [
  {
   "cell_type": "code",
   "execution_count": 12,
   "id": "af6b32fb",
   "metadata": {},
   "outputs": [],
   "source": [
    "using LinearAlgebra"
   ]
  },
  {
   "cell_type": "markdown",
   "id": "04daade0",
   "metadata": {},
   "source": [
    "# Extra stuff"
   ]
  },
  {
   "cell_type": "code",
   "execution_count": 13,
   "id": "f7c27a1b",
   "metadata": {},
   "outputs": [],
   "source": [
    "mutable struct curv\n",
    "    c # Curve\n",
    "    a # Start value  \n",
    "    b # End value\n",
    "    w # Weights for integration\n",
    "    N # Amount of\n",
    "    M # amount of elements\n",
    "    q # element spacing\n",
    "end  "
   ]
  },
  {
   "cell_type": "code",
   "execution_count": 14,
   "id": "29da3f69",
   "metadata": {},
   "outputs": [
    {
     "data": {
      "text/plain": [
       "grid_weight_find (generic function with 1 method)"
      ]
     },
     "metadata": {},
     "output_type": "display_data"
    }
   ],
   "source": [
    "function grid_weight_find(a,b)\n",
    "    \n",
    "    J = Matrix(SymTridiagonal(a,b[1:(end-1)]))\n",
    "    \n",
    "    xgrid, U = eigen(J);\n",
    "    \n",
    "    U = transpose(sign.(U[1,:])) .* U\n",
    "    \n",
    "    w = abs.(U[1,:]).^2\n",
    "    \n",
    "    return xgrid, w, U\n",
    "    \n",
    "end"
   ]
  },
  {
   "cell_type": "markdown",
   "id": "7a48d579",
   "metadata": {},
   "source": [
    "# The quads"
   ]
  },
  {
   "cell_type": "code",
   "execution_count": 15,
   "id": "ae300273",
   "metadata": {},
   "outputs": [
    {
     "data": {
      "text/plain": [
       "stand_int (generic function with 1 method)"
      ]
     },
     "metadata": {},
     "output_type": "display_data"
    }
   ],
   "source": [
    "function stand_int(f,s)\n",
    "    \n",
    "    # function f \n",
    "    \n",
    "    #object s with: curve - c\n",
    "    #               start value - a\n",
    "    #               end value - b\n",
    "    #               curve derivative - w\n",
    "    \n",
    "    f_curv = x-> map(f,map(s.c,x))  .* map(s.w,x); # map to real line\n",
    "    \n",
    "    Dtrans_func = (s.b-s.a)/2;\n",
    "    trans_func = x -> (s.b + s.a)/2 + x * (s.b - s.a)/2 ;\n",
    "    \n",
    "    g = x -> f_curv(trans_func(x)) * Dtrans_func; # map to [-1,1]\n",
    "    return g\n",
    "end"
   ]
  },
  {
   "cell_type": "code",
   "execution_count": 16,
   "id": "52c791fe",
   "metadata": {},
   "outputs": [
    {
     "data": {
      "text/plain": [
       "Clen_Curt (generic function with 1 method)"
      ]
     },
     "metadata": {},
     "output_type": "display_data"
    }
   ],
   "source": [
    "function Clen_Curt(f,s)\n",
    "    \n",
    "    # function f\n",
    "    \n",
    "    #object s with: curve - c\n",
    "    #               start value - a\n",
    "    #               end value - b\n",
    "    #               curve derivative - w\n",
    "    #               number of quadrature points - N\n",
    "    \n",
    "    N = s.N\n",
    "\n",
    "    if mod(N,2) != 0\n",
    "       N -= 1 \n",
    "    end\n",
    "    \n",
    "    f_int = stand_int(f,s)\n",
    "    n = 0:N/2;\n",
    "    D = 2 * cos.(2* transpose(n) .* n * pi/N)/N;\n",
    "    D[1,:] = D[1,:] .* 0.5;\n",
    "    d = [1; 2 ./ (1 .- (2:2:N).^2)];\n",
    "    w = D * d;\n",
    "    x = cos.( (0:N) * π / N );\n",
    "    w = [w;w[length(w)-1:-1:1]];\n",
    "    res = sum(map(f_int,x) .* w)\n",
    "    \n",
    "    return res\n",
    "end"
   ]
  },
  {
   "cell_type": "code",
   "execution_count": 17,
   "id": "9c611943",
   "metadata": {},
   "outputs": [
    {
     "data": {
      "text/plain": [
       "m_Filon_Clen_Curt (generic function with 1 method)"
      ]
     },
     "metadata": {},
     "output_type": "display_data"
    }
   ],
   "source": [
    "function m_Filon_Clen_Curt(f_o,s)\n",
    "    \n",
    "    # function f\n",
    "    \n",
    "    #object s with: curve - c\n",
    "    #               start value - a\n",
    "    #               end value - b\n",
    "    #               curve derivative - w\n",
    "    #               number of segments - M\n",
    "    #               Spacing factor - q\n",
    "    #               number of quadrature points - N (per segment)\n",
    "    \n",
    "    M = s.M\n",
    "    N = s.N \n",
    "    q = s.q\n",
    "\n",
    "    if mod(N,2) != 0\n",
    "       N -= 1 \n",
    "    end\n",
    "    \n",
    "    f = x-> map(f_o,map(s.c,x))  .* map(s.w,x); # map to real line\n",
    "\n",
    "    mua = s.a * ((1:M) ./ M).^q;\n",
    "    mub = s.b * ((1:M) ./ M).^q;\n",
    "    \n",
    "    resa = 0;\n",
    "    resb = 0;\n",
    "\n",
    "    for i1 = 1:(M-1)\n",
    "        sa = curv(x->x,mua[i1],mua[i1+1],x->1)\n",
    "        sb = curv(x->x,mub[i1],mub[i1+1],x->1)\n",
    "        resa = resa + Clen_Curt(f,sa,N);\n",
    "        resb = resb + Clen_Curt(f,sb,N);\n",
    "    end\n",
    "\n",
    "    if s.a == 0\n",
    "        resa = 0;\n",
    "    end\n",
    "    if s.b == 0\n",
    "        resb = 0;\n",
    "    end\n",
    "    \n",
    "    res = resb-resa;\n",
    "    \n",
    "    return res\n",
    "end"
   ]
  },
  {
   "cell_type": "code",
   "execution_count": 18,
   "id": "5fee5ae5",
   "metadata": {},
   "outputs": [
    {
     "data": {
      "text/plain": [
       "Trap (generic function with 1 method)"
      ]
     },
     "metadata": {},
     "output_type": "display_data"
    }
   ],
   "source": [
    "function Trap(f_0,s)\n",
    "    \n",
    "    #Good for periodic functions\n",
    "    \n",
    "    N = s.N \n",
    "    \n",
    "    f = x-> map(f_0,map(s.c,x))  .* map(s.w,x); # map to real line\n",
    "    \n",
    "    dx = (s.b-s.a)/(N);\n",
    "    \n",
    "    res = (f(s.a)+f(s.b))/2 * dx\n",
    "    \n",
    "    for i1 = 1:N-1\n",
    "        res = dx * f((s.b-s.a) * i1 / N + s.a)\n",
    "    end\n",
    "    \n",
    "    return res\n",
    "end"
   ]
  },
  {
   "cell_type": "code",
   "execution_count": 19,
   "id": "ce9c9947",
   "metadata": {},
   "outputs": [
    {
     "data": {
      "text/plain": [
       "Laguerre_quad (generic function with 1 method)"
      ]
     },
     "metadata": {},
     "output_type": "display_data"
    }
   ],
   "source": [
    "function Laguerre_quad(f_o,s)\n",
    "    \n",
    "    #\n",
    "    # For integrals of the the ∫_0^∞ exp(-x)*g(x)dx, here f(x) = exp(x)*g(x)\n",
    "    # Problem: we need the poly function and it can't go very high\n",
    "    #\n",
    "    \n",
    "    # xL_k = (2k+1)L_k - kL_{k-1} - (k+1)L_{k+1}, k ≥ 1\n",
    "    \n",
    "    N = s.N \n",
    "    \n",
    "    f = x -> map(f_o,map(s.c,x)) .* exp(x)  .* map(s.w,x); # map to real line\n",
    "    \n",
    "    K = 1:N\n",
    "    \n",
    "    a = collect(2 .* K .- 1) \n",
    "    b = collect(-K)\n",
    "    x, w, uu = Cheb_x_w(a,b)\n",
    "    \n",
    "    res = sum(w .* map(f,x))\n",
    "    \n",
    "    return res\n",
    "end"
   ]
  },
  {
   "cell_type": "code",
   "execution_count": 20,
   "id": "cc405650",
   "metadata": {},
   "outputs": [
    {
     "data": {
      "text/plain": [
       "two_sided_Laguerre_quad (generic function with 1 method)"
      ]
     },
     "metadata": {},
     "output_type": "display_data"
    }
   ],
   "source": [
    "function two_sided_Laguerre_quad(f_o,s)\n",
    "    \n",
    "    #\n",
    "    # For integrals of the the ∫_0^∞ exp(-x)*g(x)dx, here f(x) = exp(-x)*g(x)\n",
    "    # Problem: we need the poly function and it can't go very high\n",
    "    #\n",
    "    \n",
    "    # xL_k = (2k+1)L_k - kL_{k-1} - (k+1)L_{k+1}, k ≥ 1\n",
    "    \n",
    "    N = s.N \n",
    "\n",
    "    f = x -> map(f_o,map(s.c,x)) .* exp(x)  .* map(s.w,x); # map to real line\n",
    "    f_oppo = x -> map(f_o,map(s.c,-x)) .* exp(x)  .* map(s.w,-x); # map to real line\n",
    "    \n",
    "    K = 1:N\n",
    "    \n",
    "    a = collect(2 .* K .- 1) \n",
    "    b = collect(-K)\n",
    "    x, w, uu = grid_weight_find(a,b)\n",
    "    \n",
    "    res = sum(w .* map(f,x)) + sum(w .* map(f_oppo,x))\n",
    "    \n",
    "    return res\n",
    "end"
   ]
  },
  {
   "cell_type": "code",
   "execution_count": 21,
   "id": "fb7f3bdd",
   "metadata": {},
   "outputs": [
    {
     "data": {
      "text/plain": [
       "Hermite_quad (generic function with 1 method)"
      ]
     },
     "metadata": {},
     "output_type": "display_data"
    }
   ],
   "source": [
    "function Hermite_quad(f_o,s)\n",
    "    \n",
    "    #\n",
    "    # For integrals of the the ∫_{-∞}^∞ exp(-x^2)*g(x)dx, here f(x) = exp(-x^2)*g(x)\n",
    "    # Problem: Only takes like N = 5, works good, but very variable\n",
    "    #\n",
    "    \n",
    "    # x H_n = 1/2H_{n+1}+nH_{n-1}\n",
    "    # 1/2H_{n+1} = x H_n-nH_{n-1}\n",
    "    \n",
    "    N = s.N \n",
    "\n",
    "    f = x -> map(f_o,map(s.c,x)) .* exp(x .^ 2)  .* map(s.w,x); # map to real line\n",
    "\n",
    "    a = zeros(N);\n",
    "    b = sqrt.((1:N) ./ 2)\n",
    "    x, w, uu = grid_weight_find(a,b)\n",
    "    \n",
    "    w *= sqrt(pi) # multiply by int of e^(-x^2)\n",
    "\n",
    "    res = sum(w .* map(f,x))\n",
    "    \n",
    "    return res\n",
    "\n",
    "end"
   ]
  },
  {
   "cell_type": "code",
   "execution_count": 22,
   "id": "8ba70225",
   "metadata": {},
   "outputs": [],
   "source": [
    "using NBInclude\n",
    "nbexport(\"myquad.jl\", \"myquad.ipynb\")"
   ]
  }
 ],
 "metadata": {
  "kernelspec": {
   "display_name": "Julia 1.9.3",
   "language": "julia",
   "name": "julia-1.9"
  },
  "language_info": {
   "file_extension": ".jl",
   "mimetype": "application/julia",
   "name": "julia",
   "version": "1.9.3"
  }
 },
 "nbformat": 4,
 "nbformat_minor": 5
}
