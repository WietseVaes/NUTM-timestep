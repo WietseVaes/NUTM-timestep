{
 "cells": [
  {
   "cell_type": "code",
   "execution_count": 1,
   "id": "b251f5a7",
   "metadata": {},
   "outputs": [],
   "source": [
    "include(\"myquad.jl\")\n",
    "include(\"myCheb.jl\")"
   ]
  },
  {
   "cell_type": "code",
   "execution_count": 2,
   "id": "4b63edf8",
   "metadata": {},
   "outputs": [
    {
     "data": {
      "text/plain": [
       "naive_ft (generic function with 1 method)"
      ]
     },
     "execution_count": 2,
     "metadata": {},
     "output_type": "execute_result"
    }
   ],
   "source": [
    "function naive_ft(f,s,k,N)\n",
    "    \n",
    "    g = x -> exp.(-1im*k .* x).*map(f,x)\n",
    "    k_amp = Clen_Curt(g,s,N)\n",
    "    \n",
    "    return k_amp\n",
    "    \n",
    "end"
   ]
  },
  {
   "cell_type": "code",
   "execution_count": 4,
   "id": "10726ac2",
   "metadata": {},
   "outputs": [
    {
     "data": {
      "text/plain": [
       "IBP_ft (generic function with 1 method)"
      ]
     },
     "execution_count": 4,
     "metadata": {},
     "output_type": "execute_result"
    }
   ],
   "source": [
    "function IBP_ft(f,k,N,Nd)\n",
    "    \n",
    "    # Function f\n",
    "    \n",
    "    # Frequency k\n",
    "    \n",
    "    # Number of Chebychev polynomials N\n",
    "    \n",
    "    # Number of Derivatives Nd\n",
    "    \n",
    "    # Easily made faster.\n",
    "    \n",
    "    \n",
    "    x = -1:2:1;\n",
    "    \n",
    "    g(x) = exp.(-1im .* k .* x);\n",
    "    \n",
    "    res = 1im ./ k .* (g(1) .* f(1) - g(-1) .* f(-1))\n",
    "    \n",
    "    for i1 = 1:Nd\n",
    "        \n",
    "        uk = Cheb_Der(f,x,i1,N);\n",
    "        \n",
    "        res += (-1)^i1 * (1im ./ k) .^ (i1+1) .* (g(1) .* uk[2] - g(-1) .* uk[1])\n",
    "    end\n",
    "    \n",
    "    \n",
    "   return res \n",
    "    \n",
    "end"
   ]
  },
  {
   "cell_type": "code",
   "execution_count": null,
   "id": "5d858e88",
   "metadata": {},
   "outputs": [],
   "source": []
  },
  {
   "cell_type": "code",
   "execution_count": null,
   "id": "bc559763",
   "metadata": {},
   "outputs": [],
   "source": []
  },
  {
   "cell_type": "code",
   "execution_count": 6,
   "id": "0345ab13",
   "metadata": {},
   "outputs": [],
   "source": [
    "using NBInclude\n",
    "nbexport(\"myft.jl\", \"myft.ipynb\")"
   ]
  },
  {
   "cell_type": "code",
   "execution_count": null,
   "id": "8e3ec2d8",
   "metadata": {},
   "outputs": [],
   "source": []
  }
 ],
 "metadata": {
  "kernelspec": {
   "display_name": "Julia 1.9.3",
   "language": "julia",
   "name": "julia-1.9"
  },
  "language_info": {
   "file_extension": ".jl",
   "mimetype": "application/julia",
   "name": "julia",
   "version": "1.9.3"
  }
 },
 "nbformat": 4,
 "nbformat_minor": 5
}
