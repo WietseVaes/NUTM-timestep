{
 "cells": [
  {
   "cell_type": "code",
   "execution_count": 1,
   "metadata": {},
   "outputs": [
    {
     "data": {
      "text/plain": [
       "Hermite_quad (generic function with 1 method)"
      ]
     },
     "execution_count": 1,
     "metadata": {},
     "output_type": "execute_result"
    }
   ],
   "source": [
    "using LinearAlgebra, FastGaussQuadrature, Plots\n",
    "include(\"..\\\\Code_jail\\\\Misc.jl\")\n",
    "include(\"..\\\\Code_jail\\\\myquad.jl\")"
   ]
  },
  {
   "cell_type": "markdown",
   "metadata": {
    "vscode": {
     "languageId": "julia"
    }
   },
   "source": [
    "# Computing $\\int_{-\\infty}^{\\infty}\\exp(ikx-ω(k)t)g(k)\\mathrm{d}k$, with $x\\in\\mathbb{C}$\n",
    "## The integral\n",
    "Say we have dispersion relation $ω(k)\\in\\mathbb{P}^n$ and a function $g(k)$ (restrictions on this?). Assume $x\\in\\mathbb{C}$, we then aim to compute\n",
    "$$\n",
    "\\int_{-\\infty}^{\\infty}\\exp(ikx-ω(k)t)g(k)\\mathrm{d}k,\n",
    "$$\n",
    "for a small $t$ where $g(k)$ has poles only on the real line. To this end, we compute a different integral. For this purpose, put $x$ into polar form: $x=re^{iϕ}$. The integral we wish to compute is \n",
    "$$\n",
    "\\int_{-\\infty}^{\\infty}\\exp(ikx-ω(k)t)g(k)\\mathrm{d}k\\overset{kt^{1/n}e^{iϕ}=z}{=}\\int_{\\gamma'}\\exp(izt^{-1/n}r-ω(zt^{-1/n}e^{-iϕ})t)g(zt^{-1/n}e^{-iϕ})t^{1/n}e^{-iϕ}\\mathrm{d}z,\n",
    "$$\n",
    "where $\\gamma' = \\{re^{i\\phi}|r \\in\\mathbb{R}\\}$. This such that $ω(zt^{-1/n}e^{-iϕ})t → w_{n}e^{-inϕ}z^n$ as $t → 0$. However, note that $t^{-1/n} → \\infty$ as $t → 0$, so we hope that $\\mathcal{R}e(izt^{-1/n}r) ≤ 0$. Since $t,r>0$, we hope that $\\mathcal{R}e(iz)≤0$ or $\\mathcal{I}m(z)≥0$. Therefore, we hope that $z$ is in the upper half plane (UHP).\n",
    "## The deformation\n",
    " Now, why am I talking about the complex plane all of a suddon? Deformations, of course! Because of these poles, we deform to $\\Gamma$. For this we need to suffice two conditions. First, $\\mathcal{I}m(z)≥0$ which is true if $z$ is real or when it is in the UHP, easy. The more difficult part is the need for $\\mathcal{R}e(w_{n}z^n)\\geq0$. This necesity prohibits the integral itself to not even exist, namely if  $\\mathcal{R}e(w_{n})<0$ or $\\mathcal{R}e((-1)^nw_{n})<0$ we are, excuse my French, fucked. However, let's assume its integrable, then we want $\\mathcal{R}e(w_{n}z^n)\\geq0$ for $z$ in the UHP. Define $w_{n}=w_r+w_ii$ and $z_{n}=z_r+z_ii=re^{iθ}$, we then find where $\\mathcal{R}e(w_{n}z^n)=0$:\n",
    "$$\n",
    "\\mathcal{R}e((w_r+w_ii)e^{inθ})= w_r\\cos(n\\theta)-w_i\\sin(n\\theta) = 0 ⇒ θ_j = \\frac{\\arctan(w_r/w_i)+j\\pi}{n},~~j\\in\\mathbb{Z},~ s.t.~~ θ_j \\in [0, 2π).\n",
    "$$\n",
    "Since we need $z$ to be in UHP, $θ_j \\in [0, π]$. \n",
    "\n",
    "For the deformation to happen, we aim to use Jordan's lemma. We make circle segments over that domain where $\\Omega_+=\\{z|\\mathcal{R}e(w_{n}z^n)\\geq0\\}$. The integral over these will go to zero because of Jordan's lemma. Sadly, the UHP does not consist of only $\\mathcal{R}e(w_{n}z^n)\\geq0$. One could then deform to go back to zero, avoid $\\Omega_-=\\{z|\\mathcal{R}e(w_{n}z^n)<0\\}$ and then go back to infinity in $\\Omega_+$. But the whole reason for deforming is so that we escape $z=0$. Therefore, we need to go through the $\\Omega_-$. For this we use steepest descent. Once we have this deformation path, we can use that $g$ and the exponential are analytic in the UHP so get the integral we hope to get, through decomposing the full path into that over the real line and $\\Gamma$. \n",
    "\n",
    "First we try to find the path through which we will go to and come back from infinity over the good regions $\\Omega_+$. The main idea is that we aim to maximize $\\mathcal{R}e(w_{n}z^n)$ in every region. This is easy to find:\n",
    "$$\n",
    "f(z) = \\mathcal{R}e(w_{n}z^n) ⇒ f'(z) = \\mathcal{R}e(nw_{n}z^{n-1}) = nr\\left(w_r\\cos((n-1)\\theta)-w_i\\sin((n-1)\\theta)\\right) = 0⇒ θ_j = \\frac{\\arctan(w_r/w_i)+j\\pi}{n-1},~~j\\in\\mathbb{Z},~ s.t.~~ θ_j \\in [0, π].\n",
    "$$\n",
    "I don't know if this is very true, but graphically it's easy to see that the path at which $\\mathcal{R}e(w_{n}z^n)$ is maximize is $r↦ r\\exp((θ_j+θ_{j+1})/2)$, where they $θ_j$ and $θ_{j+1}$ are boundaries of $Ω_+$. This line, will describe how we go to and from infinity in $\\Omega_+$.\n",
    "\n",
    "Over $\\Omega_-$, we will go through the critical points of $ikx-ω(kt^{-1/n})t$, which is easy to compute automaticaly though companion matrices. As for how we go through it, we take the shortest path through the critical point, which is perendicular to $r ↦ r\\exp((θ_j+θ_{j+1})/2)$, where $θ_j$ and $θ_{j+1}$ are boundaries of $Ω_-$."
   ]
  },
  {
   "cell_type": "code",
   "execution_count": null,
   "metadata": {},
   "outputs": [],
   "source": []
  }
 ],
 "metadata": {
  "kernelspec": {
   "display_name": "Julia 1.9.3",
   "language": "julia",
   "name": "julia-1.9"
  },
  "language_info": {
   "file_extension": ".jl",
   "mimetype": "application/julia",
   "name": "julia",
   "version": "1.9.3"
  }
 },
 "nbformat": 4,
 "nbformat_minor": 2
}
