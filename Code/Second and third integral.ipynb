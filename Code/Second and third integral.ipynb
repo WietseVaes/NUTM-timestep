{
 "cells": [
  {
   "cell_type": "markdown",
   "metadata": {},
   "source": [
    "# We aim to approximate\n",
    "$$\n",
    "I = \\int_{\\partial D^+}e^{ik x -k^2t}\\frac{1}{\\Delta(k)}[e^{ikL}\\hat{q}_0(k)-e^{-ikL}\\hat{q}_0(-k)]\\mathrm{d}k,\n",
    "$$\n",
    "where $\\partial D^+$ is a deformation in UHP and $\\Delta(k)=e^{ikL}-e^{-ikL}$. Note that in the UHP, $e^{ikL}$ is going to be small and $e^{-ikL}$ will be big. Therefore, let's take out $e^{-ikL}$. The integrals we wish to compute are then\n",
    "$$\n",
    "I = \\int_{\\partial D^+}e^{ik x -k^2t}\\frac{1}{e^{2ikL}-1}[e^{2ikL}\\hat{q}_0(k)-\\hat{q}_0(-k)]\\mathrm{d}k,\n",
    "$$\n",
    "Note that if we have\n",
    "$$\n",
    "\\tilde{q}(x) = q(φ^{-1}(x)), \\text{ with }\\tilde{q}:[-1,1]\\to\\mathbb{R}\\text{ and } \\varphi^{-1}:[-1,1]\\to[0,L]: x ↦ \\frac{L}{2}(x+1),\n",
    "$$\n",
    "then\n",
    "\\begin{align*}\n",
    "\\hat{q}_0(k) &= -\\sum_{j=0}^{N-1} \\left(\\frac{2}{L}\\right)^{j}\\left(\\frac{1}{ik}\\right)^{j+1}\\left[\\tilde{q}^{(j)}(x)e^{-ik\\frac{L}{2}(x+1)}\\right]_{-1}^1 + \\left(\\frac{2}{L}\\right)^{N-1}\\left(\\frac{1}{ik}\\right)^{N}\\int_{-1}^1\\tilde{q}^{(N)}(x)e^{-ik\\frac{L}{2}(x+1)}\\mathrm{d}x\n",
    "\\end{align*}\n",
    "and\n",
    "\\begin{align*}\n",
    "\\hat{q}_0(-k) &= -\\sum_{j=0}^{N-1} \\left(\\frac{2}{L}\\right)^{j}\\left(-\\frac{1}{ik}\\right)^{j+1}\\left[\\tilde{q}^{(j)}(x)e^{ik\\frac{L}{2}(x+1)}\\right]_{-1}^1 + \\left(\\frac{2}{L}\\right)^{N-1}\\left(-\\frac{1}{ik}\\right)^{N}\\int_{-1}^1\\tilde{q}^{(N)}(x)e^{ik\\frac{L}{2}(x+1)}\\mathrm{d}x\n",
    "\\end{align*}\n",
    "Now, consider the integral \n",
    "$$\n",
    "I_m(x,t) = \\int_{-\\infty}^{\\infty}\\frac{e^{ixk-w(k)t}}{(e^{2ikL}-1)(ik)^m}\n",
    "$$"
   ]
  },
  {
   "cell_type": "code",
   "execution_count": null,
   "metadata": {
    "vscode": {
     "languageId": "julia"
    }
   },
   "outputs": [],
   "source": []
  },
  {
   "cell_type": "markdown",
   "metadata": {},
   "source": [
    "# We aim to approximate\n",
    "$$\n",
    "I = \\int_{\\partial D^-}e^{-ik(L-x) -k^2t}\\frac{1}{\\Delta(k)}[\\hat{q}_0(k)-\\hat{q}_0(-k)]\\mathrm{d}k,\n",
    "$$\n",
    "where $\\partial D^-$ is a deformation in LHP and $\\Delta(k)=e^{ikL}-e^{-ikL}$. Note that in the LHP, $e^{ikL}$ is going to be big and $e^{-ikL}$ will be small. Therefore, let's take out $e^{ikL}$. The integrals we wish to compute are then\n",
    "$$\n",
    "I = \\int_{\\partial D^+}e^{-ik(2L-x) -k^2t}\\frac{1}{1-e^{-2ikL}}[\\hat{q}_0(k)-\\hat{q}_0(-k)]\\mathrm{d}k.\n",
    "$$\n",
    "It's easy to see that \n",
    "$$\\hat{q}_0(k)-\\hat{q}_0(-k) =-2i\\int_0^L\\sin(k x)q_0(x)\\mathrm{d}x=2i\\int_0^L\\mathcal{I}m\\left(e^{-ixk}\\right)q_0(x)\\mathrm{d}x$$ \n",
    "This is only applicable here, so let's not go through this. Note that if we have\n",
    "$$\n",
    "\\tilde{q}(x) = q(φ^{-1}(x)), \\text{ with }\\tilde{q}:[-1,1]\\to\\mathbb{R}\\text{ and } \\varphi^{-1}:[-1,1]\\to[0,L]: x ↦ \\frac{L}{2}(x+1),\n",
    "$$\n",
    "then\n",
    "\\begin{align*}\n",
    "\\hat{q}_0(k) &= -\\sum_{j=0}^{N-1} \\left(\\frac{2}{L}\\right)^{j}\\left(\\frac{1}{ik}\\right)^{j+1}\\left[\\tilde{q}^{(j)}(x)e^{-ik\\frac{L}{2}(x+1)}\\right]_{-1}^1 + \\left(\\frac{2}{L}\\right)^{N-1}\\left(\\frac{1}{ik}\\right)^{N}\\int_{-1}^1\\tilde{q}^{(N)}(x)e^{-ik\\frac{L}{2}(x+1)}\\mathrm{d}x\n",
    "\\end{align*}\n",
    "and\n",
    "\\begin{align*}\n",
    "\\hat{q}_0(-k) &= -\\sum_{j=0}^{N-1} \\left(\\frac{2}{L}\\right)^{j}\\left(-\\frac{1}{ik}\\right)^{j+1}\\left[\\tilde{q}^{(j)}(x)e^{ik\\frac{L}{2}(x+1)}\\right]_{-1}^1 + \\left(\\frac{2}{L}\\right)^{N-1}\\left(-\\frac{1}{ik}\\right)^{N}\\int_{-1}^1\\tilde{q}^{(N)}(x)e^{ik\\frac{L}{2}(x+1)}\\mathrm{d}x\n",
    "\\end{align*}\n",
    "Now, consider the integral \n",
    "$$\n",
    "I_m(x,t) = \\int_{-\\infty}^{\\infty}\\frac{e^{ixk-w(k)t}}{(e^{2ikL}-1)(ik)^m}\n",
    "$$"
   ]
  },
  {
   "cell_type": "markdown",
   "metadata": {},
   "source": []
  }
 ],
 "metadata": {
  "language_info": {
   "name": "python"
  }
 },
 "nbformat": 4,
 "nbformat_minor": 2
}
