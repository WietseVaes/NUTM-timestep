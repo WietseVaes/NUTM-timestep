{
 "cells": [
  {
   "cell_type": "code",
   "execution_count": 1,
   "id": "d877bee0",
   "metadata": {},
   "outputs": [],
   "source": [
    "include(\"myquad.jl\")\n",
    "include(\"myCheb.jl\")\n",
    "include(\"myft.jl\")"
   ]
  },
  {
   "cell_type": "code",
   "execution_count": 2,
   "id": "5a902864",
   "metadata": {},
   "outputs": [],
   "source": [
    "using NBInclude\n",
    "nbexport(\"Master_func.jl\", \"Master_func.ipynb\")"
   ]
  },
  {
   "cell_type": "code",
   "execution_count": null,
   "id": "9ad489ac",
   "metadata": {},
   "outputs": [],
   "source": []
  }
 ],
 "metadata": {
  "kernelspec": {
   "display_name": "Julia 1.9.3",
   "language": "julia",
   "name": "julia-1.9"
  },
  "language_info": {
   "file_extension": ".jl",
   "mimetype": "application/julia",
   "name": "julia",
   "version": "1.9.3"
  }
 },
 "nbformat": 4,
 "nbformat_minor": 5
}
