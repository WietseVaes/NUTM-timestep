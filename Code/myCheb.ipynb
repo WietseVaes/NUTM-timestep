{
 "cells": [
  {
   "cell_type": "code",
   "execution_count": 1,
   "id": "7bd31c40",
   "metadata": {},
   "outputs": [],
   "source": [
    "using SparseArrays, LinearAlgebra"
   ]
  },
  {
   "cell_type": "code",
   "execution_count": 2,
   "id": "d077ce4a",
   "metadata": {},
   "outputs": [],
   "source": [
    "include(\"myquad.jl\")"
   ]
  },
  {
   "cell_type": "code",
   "execution_count": 3,
   "id": "71ea3fce",
   "metadata": {},
   "outputs": [
    {
     "data": {
      "text/plain": [
       "sp (generic function with 2 methods)"
      ]
     },
     "metadata": {},
     "output_type": "display_data"
    }
   ],
   "source": [
    "function sp(x::Real)\n",
    "     BigFloat.(x,256)\n",
    "end\n",
    "function sp(x::Complex)\n",
    "    sp.(real.(x)) + 1im * sp.(imag.(x))\n",
    "end"
   ]
  },
  {
   "cell_type": "markdown",
   "id": "56da5fb1",
   "metadata": {},
   "source": [
    "# Chebyshev discrete Polynomials at x and Coefficients"
   ]
  },
  {
   "cell_type": "code",
   "execution_count": 4,
   "id": "49a5fd86",
   "metadata": {},
   "outputs": [
    {
     "data": {
      "text/plain": [
       "Cheb_poly (generic function with 1 method)"
      ]
     },
     "metadata": {},
     "output_type": "display_data"
    }
   ],
   "source": [
    "function Cheb_poly(N,x,λ)\n",
    "    \n",
    "    # Number of cheb polynomials N\n",
    "    \n",
    "    # Evaluation points x\n",
    "    \n",
    "    # Ultrashperical constant λ\n",
    "    \n",
    "    # p_{j+1} = ((x-a_j)p_j - b_{j-1}p_{j-1})/b_j\n",
    "    # β = α = λ-1/2;\n",
    "    # d_j = 2*(j+1)+α+β\n",
    "    # a_{j} = (β^2-α^2)/(d_{j}(d_{j}-2))\n",
    "    # b_{j} = (2\\sqrt{j+1}*\\sqrt{(j+1+α)(j+1+β)}*\\sqrt{j+1+α+β})/(d_{j}*\\sqrt{d_{j}^2-1})\n",
    "    \n",
    "    α = λ - 1/2;\n",
    "    β = λ - 1/2;\n",
    "    \n",
    "    j = 1:N;\n",
    "    dj = 2*j .+ α .+ β;\n",
    "    a = (β^2-α^2) ./ (dj .* (dj .- 2));\n",
    "    b = 2*sqrt.(j .* (j .+ α) .* (j .+ β) .* (j .+ α .+ β)) ./ (dj .* sqrt.(dj.^2 .- 1));\n",
    "    \n",
    "    T = zeros(length(x),N)\n",
    "    T[:,1] = ones(length(x),1);\n",
    "    \n",
    "    if λ == 0\n",
    "        T[:,2] = sqrt(2) .* x;\n",
    "        i1 = 3;\n",
    "        T[:,i1] = 2 .* x .* T[:,i1-1] - sqrt(2) .* T[:,i1-2]\n",
    "        for i1 = 4:N\n",
    "            T[:,i1] = 2 .* x .* T[:,i1-1] - T[:,i1-2]\n",
    "        end\n",
    "    else\n",
    "        T[:,2] = (x .- a[1]) .* T[:,1] ./ b[1];\n",
    "        for i1 = 2:(N-1)\n",
    "            T[:,i1+1] = ((x .- a[i1]) .* T[:,i1] - b[i1-1] .* T[:,i1-1])./b[i1]\n",
    "            \n",
    "        end\n",
    "    end\n",
    "    return T\n",
    "end"
   ]
  },
  {
   "cell_type": "code",
   "execution_count": 5,
   "id": "b5a52427",
   "metadata": {},
   "outputs": [
    {
     "data": {
      "text/plain": [
       "Cheb_x_w (generic function with 1 method)"
      ]
     },
     "execution_count": 5,
     "metadata": {},
     "output_type": "execute_result"
    }
   ],
   "source": [
    "function Cheb_x_w(a,b)\n",
    "    \n",
    "    J = Matrix(SymTridiagonal(a,b[1:(end-1)]))\n",
    "    \n",
    "    xgrid, U = eigen(J);\n",
    "    \n",
    "    U = transpose(sign.(U[1,:])) .* U\n",
    "    \n",
    "    w = abs.(U[1,:]).^2\n",
    "    \n",
    "    return xgrid, w, U\n",
    "    \n",
    "end"
   ]
  },
  {
   "cell_type": "code",
   "execution_count": 1,
   "id": "bce2c790",
   "metadata": {},
   "outputs": [
    {
     "data": {
      "text/plain": [
       "Ultra_spherical_coeff (generic function with 3 methods)"
      ]
     },
     "execution_count": 1,
     "metadata": {},
     "output_type": "execute_result"
    }
   ],
   "source": [
    "function Ultra_spherical_coeff(f, N = 100, λ = 0)\n",
    "    \n",
    "    # Function f\n",
    "    \n",
    "    # Number of Chebychev polynomials N\n",
    "    \n",
    "    # Ultrashperical constant λ\n",
    "    \n",
    "    α = λ-1/2; \n",
    "    β = λ-1/2;\n",
    "\n",
    "    j = 1:N;\n",
    "    dj = 2*j .+ α .+ β;\n",
    "    a = (β^2-α^2) ./ (dj .* (dj .- 2));\n",
    "    b = 2*sqrt.(j .* (j .+ α) .* (j .+ β) .* (j .+ α .+ β)) ./ (dj .* sqrt.(dj.^2 .- 1));\n",
    "    \n",
    "    if (α == -1/2) && (β == -1/2)\n",
    "        b0 = 1/sqrt(2)\n",
    "        b[1] = b0;\n",
    "    elseif (α == 0) && (β == 0)\n",
    "        a[1] = 0;\n",
    "    end\n",
    "    \n",
    "    xgrid, w, U = Cheb_w_x(a,b)\n",
    "    \n",
    "    xgrid|>display\n",
    "\n",
    "    D = diagm(sqrt.(w));\n",
    "\n",
    "    c = (U*D)*map(f,xgrid)\n",
    "\n",
    "    return c\n",
    "    \n",
    "end"
   ]
  },
  {
   "cell_type": "markdown",
   "id": "2b495805",
   "metadata": {},
   "source": [
    "# Chebyshev Derivatives"
   ]
  },
  {
   "cell_type": "code",
   "execution_count": 7,
   "id": "b8fe511d",
   "metadata": {},
   "outputs": [
    {
     "data": {
      "text/plain": [
       "Dk (generic function with 1 method)"
      ]
     },
     "execution_count": 7,
     "metadata": {},
     "output_type": "execute_result"
    }
   ],
   "source": [
    "function Dk(λ,N)\n",
    "    \n",
    "    # Extra constant λ\n",
    "    \n",
    "    # Number of Chebychev polynomials N\n",
    "    \n",
    "    j = 1:N-1;\n",
    "    d = (λ) -> j .* sqrt.(2*(λ .+ 1).*(j .+ 2*λ)./(2*j .* λ .+ j))\n",
    "    D = I;\n",
    "    for i1 = 0:(λ-1)\n",
    "        D = spdiagm(1 =>  d(i1)) * D\n",
    "    end\n",
    "    return D\n",
    "end"
   ]
  },
  {
   "cell_type": "code",
   "execution_count": 8,
   "id": "be8722d4",
   "metadata": {},
   "outputs": [
    {
     "data": {
      "text/plain": [
       "Cheb_Der (generic function with 2 methods)"
      ]
     },
     "execution_count": 8,
     "metadata": {},
     "output_type": "execute_result"
    }
   ],
   "source": [
    "function Cheb_Der(f, x, k, N = 100)\n",
    "    \n",
    "    # Function f\n",
    "    \n",
    "    # Evaluation points x\n",
    "    \n",
    "    # Derivative k\n",
    "    \n",
    "    # Number of Chebychev polynomials N\n",
    "    \n",
    "    \n",
    "    c = Ultra_spherical_coeff(f, N, 0);\n",
    "    \n",
    "    D = Dk(k,N);\n",
    "    \n",
    "    Pk = Cheb_poly(N,x,k);\n",
    "    \n",
    "    uk = Pk*D*c;\n",
    "end"
   ]
  },
  {
   "cell_type": "markdown",
   "id": "d66e5ed3",
   "metadata": {},
   "source": [
    "# Trials"
   ]
  },
  {
   "cell_type": "markdown",
   "id": "47a06d3c",
   "metadata": {},
   "source": [
    "## FT through Fokas paper\n",
    "Possible problems: binomial is to big to compute"
   ]
  },
  {
   "cell_type": "code",
   "execution_count": 9,
   "id": "af466d88",
   "metadata": {},
   "outputs": [
    {
     "data": {
      "text/plain": [
       "α_cheb (generic function with 1 method)"
      ]
     },
     "execution_count": 9,
     "metadata": {},
     "output_type": "execute_result"
    }
   ],
   "source": [
    "function α_cheb(m)\n",
    "    a = zeros(m+1,1);\n",
    "    \n",
    "    if m>0\n",
    "        a[1] = (-1)^m;\n",
    "\n",
    "        a[2] = (-1)^(m+1) * m^2;\n",
    "        n = 3:(m+1)\n",
    "        for n = 3:(m+1)\n",
    "            for k = 1:(m-n+2)\n",
    "                j = k:(n+k-3)\n",
    "                a[n] += binomial(BigInt(n+k-3), BigInt(k-1)) * prod(m .- j)\n",
    "            end\n",
    "            a[n] *= (-1)^(m + n - 1) * 2^(n - 2) * m\n",
    "        end\n",
    "    else\n",
    "        a[1] = (-1)^m;\n",
    "    end\n",
    "    return a\n",
    "    \n",
    "end"
   ]
  },
  {
   "cell_type": "code",
   "execution_count": 10,
   "id": "b7c7db64",
   "metadata": {},
   "outputs": [
    {
     "data": {
      "text/plain": [
       "Fokas_Cheb_ft (generic function with 1 method)"
      ]
     },
     "execution_count": 10,
     "metadata": {},
     "output_type": "execute_result"
    }
   ],
   "source": [
    "function Fokas_Cheb_ft(f, N, λ)\n",
    "   \n",
    "    λ = complex(λ)\n",
    "    \n",
    "    c = Ultra_spherical_coeff(f, N, λ0)\n",
    "    res = λ .* 0 \n",
    "    \n",
    "    for m = 0:(N-1)\n",
    "        res_tmp = λ .* 0\n",
    "        for i1 = 1:length(λ)\n",
    "            if λ[i1]!=0\n",
    "                n = 1:(m+1)\n",
    "                res_tmp[i1] = sum(α_cheb(m) .* (exp.(1im .* λ[i1])./((1im .* λ[i1]).^n) .+ (-1).^(n .+ m).*exp.(-1im .* λ[i1])./((1im .* λ[i1]).^n)))\n",
    "            else\n",
    "                if m != 1\n",
    "                    res_tmp[i1] = ((-1)^(m+1)-1)/(m^2-1);\n",
    "                else \n",
    "                    res_tmp[i1] = 0;\n",
    "                end\n",
    "            end\n",
    "        end\n",
    "        res += c[m+1] .* res_tmp;\n",
    "    end\n",
    "        \n",
    "    return res\n",
    "end"
   ]
  },
  {
   "cell_type": "markdown",
   "id": "f90cd53e",
   "metadata": {},
   "source": [
    "## FT through three-term-recurrence\n",
    "Possible problems: Three-term-recurrence unstable\n",
    "Possible solutions: BigFloat (Complex matrix) "
   ]
  },
  {
   "cell_type": "code",
   "execution_count": 11,
   "id": "59dd8578",
   "metadata": {},
   "outputs": [
    {
     "data": {
      "text/plain": [
       "Der_sinc (generic function with 1 method)"
      ]
     },
     "execution_count": 11,
     "metadata": {},
     "output_type": "execute_result"
    }
   ],
   "source": [
    "function Der_sinc(x,N)\n",
    "    \n",
    "    # f^(n) = -int_0^1 t^n cos(tx+n*pi/2)dt\n",
    "    \n",
    "    s = curv(x -> x,0,1, x ->  1)\n",
    "    \n",
    "    n = length(x);\n",
    "    Dsinc = zeros(n,N+1)\n",
    "    \n",
    "    for i1 = 0:N\n",
    "        \n",
    "        g = (t,x) -> t.^i1 .* cos.(t .* x .+ i1 * pi/2)\n",
    "        \n",
    "        for i2 = 1:n\n",
    "            Dsinc[i2,i1+1] = Clen_Curt(t -> g(t,x[i2]),s,100)\n",
    "        end\n",
    "    end\n",
    "    return Dsinc\n",
    "    \n",
    "end"
   ]
  },
  {
   "cell_type": "code",
   "execution_count": 12,
   "id": "a3a0f27a",
   "metadata": {},
   "outputs": [
    {
     "data": {
      "text/plain": [
       "Add_Cheb_Der (generic function with 1 method)"
      ]
     },
     "execution_count": 12,
     "metadata": {},
     "output_type": "execute_result"
    }
   ],
   "source": [
    "function Add_Cheb_Der(D_ft_Cheb,l,ai,bim,bi)\n",
    "    \n",
    "    # Dimensions of D_ft_Cheb: -1.    : frequencies\n",
    "    #                           -2. i1 : level of derivative\n",
    "    #                           -3.  l : Chebyshev polynomial starting at l=1 (not 0)\n",
    "    \n",
    "    \n",
    "    N = size(D_ft_Cheb,2)\n",
    "    if l == 2\n",
    "        for i1 = 1:(N-(l-1))\n",
    "           D_ft_Cheb[:,i1,l] =  (1im .* D_ft_Cheb[:,i1+1,l-1] - ai .* D_ft_Cheb[:,i1,l-1]) ./ bi\n",
    "        end\n",
    "    else \n",
    "        for i1 = 1:(N-(l-1))\n",
    "           D_ft_Cheb[:,i1,l] =  (1im .* D_ft_Cheb[:,i1+1,l-1] - ai .* D_ft_Cheb[:,i1,l-1] - bim .* D_ft_Cheb[:,i1,l-2]) ./ bi\n",
    "        end\n",
    "    end\n",
    "    return D_ft_Cheb\n",
    "end"
   ]
  },
  {
   "cell_type": "code",
   "execution_count": 13,
   "id": "1aad1aad",
   "metadata": {},
   "outputs": [
    {
     "data": {
      "text/plain": [
       "Cheb_ft (generic function with 1 method)"
      ]
     },
     "execution_count": 13,
     "metadata": {},
     "output_type": "execute_result"
    }
   ],
   "source": [
    "function Cheb_ft(N,k,λ)\n",
    "    \n",
    "    #Number of Chebyshev polynomials N\n",
    "    \n",
    "    #Frequencies k\n",
    "    \n",
    "    # f_{j+1} = (i D_k f_j-a_j f_j - b_{j-1} f_{j-1})/b_j\n",
    "    \n",
    "    α = sp(λ - 1/2);\n",
    "    β = sp(λ - 1/2);\n",
    "\n",
    "    a = [sp((β^2-α^2) / sp((2*j .+ α .+ β) .* (2*j .+ α .+ β .- 2))) for j in 1:N];\n",
    "    b = [sp(2*sqrt.(j .* (j .+ α) .* (j .+ β) .* (j .+ α .+ β)) / ((2*j .+ α .+ β) .* sqrt.((2*j .+ α .+ β).^2 .- 1))) for j in 1:N];\n",
    "    \n",
    "    if λ == 0\n",
    "        a = 0 .* a\n",
    "        b = 0 .* b .+ 0.5\n",
    "    end\n",
    "    \n",
    "    Dsinc = map(sp,complex(2 .* Der_sinc(k,N)))\n",
    "    nx = size(Dsinc,1); ny = size(Dsinc,2)\n",
    "    \n",
    "    T = map(sp,complex(zeros(length(k),N+1,N)));\n",
    "    T[:,:,1] = Dsinc;\n",
    "\n",
    "    if λ == 0\n",
    "        T = Add_Cheb_Der(T,2,0,0,sp(1/sqrt(2)));\n",
    "        T = Add_Cheb_Der(T,3,0,sp(1/sqrt(2)),1/2);\n",
    "        for i1 = 4:N\n",
    "            T = Add_Cheb_Der(T,i1,0,sp(1/2),sp(1/2));\n",
    "        end\n",
    "    else\n",
    "        T = Add_Cheb_Der(T,2,a[1],0,b[1]);\n",
    "        for i1 = 3:N\n",
    "            T = Add_Cheb_Der(T,i1,a[i1-1],b[i1-2],b[i1-1]);\n",
    "        end\n",
    "    end\n",
    "    return T\n",
    "end"
   ]
  },
  {
   "cell_type": "markdown",
   "id": "e6f2000f",
   "metadata": {},
   "source": [
    "# Failed\n",
    "### F_der_sinc: unstable"
   ]
  },
  {
   "cell_type": "code",
   "execution_count": 14,
   "id": "f6b4114f",
   "metadata": {},
   "outputs": [
    {
     "data": {
      "text/plain": [
       "F_der_sinc (generic function with 1 method)"
      ]
     },
     "execution_count": 14,
     "metadata": {},
     "output_type": "execute_result"
    }
   ],
   "source": [
    "function F_der_sinc(x,N)\n",
    "    \n",
    "    # g(x) = xf(x) = sin(x)\n",
    "    # f^(n) = (g^(n)-\\sum_{j=0}^{n-1}f^(j))/x\n",
    "    \n",
    "    n = length(x);\n",
    "    Dsinc = zeros(n,N+1);\n",
    "    \n",
    "    Dsinc[:,1] = [k == 0 ? 1 : sin.(k) ./ k for k in x]\n",
    "    \n",
    "    sum_prev = Dsinc[:,1];\n",
    "    \n",
    "    for i1 = 1:N\n",
    "            \n",
    "        Dsin = sin.(pi*i1/2 .+ x)\n",
    "        \n",
    "        atzero = mod(i1,2) ==0 ? (-1)^(i1/2)/(i1+1) : 0\n",
    "        \n",
    "        Dsinc[:,i1+1] = [x[i2] == 0 ? atzero : (Dsin[i2] - i1*Dsinc[i2,i1]) ./ x[i2] for i2 in 1:length(x)]\n",
    "    end\n",
    "    return Dsinc\n",
    "end"
   ]
  },
  {
   "cell_type": "code",
   "execution_count": 15,
   "id": "880b93db",
   "metadata": {},
   "outputs": [],
   "source": [
    "using NBInclude\n",
    "nbexport(\"myCheb.jl\", \"myCheb.ipynb\")"
   ]
  },
  {
   "cell_type": "code",
   "execution_count": null,
   "id": "43447dbb",
   "metadata": {},
   "outputs": [],
   "source": []
  }
 ],
 "metadata": {
  "kernelspec": {
   "display_name": "Julia 1.9.3",
   "language": "julia",
   "name": "julia-1.9"
  },
  "language_info": {
   "file_extension": ".jl",
   "mimetype": "application/julia",
   "name": "julia",
   "version": "1.9.3"
  }
 },
 "nbformat": 4,
 "nbformat_minor": 5
}
