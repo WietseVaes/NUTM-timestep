{
 "cells": [
  {
   "cell_type": "code",
   "execution_count": 49,
   "metadata": {},
   "outputs": [
    {
     "data": {
      "text/plain": [
       "Hermite_quad (generic function with 1 method)"
      ]
     },
     "execution_count": 49,
     "metadata": {},
     "output_type": "execute_result"
    }
   ],
   "source": [
    "using LinearAlgebra, Plots, FastGaussQuadrature\n",
    "include(\"..\\\\Code_jail\\\\Misc.jl\")\n",
    "include(\"..\\\\Code_jail\\\\myquad.jl\")"
   ]
  },
  {
   "cell_type": "markdown",
   "metadata": {},
   "source": [
    "# Morituri te salutant"
   ]
  },
  {
   "cell_type": "code",
   "execution_count": 50,
   "metadata": {},
   "outputs": [
    {
     "data": {
      "text/plain": [
       "OrderRoots (generic function with 1 method)"
      ]
     },
     "execution_count": 50,
     "metadata": {},
     "output_type": "execute_result"
    }
   ],
   "source": [
    "function OrderRoots(x)\n",
    "    angles = angle.(x)\n",
    "    sorted_indices = sortperm(angles)\n",
    "    return x[sorted_indices]\n",
    "end"
   ]
  },
  {
   "cell_type": "markdown",
   "metadata": {},
   "source": [
    "The Function below in a readable format are, with $w\\in\\mathbb{C}^m$\n",
    "$$ϕ = i(k-\\frac{1}{x}\\sum_{j=1}^mw_jk^{j+1}t^{\\frac{m-j}{m+1}})$$\n",
    "and \n",
    "$$P(w,x,t,k) = \\exp(i(kx-\\sum_{j=1}^mw_jk^{j+1}t^{\\frac{m-j}{m+1}})).$$\n",
    "In the end we would like to compute \n",
    "$$∫ \\frac{P(w,\\text{sgn}(Re(x))xt^{-1/(m+1)},t,k)}{(ik)^n}\\mathrm{d}k =∫ \\frac{1}{(ik)^n} \\exp(it^{-1/(m+1)}(kRe(x)x-t\\sum_{j=1}^mw_jk^{j+1}t^{-\\frac{j}{m+1}})).$$"
   ]
  },
  {
   "cell_type": "code",
   "execution_count": 51,
   "metadata": {},
   "outputs": [
    {
     "data": {
      "text/plain": [
       "P (generic function with 1 method)"
      ]
     },
     "execution_count": 51,
     "metadata": {},
     "output_type": "execute_result"
    }
   ],
   "source": [
    "ω(w) = (z) -> sum([w[i] .* z.^(i + 1) for i in 1:length(w)])\n",
    "Dω(w) = (z) -> sum([(i + 1) .* w[i] .* z.^(i) for i in 1:length(w)])\n",
    "DDω(w) = (z) -> sum([(i + 1) * i .* w[i] .* z.^(i-1) for i in 1:length(w)])\n",
    "\n",
    "Φ(w, x, t, k) = begin\n",
    "    ω_kt = ω(w)(k .* t.^(-1 / (length(w) + 1)))\n",
    "    return 1im*k .- 1im .* ω_kt .* t ./ x \n",
    "end\n",
    "\n",
    "DΦ(w, x, t, k) = begin\n",
    "    Dω_kt = Dω(w)(k .* t.^(-1 / (length(w) + 1))) .* t.^(-1 / (length(w) + 1))\n",
    "    return 1im .- 1im .* Dω_kt .* t ./ x \n",
    "end\n",
    "\n",
    "DDΦ(w, x, t, k) = begin\n",
    "    DDω_kt = DDω(w)(k .* t.^(-1 / (length(w) + 1))) .* t.^(-2 / (length(w) + 1))\n",
    "    return - 1im .* DDω_kt .* t ./ x \n",
    "end\n",
    "\n",
    "P(w, x, t, k) = begin\n",
    "    result = exp(x * Φ(w, x, t, k))\n",
    "    if result ≈ 0.0\n",
    "        return 0.0\n",
    "    else\n",
    "        return result\n",
    "    end\n",
    "end"
   ]
  },
  {
   "cell_type": "code",
   "execution_count": 140,
   "metadata": {},
   "outputs": [
    {
     "data": {
      "text/plain": [
       "kk0 (generic function with 1 method)"
      ]
     },
     "execution_count": 140,
     "metadata": {},
     "output_type": "execute_result"
    }
   ],
   "source": [
    "function kk0(w, x, t)\n",
    "    m = length(w);\n",
    "    a = ones(m) .* 1im\n",
    "    a[1] = x/(-(m+1)*w[m])\n",
    "    for i1 = 1:(m-1)\n",
    "        a[i1+1] = (i1+1)*w[i1]*t^((m-i1)/(m+1))/ ((m+1)*w[m] )\n",
    "    end\n",
    "    A = zeros(m,m) * 1im;\n",
    "    for i1=1:m-1\n",
    "        A[i1+1,i1] = 1.0;\n",
    "    end\n",
    "    A[:,m] = -1. .* a\n",
    "    E = A |> eigen\n",
    "    E.values|>display\n",
    "    result = E.values |> filter(k -> imag(k) >= -1e-15)\n",
    "    return OrderRoots(result)\n",
    "end"
   ]
  },
  {
   "cell_type": "code",
   "execution_count": 141,
   "metadata": {},
   "outputs": [
    {
     "data": {
      "text/plain": [
       "ArgD (generic function with 1 method)"
      ]
     },
     "execution_count": 141,
     "metadata": {},
     "output_type": "execute_result"
    }
   ],
   "source": [
    "function ArgD(w, x, t)\n",
    "    arg = angle.(DDΦ(w, x, t, kk0(w, x, t)))\n",
    "    return [arg]\n",
    "end"
   ]
  },
  {
   "cell_type": "code",
   "execution_count": 142,
   "metadata": {},
   "outputs": [
    {
     "data": {
      "text/plain": [
       "mod_offset (generic function with 1 method)"
      ]
     },
     "execution_count": 142,
     "metadata": {},
     "output_type": "execute_result"
    }
   ],
   "source": [
    "function mod_offset(x, m, offset)\n",
    "    return offset .+ mod.(x .- offset, m)\n",
    "end"
   ]
  },
  {
   "cell_type": "code",
   "execution_count": 143,
   "metadata": {},
   "outputs": [
    {
     "data": {
      "text/plain": [
       "Dirs (generic function with 1 method)"
      ]
     },
     "execution_count": 143,
     "metadata": {},
     "output_type": "execute_result"
    }
   ],
   "source": [
    "function Dirs(w, x, t)\n",
    "    argd = ArgD(w, x, t)\n",
    "    return mod_offset(-argd[1] ./ 2 .+ π / 2, π, -π / 2)\n",
    "end"
   ]
  },
  {
   "cell_type": "code",
   "execution_count": 144,
   "metadata": {},
   "outputs": [
    {
     "data": {
      "text/plain": [
       "ConnectPts (generic function with 1 method)"
      ]
     },
     "execution_count": 144,
     "metadata": {},
     "output_type": "execute_result"
    }
   ],
   "source": [
    "function ConnectPts(R, w)\n",
    "    if sign(w[end]) < 0\n",
    "        return [exp(1im * (4 * m + 1) / (2 * (length(w) + 1)) * π) * R for m in 0:length(w)]\n",
    "    else\n",
    "        return [exp(1im * (4 * m - 1) / (2 * (length(w) + 1)) * π) * R for m in 0:length(w)]\n",
    "    end\n",
    "end"
   ]
  },
  {
   "cell_type": "code",
   "execution_count": 145,
   "metadata": {},
   "outputs": [
    {
     "data": {
      "text/plain": [
       "SomeConnectPts (generic function with 1 method)"
      ]
     },
     "execution_count": 145,
     "metadata": {},
     "output_type": "execute_result"
    }
   ],
   "source": [
    "function SomeConnectPts(R, w)\n",
    "    if sign(w[end]) < 0\n",
    "        return [exp(1im * (4 * m + 1) / (2 * (length(w) + 1)) * π) * R for m in 0:floor(length(w)/2.)]\n",
    "    else\n",
    "        return [exp(1im * (4 * m - 1) / (2 * (length(w) + 1)) * π) * R for m in 0:floor(length(w)/2.) + 1]\n",
    "    end\n",
    "end"
   ]
  },
  {
   "cell_type": "code",
   "execution_count": 146,
   "metadata": {},
   "outputs": [
    {
     "data": {
      "text/plain": [
       "Min2 (generic function with 1 method)"
      ]
     },
     "execution_count": 146,
     "metadata": {},
     "output_type": "execute_result"
    }
   ],
   "source": [
    "\n",
    "function Min2(X, Y)\n",
    "    out = []\n",
    "    for x in X\n",
    "        temp = abs.(Y .- x)\n",
    "        p1 = argmin(temp)\n",
    "        temp[p1] = Inf\n",
    "        p2 = argmin(temp)\n",
    "        push!(out, (Y[p1], Y[p2]))\n",
    "    end\n",
    "    return out\n",
    "end"
   ]
  },
  {
   "cell_type": "code",
   "execution_count": 147,
   "metadata": {},
   "outputs": [
    {
     "data": {
      "text/plain": [
       "GlobalR (generic function with 1 method)"
      ]
     },
     "execution_count": 147,
     "metadata": {},
     "output_type": "execute_result"
    }
   ],
   "source": [
    "function GlobalR(w, x, t)\n",
    "    return (30 + abs(x)^2 + 1000 / length(w))^(1 / (length(w) + 1))\n",
    "end"
   ]
  },
  {
   "cell_type": "code",
   "execution_count": 148,
   "metadata": {},
   "outputs": [
    {
     "data": {
      "text/plain": [
       "Rads (generic function with 1 method)"
      ]
     },
     "execution_count": 148,
     "metadata": {},
     "output_type": "execute_result"
    }
   ],
   "source": [
    "function Rads(w, xx, tt)\n",
    "    K0 = kk0(w, xx, tt)\n",
    "    close = Min2(K0, ConnectPts(GlobalR(w, xx, tt), w))\n",
    "    args = Dirs(w, xx, tt) \n",
    "    maxrads = []\n",
    "    if length(w) > 1\n",
    "        for i in 1:length(close)\n",
    "            θ = angle.(close[i][1])\n",
    "            ϕ = θ - args[i]\n",
    "            γ = K0[i] * exp(-1im * args[i])\n",
    "            s = imag(γ) / imag(exp(1im * ϕ))\n",
    "            r1 = s * exp(1im * ϕ) - γ\n",
    "            θ = angle.(close[i][2])\n",
    "            ϕ = θ - args[i]\n",
    "            γ = K0[i] * exp(-1im * args[i])\n",
    "            s = imag(γ) / imag(exp(1im * ϕ))\n",
    "            r2 = s * exp(1im * ϕ) - γ\n",
    "            push!(maxrads, minimum(abs.([r1, r2])))\n",
    "        end\n",
    "    else\n",
    "        maxrads = [Inf]\n",
    "    end\n",
    "    scalerads = [10 / sqrt(abs(DDΦ(w, xx, tt, k)) * abs(xx / 2)) for k in K0]\n",
    "    \n",
    "    return K0, args, close, [minimum(r) for r in zip(maxrads, scalerads)]\n",
    "end"
   ]
  },
  {
   "cell_type": "code",
   "execution_count": 149,
   "metadata": {},
   "outputs": [
    {
     "data": {
      "text/plain": [
       "SDPaths (generic function with 1 method)"
      ]
     },
     "execution_count": 149,
     "metadata": {},
     "output_type": "execute_result"
    }
   ],
   "source": [
    "function SDPaths(w, xx, tt)\n",
    "    K0, args, close, rads = Rads(w, xx, tt)\n",
    "    paths = [K0[i] .+ [rads[i] * exp(1im * (args[i] + π)) 0; 0 rads[i] * exp(1im * args[i])] for i in 1:length(K0)]\n",
    "    return K0, close, paths\n",
    "end"
   ]
  },
  {
   "cell_type": "code",
   "execution_count": 150,
   "metadata": {},
   "outputs": [
    {
     "data": {
      "text/plain": [
       "sortreal (generic function with 1 method)"
      ]
     },
     "execution_count": 150,
     "metadata": {},
     "output_type": "execute_result"
    }
   ],
   "source": [
    "function sortreal(x)\n",
    "    return sort(x, by=real)\n",
    "end"
   ]
  },
  {
   "cell_type": "code",
   "execution_count": 151,
   "metadata": {},
   "outputs": [
    {
     "data": {
      "text/plain": [
       "SmallXPath (generic function with 1 method)"
      ]
     },
     "execution_count": 151,
     "metadata": {},
     "output_type": "execute_result"
    }
   ],
   "source": [
    "function SmallXPath(w, x, t)\n",
    "    p1 = sortreal(SomeConnectPts(0.5, w))\n",
    "    p2 = sortreal(SomeConnectPts(GlobalR(w, x, t), w))\n",
    "    if length(w) == 1\n",
    "        p1 .+= 0.5 .+ 0im\n",
    "    end\n",
    "    s = [];\n",
    "    c = [];\n",
    "    for i in 1:length(p1) - 1\n",
    "        push!(s, [p2[i], p1[i]], [p1[i], p1[i+1]], [p1[i+1], p2[i+1]])\n",
    "        push!(c, [\"inf\", \"CP_ent\"], [\"CP_ent\", \"CP_ext\"], [\"CP_ext\", \"inf\"])\n",
    "    end\n",
    "    return s, c\n",
    "end"
   ]
  },
  {
   "cell_type": "code",
   "execution_count": 152,
   "metadata": {},
   "outputs": [
    {
     "data": {
      "text/plain": [
       "SortAbsIm (generic function with 1 method)"
      ]
     },
     "execution_count": 152,
     "metadata": {},
     "output_type": "execute_result"
    }
   ],
   "source": [
    "function SortAbsIm(x)\n",
    "    return sort(x, by = x -> abs(imag(x)))\n",
    "end"
   ]
  },
  {
   "cell_type": "code",
   "execution_count": 153,
   "metadata": {},
   "outputs": [
    {
     "data": {
      "text/plain": [
       "LEOrder (generic function with 1 method)"
      ]
     },
     "execution_count": 153,
     "metadata": {},
     "output_type": "execute_result"
    }
   ],
   "source": [
    "function LEOrder(x, y)\n",
    "    if abs(real(x[1]) - real(y[1])) < eps()\n",
    "        return imag(x[1]) < imag(y[1])\n",
    "    else\n",
    "        return real(x[1]) < real(y[1])\n",
    "    end\n",
    "end"
   ]
  },
  {
   "cell_type": "code",
   "execution_count": 154,
   "metadata": {},
   "outputs": [
    {
     "data": {
      "text/plain": [
       "SortLE (generic function with 1 method)"
      ]
     },
     "execution_count": 154,
     "metadata": {},
     "output_type": "execute_result"
    }
   ],
   "source": [
    "function SortLE(x)\n",
    "    return sort(x, lt = LEOrder)\n",
    "end"
   ]
  },
  {
   "cell_type": "code",
   "execution_count": 155,
   "metadata": {},
   "outputs": [
    {
     "data": {
      "text/plain": [
       "flattener (generic function with 1 method)"
      ]
     },
     "execution_count": 155,
     "metadata": {},
     "output_type": "execute_result"
    }
   ],
   "source": [
    "function flattener(path)\n",
    "    flatpath = zeros(2*length(path),2) .* 1im; # Correct\n",
    "    for i1 = 1:2:2*length(path)-1\n",
    "        flatpath[i1,:] = path[Int(floor((i1-1.)/2.)+1.)][1,:]\n",
    "        flatpath[i1+1,:] = path[Int(floor((i1-1.)/2.)+1.)][2,:]\n",
    "    end \n",
    "    return flatpath\n",
    "end"
   ]
  },
  {
   "cell_type": "code",
   "execution_count": 156,
   "metadata": {},
   "outputs": [
    {
     "data": {
      "text/plain": [
       "dom_sectioner (generic function with 1 method)"
      ]
     },
     "execution_count": 156,
     "metadata": {},
     "output_type": "execute_result"
    }
   ],
   "source": [
    "function dom_sectioner(path)\n",
    "    a = -1; b = 1;\n",
    "    distances = [abs(path[i][2]-path[i][1]) for i in 1:length(path)]; distances .*= (b-a)/sum(distances)\n",
    "    t_vals = zeros(length(path)+1); t_vals[1] = a; t_vals[end] = b;\n",
    "    for i1 = 1:length(path)-1\n",
    "        t_vals[i1+1] = t_vals[i1]+distances[i1]\n",
    "    end\n",
    "    return t_vals\n",
    "end"
   ]
  },
  {
   "cell_type": "code",
   "execution_count": 157,
   "metadata": {},
   "outputs": [
    {
     "data": {
      "text/plain": [
       "Dpwlinf_maker (generic function with 1 method)"
      ]
     },
     "execution_count": 157,
     "metadata": {},
     "output_type": "execute_result"
    }
   ],
   "source": [
    "function pwlinf_maker(t,t_vals,path_nodes,meth)\n",
    "    for i1 = 1:(length(t_vals)-1)\n",
    "        if (t_vals[i1] <= t && t <= t_vals[i1+1])\n",
    "            return (t-t_vals[i1])/(t_vals[i1+1]-t_vals[i1])*path_nodes[i1+1] + (t-t_vals[i1+1])/(t_vals[i1]-t_vals[i1+1])*path_nodes[i1]\n",
    "        end\n",
    "    end\n",
    "    if t_vals[end] <= t\n",
    "        return (t-t_vals[end-1])/(t_vals[end]-t_vals[end-1])*path_nodes[end] + (t-t_vals[end])/(t_vals[end-1]-t_vals[end])*path_nodes[end-1]\n",
    "    elseif t <= t_vals[1]\n",
    "        return (t-t_vals[1])/(t_vals[2]-t_vals[1])*path_nodes[2] + (t-t_vals[2])/(t_vals[1]-t_vals[2])*path_nodes[1]\n",
    "    end\n",
    "end\n",
    "\n",
    "function Dpwlinf_maker(t,t_vals,path_nodes,meth)\n",
    "    for i1 = 1:(length(t_vals)-1)\n",
    "        if t >= t_vals[i1] && t <= t_vals[i1+1]\n",
    "            return 1/(t_vals[i1+1]-t_vals[i1])*path_nodes[i1+1] + 1/(t_vals[i1]-t_vals[i1+1])*path_nodes[i1]\n",
    "        end\n",
    "    end\n",
    "    if t_vals[end] <= t\n",
    "        return 1/(t_vals[end]-t_vals[end-1])*path_nodes[end] + 1/(t_vals[end-1]-t_vals[end])*path_nodes[end-1]\n",
    "    elseif t <= t_vals[1]\n",
    "        return 1/(t_vals[2]-t_vals[1])*path_nodes[2] + 1/(t_vals[1]-t_vals[2])*path_nodes[1]\n",
    "    end\n",
    "end"
   ]
  },
  {
   "cell_type": "code",
   "execution_count": 158,
   "metadata": {},
   "outputs": [
    {
     "data": {
      "text/plain": [
       "fpath_maker (generic function with 1 method)"
      ]
     },
     "execution_count": 158,
     "metadata": {},
     "output_type": "execute_result"
    }
   ],
   "source": [
    "function fpath_maker(path,cate)\n",
    "    t_vals = dom_sectioner(path)\n",
    "    meth = [];\n",
    "    tt = [];\n",
    "    funcs = [];\n",
    "    Dfuncs = [];\n",
    "    for i1 = 1:length(path)\n",
    "        push!(meth, \"Clenshaw-Curtis\")\n",
    "        xgrid = path[i1];\n",
    "\n",
    "        push!(funcs, t -> pwlinf_maker(t,t_vals[i1:(i1+1)],path[i1],meth[i1]))\n",
    "        push!(Dfuncs, t -> Dpwlinf_maker(t,t_vals[i1:(i1+1)],path[i1],meth[i1]))\n",
    "        #push!(tt, [t_vals[ind_sec_tmp[i1][1]],t_vals[ind_sec_tmp[i1][2]]])\n",
    "        push!(tt, t_vals[i1:(i1+1)])\n",
    "    end\n",
    "    return funcs, Dfuncs, tt, meth\n",
    "end"
   ]
  },
  {
   "cell_type": "code",
   "execution_count": 159,
   "metadata": {},
   "outputs": [],
   "source": [
    "struct Deformation\n",
    "    pp::Vector\n",
    "    cc::Vector\n",
    "    path::Vector\n",
    "    Dpath::Vector\n",
    "    tt::Vector\n",
    "    meth::Vector\n",
    "end"
   ]
  },
  {
   "cell_type": "code",
   "execution_count": 160,
   "metadata": {},
   "outputs": [
    {
     "data": {
      "text/plain": [
       "Deformation"
      ]
     },
     "execution_count": 160,
     "metadata": {},
     "output_type": "execute_result"
    }
   ],
   "source": [
    "function Deformation(path::Vector,cate::Vector)\n",
    "    func, Dfunc, tt, meth = fpath_maker(path,cate)\n",
    "    Deformation(path,cate,func, Dfunc, tt, meth)\n",
    "end"
   ]
  },
  {
   "cell_type": "code",
   "execution_count": 161,
   "metadata": {},
   "outputs": [
    {
     "data": {
      "text/plain": [
       "FullPath (generic function with 1 method)"
      ]
     },
     "execution_count": 161,
     "metadata": {},
     "output_type": "execute_result"
    }
   ],
   "source": [
    "function FullPath(w, xx, tt)\n",
    "    if abs(xx) < 0.1-eps()\n",
    "        path, cate = SmallXPath(w, xx, tt)\n",
    "        return Deformation(path, cate)\n",
    "    end\n",
    "\n",
    "    K0, close, paths = SDPaths(w, xx, tt) # Correct\n",
    "    flatpath = flattener(paths)\n",
    "\n",
    "    connect = []\n",
    "    category = []\n",
    "    for i in 1:length(paths)\n",
    "        ends = [paths[i][1, 1], paths[i][2, 2]]\n",
    "        closer = [0., 0.] .* 1im\n",
    "        if abs(ends[1] - close[i][1]) < abs(ends[2] - close[i][1])\n",
    "            closer[1] = close[i][1]\n",
    "        else\n",
    "            closer[1] = close[i][2]\n",
    "        end\n",
    "        if abs(ends[2] - close[i][1]) < abs(ends[1] - close[i][1])\n",
    "            closer[2] = close[i][1]\n",
    "        else\n",
    "            closer[2] = close[i][2]\n",
    "        end\n",
    "        \n",
    "        push!(connect,[closer[1], ends[1]], flatpath[2*i-1,:], flatpath[2*i,:], [ends[2], closer[2]])\n",
    "        push!(category, [\"inf\",\"CP_ent\"],[\"CP_ent\",\"CP\"], [\"CP\",\"CP_ext\"], [\"CP_ex\", \"inf\"])\n",
    "    end\n",
    "    \n",
    "    return Deformation(connect,category)\n",
    "end"
   ]
  },
  {
   "cell_type": "code",
   "execution_count": 162,
   "metadata": {},
   "outputs": [
    {
     "data": {
      "text/plain": [
       "DomainPlot (generic function with 1 method)"
      ]
     },
     "execution_count": 162,
     "metadata": {},
     "output_type": "execute_result"
    }
   ],
   "source": [
    "function DomainPlot(D::Deformation)\n",
    "    plot();\n",
    "    path = D.pp;\n",
    "    cate = D.cc;\n",
    "    CP_label = \"CP\";\n",
    "    inf_label = \"inf\";\n",
    "    CP_ext_label = \"CP_ext\";\n",
    "    CP_ent_label = \"CP_ent\";\n",
    "    for i1 in 1:length(path)\n",
    "        plot!([real(path[i1][1]),real(path[i1][2])],[imag(path[i1][1]),imag(path[i1][2])], arrow=true, color =:black, linewidth =2, label =\"\");\n",
    "        for i2 in 1:2\n",
    "            if cate[i1][i2] == \"CP\"\n",
    "                scatter!([real(path[i1][i2])],[imag(path[i1][i2])], color =:green, markersize =5, label = CP_label);\n",
    "                CP_label = \"\";\n",
    "            elseif cate[i1][i2] == \"inf\"\n",
    "                scatter!([real(path[i1][i2])],[imag(path[i1][i2])], color =:red, markersize =5, label = inf_label)\n",
    "                inf_label = \"\";\n",
    "            elseif cate[i1][i2] == \"CP_ext\"\n",
    "                scatter!([real(path[i1][i2])],[imag(path[i1][i2])], color =:orange, markersize =5, label = CP_ext_label)\n",
    "                CP_ext_label = \"\";\n",
    "            elseif cate[i1][i2] == \"CP_ent\"\n",
    "                scatter!([real(path[i1][i2])],[imag(path[i1][i2])], color =:blue, markersize =5, label = CP_ent_label)\n",
    "                CP_ent_label = \"\";\n",
    "            end \n",
    "        end\n",
    "    end\n",
    "    plot!()|>display\n",
    "end"
   ]
  },
  {
   "cell_type": "code",
   "execution_count": 163,
   "metadata": {},
   "outputs": [
    {
     "data": {
      "text/plain": [
       "NumericalDomainPlot (generic function with 1 method)"
      ]
     },
     "execution_count": 163,
     "metadata": {},
     "output_type": "execute_result"
    }
   ],
   "source": [
    "function NumericalDomainPlot(D::Deformation)\n",
    "    Legendre_label = \"Legendre\";\n",
    "    Clen_Curt_label = \"Clenshaw-Curtis\";\n",
    "    plot()\n",
    "    for i1 = 1:length(D.path)\n",
    "        t = range(D.tt[i1][1],D.tt[i1][end],100)\n",
    "        if D.meth[i1] == \"Clenshaw-Curtis\"\n",
    "            plot!(real.(D.path[i1].(t)),imag.(D.path[i1].(t)), color =:purple3, linewidth =2, label = Clen_Curt_label)\n",
    "\n",
    "            N = 10; x = cos.( (0:N) * π / N );\n",
    "            \n",
    "            trans_func = x -> (D.tt[i1][end] + D.tt[i1][1])/2 + x * (D.tt[i1][end] - D.tt[i1][1])/2 ;\n",
    "            scatter!(real.(D.path[i1].(trans_func.(x))),imag.(D.path[i1].(trans_func.(x))), color =:magenta4, linewidth =2, label = \"\")\n",
    "\n",
    "            Clen_Curt_label = \"\";\n",
    "        elseif D.meth[i1] == \"Legendre\"\n",
    "            plot!(real.(D.path[i1].(t)),imag.(D.path[i1].(t)), color =:magenta4, linewidth =2, label = Legendre_label)\n",
    "\n",
    "            x, w = gausslegendre(15);\n",
    "            \n",
    "            trans_func = x -> (D.tt[i1][end] + D.tt[i1][1])/2 + x * (D.tt[i1][end] - D.tt[i1][1])/2 ;\n",
    "            scatter!(real.(D.path[i1].(trans_func.(x))),imag.(D.path[i1].(trans_func.(x))), color =:magenta4, linewidth =2, label = \"\")\n",
    "            Legendre_label = \"\";\n",
    "        end\n",
    "    end\n",
    "    CP_label = \"CP\";\n",
    "    inf_label = \"inf\";\n",
    "    CP_ext_label = \"CP_ext\";\n",
    "    CP_ent_label = \"CP_ent\";\n",
    "    for i1 = 1:length(DD.pp)\n",
    "        for i2 in 1:2\n",
    "            if DD.cc[i1][i2] == \"CP\"\n",
    "                scatter!([real(D.pp[i1][i2])],[imag(D.pp[i1][i2])], color =:green, markersize =5, label = CP_label);\n",
    "                CP_label = \"\";\n",
    "            elseif DD.cc[i1][i2] == \"inf\"\n",
    "                scatter!([real(D.pp[i1][i2])],[imag(D.pp[i1][i2])], color =:red, markersize =5, label = inf_label)\n",
    "                inf_label = \"\";\n",
    "            elseif DD.cc[i1][i2] == \"CP_ext\"\n",
    "                scatter!([real(D.pp[i1][i2])],[imag(D.pp[i1][i2])], color =:orange, markersize =5, label = CP_ext_label)\n",
    "                CP_ext_label = \"\";\n",
    "            elseif DD.cc[i1][i2] == \"CP_ent\"\n",
    "                scatter!([real(D.pp[i1][i2])],[imag(D.pp[i1][i2])], color =:blue, markersize =5, label = CP_ent_label)\n",
    "                CP_ent_label = \"\";\n",
    "            end \n",
    "        end\n",
    "    end\n",
    "    plot!()|>display\n",
    "end"
   ]
  },
  {
   "cell_type": "code",
   "execution_count": 164,
   "metadata": {},
   "outputs": [
    {
     "data": {
      "text/plain": [
       "My_Integrate (generic function with 1 method)"
      ]
     },
     "execution_count": 164,
     "metadata": {},
     "output_type": "execute_result"
    }
   ],
   "source": [
    "function My_Integrate(int_f,Defor,N)\n",
    "    res = 0im;\n",
    "    for i1 = 1:length(Defor.tt)\n",
    "\n",
    "        s = curv(Defor.path[i1],Defor.tt[i1][1],Defor.tt[i1][end],Defor.Dpath[i1],N)\n",
    "        f = stand_int(int_f,s)\n",
    "\n",
    "        if Defor.meth[i1] == \"Legendre\"\n",
    "\n",
    "            x, w = gausslegendre(N);\n",
    "           \n",
    "        elseif Defor.meth[i1] == \"Clenshaw-Curtis\"\n",
    "\n",
    "            if mod(N,2) != 0\n",
    "               N -= 1 \n",
    "            end\n",
    "            \n",
    "            n = 0:N/2;\n",
    "            D = 2 * cos.(2* transpose(n) .* n * pi/N)/N;\n",
    "            D[1,:] = D[1,:] .* 0.5;\n",
    "            d = [1; 2 ./ (1 .- (2:2:N).^2)];\n",
    "            w = D * d; w = [w;w[length(w)-1:-1:1]];\n",
    "            x = cos.( (0:N) * π / N );\n",
    "        end\n",
    "        res += dot(w,f.(x))\n",
    "    end\n",
    "    return res\n",
    "end"
   ]
  },
  {
   "cell_type": "code",
   "execution_count": 165,
   "metadata": {},
   "outputs": [
    {
     "data": {
      "text/plain": [
       "Integrand (generic function with 1 method)"
      ]
     },
     "execution_count": 165,
     "metadata": {},
     "output_type": "execute_result"
    }
   ],
   "source": [
    "function Integrand(w, xx, tt, m)\n",
    "    DD = FullPath(w, xx, tt)\n",
    "    \"After FullPath\"|>display\n",
    "    integrand = z -> (1im * z)^m * P(w, xx+eps(), tt, z)\n",
    "    return integrand, DD\n",
    "end"
   ]
  },
  {
   "cell_type": "code",
   "execution_count": 166,
   "metadata": {},
   "outputs": [
    {
     "data": {
      "text/plain": [
       "SpecialFunction (generic function with 1 method)"
      ]
     },
     "execution_count": 166,
     "metadata": {},
     "output_type": "execute_result"
    }
   ],
   "source": [
    "function SpecialFunction(w, xx, tt, m, N)\n",
    "    tt *= -1im *1.\n",
    "    n = length(w) + 1\n",
    "    w = real(xx) >= 0. ? w : [w[i] * (-1)^(i + 1) for i in 1:length(w)];\n",
    "    integrand, DD = Integrand(w, sign(real(xx)) * xx * tt^(-1/n), tt, m);\n",
    "    \"After_Integrand\"|>display\n",
    "    extra_c = real(xx) < 0. ? (-1)^m : 1;\n",
    "    vals = extra_c * My_Integrate(integrand, DD,N)\n",
    "    #vals -=  (real(xx) < 0 && m < 0)? 2 * π * im * Residue(z -> (im * z)^m * P(w, xx * tt^(-1/n), tt, z), 0) : 0\n",
    "   tt^(-(m + 1) / n) * vals\n",
    "end"
   ]
  },
  {
   "cell_type": "code",
   "execution_count": 167,
   "metadata": {},
   "outputs": [
    {
     "data": {
      "text/plain": [
       "1-element Vector{ComplexF64}:\n",
       " 2.574994859672457 - 1.8678880784859093im"
      ]
     },
     "metadata": {},
     "output_type": "display_data"
    },
    {
     "data": {
      "text/plain": [
       "1-element Vector{ComplexF64}:\n",
       " 2.574994859672457 - 1.8678880784859093im"
      ]
     },
     "metadata": {},
     "output_type": "display_data"
    },
    {
     "ename": "LoadError",
     "evalue": "MethodError: no method matching zero(::Type{Any})\n\n\u001b[0mClosest candidates are:\n\u001b[0m  zero(::Type{Union{Missing, T}}) where T\n\u001b[0m\u001b[90m   @\u001b[39m \u001b[90mBase\u001b[39m \u001b[90m\u001b[4mmissing.jl:105\u001b[24m\u001b[39m\n\u001b[0m  zero(\u001b[91m::Union{Type{P}, P}\u001b[39m) where P<:Dates.Period\n\u001b[0m\u001b[90m   @\u001b[39m \u001b[36mDates\u001b[39m \u001b[90mC:\\Users\\wiets\\AppData\\Local\\Programs\\Julia-1.9.3\\share\\julia\\stdlib\\v1.9\\Dates\\src\\\u001b[39m\u001b[90m\u001b[4mperiods.jl:51\u001b[24m\u001b[39m\n\u001b[0m  zero(\u001b[91m::UniformScaling{T}\u001b[39m) where T\n\u001b[0m\u001b[90m   @\u001b[39m \u001b[32mLinearAlgebra\u001b[39m \u001b[90mC:\\Users\\wiets\\AppData\\Local\\Programs\\Julia-1.9.3\\share\\julia\\stdlib\\v1.9\\LinearAlgebra\\src\\\u001b[39m\u001b[90m\u001b[4muniformscaling.jl:135\u001b[24m\u001b[39m\n\u001b[0m  ...\n",
     "output_type": "error",
     "traceback": [
      "MethodError: no method matching zero(::Type{Any})\n\n\u001b[0mClosest candidates are:\n\u001b[0m  zero(::Type{Union{Missing, T}}) where T\n\u001b[0m\u001b[90m   @\u001b[39m \u001b[90mBase\u001b[39m \u001b[90m\u001b[4mmissing.jl:105\u001b[24m\u001b[39m\n\u001b[0m  zero(\u001b[91m::Union{Type{P}, P}\u001b[39m) where P<:Dates.Period\n\u001b[0m\u001b[90m   @\u001b[39m \u001b[36mDates\u001b[39m \u001b[90mC:\\Users\\wiets\\AppData\\Local\\Programs\\Julia-1.9.3\\share\\julia\\stdlib\\v1.9\\Dates\\src\\\u001b[39m\u001b[90m\u001b[4mperiods.jl:51\u001b[24m\u001b[39m\n\u001b[0m  zero(\u001b[91m::UniformScaling{T}\u001b[39m) where T\n\u001b[0m\u001b[90m   @\u001b[39m \u001b[32mLinearAlgebra\u001b[39m \u001b[90mC:\\Users\\wiets\\AppData\\Local\\Programs\\Julia-1.9.3\\share\\julia\\stdlib\\v1.9\\LinearAlgebra\\src\\\u001b[39m\u001b[90m\u001b[4muniformscaling.jl:135\u001b[24m\u001b[39m\n\u001b[0m  ...\n",
      "",
      "Stacktrace:",
      "  [1] zero(#unused#::Type{Any})",
      "    @ Base .\\missing.jl:106",
      "  [2] reduce_empty(#unused#::typeof(+), #unused#::Type{Any})",
      "    @ Base .\\reduce.jl:338",
      "  [3] reduce_empty(#unused#::typeof(Base.add_sum), #unused#::Type{Any})",
      "    @ Base .\\reduce.jl:347",
      "  [4] mapreduce_empty(#unused#::typeof(identity), op::Function, T::Type)",
      "    @ Base .\\reduce.jl:367",
      "  [5] reduce_empty(op::Base.MappingRF{typeof(identity), typeof(Base.add_sum)}, #unused#::Type{Any})",
      "    @ Base .\\reduce.jl:356",
      "  [6] reduce_empty_iter",
      "    @ .\\reduce.jl:379 [inlined]",
      "  [7] mapreduce_empty_iter(f::Function, op::Function, itr::Vector{Any}, ItrEltype::Base.HasEltype)",
      "    @ Base .\\reduce.jl:375",
      "  [8] _mapreduce(f::typeof(identity), op::typeof(Base.add_sum), #unused#::IndexLinear, A::Vector{Any})",
      "    @ Base .\\reduce.jl:427",
      "  [9] _mapreduce_dim",
      "    @ .\\reducedim.jl:365 [inlined]",
      " [10] #mapreduce#800",
      "    @ .\\reducedim.jl:357 [inlined]",
      " [11] mapreduce",
      "    @ .\\reducedim.jl:357 [inlined]",
      " [12] #_sum#810",
      "    @ .\\reducedim.jl:999 [inlined]",
      " [13] _sum",
      "    @ .\\reducedim.jl:999 [inlined]",
      " [14] #_sum#809",
      "    @ .\\reducedim.jl:998 [inlined]",
      " [15] _sum",
      "    @ .\\reducedim.jl:998 [inlined]",
      " [16] #sum#807",
      "    @ .\\reducedim.jl:994 [inlined]",
      " [17] sum(a::Vector{Any})",
      "    @ Base .\\reducedim.jl:994",
      " [18] dom_sectioner(path::Vector{Any})",
      "    @ Main .\\In[156]:3",
      " [19] fpath_maker(path::Vector{Any}, cate::Vector{Any})",
      "    @ Main .\\In[158]:2",
      " [20] Deformation",
      "    @ .\\In[160]:2 [inlined]",
      " [21] FullPath(w::Vector{Int64}, xx::ComplexF64, tt::ComplexF64)",
      "    @ Main .\\In[161]:30",
      " [22] Integrand(w::Vector{Int64}, xx::ComplexF64, tt::ComplexF64, m::Int64)",
      "    @ Main .\\In[165]:2",
      " [23] SpecialFunction(w::Vector{Int64}, xx::ComplexF64, tt::Int64, m::Int64, N::Int64)",
      "    @ Main .\\In[166]:5",
      " [24] (::var\"#333#334\")(x::ComplexF64, t::Int64)",
      "    @ Main .\\In[167]:2",
      " [25] top-level scope",
      "    @ In[167]:3"
     ]
    }
   ],
   "source": [
    "w = [1];\n",
    "SF = (x,t) -> SpecialFunction(w, x, t, -1, 300);\n",
    "SF(1-2+2im*pi*1,1)|>display"
   ]
  },
  {
   "cell_type": "code",
   "execution_count": 82,
   "metadata": {},
   "outputs": [
    {
     "data": {
      "text/plain": [
       "-42.19190056927084 - 30.65421010094886im"
      ]
     },
     "execution_count": 82,
     "metadata": {},
     "output_type": "execute_result"
    }
   ],
   "source": [
    "w = [0,0,0,-1]\n",
    "N = 30;\n",
    "x = 0\n",
    "t = .00001\n",
    "funt = N -> SpecialFunction(w, x, t, 1, N)\n",
    "funt(N)"
   ]
  },
  {
   "cell_type": "code",
   "execution_count": 83,
   "metadata": {},
   "outputs": [
    {
     "data": {
      "image/png": "[encoded data removed]",
      "image/svg+xml": [
       "<?xml version=\"1.0\" encoding=\"utf-8\"?>\n",
       "<svg xmlns=\"http://www.w3.org/2000/svg\" xmlns:xlink=\"http://www.w3.org/1999/xlink\" width=\"600\" height=\"400\" viewBox=\"0 0 2400 1600\">\n",
       "<defs>\n",
       "  <clipPath id=\"clip800\">\n",
       "    <rect x=\"0\" y=\"0\" width=\"2400\" height=\"1600\"/>\n",
       "  </clipPath>\n",
       "</defs>\n",
       "<path clip-path=\"url(#clip800)\" d=\"M0 1600 L2400 1600 L2400 0 L0 0  Z\" fill=\"#ffffff\" fill-rule=\"evenodd\" fill-opacity=\"1\"/>\n",
       "<defs>\n",
       "  <clipPath id=\"clip801\">\n",
       "    <rect x=\"480\" y=\"0\" width=\"1681\" height=\"1600\"/>\n",
       "  </clipPath>\n",
       "</defs>\n",
       "<path clip-path=\"url(#clip800)\" d=\"M276.876 1423.18 L2352.76 1423.18 L2352.76 47.2441 L276.876 47.2441  Z\" fill=\"#ffffff\" fill-rule=\"evenodd\" fill-opacity=\"1\"/>\n",
       "<defs>\n",
       "  <clipPath id=\"clip802\">\n",
       "    <rect x=\"276\" y=\"47\" width=\"2077\" height=\"1377\"/>\n",
       "  </clipPath>\n",
       "</defs>\n",
       "<polyline clip-path=\"url(#clip802)\" style=\"stroke:#000000; stroke-linecap:round; stroke-linejoin:round; stroke-width:2; stroke-opacity:0.1; fill:none\" points=\"325.786,1423.18 325.786,47.2441 \"/>\n",
       "<polyline clip-path=\"url(#clip802)\" style=\"stroke:#000000; stroke-linecap:round; stroke-linejoin:round; stroke-width:2; stroke-opacity:0.1; fill:none\" points=\"817.84,1423.18 817.84,47.2441 \"/>\n",
       "<polyline clip-path=\"url(#clip802)\" style=\"stroke:#000000; stroke-linecap:round; stroke-linejoin:round; stroke-width:2; stroke-opacity:0.1; fill:none\" points=\"1309.9,1423.18 1309.9,47.2441 \"/>\n",
       "<polyline clip-path=\"url(#clip802)\" style=\"stroke:#000000; stroke-linecap:round; stroke-linejoin:round; stroke-width:2; stroke-opacity:0.1; fill:none\" points=\"1801.95,1423.18 1801.95,47.2441 \"/>\n",
       "<polyline clip-path=\"url(#clip802)\" style=\"stroke:#000000; stroke-linecap:round; stroke-linejoin:round; stroke-width:2; stroke-opacity:0.1; fill:none\" points=\"2294,1423.18 2294,47.2441 \"/>\n",
       "<polyline clip-path=\"url(#clip800)\" style=\"stroke:#000000; stroke-linecap:round; stroke-linejoin:round; stroke-width:4; stroke-opacity:1; fill:none\" points=\"276.876,1423.18 2352.76,1423.18 \"/>\n",
       "<polyline clip-path=\"url(#clip800)\" style=\"stroke:#000000; stroke-linecap:round; stroke-linejoin:round; stroke-width:4; stroke-opacity:1; fill:none\" points=\"325.786,1423.18 325.786,1404.28 \"/>\n",
       "<polyline clip-path=\"url(#clip800)\" style=\"stroke:#000000; stroke-linecap:round; stroke-linejoin:round; stroke-width:4; stroke-opacity:1; fill:none\" points=\"817.84,1423.18 817.84,1404.28 \"/>\n",
       "<polyline clip-path=\"url(#clip800)\" style=\"stroke:#000000; stroke-linecap:round; stroke-linejoin:round; stroke-width:4; stroke-opacity:1; fill:none\" points=\"1309.9,1423.18 1309.9,1404.28 \"/>\n",
       "<polyline clip-path=\"url(#clip800)\" style=\"stroke:#000000; stroke-linecap:round; stroke-linejoin:round; stroke-width:4; stroke-opacity:1; fill:none\" points=\"1801.95,1423.18 1801.95,1404.28 \"/>\n",
       "<polyline clip-path=\"url(#clip800)\" style=\"stroke:#000000; stroke-linecap:round; stroke-linejoin:round; stroke-width:4; stroke-opacity:1; fill:none\" points=\"2294,1423.18 2294,1404.28 \"/>\n",
       "<path clip-path=\"url(#clip800)\" d=\"M325.786 1454.1 Q322.175 1454.1 320.346 1457.66 Q318.54 1461.2 318.54 1468.33 Q318.54 1475.44 320.346 1479.01 Q322.175 1482.55 325.786 1482.55 Q329.42 1482.55 331.226 1479.01 Q333.054 1475.44 333.054 1468.33 Q333.054 1461.2 331.226 1457.66 Q329.42 1454.1 325.786 1454.1 M325.786 1450.39 Q331.596 1450.39 334.651 1455 Q337.73 1459.58 337.73 1468.33 Q337.73 1477.06 334.651 1481.67 Q331.596 1486.25 325.786 1486.25 Q319.976 1486.25 316.897 1481.67 Q313.841 1477.06 313.841 1468.33 Q313.841 1459.58 316.897 1455 Q319.976 1450.39 325.786 1450.39 Z\" fill=\"#000000\" fill-rule=\"nonzero\" fill-opacity=\"1\" /><path clip-path=\"url(#clip800)\" d=\"M777.447 1481.64 L785.086 1481.64 L785.086 1455.28 L776.776 1456.95 L776.776 1452.69 L785.04 1451.02 L789.716 1451.02 L789.716 1481.64 L797.354 1481.64 L797.354 1485.58 L777.447 1485.58 L777.447 1481.64 Z\" fill=\"#000000\" fill-rule=\"nonzero\" fill-opacity=\"1\" /><path clip-path=\"url(#clip800)\" d=\"M816.799 1454.1 Q813.188 1454.1 811.359 1457.66 Q809.553 1461.2 809.553 1468.33 Q809.553 1475.44 811.359 1479.01 Q813.188 1482.55 816.799 1482.55 Q820.433 1482.55 822.239 1479.01 Q824.067 1475.44 824.067 1468.33 Q824.067 1461.2 822.239 1457.66 Q820.433 1454.1 816.799 1454.1 M816.799 1450.39 Q822.609 1450.39 825.664 1455 Q828.743 1459.58 828.743 1468.33 Q828.743 1477.06 825.664 1481.67 Q822.609 1486.25 816.799 1486.25 Q810.989 1486.25 807.91 1481.67 Q804.854 1477.06 804.854 1468.33 Q804.854 1459.58 807.91 1455 Q810.989 1450.39 816.799 1450.39 Z\" fill=\"#000000\" fill-rule=\"nonzero\" fill-opacity=\"1\" /><path clip-path=\"url(#clip800)\" d=\"M846.961 1454.1 Q843.35 1454.1 841.521 1457.66 Q839.715 1461.2 839.715 1468.33 Q839.715 1475.44 841.521 1479.01 Q843.35 1482.55 846.961 1482.55 Q850.595 1482.55 852.4 1479.01 Q854.229 1475.44 854.229 1468.33 Q854.229 1461.2 852.4 1457.66 Q850.595 1454.1 846.961 1454.1 M846.961 1450.39 Q852.771 1450.39 855.826 1455 Q858.905 1459.58 858.905 1468.33 Q858.905 1477.06 855.826 1481.67 Q852.771 1486.25 846.961 1486.25 Q841.151 1486.25 838.072 1481.67 Q835.016 1477.06 835.016 1468.33 Q835.016 1459.58 838.072 1455 Q841.151 1450.39 846.961 1450.39 Z\" fill=\"#000000\" fill-rule=\"nonzero\" fill-opacity=\"1\" /><path clip-path=\"url(#clip800)\" d=\"M1273.59 1481.64 L1289.91 1481.64 L1289.91 1485.58 L1267.96 1485.58 L1267.96 1481.64 Q1270.62 1478.89 1275.21 1474.26 Q1279.81 1469.61 1280.99 1468.27 Q1283.24 1465.74 1284.12 1464.01 Q1285.02 1462.25 1285.02 1460.56 Q1285.02 1457.8 1283.08 1456.07 Q1281.16 1454.33 1278.06 1454.33 Q1275.86 1454.33 1273.4 1455.09 Q1270.97 1455.86 1268.19 1457.41 L1268.19 1452.69 Q1271.02 1451.55 1273.47 1450.97 Q1275.93 1450.39 1277.96 1450.39 Q1283.33 1450.39 1286.53 1453.08 Q1289.72 1455.77 1289.72 1460.26 Q1289.72 1462.39 1288.91 1464.31 Q1288.12 1466.2 1286.02 1468.8 Q1285.44 1469.47 1282.34 1472.69 Q1279.24 1475.88 1273.59 1481.64 Z\" fill=\"#000000\" fill-rule=\"nonzero\" fill-opacity=\"1\" /><path clip-path=\"url(#clip800)\" d=\"M1309.72 1454.1 Q1306.11 1454.1 1304.28 1457.66 Q1302.48 1461.2 1302.48 1468.33 Q1302.48 1475.44 1304.28 1479.01 Q1306.11 1482.55 1309.72 1482.55 Q1313.36 1482.55 1315.16 1479.01 Q1316.99 1475.44 1316.99 1468.33 Q1316.99 1461.2 1315.16 1457.66 Q1313.36 1454.1 1309.72 1454.1 M1309.72 1450.39 Q1315.53 1450.39 1318.59 1455 Q1321.67 1459.58 1321.67 1468.33 Q1321.67 1477.06 1318.59 1481.67 Q1315.53 1486.25 1309.72 1486.25 Q1303.91 1486.25 1300.83 1481.67 Q1297.78 1477.06 1297.78 1468.33 Q1297.78 1459.58 1300.83 1455 Q1303.91 1450.39 1309.72 1450.39 Z\" fill=\"#000000\" fill-rule=\"nonzero\" fill-opacity=\"1\" /><path clip-path=\"url(#clip800)\" d=\"M1339.88 1454.1 Q1336.27 1454.1 1334.44 1457.66 Q1332.64 1461.2 1332.64 1468.33 Q1332.64 1475.44 1334.44 1479.01 Q1336.27 1482.55 1339.88 1482.55 Q1343.52 1482.55 1345.32 1479.01 Q1347.15 1475.44 1347.15 1468.33 Q1347.15 1461.2 1345.32 1457.66 Q1343.52 1454.1 1339.88 1454.1 M1339.88 1450.39 Q1345.69 1450.39 1348.75 1455 Q1351.83 1459.58 1351.83 1468.33 Q1351.83 1477.06 1348.75 1481.67 Q1345.69 1486.25 1339.88 1486.25 Q1334.07 1486.25 1330.99 1481.67 Q1327.94 1477.06 1327.94 1468.33 Q1327.94 1459.58 1330.99 1455 Q1334.07 1450.39 1339.88 1450.39 Z\" fill=\"#000000\" fill-rule=\"nonzero\" fill-opacity=\"1\" /><path clip-path=\"url(#clip800)\" d=\"M1775.71 1466.95 Q1779.07 1467.66 1780.94 1469.93 Q1782.84 1472.2 1782.84 1475.53 Q1782.84 1480.65 1779.32 1483.45 Q1775.8 1486.25 1769.32 1486.25 Q1767.15 1486.25 1764.83 1485.81 Q1762.54 1485.39 1760.09 1484.54 L1760.09 1480.02 Q1762.03 1481.16 1764.35 1481.74 Q1766.66 1482.32 1769.18 1482.32 Q1773.58 1482.32 1775.87 1480.58 Q1778.19 1478.84 1778.19 1475.53 Q1778.19 1472.48 1776.04 1470.77 Q1773.91 1469.03 1770.09 1469.03 L1766.06 1469.03 L1766.06 1465.19 L1770.27 1465.19 Q1773.72 1465.19 1775.55 1463.82 Q1777.38 1462.43 1777.38 1459.84 Q1777.38 1457.18 1775.48 1455.77 Q1773.61 1454.33 1770.09 1454.33 Q1768.17 1454.33 1765.97 1454.75 Q1763.77 1455.16 1761.13 1456.04 L1761.13 1451.88 Q1763.79 1451.14 1766.11 1450.77 Q1768.44 1450.39 1770.5 1450.39 Q1775.83 1450.39 1778.93 1452.83 Q1782.03 1455.23 1782.03 1459.35 Q1782.03 1462.22 1780.39 1464.21 Q1778.74 1466.18 1775.71 1466.95 Z\" fill=\"#000000\" fill-rule=\"nonzero\" fill-opacity=\"1\" /><path clip-path=\"url(#clip800)\" d=\"M1801.71 1454.1 Q1798.1 1454.1 1796.27 1457.66 Q1794.46 1461.2 1794.46 1468.33 Q1794.46 1475.44 1796.27 1479.01 Q1798.1 1482.55 1801.71 1482.55 Q1805.34 1482.55 1807.15 1479.01 Q1808.98 1475.44 1808.98 1468.33 Q1808.98 1461.2 1807.15 1457.66 Q1805.34 1454.1 1801.71 1454.1 M1801.71 1450.39 Q1807.52 1450.39 1810.57 1455 Q1813.65 1459.58 1813.65 1468.33 Q1813.65 1477.06 1810.57 1481.67 Q1807.52 1486.25 1801.71 1486.25 Q1795.9 1486.25 1792.82 1481.67 Q1789.76 1477.06 1789.76 1468.33 Q1789.76 1459.58 1792.82 1455 Q1795.9 1450.39 1801.71 1450.39 Z\" fill=\"#000000\" fill-rule=\"nonzero\" fill-opacity=\"1\" /><path clip-path=\"url(#clip800)\" d=\"M1831.87 1454.1 Q1828.26 1454.1 1826.43 1457.66 Q1824.62 1461.2 1824.62 1468.33 Q1824.62 1475.44 1826.43 1479.01 Q1828.26 1482.55 1831.87 1482.55 Q1835.5 1482.55 1837.31 1479.01 Q1839.14 1475.44 1839.14 1468.33 Q1839.14 1461.2 1837.31 1457.66 Q1835.5 1454.1 1831.87 1454.1 M1831.87 1450.39 Q1837.68 1450.39 1840.73 1455 Q1843.81 1459.58 1843.81 1468.33 Q1843.81 1477.06 1840.73 1481.67 Q1837.68 1486.25 1831.87 1486.25 Q1826.06 1486.25 1822.98 1481.67 Q1819.92 1477.06 1819.92 1468.33 Q1819.92 1459.58 1822.98 1455 Q1826.06 1450.39 1831.87 1450.39 Z\" fill=\"#000000\" fill-rule=\"nonzero\" fill-opacity=\"1\" /><path clip-path=\"url(#clip800)\" d=\"M2267.09 1455.09 L2255.29 1473.54 L2267.09 1473.54 L2267.09 1455.09 M2265.87 1451.02 L2271.75 1451.02 L2271.75 1473.54 L2276.68 1473.54 L2276.68 1477.43 L2271.75 1477.43 L2271.75 1485.58 L2267.09 1485.58 L2267.09 1477.43 L2251.49 1477.43 L2251.49 1472.92 L2265.87 1451.02 Z\" fill=\"#000000\" fill-rule=\"nonzero\" fill-opacity=\"1\" /><path clip-path=\"url(#clip800)\" d=\"M2294.41 1454.1 Q2290.8 1454.1 2288.97 1457.66 Q2287.16 1461.2 2287.16 1468.33 Q2287.16 1475.44 2288.97 1479.01 Q2290.8 1482.55 2294.41 1482.55 Q2298.04 1482.55 2299.85 1479.01 Q2301.68 1475.44 2301.68 1468.33 Q2301.68 1461.2 2299.85 1457.66 Q2298.04 1454.1 2294.41 1454.1 M2294.41 1450.39 Q2300.22 1450.39 2303.28 1455 Q2306.35 1459.58 2306.35 1468.33 Q2306.35 1477.06 2303.28 1481.67 Q2300.22 1486.25 2294.41 1486.25 Q2288.6 1486.25 2285.52 1481.67 Q2282.47 1477.06 2282.47 1468.33 Q2282.47 1459.58 2285.52 1455 Q2288.6 1450.39 2294.41 1450.39 Z\" fill=\"#000000\" fill-rule=\"nonzero\" fill-opacity=\"1\" /><path clip-path=\"url(#clip800)\" d=\"M2324.57 1454.1 Q2320.96 1454.1 2319.13 1457.66 Q2317.33 1461.2 2317.33 1468.33 Q2317.33 1475.44 2319.13 1479.01 Q2320.96 1482.55 2324.57 1482.55 Q2328.21 1482.55 2330.01 1479.01 Q2331.84 1475.44 2331.84 1468.33 Q2331.84 1461.2 2330.01 1457.66 Q2328.21 1454.1 2324.57 1454.1 M2324.57 1450.39 Q2330.38 1450.39 2333.44 1455 Q2336.52 1459.58 2336.52 1468.33 Q2336.52 1477.06 2333.44 1481.67 Q2330.38 1486.25 2324.57 1486.25 Q2318.76 1486.25 2315.68 1481.67 Q2312.63 1477.06 2312.63 1468.33 Q2312.63 1459.58 2315.68 1455 Q2318.76 1450.39 2324.57 1450.39 Z\" fill=\"#000000\" fill-rule=\"nonzero\" fill-opacity=\"1\" /><path clip-path=\"url(#clip800)\" d=\"M1296.83 1520.52 L1305.49 1520.52 L1326.56 1560.28 L1326.56 1520.52 L1332.8 1520.52 L1332.8 1568.04 L1324.14 1568.04 L1303.07 1528.29 L1303.07 1568.04 L1296.83 1568.04 L1296.83 1520.52 Z\" fill=\"#000000\" fill-rule=\"nonzero\" fill-opacity=\"1\" /><polyline clip-path=\"url(#clip802)\" style=\"stroke:#000000; stroke-linecap:round; stroke-linejoin:round; stroke-width:2; stroke-opacity:0.1; fill:none\" points=\"276.876,951.576 2352.76,951.576 \"/>\n",
       "<polyline clip-path=\"url(#clip802)\" style=\"stroke:#000000; stroke-linecap:round; stroke-linejoin:round; stroke-width:2; stroke-opacity:0.1; fill:none\" points=\"276.876,186.286 2352.76,186.286 \"/>\n",
       "<polyline clip-path=\"url(#clip800)\" style=\"stroke:#000000; stroke-linecap:round; stroke-linejoin:round; stroke-width:4; stroke-opacity:1; fill:none\" points=\"276.876,1423.18 276.876,47.2441 \"/>\n",
       "<polyline clip-path=\"url(#clip800)\" style=\"stroke:#000000; stroke-linecap:round; stroke-linejoin:round; stroke-width:4; stroke-opacity:1; fill:none\" points=\"276.876,951.576 295.773,951.576 \"/>\n",
       "<polyline clip-path=\"url(#clip800)\" style=\"stroke:#000000; stroke-linecap:round; stroke-linejoin:round; stroke-width:4; stroke-opacity:1; fill:none\" points=\"276.876,186.286 295.773,186.286 \"/>\n",
       "<path clip-path=\"url(#clip800)\" d=\"M114.931 971.369 L122.57 971.369 L122.57 945.003 L114.26 946.67 L114.26 942.411 L122.524 940.744 L127.2 940.744 L127.2 971.369 L134.839 971.369 L134.839 975.304 L114.931 975.304 L114.931 971.369 Z\" fill=\"#000000\" fill-rule=\"nonzero\" fill-opacity=\"1\" /><path clip-path=\"url(#clip800)\" d=\"M154.283 943.823 Q150.672 943.823 148.843 947.388 Q147.038 950.929 147.038 958.059 Q147.038 965.165 148.843 968.73 Q150.672 972.272 154.283 972.272 Q157.917 972.272 159.723 968.73 Q161.552 965.165 161.552 958.059 Q161.552 950.929 159.723 947.388 Q157.917 943.823 154.283 943.823 M154.283 940.119 Q160.093 940.119 163.149 944.726 Q166.227 949.309 166.227 958.059 Q166.227 966.786 163.149 971.392 Q160.093 975.975 154.283 975.975 Q148.473 975.975 145.394 971.392 Q142.339 966.786 142.339 958.059 Q142.339 949.309 145.394 944.726 Q148.473 940.119 154.283 940.119 Z\" fill=\"#000000\" fill-rule=\"nonzero\" fill-opacity=\"1\" /><path clip-path=\"url(#clip800)\" d=\"M166.227 934.22 L190.339 934.22 L190.339 937.418 L166.227 937.418 L166.227 934.22 Z\" fill=\"#000000\" fill-rule=\"nonzero\" fill-opacity=\"1\" /><path clip-path=\"url(#clip800)\" d=\"M199.197 944.696 L205.404 944.696 L205.404 923.274 L198.652 924.628 L198.652 921.168 L205.366 919.814 L209.166 919.814 L209.166 944.696 L215.372 944.696 L215.372 947.894 L199.197 947.894 L199.197 944.696 Z\" fill=\"#000000\" fill-rule=\"nonzero\" fill-opacity=\"1\" /><path clip-path=\"url(#clip800)\" d=\"M231.171 922.315 Q228.237 922.315 226.751 925.211 Q225.284 928.089 225.284 933.882 Q225.284 939.656 226.751 942.552 Q228.237 945.43 231.171 945.43 Q234.124 945.43 235.591 942.552 Q237.076 939.656 237.076 933.882 Q237.076 928.089 235.591 925.211 Q234.124 922.315 231.171 922.315 M231.171 919.306 Q235.891 919.306 238.374 923.049 Q240.876 926.773 240.876 933.882 Q240.876 940.972 238.374 944.715 Q235.891 948.439 231.171 948.439 Q226.45 948.439 223.949 944.715 Q221.466 940.972 221.466 933.882 Q221.466 926.773 223.949 923.049 Q226.45 919.306 231.171 919.306 Z\" fill=\"#000000\" fill-rule=\"nonzero\" fill-opacity=\"1\" /><path clip-path=\"url(#clip800)\" d=\"M170.17 206.078 L177.809 206.078 L177.809 179.712 L169.499 181.379 L169.499 177.12 L177.762 175.453 L182.438 175.453 L182.438 206.078 L190.077 206.078 L190.077 210.013 L170.17 210.013 L170.17 206.078 Z\" fill=\"#000000\" fill-rule=\"nonzero\" fill-opacity=\"1\" /><path clip-path=\"url(#clip800)\" d=\"M209.522 178.532 Q205.91 178.532 204.082 182.097 Q202.276 185.638 202.276 192.768 Q202.276 199.874 204.082 203.439 Q205.91 206.981 209.522 206.981 Q213.156 206.981 214.961 203.439 Q216.79 199.874 216.79 192.768 Q216.79 185.638 214.961 182.097 Q213.156 178.532 209.522 178.532 M209.522 174.828 Q215.332 174.828 218.387 179.435 Q221.466 184.018 221.466 192.768 Q221.466 201.495 218.387 206.101 Q215.332 210.684 209.522 210.684 Q203.711 210.684 200.633 206.101 Q197.577 201.495 197.577 192.768 Q197.577 184.018 200.633 179.435 Q203.711 174.828 209.522 174.828 Z\" fill=\"#000000\" fill-rule=\"nonzero\" fill-opacity=\"1\" /><path clip-path=\"url(#clip800)\" d=\"M231.171 157.024 Q228.237 157.024 226.751 159.921 Q225.284 162.798 225.284 168.591 Q225.284 174.365 226.751 177.261 Q228.237 180.139 231.171 180.139 Q234.124 180.139 235.591 177.261 Q237.076 174.365 237.076 168.591 Q237.076 162.798 235.591 159.921 Q234.124 157.024 231.171 157.024 M231.171 154.015 Q235.891 154.015 238.374 157.758 Q240.876 161.482 240.876 168.591 Q240.876 175.681 238.374 179.424 Q235.891 183.148 231.171 183.148 Q226.45 183.148 223.949 179.424 Q221.466 175.681 221.466 168.591 Q221.466 161.482 223.949 157.758 Q226.45 154.015 231.171 154.015 Z\" fill=\"#000000\" fill-rule=\"nonzero\" fill-opacity=\"1\" /><path clip-path=\"url(#clip800)\" d=\"M28.3562 932.04 L28.3562 926.183 L64.0042 926.183 L64.0042 932.04 L28.3562 932.04 M14.479 932.04 L14.479 926.183 L21.895 926.183 L21.895 932.04 L14.479 932.04 Z\" fill=\"#000000\" fill-rule=\"nonzero\" fill-opacity=\"1\" /><path clip-path=\"url(#clip800)\" d=\"M42.4881 884.297 L64.0042 884.297 L64.0042 890.153 L42.679 890.153 Q37.6183 890.153 35.1038 892.127 Q32.5894 894.1 32.5894 898.047 Q32.5894 902.789 35.6131 905.526 Q38.6368 908.264 43.8567 908.264 L64.0042 908.264 L64.0042 914.152 L28.3562 914.152 L28.3562 908.264 L33.8944 908.264 Q30.6797 906.163 29.0883 903.33 Q27.4968 900.466 27.4968 896.742 Q27.4968 890.599 31.3163 887.448 Q35.1038 884.297 42.4881 884.297 Z\" fill=\"#000000\" fill-rule=\"nonzero\" fill-opacity=\"1\" /><path clip-path=\"url(#clip800)\" d=\"M18.2347 866.823 L28.3562 866.823 L28.3562 854.76 L32.9077 854.76 L32.9077 866.823 L52.2594 866.823 Q56.6199 866.823 57.8613 865.645 Q59.1026 864.436 59.1026 860.776 L59.1026 854.76 L64.0042 854.76 L64.0042 860.776 Q64.0042 867.555 61.4897 870.133 Q58.9434 872.711 52.2594 872.711 L32.9077 872.711 L32.9077 877.008 L28.3562 877.008 L28.3562 872.711 L18.2347 872.711 L18.2347 866.823 Z\" fill=\"#000000\" fill-rule=\"nonzero\" fill-opacity=\"1\" /><path clip-path=\"url(#clip800)\" d=\"M44.7161 816.566 L47.5806 816.566 L47.5806 843.493 Q53.6281 843.111 56.8109 839.864 Q59.9619 836.586 59.9619 830.761 Q59.9619 827.387 59.1344 824.236 Q58.3069 821.054 56.6518 817.934 L62.1899 817.934 Q63.5267 821.085 64.227 824.396 Q64.9272 827.706 64.9272 831.111 Q64.9272 839.641 59.9619 844.638 Q54.9967 849.604 46.5303 849.604 Q37.7774 849.604 32.6531 844.893 Q27.4968 840.151 27.4968 832.13 Q27.4968 824.937 32.1438 820.767 Q36.7589 816.566 44.7161 816.566 M42.9973 822.422 Q38.1912 822.486 35.3266 825.128 Q32.4621 827.738 32.4621 832.066 Q32.4621 836.968 35.2312 839.928 Q38.0002 842.856 43.0292 843.302 L42.9973 822.422 Z\" fill=\"#000000\" fill-rule=\"nonzero\" fill-opacity=\"1\" /><path clip-path=\"url(#clip800)\" d=\"M45.7664 783.496 Q39.4007 783.496 35.8996 786.138 Q32.3984 788.748 32.3984 793.49 Q32.3984 798.201 35.8996 800.842 Q39.4007 803.452 45.7664 803.452 Q52.1003 803.452 55.6014 800.842 Q59.1026 798.201 59.1026 793.49 Q59.1026 788.748 55.6014 786.138 Q52.1003 783.496 45.7664 783.496 M59.58 777.639 Q68.683 777.639 73.1071 781.682 Q77.5631 785.724 77.5631 794.063 Q77.5631 797.15 77.0857 799.888 Q76.6401 802.625 75.6852 805.203 L69.9879 805.203 Q71.3884 802.625 72.0568 800.11 Q72.7252 797.596 72.7252 794.986 Q72.7252 789.225 69.7015 786.36 Q66.7096 783.496 60.6303 783.496 L57.7339 783.496 Q60.885 785.31 62.4446 788.143 Q64.0042 790.976 64.0042 794.922 Q64.0042 801.479 59.0071 805.489 Q54.01 809.5 45.7664 809.5 Q37.491 809.5 32.4939 805.489 Q27.4968 801.479 27.4968 794.922 Q27.4968 790.976 29.0564 788.143 Q30.616 785.31 33.7671 783.496 L28.3562 783.496 L28.3562 777.639 L59.58 777.639 Z\" fill=\"#000000\" fill-rule=\"nonzero\" fill-opacity=\"1\" /><path clip-path=\"url(#clip800)\" d=\"M33.8307 744.92 Q33.2578 745.906 33.0032 747.084 Q32.7167 748.23 32.7167 749.63 Q32.7167 754.596 35.9632 757.269 Q39.1779 759.911 45.2253 759.911 L64.0042 759.911 L64.0042 765.799 L28.3562 765.799 L28.3562 759.911 L33.8944 759.911 Q30.6479 758.065 29.0883 755.105 Q27.4968 752.145 27.4968 747.912 Q27.4968 747.307 27.5923 746.575 Q27.656 745.843 27.8151 744.951 L33.8307 744.92 Z\" fill=\"#000000\" fill-rule=\"nonzero\" fill-opacity=\"1\" /><path clip-path=\"url(#clip800)\" d=\"M46.0847 722.576 Q46.0847 729.674 47.7079 732.411 Q49.3312 735.148 53.2461 735.148 Q56.3653 735.148 58.2114 733.111 Q60.0256 731.042 60.0256 727.509 Q60.0256 722.64 56.5881 719.711 Q53.1188 716.751 47.3897 716.751 L46.0847 716.751 L46.0847 722.576 M43.6657 710.895 L64.0042 710.895 L64.0042 716.751 L58.5933 716.751 Q61.8398 718.757 63.3994 721.748 Q64.9272 724.74 64.9272 729.069 Q64.9272 734.544 61.8716 737.79 Q58.7843 741.005 53.6281 741.005 Q47.6125 741.005 44.5569 736.994 Q41.5014 732.952 41.5014 724.963 L41.5014 716.751 L40.9285 716.751 Q36.8862 716.751 34.6901 719.425 Q32.4621 722.067 32.4621 726.873 Q32.4621 729.928 33.1941 732.825 Q33.9262 735.721 35.3903 738.395 L29.9795 738.395 Q28.7381 735.18 28.1334 732.156 Q27.4968 729.133 27.4968 726.268 Q27.4968 718.534 31.5072 714.714 Q35.5176 710.895 43.6657 710.895 Z\" fill=\"#000000\" fill-rule=\"nonzero\" fill-opacity=\"1\" /><path clip-path=\"url(#clip800)\" d=\"M14.479 698.832 L14.479 692.976 L64.0042 692.976 L64.0042 698.832 L14.479 698.832 Z\" fill=\"#000000\" fill-rule=\"nonzero\" fill-opacity=\"1\" /><path clip-path=\"url(#clip800)\" d=\"M44.7161 629.509 L47.5806 629.509 L47.5806 656.436 Q53.6281 656.054 56.8109 652.808 Q59.9619 649.53 59.9619 643.705 Q59.9619 640.331 59.1344 637.18 Q58.3069 633.997 56.6518 630.878 L62.1899 630.878 Q63.5267 634.029 64.227 637.339 Q64.9272 640.649 64.9272 644.055 Q64.9272 652.585 59.9619 657.582 Q54.9967 662.547 46.5303 662.547 Q37.7774 662.547 32.6531 657.837 Q27.4968 653.094 27.4968 645.074 Q27.4968 637.88 32.1438 633.711 Q36.7589 629.509 44.7161 629.509 M42.9973 635.366 Q38.1912 635.43 35.3266 638.071 Q32.4621 640.681 32.4621 645.01 Q32.4621 649.911 35.2312 652.872 Q38.0002 655.8 43.0292 656.245 L42.9973 635.366 Z\" fill=\"#000000\" fill-rule=\"nonzero\" fill-opacity=\"1\" /><path clip-path=\"url(#clip800)\" d=\"M33.8307 599.24 Q33.2578 600.227 33.0032 601.405 Q32.7167 602.551 32.7167 603.951 Q32.7167 608.916 35.9632 611.59 Q39.1779 614.232 45.2253 614.232 L64.0042 614.232 L64.0042 620.12 L28.3562 620.12 L28.3562 614.232 L33.8944 614.232 Q30.6479 612.386 29.0883 609.426 Q27.4968 606.466 27.4968 602.232 Q27.4968 601.628 27.5923 600.896 Q27.656 600.164 27.8151 599.272 L33.8307 599.24 Z\" fill=\"#000000\" fill-rule=\"nonzero\" fill-opacity=\"1\" /><path clip-path=\"url(#clip800)\" d=\"M33.8307 573.587 Q33.2578 574.573 33.0032 575.751 Q32.7167 576.897 32.7167 578.297 Q32.7167 583.263 35.9632 585.936 Q39.1779 588.578 45.2253 588.578 L64.0042 588.578 L64.0042 594.466 L28.3562 594.466 L28.3562 588.578 L33.8944 588.578 Q30.6479 586.732 29.0883 583.772 Q27.4968 580.812 27.4968 576.579 Q27.4968 575.974 27.5923 575.242 Q27.656 574.51 27.8151 573.619 L33.8307 573.587 Z\" fill=\"#000000\" fill-rule=\"nonzero\" fill-opacity=\"1\" /><path clip-path=\"url(#clip800)\" d=\"M44.7161 538.384 L47.5806 538.384 L47.5806 565.311 Q53.6281 564.929 56.8109 561.683 Q59.9619 558.404 59.9619 552.58 Q59.9619 549.206 59.1344 546.055 Q58.3069 542.872 56.6518 539.753 L62.1899 539.753 Q63.5267 542.904 64.227 546.214 Q64.9272 549.524 64.9272 552.93 Q64.9272 561.46 59.9619 566.457 Q54.9967 571.422 46.5303 571.422 Q37.7774 571.422 32.6531 566.712 Q27.4968 561.969 27.4968 553.948 Q27.4968 546.755 32.1438 542.586 Q36.7589 538.384 44.7161 538.384 M42.9973 544.241 Q38.1912 544.304 35.3266 546.946 Q32.4621 549.556 32.4621 553.885 Q32.4621 558.786 35.2312 561.746 Q38.0002 564.675 43.0292 565.12 L42.9973 544.241 Z\" fill=\"#000000\" fill-rule=\"nonzero\" fill-opacity=\"1\" /><polyline clip-path=\"url(#clip802)\" style=\"stroke:#009af9; stroke-linecap:round; stroke-linejoin:round; stroke-width:4; stroke-opacity:1; fill:none\" points=\"335.627,86.1857 340.547,86.1857 345.468,113.887 350.388,113.887 355.309,177.834 360.23,177.834 365.15,231.094 370.071,231.094 374.991,261.721 379.912,261.721 384.832,331.802 389.753,331.802 394.673,353.284 399.594,353.284 404.515,455.763 409.435,455.763 414.356,458.943 419.276,458.943 424.197,486.553 429.117,486.553 434.038,516.147 438.958,516.147 443.879,600.857 448.799,600.857 453.72,596.462 458.641,596.462 463.561,608.984 468.482,608.984 473.402,639.506 478.323,639.506 483.243,685.454 488.164,685.454 493.084,778.485 498.005,778.485 502.925,761.261 507.846,761.261 512.767,771.995 517.687,771.995 522.608,798.075 527.528,798.075 532.449,832.742 537.369,832.742 542.29,876.031 547.21,876.031 552.131,935.761 557.051,935.761 561.972,1000.9 566.893,1000.9 571.813,984.976 576.734,984.976 581.654,1002.56 586.575,1002.56 591.495,1028.76 596.416,1028.76 601.336,1060.5 606.257,1060.5 611.177,1094.13 616.098,1094.13 621.019,1137.71 625.939,1137.71 630.86,1162.03 635.78,1162.03 640.701,1232.19 645.621,1232.19 650.542,1204.23 655.462,1204.23 660.383,1199.81 665.303,1199.81 670.224,1215.35 675.145,1215.35 680.065,1192.42 684.986,1192.42 689.906,1195.91 694.827,1195.91 699.747,1199.81 704.668,1199.81 709.588,1199.81 714.509,1199.81 719.43,1232.19 724.35,1232.19 729.271,1204.23 734.191,1204.23 739.112,1204.23 744.032,1204.23 748.953,1204.23 753.873,1204.23 758.794,1189.26 763.714,1189.26 768.635,1222.72 773.556,1222.72 778.476,1209.33 783.397,1209.33 788.317,1204.23 793.238,1204.23 798.158,1192.42 803.079,1192.42 807.999,1192.42 812.92,1192.42 817.84,1204.23 822.761,1204.23 827.682,1209.33 832.602,1209.33 837.523,1232.19 842.443,1232.19 847.364,1195.91 852.284,1195.91 857.205,1215.35 862.125,1215.35 867.046,1215.35 871.966,1215.35 876.887,1195.91 881.808,1195.91 886.728,1222.72 891.649,1222.72 896.569,1222.72 901.49,1222.72 906.41,1204.23 911.331,1204.23 916.251,1204.23 921.172,1204.23 926.092,1204.23 931.013,1204.23 935.934,1199.81 940.854,1199.81 945.775,1204.23 950.695,1204.23 955.616,1199.81 960.536,1199.81 965.457,1209.33 970.377,1209.33 975.298,1222.72 980.219,1222.72 985.139,1204.23 990.06,1204.23 994.98,1222.72 999.901,1222.72 1004.82,1189.26 1009.74,1189.26 1014.66,1204.23 1019.58,1204.23 1024.5,1199.81 1029.42,1199.81 1034.34,1232.19 1039.27,1232.19 1044.19,1186.38 1049.11,1186.38 1054.03,1204.23 1058.95,1204.23 1063.87,1215.35 1068.79,1215.35 1073.71,1209.33 1078.63,1209.33 1083.55,1232.19 1088.47,1232.19 1093.39,1189.26 1098.31,1189.26 1103.23,1222.72 1108.15,1222.72 1113.07,1215.35 1117.99,1215.35 1122.91,1204.23 1127.83,1204.23 1132.76,1209.33 1137.68,1209.33 1142.6,1222.72 1147.52,1222.72 1152.44,1209.33 1157.36,1209.33 1162.28,1199.81 1167.2,1199.81 1172.12,1192.42 1177.04,1192.42 1181.96,1209.33 1186.88,1209.33 1191.8,1215.35 1196.72,1215.35 1201.64,1195.91 1206.56,1195.91 1211.48,1209.33 1216.4,1209.33 1221.33,1222.72 1226.25,1222.72 1231.17,1209.33 1236.09,1209.33 1241.01,1215.35 1245.93,1215.35 1250.85,1222.72 1255.77,1222.72 1260.69,1199.81 1265.61,1199.81 1270.53,1209.33 1275.45,1209.33 1280.37,1195.91 1285.29,1195.91 1290.21,1204.23 1295.13,1204.23 1300.05,1245.5 1304.97,1245.5 1309.9,1209.33 1314.82,1209.33 1319.74,1209.33 1324.66,1209.33 1329.58,1189.26 1334.5,1189.26 1339.42,1209.33 1344.34,1209.33 1349.26,1215.35 1354.18,1215.35 1359.1,1215.35 1364.02,1215.35 1368.94,1195.91 1373.86,1195.91 1378.78,1209.33 1383.7,1209.33 1388.62,1195.91 1393.54,1195.91 1398.47,1215.35 1403.39,1215.35 1408.31,1186.38 1413.23,1186.38 1418.15,1186.38 1423.07,1186.38 1427.99,1215.35 1432.91,1215.35 1437.83,1204.23 1442.75,1204.23 1447.67,1199.81 1452.59,1199.81 1457.51,1215.35 1462.43,1215.35 1467.35,1268.03 1472.27,1268.03 1477.19,1215.35 1482.11,1215.35 1487.03,1245.5 1491.96,1245.5 1496.88,1215.35 1501.8,1215.35 1506.72,1204.23 1511.64,1204.23 1516.56,1232.19 1521.48,1232.19 1526.4,1199.81 1531.32,1199.81 1536.24,1204.23 1541.16,1204.23 1546.08,1209.33 1551,1209.33 1555.92,1232.19 1560.84,1232.19 1565.76,1195.91 1570.68,1195.91 1575.6,1222.72 1580.53,1222.72 1585.45,1215.35 1590.37,1215.35 1595.29,1245.5 1600.21,1245.5 1605.13,1222.72 1610.05,1222.72 1614.97,1192.42 1619.89,1192.42 1624.81,1195.91 1629.73,1195.91 1634.65,1195.91 1639.57,1195.91 1644.49,1209.33 1649.41,1209.33 1654.33,1209.33 1659.25,1209.33 1664.17,1204.23 1669.1,1204.23 1674.02,1245.5 1678.94,1245.5 1683.86,1204.23 1688.78,1204.23 1693.7,1215.35 1698.62,1215.35 1703.54,1209.33 1708.46,1209.33 1713.38,1199.81 1718.3,1199.81 1723.22,1215.35 1728.14,1215.35 1733.06,1268.03 1737.98,1268.03 1742.9,1245.5 1747.82,1245.5 1752.74,1195.91 1757.66,1195.91 1762.59,1232.19 1767.51,1232.19 1772.43,1215.35 1777.35,1215.35 1782.27,1245.5 1787.19,1245.5 1792.11,1204.23 1797.03,1204.23 1801.95,1186.38 1806.87,1186.38 1811.79,1268.03 1816.71,1268.03 1821.63,1215.35 1826.55,1215.35 1831.47,1209.33 1836.39,1209.33 1841.31,1215.35 1846.23,1215.35 1851.16,1245.5 1856.08,1245.5 1861,1204.23 1865.92,1204.23 1870.84,1384.24 1875.76,1384.24 1880.68,1199.81 1885.6,1199.81 1890.52,1195.91 1895.44,1195.91 1900.36,1204.23 1905.28,1204.23 1910.2,1183.72 1915.12,1183.72 1920.04,1199.81 1924.96,1199.81 1929.88,1215.35 1934.8,1215.35 1939.73,1209.33 1944.65,1209.33 1949.57,1222.72 1954.49,1222.72 1959.41,1209.33 1964.33,1209.33 1969.25,1215.35 1974.17,1215.35 1979.09,1189.26 1984.01,1189.26 1988.93,1192.42 1993.85,1192.42 1998.77,1232.19 2003.69,1232.19 2008.61,1209.33 2013.53,1209.33 2018.45,1232.19 2023.37,1232.19 2028.3,1232.19 2033.22,1232.19 2038.14,1232.19 2043.06,1232.19 2047.98,1195.91 2052.9,1195.91 2057.82,1222.72 2062.74,1222.72 2067.66,1215.35 2072.58,1215.35 2077.5,1268.03 2082.42,1268.03 2087.34,1199.81 2092.26,1199.81 2097.18,1209.33 2102.1,1209.33 2107.02,1209.33 2111.94,1209.33 2116.86,1209.33 2121.79,1209.33 2126.71,1199.81 2131.63,1199.81 2136.55,1384.24 2141.47,1384.24 2146.39,1209.33 2151.31,1209.33 2156.23,1204.23 2161.15,1204.23 2166.07,1204.23 2170.99,1204.23 2175.91,1195.91 2180.83,1195.91 2185.75,1245.5 2190.67,1245.5 2195.59,1215.35 2200.51,1215.35 2205.43,1222.72 2210.36,1222.72 2215.28,1232.19 2220.2,1232.19 2225.12,1195.91 2230.04,1195.91 2234.96,1232.19 2239.88,1232.19 2244.8,1209.33 2249.72,1209.33 2254.64,1222.72 2259.56,1222.72 2264.48,1195.91 2269.4,1195.91 2274.32,1268.03 2279.24,1268.03 2284.16,1186.38 2289.08,1186.38 2294,1384.24 \"/>\n",
       "<polyline clip-path=\"url(#clip802)\" style=\"stroke:#e26f46; stroke-linecap:round; stroke-linejoin:round; stroke-width:4; stroke-opacity:1; fill:none\" points=\"335.627,96.8032 340.547,96.8032 345.468,124.505 350.388,124.505 355.309,188.452 360.23,188.452 365.15,241.711 370.071,241.711 374.991,272.338 379.912,272.338 384.832,342.419 389.753,342.419 394.673,363.902 399.594,363.902 404.515,466.381 409.435,466.381 414.356,469.56 419.276,469.56 424.197,497.17 429.117,497.17 434.038,526.765 438.958,526.765 443.879,611.475 448.799,611.475 453.72,607.079 458.641,607.079 463.561,619.601 468.482,619.601 473.402,650.124 478.323,650.124 483.243,696.072 488.164,696.072 493.084,789.103 498.005,789.103 502.925,771.879 507.846,771.879 512.767,782.613 517.687,782.613 522.608,808.693 527.528,808.693 532.449,843.358 537.369,843.358 542.29,886.652 547.21,886.652 552.131,946.353 557.051,946.353 561.972,1011.35 566.893,1011.35 571.813,995.697 576.734,995.697 581.654,1013.07 586.575,1013.07 591.495,1039.68 596.416,1039.68 601.336,1070.04 606.257,1070.04 611.177,1107.52 616.098,1107.52 621.019,1139.34 625.939,1139.34 630.86,1222.72 635.78,1222.72 640.701,1199.81 645.621,1199.81 650.542,1209.33 655.462,1209.33 660.383,1222.72 665.303,1222.72 670.224,1222.72 675.145,1222.72 680.065,1201.94 684.986,1201.94 689.906,1209.33 694.827,1209.33 699.747,1192.42 704.668,1192.42 709.588,1199.81 714.509,1199.81 719.43,1227.12 724.35,1227.12 729.271,1204.23 734.191,1204.23 739.112,1209.33 744.032,1209.33 748.953,1194.12 753.873,1194.12 758.794,1197.8 763.714,1197.8 768.635,1206.68 773.556,1206.68 778.476,1199.81 783.397,1199.81 788.317,1204.23 793.238,1204.23 798.158,1201.94 803.079,1201.94 807.999,1190.8 812.92,1190.8 817.84,1194.12 822.761,1194.12 827.682,1199.81 832.602,1199.81 837.523,1227.12 842.443,1227.12 847.364,1195.91 852.284,1195.91 857.205,1222.72 862.125,1222.72 867.046,1209.33 871.966,1209.33 876.887,1212.2 881.808,1212.2 886.728,1238.18 891.649,1238.18 896.569,1238.18 901.49,1238.18 906.41,1204.23 911.331,1204.23 916.251,1194.12 921.172,1194.12 926.092,1194.12 931.013,1194.12 935.934,1197.8 940.854,1197.8 945.775,1195.91 950.695,1195.91 955.616,1199.81 960.536,1199.81 965.457,1199.81 970.377,1199.81 975.298,1245.5 980.219,1245.5 985.139,1206.68 990.06,1206.68 994.98,1238.18 999.901,1238.18 1004.82,1197.8 1009.74,1197.8 1014.66,1227.12 1019.58,1227.12 1024.5,1192.42 1029.42,1192.42 1034.34,1212.2 1039.27,1212.2 1044.19,1190.8 1049.11,1190.8 1054.03,1204.23 1058.95,1204.23 1063.87,1197.8 1068.79,1197.8 1073.71,1218.83 1078.63,1218.83 1083.55,1227.12 1088.47,1227.12 1093.39,1195.91 1098.31,1195.91 1103.23,1215.35 1108.15,1215.35 1113.07,1209.33 1117.99,1209.33 1122.91,1194.12 1127.83,1194.12 1132.76,1204.23 1137.68,1204.23 1142.6,1245.5 1147.52,1245.5 1152.44,1192.42 1157.36,1192.42 1162.28,1192.42 1167.2,1192.42 1172.12,1185.02 1177.04,1185.02 1181.96,1218.83 1186.88,1218.83 1191.8,1227.12 1196.72,1227.12 1201.64,1182.47 1206.56,1182.47 1211.48,1204.23 1216.4,1204.23 1221.33,1245.5 1226.25,1245.5 1231.17,1218.83 1236.09,1218.83 1241.01,1199.81 1245.93,1199.81 1250.85,1204.23 1255.77,1204.23 1260.69,1183.72 1265.61,1183.72 1270.53,1201.94 1275.45,1201.94 1280.37,1195.91 1285.29,1195.91 1290.21,1204.23 1295.13,1204.23 1300.05,1238.18 1304.97,1238.18 1309.9,1199.81 1314.82,1199.81 1319.74,1204.23 1324.66,1204.23 1329.58,1195.91 1334.5,1195.91 1339.42,1204.23 1344.34,1204.23 1349.26,1212.2 1354.18,1212.2 1359.1,1222.72 1364.02,1222.72 1368.94,1206.68 1373.86,1206.68 1378.78,1218.83 1383.7,1218.83 1388.62,1194.12 1393.54,1194.12 1398.47,1209.33 1403.39,1209.33 1408.31,1190.8 1413.23,1190.8 1418.15,1190.8 1423.07,1190.8 1427.99,1222.72 1432.91,1222.72 1437.83,1209.33 1442.75,1209.33 1447.67,1190.8 1452.59,1190.8 1457.51,1209.33 1462.43,1209.33 1467.35,1290.07 1472.27,1290.07 1477.19,1197.8 1482.11,1197.8 1487.03,1218.83 1491.96,1218.83 1496.88,1209.33 1501.8,1209.33 1506.72,1195.91 1511.64,1195.91 1516.56,1232.19 1521.48,1232.19 1526.4,1218.83 1531.32,1218.83 1536.24,1195.91 1541.16,1195.91 1546.08,1201.94 1551,1201.94 1555.92,1232.19 1560.84,1232.19 1565.76,1186.38 1570.68,1186.38 1575.6,1215.35 1580.53,1215.35 1585.45,1209.33 1590.37,1209.33 1595.29,1245.5 1600.21,1245.5 1605.13,1215.35 1610.05,1215.35 1614.97,1183.72 1619.89,1183.72 1624.81,1227.12 1629.73,1227.12 1634.65,1212.2 1639.57,1212.2 1644.49,1199.81 1649.41,1199.81 1654.33,1215.35 1659.25,1215.35 1664.17,1232.19 1669.1,1232.19 1674.02,1290.07 1678.94,1290.07 1683.86,1195.91 1688.78,1195.91 1693.7,1222.72 1698.62,1222.72 1703.54,1201.94 1708.46,1201.94 1713.38,1222.72 1718.3,1222.72 1723.22,1227.12 1728.14,1227.12 1733.06,1268.03 1737.98,1268.03 1742.9,1384.24 1747.82,1384.24 1752.74,1212.2 1757.66,1212.2 1762.59,1212.2 1767.51,1212.2 1772.43,1268.03 1777.35,1268.03 1782.27,1238.18 1787.19,1238.18 1792.11,1204.23 1797.03,1204.23 1801.95,1192.42 1806.87,1192.42 1811.79,1268.03 1816.71,1268.03 1821.63,1209.33 1826.55,1209.33 1831.47,1215.35 1836.39,1215.35 1841.31,1227.12 1846.23,1227.12 1851.16,1222.72 1856.08,1222.72 1861,1204.23 1865.92,1204.23 1870.84,1384.24 1875.76,1384.24 1880.68,1190.8 1885.6,1190.8 1890.52,1187.79 1895.44,1187.79 1900.36,1206.68 1905.28,1206.68 1910.2,1173.86 1915.12,1173.86 1920.04,1199.81 1924.96,1199.81 1929.88,1212.2 1934.8,1212.2 1939.73,1201.94 1944.65,1201.94 1949.57,1215.35 1954.49,1215.35 1959.41,1204.23 1964.33,1204.23 1969.25,1187.79 1974.17,1187.79 1979.09,1181.26 1984.01,1181.26 1988.93,1199.81 1993.85,1199.81 1998.77,1254.89 2003.69,1254.89 2008.61,1185.02 2013.53,1185.02 2018.45,1232.19 2023.37,1232.19 2028.3,1232.19 2033.22,1232.19 2038.14,1212.2 2043.06,1212.2 2047.98,1212.2 2052.9,1212.2 2057.82,1197.8 2062.74,1197.8 2067.66,1212.2 2072.58,1212.2 2077.5,1268.03 2082.42,1268.03 2087.34,1190.8 2092.26,1190.8 2097.18,1201.94 2102.1,1201.94 2107.02,1254.89 2111.94,1254.89 2116.86,1254.89 2121.79,1254.89 2126.71,1185.02 2131.63,1185.02 2136.55,1290.07 2141.47,1290.07 2146.39,1218.83 2151.31,1218.83 2156.23,1232.19 2161.15,1232.19 2166.07,1290.07 2170.99,1290.07 2175.91,1194.12 2180.83,1194.12 2185.75,1384.24 2190.67,1384.24 2195.59,1212.2 2200.51,1212.2 2205.43,1218.83 2210.36,1218.83 2215.28,1232.19 2220.2,1232.19 2225.12,1186.38 2230.04,1186.38 2234.96,1212.2 2239.88,1212.2 2244.8,1204.23 2249.72,1204.23 2254.64,1218.83 2259.56,1218.83 2264.48,1195.91 2269.4,1195.91 2274.32,1268.03 2279.24,1268.03 2284.16,1190.8 2289.08,1190.8 2294,1384.24 \"/>\n",
       "<path clip-path=\"url(#clip800)\" d=\"M1829.75 248.629 L2283.56 248.629 L2283.56 93.1086 L1829.75 93.1086  Z\" fill=\"#ffffff\" fill-rule=\"evenodd\" fill-opacity=\"1\"/>\n",
       "<polyline clip-path=\"url(#clip800)\" style=\"stroke:#000000; stroke-linecap:round; stroke-linejoin:round; stroke-width:4; stroke-opacity:1; fill:none\" points=\"1829.75,248.629 2283.56,248.629 2283.56,93.1086 1829.75,93.1086 1829.75,248.629 \"/>\n",
       "<polyline clip-path=\"url(#clip800)\" style=\"stroke:#009af9; stroke-linecap:round; stroke-linejoin:round; stroke-width:4; stroke-opacity:1; fill:none\" points=\"1852.81,144.949 1991.2,144.949 \"/>\n",
       "<path clip-path=\"url(#clip800)\" d=\"M2030.66 146.025 Q2032.16 146.534 2033.57 148.201 Q2035.01 149.868 2036.44 152.784 L2041.19 162.229 L2036.17 162.229 L2031.75 153.363 Q2030.03 149.891 2028.41 148.756 Q2026.82 147.622 2024.04 147.622 L2018.94 147.622 L2018.94 162.229 L2014.27 162.229 L2014.27 127.669 L2024.82 127.669 Q2030.75 127.669 2033.67 130.145 Q2036.58 132.622 2036.58 137.622 Q2036.58 140.886 2035.06 143.039 Q2033.55 145.192 2030.66 146.025 M2018.94 131.511 L2018.94 143.78 L2024.82 143.78 Q2028.2 143.78 2029.92 142.229 Q2031.65 140.655 2031.65 137.622 Q2031.65 134.59 2029.92 133.062 Q2028.2 131.511 2024.82 131.511 L2018.94 131.511 Z\" fill=\"#000000\" fill-rule=\"nonzero\" fill-opacity=\"1\" /><path clip-path=\"url(#clip800)\" d=\"M2067.07 148.201 L2067.07 150.284 L2047.49 150.284 Q2047.76 154.682 2050.13 156.997 Q2052.51 159.289 2056.75 159.289 Q2059.2 159.289 2061.49 158.687 Q2063.81 158.085 2066.07 156.881 L2066.07 160.909 Q2063.78 161.881 2061.38 162.391 Q2058.97 162.9 2056.49 162.9 Q2050.29 162.9 2046.65 159.289 Q2043.04 155.678 2043.04 149.52 Q2043.04 143.155 2046.47 139.428 Q2049.92 135.678 2055.75 135.678 Q2060.98 135.678 2064.01 139.057 Q2067.07 142.414 2067.07 148.201 M2062.81 146.951 Q2062.76 143.456 2060.84 141.372 Q2058.94 139.289 2055.8 139.289 Q2052.23 139.289 2050.08 141.303 Q2047.95 143.317 2047.63 146.974 L2062.81 146.951 Z\" fill=\"#000000\" fill-rule=\"nonzero\" fill-opacity=\"1\" /><path clip-path=\"url(#clip800)\" d=\"M2085.84 149.196 Q2080.68 149.196 2078.69 150.377 Q2076.7 151.557 2076.7 154.405 Q2076.7 156.673 2078.18 158.016 Q2079.69 159.335 2082.25 159.335 Q2085.8 159.335 2087.93 156.835 Q2090.08 154.312 2090.08 150.145 L2090.08 149.196 L2085.84 149.196 M2094.34 147.437 L2094.34 162.229 L2090.08 162.229 L2090.08 158.293 Q2088.62 160.655 2086.44 161.789 Q2084.27 162.9 2081.12 162.9 Q2077.14 162.9 2074.78 160.678 Q2072.44 158.432 2072.44 154.682 Q2072.44 150.307 2075.36 148.085 Q2078.3 145.863 2084.11 145.863 L2090.08 145.863 L2090.08 145.446 Q2090.08 142.507 2088.13 140.909 Q2086.21 139.289 2082.72 139.289 Q2080.5 139.289 2078.39 139.821 Q2076.28 140.354 2074.34 141.419 L2074.34 137.483 Q2076.68 136.581 2078.88 136.141 Q2081.07 135.678 2083.16 135.678 Q2088.78 135.678 2091.56 138.594 Q2094.34 141.511 2094.34 147.437 Z\" fill=\"#000000\" fill-rule=\"nonzero\" fill-opacity=\"1\" /><path clip-path=\"url(#clip800)\" d=\"M2103.11 126.21 L2107.37 126.21 L2107.37 162.229 L2103.11 162.229 L2103.11 126.21 Z\" fill=\"#000000\" fill-rule=\"nonzero\" fill-opacity=\"1\" /><polyline clip-path=\"url(#clip800)\" style=\"stroke:#e26f46; stroke-linecap:round; stroke-linejoin:round; stroke-width:4; stroke-opacity:1; fill:none\" points=\"1852.81,196.789 1991.2,196.789 \"/>\n",
       "<path clip-path=\"url(#clip800)\" d=\"M2014.27 179.509 L2018.94 179.509 L2018.94 214.069 L2014.27 214.069 L2014.27 179.509 Z\" fill=\"#000000\" fill-rule=\"nonzero\" fill-opacity=\"1\" /><path clip-path=\"url(#clip800)\" d=\"M2048.25 193.12 Q2049.85 190.249 2052.07 188.884 Q2054.29 187.518 2057.3 187.518 Q2061.35 187.518 2063.55 190.365 Q2065.75 193.189 2065.75 198.421 L2065.75 214.069 L2061.47 214.069 L2061.47 198.559 Q2061.47 194.833 2060.15 193.027 Q2058.83 191.222 2056.12 191.222 Q2052.81 191.222 2050.89 193.421 Q2048.97 195.62 2048.97 199.416 L2048.97 214.069 L2044.69 214.069 L2044.69 198.559 Q2044.69 194.809 2043.37 193.027 Q2042.05 191.222 2039.29 191.222 Q2036.03 191.222 2034.11 193.444 Q2032.19 195.643 2032.19 199.416 L2032.19 214.069 L2027.9 214.069 L2027.9 188.143 L2032.19 188.143 L2032.19 192.171 Q2033.64 189.786 2035.68 188.652 Q2037.72 187.518 2040.52 187.518 Q2043.34 187.518 2045.31 188.953 Q2047.3 190.388 2048.25 193.12 Z\" fill=\"#000000\" fill-rule=\"nonzero\" fill-opacity=\"1\" /><path clip-path=\"url(#clip800)\" d=\"M2086.03 201.036 Q2080.87 201.036 2078.88 202.217 Q2076.88 203.397 2076.88 206.245 Q2076.88 208.513 2078.37 209.856 Q2079.87 211.175 2082.44 211.175 Q2085.98 211.175 2088.11 208.675 Q2090.26 206.152 2090.26 201.985 L2090.26 201.036 L2086.03 201.036 M2094.52 199.277 L2094.52 214.069 L2090.26 214.069 L2090.26 210.133 Q2088.81 212.495 2086.63 213.629 Q2084.45 214.74 2081.31 214.74 Q2077.32 214.74 2074.96 212.518 Q2072.63 210.272 2072.63 206.522 Q2072.63 202.147 2075.54 199.925 Q2078.48 197.703 2084.29 197.703 L2090.26 197.703 L2090.26 197.286 Q2090.26 194.347 2088.32 192.749 Q2086.4 191.129 2082.9 191.129 Q2080.68 191.129 2078.57 191.661 Q2076.47 192.194 2074.52 193.259 L2074.52 189.323 Q2076.86 188.421 2079.06 187.981 Q2081.26 187.518 2083.34 187.518 Q2088.97 187.518 2091.75 190.434 Q2094.52 193.351 2094.52 199.277 Z\" fill=\"#000000\" fill-rule=\"nonzero\" fill-opacity=\"1\" /><path clip-path=\"url(#clip800)\" d=\"M2120.36 200.805 Q2120.36 196.175 2118.44 193.629 Q2116.54 191.083 2113.09 191.083 Q2109.66 191.083 2107.74 193.629 Q2105.84 196.175 2105.84 200.805 Q2105.84 205.411 2107.74 207.958 Q2109.66 210.504 2113.09 210.504 Q2116.54 210.504 2118.44 207.958 Q2120.36 205.411 2120.36 200.805 M2124.62 210.851 Q2124.62 217.471 2121.68 220.689 Q2118.74 223.93 2112.67 223.93 Q2110.43 223.93 2108.44 223.582 Q2106.44 223.258 2104.57 222.564 L2104.57 218.42 Q2106.44 219.439 2108.27 219.925 Q2110.1 220.411 2112 220.411 Q2116.19 220.411 2118.27 218.212 Q2120.36 216.036 2120.36 211.615 L2120.36 209.508 Q2119.04 211.8 2116.98 212.934 Q2114.92 214.069 2112.05 214.069 Q2107.28 214.069 2104.36 210.434 Q2101.44 206.8 2101.44 200.805 Q2101.44 194.786 2104.36 191.152 Q2107.28 187.518 2112.05 187.518 Q2114.92 187.518 2116.98 188.652 Q2119.04 189.786 2120.36 192.078 L2120.36 188.143 L2124.62 188.143 L2124.62 210.851 Z\" fill=\"#000000\" fill-rule=\"nonzero\" fill-opacity=\"1\" /><path clip-path=\"url(#clip800)\" d=\"M2133.39 188.143 L2137.65 188.143 L2137.65 214.069 L2133.39 214.069 L2133.39 188.143 M2133.39 178.05 L2137.65 178.05 L2137.65 183.444 L2133.39 183.444 L2133.39 178.05 Z\" fill=\"#000000\" fill-rule=\"nonzero\" fill-opacity=\"1\" /><path clip-path=\"url(#clip800)\" d=\"M2168.11 198.421 L2168.11 214.069 L2163.85 214.069 L2163.85 198.559 Q2163.85 194.879 2162.42 193.05 Q2160.98 191.222 2158.11 191.222 Q2154.66 191.222 2152.67 193.421 Q2150.68 195.62 2150.68 199.416 L2150.68 214.069 L2146.4 214.069 L2146.4 188.143 L2150.68 188.143 L2150.68 192.171 Q2152.21 189.833 2154.27 188.675 Q2156.35 187.518 2159.06 187.518 Q2163.53 187.518 2165.82 190.296 Q2168.11 193.05 2168.11 198.421 Z\" fill=\"#000000\" fill-rule=\"nonzero\" fill-opacity=\"1\" /><path clip-path=\"url(#clip800)\" d=\"M2188.39 201.036 Q2183.23 201.036 2181.24 202.217 Q2179.24 203.397 2179.24 206.245 Q2179.24 208.513 2180.73 209.856 Q2182.23 211.175 2184.8 211.175 Q2188.34 211.175 2190.47 208.675 Q2192.62 206.152 2192.62 201.985 L2192.62 201.036 L2188.39 201.036 M2196.88 199.277 L2196.88 214.069 L2192.62 214.069 L2192.62 210.133 Q2191.17 212.495 2188.99 213.629 Q2186.81 214.74 2183.67 214.74 Q2179.68 214.74 2177.32 212.518 Q2174.99 210.272 2174.99 206.522 Q2174.99 202.147 2177.9 199.925 Q2180.84 197.703 2186.65 197.703 L2192.62 197.703 L2192.62 197.286 Q2192.62 194.347 2190.68 192.749 Q2188.76 191.129 2185.26 191.129 Q2183.04 191.129 2180.93 191.661 Q2178.83 192.194 2176.88 193.259 L2176.88 189.323 Q2179.22 188.421 2181.42 187.981 Q2183.62 187.518 2185.7 187.518 Q2191.33 187.518 2194.11 190.434 Q2196.88 193.351 2196.88 199.277 Z\" fill=\"#000000\" fill-rule=\"nonzero\" fill-opacity=\"1\" /><path clip-path=\"url(#clip800)\" d=\"M2205.66 188.143 L2209.92 188.143 L2209.92 214.069 L2205.66 214.069 L2205.66 188.143 M2205.66 178.05 L2209.92 178.05 L2209.92 183.444 L2205.66 183.444 L2205.66 178.05 Z\" fill=\"#000000\" fill-rule=\"nonzero\" fill-opacity=\"1\" /><path clip-path=\"url(#clip800)\" d=\"M2233.85 192.124 Q2233.13 191.708 2232.28 191.522 Q2231.44 191.314 2230.43 191.314 Q2226.81 191.314 2224.87 193.675 Q2222.95 196.013 2222.95 200.411 L2222.95 214.069 L2218.67 214.069 L2218.67 188.143 L2222.95 188.143 L2222.95 192.171 Q2224.29 189.809 2226.44 188.675 Q2228.6 187.518 2231.68 187.518 Q2232.12 187.518 2232.65 187.587 Q2233.18 187.634 2233.83 187.749 L2233.85 192.124 Z\" fill=\"#000000\" fill-rule=\"nonzero\" fill-opacity=\"1\" /><path clip-path=\"url(#clip800)\" d=\"M2249.11 216.476 Q2247.3 221.106 2245.59 222.518 Q2243.87 223.93 2241 223.93 L2237.6 223.93 L2237.6 220.365 L2240.1 220.365 Q2241.86 220.365 2242.83 219.532 Q2243.8 218.698 2244.99 215.596 L2245.75 213.652 L2235.26 188.143 L2239.78 188.143 L2247.88 208.421 L2255.98 188.143 L2260.49 188.143 L2249.11 216.476 Z\" fill=\"#000000\" fill-rule=\"nonzero\" fill-opacity=\"1\" /></svg>\n"
      ],
      "text/html": [
       "<?xml version=\"1.0\" encoding=\"utf-8\"?>\n",
       "<svg xmlns=\"http://www.w3.org/2000/svg\" xmlns:xlink=\"http://www.w3.org/1999/xlink\" width=\"600\" height=\"400\" viewBox=\"0 0 2400 1600\">\n",
       "<defs>\n",
       "  <clipPath id=\"clip850\">\n",
       "    <rect x=\"0\" y=\"0\" width=\"2400\" height=\"1600\"/>\n",
       "  </clipPath>\n",
       "</defs>\n",
       "<path clip-path=\"url(#clip850)\" d=\"M0 1600 L2400 1600 L2400 0 L0 0  Z\" fill=\"#ffffff\" fill-rule=\"evenodd\" fill-opacity=\"1\"/>\n",
       "<defs>\n",
       "  <clipPath id=\"clip851\">\n",
       "    <rect x=\"480\" y=\"0\" width=\"1681\" height=\"1600\"/>\n",
       "  </clipPath>\n",
       "</defs>\n",
       "<path clip-path=\"url(#clip850)\" d=\"M276.876 1423.18 L2352.76 1423.18 L2352.76 47.2441 L276.876 47.2441  Z\" fill=\"#ffffff\" fill-rule=\"evenodd\" fill-opacity=\"1\"/>\n",
       "<defs>\n",
       "  <clipPath id=\"clip852\">\n",
       "    <rect x=\"276\" y=\"47\" width=\"2077\" height=\"1377\"/>\n",
       "  </clipPath>\n",
       "</defs>\n",
       "<polyline clip-path=\"url(#clip852)\" style=\"stroke:#000000; stroke-linecap:round; stroke-linejoin:round; stroke-width:2; stroke-opacity:0.1; fill:none\" points=\"325.786,1423.18 325.786,47.2441 \"/>\n",
       "<polyline clip-path=\"url(#clip852)\" style=\"stroke:#000000; stroke-linecap:round; stroke-linejoin:round; stroke-width:2; stroke-opacity:0.1; fill:none\" points=\"817.84,1423.18 817.84,47.2441 \"/>\n",
       "<polyline clip-path=\"url(#clip852)\" style=\"stroke:#000000; stroke-linecap:round; stroke-linejoin:round; stroke-width:2; stroke-opacity:0.1; fill:none\" points=\"1309.9,1423.18 1309.9,47.2441 \"/>\n",
       "<polyline clip-path=\"url(#clip852)\" style=\"stroke:#000000; stroke-linecap:round; stroke-linejoin:round; stroke-width:2; stroke-opacity:0.1; fill:none\" points=\"1801.95,1423.18 1801.95,47.2441 \"/>\n",
       "<polyline clip-path=\"url(#clip852)\" style=\"stroke:#000000; stroke-linecap:round; stroke-linejoin:round; stroke-width:2; stroke-opacity:0.1; fill:none\" points=\"2294,1423.18 2294,47.2441 \"/>\n",
       "<polyline clip-path=\"url(#clip850)\" style=\"stroke:#000000; stroke-linecap:round; stroke-linejoin:round; stroke-width:4; stroke-opacity:1; fill:none\" points=\"276.876,1423.18 2352.76,1423.18 \"/>\n",
       "<polyline clip-path=\"url(#clip850)\" style=\"stroke:#000000; stroke-linecap:round; stroke-linejoin:round; stroke-width:4; stroke-opacity:1; fill:none\" points=\"325.786,1423.18 325.786,1404.28 \"/>\n",
       "<polyline clip-path=\"url(#clip850)\" style=\"stroke:#000000; stroke-linecap:round; stroke-linejoin:round; stroke-width:4; stroke-opacity:1; fill:none\" points=\"817.84,1423.18 817.84,1404.28 \"/>\n",
       "<polyline clip-path=\"url(#clip850)\" style=\"stroke:#000000; stroke-linecap:round; stroke-linejoin:round; stroke-width:4; stroke-opacity:1; fill:none\" points=\"1309.9,1423.18 1309.9,1404.28 \"/>\n",
       "<polyline clip-path=\"url(#clip850)\" style=\"stroke:#000000; stroke-linecap:round; stroke-linejoin:round; stroke-width:4; stroke-opacity:1; fill:none\" points=\"1801.95,1423.18 1801.95,1404.28 \"/>\n",
       "<polyline clip-path=\"url(#clip850)\" style=\"stroke:#000000; stroke-linecap:round; stroke-linejoin:round; stroke-width:4; stroke-opacity:1; fill:none\" points=\"2294,1423.18 2294,1404.28 \"/>\n",
       "<path clip-path=\"url(#clip850)\" d=\"M325.786 1454.1 Q322.175 1454.1 320.346 1457.66 Q318.54 1461.2 318.54 1468.33 Q318.54 1475.44 320.346 1479.01 Q322.175 1482.55 325.786 1482.55 Q329.42 1482.55 331.226 1479.01 Q333.054 1475.44 333.054 1468.33 Q333.054 1461.2 331.226 1457.66 Q329.42 1454.1 325.786 1454.1 M325.786 1450.39 Q331.596 1450.39 334.651 1455 Q337.73 1459.58 337.73 1468.33 Q337.73 1477.06 334.651 1481.67 Q331.596 1486.25 325.786 1486.25 Q319.976 1486.25 316.897 1481.67 Q313.841 1477.06 313.841 1468.33 Q313.841 1459.58 316.897 1455 Q319.976 1450.39 325.786 1450.39 Z\" fill=\"#000000\" fill-rule=\"nonzero\" fill-opacity=\"1\" /><path clip-path=\"url(#clip850)\" d=\"M777.447 1481.64 L785.086 1481.64 L785.086 1455.28 L776.776 1456.95 L776.776 1452.69 L785.04 1451.02 L789.716 1451.02 L789.716 1481.64 L797.354 1481.64 L797.354 1485.58 L777.447 1485.58 L777.447 1481.64 Z\" fill=\"#000000\" fill-rule=\"nonzero\" fill-opacity=\"1\" /><path clip-path=\"url(#clip850)\" d=\"M816.799 1454.1 Q813.188 1454.1 811.359 1457.66 Q809.553 1461.2 809.553 1468.33 Q809.553 1475.44 811.359 1479.01 Q813.188 1482.55 816.799 1482.55 Q820.433 1482.55 822.239 1479.01 Q824.067 1475.44 824.067 1468.33 Q824.067 1461.2 822.239 1457.66 Q820.433 1454.1 816.799 1454.1 M816.799 1450.39 Q822.609 1450.39 825.664 1455 Q828.743 1459.58 828.743 1468.33 Q828.743 1477.06 825.664 1481.67 Q822.609 1486.25 816.799 1486.25 Q810.989 1486.25 807.91 1481.67 Q804.854 1477.06 804.854 1468.33 Q804.854 1459.58 807.91 1455 Q810.989 1450.39 816.799 1450.39 Z\" fill=\"#000000\" fill-rule=\"nonzero\" fill-opacity=\"1\" /><path clip-path=\"url(#clip850)\" d=\"M846.961 1454.1 Q843.35 1454.1 841.521 1457.66 Q839.715 1461.2 839.715 1468.33 Q839.715 1475.44 841.521 1479.01 Q843.35 1482.55 846.961 1482.55 Q850.595 1482.55 852.4 1479.01 Q854.229 1475.44 854.229 1468.33 Q854.229 1461.2 852.4 1457.66 Q850.595 1454.1 846.961 1454.1 M846.961 1450.39 Q852.771 1450.39 855.826 1455 Q858.905 1459.58 858.905 1468.33 Q858.905 1477.06 855.826 1481.67 Q852.771 1486.25 846.961 1486.25 Q841.151 1486.25 838.072 1481.67 Q835.016 1477.06 835.016 1468.33 Q835.016 1459.58 838.072 1455 Q841.151 1450.39 846.961 1450.39 Z\" fill=\"#000000\" fill-rule=\"nonzero\" fill-opacity=\"1\" /><path clip-path=\"url(#clip850)\" d=\"M1273.59 1481.64 L1289.91 1481.64 L1289.91 1485.58 L1267.96 1485.58 L1267.96 1481.64 Q1270.62 1478.89 1275.21 1474.26 Q1279.81 1469.61 1280.99 1468.27 Q1283.24 1465.74 1284.12 1464.01 Q1285.02 1462.25 1285.02 1460.56 Q1285.02 1457.8 1283.08 1456.07 Q1281.16 1454.33 1278.06 1454.33 Q1275.86 1454.33 1273.4 1455.09 Q1270.97 1455.86 1268.19 1457.41 L1268.19 1452.69 Q1271.02 1451.55 1273.47 1450.97 Q1275.93 1450.39 1277.96 1450.39 Q1283.33 1450.39 1286.53 1453.08 Q1289.72 1455.77 1289.72 1460.26 Q1289.72 1462.39 1288.91 1464.31 Q1288.12 1466.2 1286.02 1468.8 Q1285.44 1469.47 1282.34 1472.69 Q1279.24 1475.88 1273.59 1481.64 Z\" fill=\"#000000\" fill-rule=\"nonzero\" fill-opacity=\"1\" /><path clip-path=\"url(#clip850)\" d=\"M1309.72 1454.1 Q1306.11 1454.1 1304.28 1457.66 Q1302.48 1461.2 1302.48 1468.33 Q1302.48 1475.44 1304.28 1479.01 Q1306.11 1482.55 1309.72 1482.55 Q1313.36 1482.55 1315.16 1479.01 Q1316.99 1475.44 1316.99 1468.33 Q1316.99 1461.2 1315.16 1457.66 Q1313.36 1454.1 1309.72 1454.1 M1309.72 1450.39 Q1315.53 1450.39 1318.59 1455 Q1321.67 1459.58 1321.67 1468.33 Q1321.67 1477.06 1318.59 1481.67 Q1315.53 1486.25 1309.72 1486.25 Q1303.91 1486.25 1300.83 1481.67 Q1297.78 1477.06 1297.78 1468.33 Q1297.78 1459.58 1300.83 1455 Q1303.91 1450.39 1309.72 1450.39 Z\" fill=\"#000000\" fill-rule=\"nonzero\" fill-opacity=\"1\" /><path clip-path=\"url(#clip850)\" d=\"M1339.88 1454.1 Q1336.27 1454.1 1334.44 1457.66 Q1332.64 1461.2 1332.64 1468.33 Q1332.64 1475.44 1334.44 1479.01 Q1336.27 1482.55 1339.88 1482.55 Q1343.52 1482.55 1345.32 1479.01 Q1347.15 1475.44 1347.15 1468.33 Q1347.15 1461.2 1345.32 1457.66 Q1343.52 1454.1 1339.88 1454.1 M1339.88 1450.39 Q1345.69 1450.39 1348.75 1455 Q1351.83 1459.58 1351.83 1468.33 Q1351.83 1477.06 1348.75 1481.67 Q1345.69 1486.25 1339.88 1486.25 Q1334.07 1486.25 1330.99 1481.67 Q1327.94 1477.06 1327.94 1468.33 Q1327.94 1459.58 1330.99 1455 Q1334.07 1450.39 1339.88 1450.39 Z\" fill=\"#000000\" fill-rule=\"nonzero\" fill-opacity=\"1\" /><path clip-path=\"url(#clip850)\" d=\"M1775.71 1466.95 Q1779.07 1467.66 1780.94 1469.93 Q1782.84 1472.2 1782.84 1475.53 Q1782.84 1480.65 1779.32 1483.45 Q1775.8 1486.25 1769.32 1486.25 Q1767.15 1486.25 1764.83 1485.81 Q1762.54 1485.39 1760.09 1484.54 L1760.09 1480.02 Q1762.03 1481.16 1764.35 1481.74 Q1766.66 1482.32 1769.18 1482.32 Q1773.58 1482.32 1775.87 1480.58 Q1778.19 1478.84 1778.19 1475.53 Q1778.19 1472.48 1776.04 1470.77 Q1773.91 1469.03 1770.09 1469.03 L1766.06 1469.03 L1766.06 1465.19 L1770.27 1465.19 Q1773.72 1465.19 1775.55 1463.82 Q1777.38 1462.43 1777.38 1459.84 Q1777.38 1457.18 1775.48 1455.77 Q1773.61 1454.33 1770.09 1454.33 Q1768.17 1454.33 1765.97 1454.75 Q1763.77 1455.16 1761.13 1456.04 L1761.13 1451.88 Q1763.79 1451.14 1766.11 1450.77 Q1768.44 1450.39 1770.5 1450.39 Q1775.83 1450.39 1778.93 1452.83 Q1782.03 1455.23 1782.03 1459.35 Q1782.03 1462.22 1780.39 1464.21 Q1778.74 1466.18 1775.71 1466.95 Z\" fill=\"#000000\" fill-rule=\"nonzero\" fill-opacity=\"1\" /><path clip-path=\"url(#clip850)\" d=\"M1801.71 1454.1 Q1798.1 1454.1 1796.27 1457.66 Q1794.46 1461.2 1794.46 1468.33 Q1794.46 1475.44 1796.27 1479.01 Q1798.1 1482.55 1801.71 1482.55 Q1805.34 1482.55 1807.15 1479.01 Q1808.98 1475.44 1808.98 1468.33 Q1808.98 1461.2 1807.15 1457.66 Q1805.34 1454.1 1801.71 1454.1 M1801.71 1450.39 Q1807.52 1450.39 1810.57 1455 Q1813.65 1459.58 1813.65 1468.33 Q1813.65 1477.06 1810.57 1481.67 Q1807.52 1486.25 1801.71 1486.25 Q1795.9 1486.25 1792.82 1481.67 Q1789.76 1477.06 1789.76 1468.33 Q1789.76 1459.58 1792.82 1455 Q1795.9 1450.39 1801.71 1450.39 Z\" fill=\"#000000\" fill-rule=\"nonzero\" fill-opacity=\"1\" /><path clip-path=\"url(#clip850)\" d=\"M1831.87 1454.1 Q1828.26 1454.1 1826.43 1457.66 Q1824.62 1461.2 1824.62 1468.33 Q1824.62 1475.44 1826.43 1479.01 Q1828.26 1482.55 1831.87 1482.55 Q1835.5 1482.55 1837.31 1479.01 Q1839.14 1475.44 1839.14 1468.33 Q1839.14 1461.2 1837.31 1457.66 Q1835.5 1454.1 1831.87 1454.1 M1831.87 1450.39 Q1837.68 1450.39 1840.73 1455 Q1843.81 1459.58 1843.81 1468.33 Q1843.81 1477.06 1840.73 1481.67 Q1837.68 1486.25 1831.87 1486.25 Q1826.06 1486.25 1822.98 1481.67 Q1819.92 1477.06 1819.92 1468.33 Q1819.92 1459.58 1822.98 1455 Q1826.06 1450.39 1831.87 1450.39 Z\" fill=\"#000000\" fill-rule=\"nonzero\" fill-opacity=\"1\" /><path clip-path=\"url(#clip850)\" d=\"M2267.09 1455.09 L2255.29 1473.54 L2267.09 1473.54 L2267.09 1455.09 M2265.87 1451.02 L2271.75 1451.02 L2271.75 1473.54 L2276.68 1473.54 L2276.68 1477.43 L2271.75 1477.43 L2271.75 1485.58 L2267.09 1485.58 L2267.09 1477.43 L2251.49 1477.43 L2251.49 1472.92 L2265.87 1451.02 Z\" fill=\"#000000\" fill-rule=\"nonzero\" fill-opacity=\"1\" /><path clip-path=\"url(#clip850)\" d=\"M2294.41 1454.1 Q2290.8 1454.1 2288.97 1457.66 Q2287.16 1461.2 2287.16 1468.33 Q2287.16 1475.44 2288.97 1479.01 Q2290.8 1482.55 2294.41 1482.55 Q2298.04 1482.55 2299.85 1479.01 Q2301.68 1475.44 2301.68 1468.33 Q2301.68 1461.2 2299.85 1457.66 Q2298.04 1454.1 2294.41 1454.1 M2294.41 1450.39 Q2300.22 1450.39 2303.28 1455 Q2306.35 1459.58 2306.35 1468.33 Q2306.35 1477.06 2303.28 1481.67 Q2300.22 1486.25 2294.41 1486.25 Q2288.6 1486.25 2285.52 1481.67 Q2282.47 1477.06 2282.47 1468.33 Q2282.47 1459.58 2285.52 1455 Q2288.6 1450.39 2294.41 1450.39 Z\" fill=\"#000000\" fill-rule=\"nonzero\" fill-opacity=\"1\" /><path clip-path=\"url(#clip850)\" d=\"M2324.57 1454.1 Q2320.96 1454.1 2319.13 1457.66 Q2317.33 1461.2 2317.33 1468.33 Q2317.33 1475.44 2319.13 1479.01 Q2320.96 1482.55 2324.57 1482.55 Q2328.21 1482.55 2330.01 1479.01 Q2331.84 1475.44 2331.84 1468.33 Q2331.84 1461.2 2330.01 1457.66 Q2328.21 1454.1 2324.57 1454.1 M2324.57 1450.39 Q2330.38 1450.39 2333.44 1455 Q2336.52 1459.58 2336.52 1468.33 Q2336.52 1477.06 2333.44 1481.67 Q2330.38 1486.25 2324.57 1486.25 Q2318.76 1486.25 2315.68 1481.67 Q2312.63 1477.06 2312.63 1468.33 Q2312.63 1459.58 2315.68 1455 Q2318.76 1450.39 2324.57 1450.39 Z\" fill=\"#000000\" fill-rule=\"nonzero\" fill-opacity=\"1\" /><path clip-path=\"url(#clip850)\" d=\"M1296.83 1520.52 L1305.49 1520.52 L1326.56 1560.28 L1326.56 1520.52 L1332.8 1520.52 L1332.8 1568.04 L1324.14 1568.04 L1303.07 1528.29 L1303.07 1568.04 L1296.83 1568.04 L1296.83 1520.52 Z\" fill=\"#000000\" fill-rule=\"nonzero\" fill-opacity=\"1\" /><polyline clip-path=\"url(#clip852)\" style=\"stroke:#000000; stroke-linecap:round; stroke-linejoin:round; stroke-width:2; stroke-opacity:0.1; fill:none\" points=\"276.876,951.576 2352.76,951.576 \"/>\n",
       "<polyline clip-path=\"url(#clip852)\" style=\"stroke:#000000; stroke-linecap:round; stroke-linejoin:round; stroke-width:2; stroke-opacity:0.1; fill:none\" points=\"276.876,186.286 2352.76,186.286 \"/>\n",
       "<polyline clip-path=\"url(#clip850)\" style=\"stroke:#000000; stroke-linecap:round; stroke-linejoin:round; stroke-width:4; stroke-opacity:1; fill:none\" points=\"276.876,1423.18 276.876,47.2441 \"/>\n",
       "<polyline clip-path=\"url(#clip850)\" style=\"stroke:#000000; stroke-linecap:round; stroke-linejoin:round; stroke-width:4; stroke-opacity:1; fill:none\" points=\"276.876,951.576 295.773,951.576 \"/>\n",
       "<polyline clip-path=\"url(#clip850)\" style=\"stroke:#000000; stroke-linecap:round; stroke-linejoin:round; stroke-width:4; stroke-opacity:1; fill:none\" points=\"276.876,186.286 295.773,186.286 \"/>\n",
       "<path clip-path=\"url(#clip850)\" d=\"M114.931 971.369 L122.57 971.369 L122.57 945.003 L114.26 946.67 L114.26 942.411 L122.524 940.744 L127.2 940.744 L127.2 971.369 L134.839 971.369 L134.839 975.304 L114.931 975.304 L114.931 971.369 Z\" fill=\"#000000\" fill-rule=\"nonzero\" fill-opacity=\"1\" /><path clip-path=\"url(#clip850)\" d=\"M154.283 943.823 Q150.672 943.823 148.843 947.388 Q147.038 950.929 147.038 958.059 Q147.038 965.165 148.843 968.73 Q150.672 972.272 154.283 972.272 Q157.917 972.272 159.723 968.73 Q161.552 965.165 161.552 958.059 Q161.552 950.929 159.723 947.388 Q157.917 943.823 154.283 943.823 M154.283 940.119 Q160.093 940.119 163.149 944.726 Q166.227 949.309 166.227 958.059 Q166.227 966.786 163.149 971.392 Q160.093 975.975 154.283 975.975 Q148.473 975.975 145.394 971.392 Q142.339 966.786 142.339 958.059 Q142.339 949.309 145.394 944.726 Q148.473 940.119 154.283 940.119 Z\" fill=\"#000000\" fill-rule=\"nonzero\" fill-opacity=\"1\" /><path clip-path=\"url(#clip850)\" d=\"M166.227 934.22 L190.339 934.22 L190.339 937.418 L166.227 937.418 L166.227 934.22 Z\" fill=\"#000000\" fill-rule=\"nonzero\" fill-opacity=\"1\" /><path clip-path=\"url(#clip850)\" d=\"M199.197 944.696 L205.404 944.696 L205.404 923.274 L198.652 924.628 L198.652 921.168 L205.366 919.814 L209.166 919.814 L209.166 944.696 L215.372 944.696 L215.372 947.894 L199.197 947.894 L199.197 944.696 Z\" fill=\"#000000\" fill-rule=\"nonzero\" fill-opacity=\"1\" /><path clip-path=\"url(#clip850)\" d=\"M231.171 922.315 Q228.237 922.315 226.751 925.211 Q225.284 928.089 225.284 933.882 Q225.284 939.656 226.751 942.552 Q228.237 945.43 231.171 945.43 Q234.124 945.43 235.591 942.552 Q237.076 939.656 237.076 933.882 Q237.076 928.089 235.591 925.211 Q234.124 922.315 231.171 922.315 M231.171 919.306 Q235.891 919.306 238.374 923.049 Q240.876 926.773 240.876 933.882 Q240.876 940.972 238.374 944.715 Q235.891 948.439 231.171 948.439 Q226.45 948.439 223.949 944.715 Q221.466 940.972 221.466 933.882 Q221.466 926.773 223.949 923.049 Q226.45 919.306 231.171 919.306 Z\" fill=\"#000000\" fill-rule=\"nonzero\" fill-opacity=\"1\" /><path clip-path=\"url(#clip850)\" d=\"M170.17 206.078 L177.809 206.078 L177.809 179.712 L169.499 181.379 L169.499 177.12 L177.762 175.453 L182.438 175.453 L182.438 206.078 L190.077 206.078 L190.077 210.013 L170.17 210.013 L170.17 206.078 Z\" fill=\"#000000\" fill-rule=\"nonzero\" fill-opacity=\"1\" /><path clip-path=\"url(#clip850)\" d=\"M209.522 178.532 Q205.91 178.532 204.082 182.097 Q202.276 185.638 202.276 192.768 Q202.276 199.874 204.082 203.439 Q205.91 206.981 209.522 206.981 Q213.156 206.981 214.961 203.439 Q216.79 199.874 216.79 192.768 Q216.79 185.638 214.961 182.097 Q213.156 178.532 209.522 178.532 M209.522 174.828 Q215.332 174.828 218.387 179.435 Q221.466 184.018 221.466 192.768 Q221.466 201.495 218.387 206.101 Q215.332 210.684 209.522 210.684 Q203.711 210.684 200.633 206.101 Q197.577 201.495 197.577 192.768 Q197.577 184.018 200.633 179.435 Q203.711 174.828 209.522 174.828 Z\" fill=\"#000000\" fill-rule=\"nonzero\" fill-opacity=\"1\" /><path clip-path=\"url(#clip850)\" d=\"M231.171 157.024 Q228.237 157.024 226.751 159.921 Q225.284 162.798 225.284 168.591 Q225.284 174.365 226.751 177.261 Q228.237 180.139 231.171 180.139 Q234.124 180.139 235.591 177.261 Q237.076 174.365 237.076 168.591 Q237.076 162.798 235.591 159.921 Q234.124 157.024 231.171 157.024 M231.171 154.015 Q235.891 154.015 238.374 157.758 Q240.876 161.482 240.876 168.591 Q240.876 175.681 238.374 179.424 Q235.891 183.148 231.171 183.148 Q226.45 183.148 223.949 179.424 Q221.466 175.681 221.466 168.591 Q221.466 161.482 223.949 157.758 Q226.45 154.015 231.171 154.015 Z\" fill=\"#000000\" fill-rule=\"nonzero\" fill-opacity=\"1\" /><path clip-path=\"url(#clip850)\" d=\"M28.3562 932.04 L28.3562 926.183 L64.0042 926.183 L64.0042 932.04 L28.3562 932.04 M14.479 932.04 L14.479 926.183 L21.895 926.183 L21.895 932.04 L14.479 932.04 Z\" fill=\"#000000\" fill-rule=\"nonzero\" fill-opacity=\"1\" /><path clip-path=\"url(#clip850)\" d=\"M42.4881 884.297 L64.0042 884.297 L64.0042 890.153 L42.679 890.153 Q37.6183 890.153 35.1038 892.127 Q32.5894 894.1 32.5894 898.047 Q32.5894 902.789 35.6131 905.526 Q38.6368 908.264 43.8567 908.264 L64.0042 908.264 L64.0042 914.152 L28.3562 914.152 L28.3562 908.264 L33.8944 908.264 Q30.6797 906.163 29.0883 903.33 Q27.4968 900.466 27.4968 896.742 Q27.4968 890.599 31.3163 887.448 Q35.1038 884.297 42.4881 884.297 Z\" fill=\"#000000\" fill-rule=\"nonzero\" fill-opacity=\"1\" /><path clip-path=\"url(#clip850)\" d=\"M18.2347 866.823 L28.3562 866.823 L28.3562 854.76 L32.9077 854.76 L32.9077 866.823 L52.2594 866.823 Q56.6199 866.823 57.8613 865.645 Q59.1026 864.436 59.1026 860.776 L59.1026 854.76 L64.0042 854.76 L64.0042 860.776 Q64.0042 867.555 61.4897 870.133 Q58.9434 872.711 52.2594 872.711 L32.9077 872.711 L32.9077 877.008 L28.3562 877.008 L28.3562 872.711 L18.2347 872.711 L18.2347 866.823 Z\" fill=\"#000000\" fill-rule=\"nonzero\" fill-opacity=\"1\" /><path clip-path=\"url(#clip850)\" d=\"M44.7161 816.566 L47.5806 816.566 L47.5806 843.493 Q53.6281 843.111 56.8109 839.864 Q59.9619 836.586 59.9619 830.761 Q59.9619 827.387 59.1344 824.236 Q58.3069 821.054 56.6518 817.934 L62.1899 817.934 Q63.5267 821.085 64.227 824.396 Q64.9272 827.706 64.9272 831.111 Q64.9272 839.641 59.9619 844.638 Q54.9967 849.604 46.5303 849.604 Q37.7774 849.604 32.6531 844.893 Q27.4968 840.151 27.4968 832.13 Q27.4968 824.937 32.1438 820.767 Q36.7589 816.566 44.7161 816.566 M42.9973 822.422 Q38.1912 822.486 35.3266 825.128 Q32.4621 827.738 32.4621 832.066 Q32.4621 836.968 35.2312 839.928 Q38.0002 842.856 43.0292 843.302 L42.9973 822.422 Z\" fill=\"#000000\" fill-rule=\"nonzero\" fill-opacity=\"1\" /><path clip-path=\"url(#clip850)\" d=\"M45.7664 783.496 Q39.4007 783.496 35.8996 786.138 Q32.3984 788.748 32.3984 793.49 Q32.3984 798.201 35.8996 800.842 Q39.4007 803.452 45.7664 803.452 Q52.1003 803.452 55.6014 800.842 Q59.1026 798.201 59.1026 793.49 Q59.1026 788.748 55.6014 786.138 Q52.1003 783.496 45.7664 783.496 M59.58 777.639 Q68.683 777.639 73.1071 781.682 Q77.5631 785.724 77.5631 794.063 Q77.5631 797.15 77.0857 799.888 Q76.6401 802.625 75.6852 805.203 L69.9879 805.203 Q71.3884 802.625 72.0568 800.11 Q72.7252 797.596 72.7252 794.986 Q72.7252 789.225 69.7015 786.36 Q66.7096 783.496 60.6303 783.496 L57.7339 783.496 Q60.885 785.31 62.4446 788.143 Q64.0042 790.976 64.0042 794.922 Q64.0042 801.479 59.0071 805.489 Q54.01 809.5 45.7664 809.5 Q37.491 809.5 32.4939 805.489 Q27.4968 801.479 27.4968 794.922 Q27.4968 790.976 29.0564 788.143 Q30.616 785.31 33.7671 783.496 L28.3562 783.496 L28.3562 777.639 L59.58 777.639 Z\" fill=\"#000000\" fill-rule=\"nonzero\" fill-opacity=\"1\" /><path clip-path=\"url(#clip850)\" d=\"M33.8307 744.92 Q33.2578 745.906 33.0032 747.084 Q32.7167 748.23 32.7167 749.63 Q32.7167 754.596 35.9632 757.269 Q39.1779 759.911 45.2253 759.911 L64.0042 759.911 L64.0042 765.799 L28.3562 765.799 L28.3562 759.911 L33.8944 759.911 Q30.6479 758.065 29.0883 755.105 Q27.4968 752.145 27.4968 747.912 Q27.4968 747.307 27.5923 746.575 Q27.656 745.843 27.8151 744.951 L33.8307 744.92 Z\" fill=\"#000000\" fill-rule=\"nonzero\" fill-opacity=\"1\" /><path clip-path=\"url(#clip850)\" d=\"M46.0847 722.576 Q46.0847 729.674 47.7079 732.411 Q49.3312 735.148 53.2461 735.148 Q56.3653 735.148 58.2114 733.111 Q60.0256 731.042 60.0256 727.509 Q60.0256 722.64 56.5881 719.711 Q53.1188 716.751 47.3897 716.751 L46.0847 716.751 L46.0847 722.576 M43.6657 710.895 L64.0042 710.895 L64.0042 716.751 L58.5933 716.751 Q61.8398 718.757 63.3994 721.748 Q64.9272 724.74 64.9272 729.069 Q64.9272 734.544 61.8716 737.79 Q58.7843 741.005 53.6281 741.005 Q47.6125 741.005 44.5569 736.994 Q41.5014 732.952 41.5014 724.963 L41.5014 716.751 L40.9285 716.751 Q36.8862 716.751 34.6901 719.425 Q32.4621 722.067 32.4621 726.873 Q32.4621 729.928 33.1941 732.825 Q33.9262 735.721 35.3903 738.395 L29.9795 738.395 Q28.7381 735.18 28.1334 732.156 Q27.4968 729.133 27.4968 726.268 Q27.4968 718.534 31.5072 714.714 Q35.5176 710.895 43.6657 710.895 Z\" fill=\"#000000\" fill-rule=\"nonzero\" fill-opacity=\"1\" /><path clip-path=\"url(#clip850)\" d=\"M14.479 698.832 L14.479 692.976 L64.0042 692.976 L64.0042 698.832 L14.479 698.832 Z\" fill=\"#000000\" fill-rule=\"nonzero\" fill-opacity=\"1\" /><path clip-path=\"url(#clip850)\" d=\"M44.7161 629.509 L47.5806 629.509 L47.5806 656.436 Q53.6281 656.054 56.8109 652.808 Q59.9619 649.53 59.9619 643.705 Q59.9619 640.331 59.1344 637.18 Q58.3069 633.997 56.6518 630.878 L62.1899 630.878 Q63.5267 634.029 64.227 637.339 Q64.9272 640.649 64.9272 644.055 Q64.9272 652.585 59.9619 657.582 Q54.9967 662.547 46.5303 662.547 Q37.7774 662.547 32.6531 657.837 Q27.4968 653.094 27.4968 645.074 Q27.4968 637.88 32.1438 633.711 Q36.7589 629.509 44.7161 629.509 M42.9973 635.366 Q38.1912 635.43 35.3266 638.071 Q32.4621 640.681 32.4621 645.01 Q32.4621 649.911 35.2312 652.872 Q38.0002 655.8 43.0292 656.245 L42.9973 635.366 Z\" fill=\"#000000\" fill-rule=\"nonzero\" fill-opacity=\"1\" /><path clip-path=\"url(#clip850)\" d=\"M33.8307 599.24 Q33.2578 600.227 33.0032 601.405 Q32.7167 602.551 32.7167 603.951 Q32.7167 608.916 35.9632 611.59 Q39.1779 614.232 45.2253 614.232 L64.0042 614.232 L64.0042 620.12 L28.3562 620.12 L28.3562 614.232 L33.8944 614.232 Q30.6479 612.386 29.0883 609.426 Q27.4968 606.466 27.4968 602.232 Q27.4968 601.628 27.5923 600.896 Q27.656 600.164 27.8151 599.272 L33.8307 599.24 Z\" fill=\"#000000\" fill-rule=\"nonzero\" fill-opacity=\"1\" /><path clip-path=\"url(#clip850)\" d=\"M33.8307 573.587 Q33.2578 574.573 33.0032 575.751 Q32.7167 576.897 32.7167 578.297 Q32.7167 583.263 35.9632 585.936 Q39.1779 588.578 45.2253 588.578 L64.0042 588.578 L64.0042 594.466 L28.3562 594.466 L28.3562 588.578 L33.8944 588.578 Q30.6479 586.732 29.0883 583.772 Q27.4968 580.812 27.4968 576.579 Q27.4968 575.974 27.5923 575.242 Q27.656 574.51 27.8151 573.619 L33.8307 573.587 Z\" fill=\"#000000\" fill-rule=\"nonzero\" fill-opacity=\"1\" /><path clip-path=\"url(#clip850)\" d=\"M44.7161 538.384 L47.5806 538.384 L47.5806 565.311 Q53.6281 564.929 56.8109 561.683 Q59.9619 558.404 59.9619 552.58 Q59.9619 549.206 59.1344 546.055 Q58.3069 542.872 56.6518 539.753 L62.1899 539.753 Q63.5267 542.904 64.227 546.214 Q64.9272 549.524 64.9272 552.93 Q64.9272 561.46 59.9619 566.457 Q54.9967 571.422 46.5303 571.422 Q37.7774 571.422 32.6531 566.712 Q27.4968 561.969 27.4968 553.948 Q27.4968 546.755 32.1438 542.586 Q36.7589 538.384 44.7161 538.384 M42.9973 544.241 Q38.1912 544.304 35.3266 546.946 Q32.4621 549.556 32.4621 553.885 Q32.4621 558.786 35.2312 561.746 Q38.0002 564.675 43.0292 565.12 L42.9973 544.241 Z\" fill=\"#000000\" fill-rule=\"nonzero\" fill-opacity=\"1\" /><polyline clip-path=\"url(#clip852)\" style=\"stroke:#009af9; stroke-linecap:round; stroke-linejoin:round; stroke-width:4; stroke-opacity:1; fill:none\" points=\"335.627,86.1857 340.547,86.1857 345.468,113.887 350.388,113.887 355.309,177.834 360.23,177.834 365.15,231.094 370.071,231.094 374.991,261.721 379.912,261.721 384.832,331.802 389.753,331.802 394.673,353.284 399.594,353.284 404.515,455.763 409.435,455.763 414.356,458.943 419.276,458.943 424.197,486.553 429.117,486.553 434.038,516.147 438.958,516.147 443.879,600.857 448.799,600.857 453.72,596.462 458.641,596.462 463.561,608.984 468.482,608.984 473.402,639.506 478.323,639.506 483.243,685.454 488.164,685.454 493.084,778.485 498.005,778.485 502.925,761.261 507.846,761.261 512.767,771.995 517.687,771.995 522.608,798.075 527.528,798.075 532.449,832.742 537.369,832.742 542.29,876.031 547.21,876.031 552.131,935.761 557.051,935.761 561.972,1000.9 566.893,1000.9 571.813,984.976 576.734,984.976 581.654,1002.56 586.575,1002.56 591.495,1028.76 596.416,1028.76 601.336,1060.5 606.257,1060.5 611.177,1094.13 616.098,1094.13 621.019,1137.71 625.939,1137.71 630.86,1162.03 635.78,1162.03 640.701,1232.19 645.621,1232.19 650.542,1204.23 655.462,1204.23 660.383,1199.81 665.303,1199.81 670.224,1215.35 675.145,1215.35 680.065,1192.42 684.986,1192.42 689.906,1195.91 694.827,1195.91 699.747,1199.81 704.668,1199.81 709.588,1199.81 714.509,1199.81 719.43,1232.19 724.35,1232.19 729.271,1204.23 734.191,1204.23 739.112,1204.23 744.032,1204.23 748.953,1204.23 753.873,1204.23 758.794,1189.26 763.714,1189.26 768.635,1222.72 773.556,1222.72 778.476,1209.33 783.397,1209.33 788.317,1204.23 793.238,1204.23 798.158,1192.42 803.079,1192.42 807.999,1192.42 812.92,1192.42 817.84,1204.23 822.761,1204.23 827.682,1209.33 832.602,1209.33 837.523,1232.19 842.443,1232.19 847.364,1195.91 852.284,1195.91 857.205,1215.35 862.125,1215.35 867.046,1215.35 871.966,1215.35 876.887,1195.91 881.808,1195.91 886.728,1222.72 891.649,1222.72 896.569,1222.72 901.49,1222.72 906.41,1204.23 911.331,1204.23 916.251,1204.23 921.172,1204.23 926.092,1204.23 931.013,1204.23 935.934,1199.81 940.854,1199.81 945.775,1204.23 950.695,1204.23 955.616,1199.81 960.536,1199.81 965.457,1209.33 970.377,1209.33 975.298,1222.72 980.219,1222.72 985.139,1204.23 990.06,1204.23 994.98,1222.72 999.901,1222.72 1004.82,1189.26 1009.74,1189.26 1014.66,1204.23 1019.58,1204.23 1024.5,1199.81 1029.42,1199.81 1034.34,1232.19 1039.27,1232.19 1044.19,1186.38 1049.11,1186.38 1054.03,1204.23 1058.95,1204.23 1063.87,1215.35 1068.79,1215.35 1073.71,1209.33 1078.63,1209.33 1083.55,1232.19 1088.47,1232.19 1093.39,1189.26 1098.31,1189.26 1103.23,1222.72 1108.15,1222.72 1113.07,1215.35 1117.99,1215.35 1122.91,1204.23 1127.83,1204.23 1132.76,1209.33 1137.68,1209.33 1142.6,1222.72 1147.52,1222.72 1152.44,1209.33 1157.36,1209.33 1162.28,1199.81 1167.2,1199.81 1172.12,1192.42 1177.04,1192.42 1181.96,1209.33 1186.88,1209.33 1191.8,1215.35 1196.72,1215.35 1201.64,1195.91 1206.56,1195.91 1211.48,1209.33 1216.4,1209.33 1221.33,1222.72 1226.25,1222.72 1231.17,1209.33 1236.09,1209.33 1241.01,1215.35 1245.93,1215.35 1250.85,1222.72 1255.77,1222.72 1260.69,1199.81 1265.61,1199.81 1270.53,1209.33 1275.45,1209.33 1280.37,1195.91 1285.29,1195.91 1290.21,1204.23 1295.13,1204.23 1300.05,1245.5 1304.97,1245.5 1309.9,1209.33 1314.82,1209.33 1319.74,1209.33 1324.66,1209.33 1329.58,1189.26 1334.5,1189.26 1339.42,1209.33 1344.34,1209.33 1349.26,1215.35 1354.18,1215.35 1359.1,1215.35 1364.02,1215.35 1368.94,1195.91 1373.86,1195.91 1378.78,1209.33 1383.7,1209.33 1388.62,1195.91 1393.54,1195.91 1398.47,1215.35 1403.39,1215.35 1408.31,1186.38 1413.23,1186.38 1418.15,1186.38 1423.07,1186.38 1427.99,1215.35 1432.91,1215.35 1437.83,1204.23 1442.75,1204.23 1447.67,1199.81 1452.59,1199.81 1457.51,1215.35 1462.43,1215.35 1467.35,1268.03 1472.27,1268.03 1477.19,1215.35 1482.11,1215.35 1487.03,1245.5 1491.96,1245.5 1496.88,1215.35 1501.8,1215.35 1506.72,1204.23 1511.64,1204.23 1516.56,1232.19 1521.48,1232.19 1526.4,1199.81 1531.32,1199.81 1536.24,1204.23 1541.16,1204.23 1546.08,1209.33 1551,1209.33 1555.92,1232.19 1560.84,1232.19 1565.76,1195.91 1570.68,1195.91 1575.6,1222.72 1580.53,1222.72 1585.45,1215.35 1590.37,1215.35 1595.29,1245.5 1600.21,1245.5 1605.13,1222.72 1610.05,1222.72 1614.97,1192.42 1619.89,1192.42 1624.81,1195.91 1629.73,1195.91 1634.65,1195.91 1639.57,1195.91 1644.49,1209.33 1649.41,1209.33 1654.33,1209.33 1659.25,1209.33 1664.17,1204.23 1669.1,1204.23 1674.02,1245.5 1678.94,1245.5 1683.86,1204.23 1688.78,1204.23 1693.7,1215.35 1698.62,1215.35 1703.54,1209.33 1708.46,1209.33 1713.38,1199.81 1718.3,1199.81 1723.22,1215.35 1728.14,1215.35 1733.06,1268.03 1737.98,1268.03 1742.9,1245.5 1747.82,1245.5 1752.74,1195.91 1757.66,1195.91 1762.59,1232.19 1767.51,1232.19 1772.43,1215.35 1777.35,1215.35 1782.27,1245.5 1787.19,1245.5 1792.11,1204.23 1797.03,1204.23 1801.95,1186.38 1806.87,1186.38 1811.79,1268.03 1816.71,1268.03 1821.63,1215.35 1826.55,1215.35 1831.47,1209.33 1836.39,1209.33 1841.31,1215.35 1846.23,1215.35 1851.16,1245.5 1856.08,1245.5 1861,1204.23 1865.92,1204.23 1870.84,1384.24 1875.76,1384.24 1880.68,1199.81 1885.6,1199.81 1890.52,1195.91 1895.44,1195.91 1900.36,1204.23 1905.28,1204.23 1910.2,1183.72 1915.12,1183.72 1920.04,1199.81 1924.96,1199.81 1929.88,1215.35 1934.8,1215.35 1939.73,1209.33 1944.65,1209.33 1949.57,1222.72 1954.49,1222.72 1959.41,1209.33 1964.33,1209.33 1969.25,1215.35 1974.17,1215.35 1979.09,1189.26 1984.01,1189.26 1988.93,1192.42 1993.85,1192.42 1998.77,1232.19 2003.69,1232.19 2008.61,1209.33 2013.53,1209.33 2018.45,1232.19 2023.37,1232.19 2028.3,1232.19 2033.22,1232.19 2038.14,1232.19 2043.06,1232.19 2047.98,1195.91 2052.9,1195.91 2057.82,1222.72 2062.74,1222.72 2067.66,1215.35 2072.58,1215.35 2077.5,1268.03 2082.42,1268.03 2087.34,1199.81 2092.26,1199.81 2097.18,1209.33 2102.1,1209.33 2107.02,1209.33 2111.94,1209.33 2116.86,1209.33 2121.79,1209.33 2126.71,1199.81 2131.63,1199.81 2136.55,1384.24 2141.47,1384.24 2146.39,1209.33 2151.31,1209.33 2156.23,1204.23 2161.15,1204.23 2166.07,1204.23 2170.99,1204.23 2175.91,1195.91 2180.83,1195.91 2185.75,1245.5 2190.67,1245.5 2195.59,1215.35 2200.51,1215.35 2205.43,1222.72 2210.36,1222.72 2215.28,1232.19 2220.2,1232.19 2225.12,1195.91 2230.04,1195.91 2234.96,1232.19 2239.88,1232.19 2244.8,1209.33 2249.72,1209.33 2254.64,1222.72 2259.56,1222.72 2264.48,1195.91 2269.4,1195.91 2274.32,1268.03 2279.24,1268.03 2284.16,1186.38 2289.08,1186.38 2294,1384.24 \"/>\n",
       "<polyline clip-path=\"url(#clip852)\" style=\"stroke:#e26f46; stroke-linecap:round; stroke-linejoin:round; stroke-width:4; stroke-opacity:1; fill:none\" points=\"335.627,96.8032 340.547,96.8032 345.468,124.505 350.388,124.505 355.309,188.452 360.23,188.452 365.15,241.711 370.071,241.711 374.991,272.338 379.912,272.338 384.832,342.419 389.753,342.419 394.673,363.902 399.594,363.902 404.515,466.381 409.435,466.381 414.356,469.56 419.276,469.56 424.197,497.17 429.117,497.17 434.038,526.765 438.958,526.765 443.879,611.475 448.799,611.475 453.72,607.079 458.641,607.079 463.561,619.601 468.482,619.601 473.402,650.124 478.323,650.124 483.243,696.072 488.164,696.072 493.084,789.103 498.005,789.103 502.925,771.879 507.846,771.879 512.767,782.613 517.687,782.613 522.608,808.693 527.528,808.693 532.449,843.358 537.369,843.358 542.29,886.652 547.21,886.652 552.131,946.353 557.051,946.353 561.972,1011.35 566.893,1011.35 571.813,995.697 576.734,995.697 581.654,1013.07 586.575,1013.07 591.495,1039.68 596.416,1039.68 601.336,1070.04 606.257,1070.04 611.177,1107.52 616.098,1107.52 621.019,1139.34 625.939,1139.34 630.86,1222.72 635.78,1222.72 640.701,1199.81 645.621,1199.81 650.542,1209.33 655.462,1209.33 660.383,1222.72 665.303,1222.72 670.224,1222.72 675.145,1222.72 680.065,1201.94 684.986,1201.94 689.906,1209.33 694.827,1209.33 699.747,1192.42 704.668,1192.42 709.588,1199.81 714.509,1199.81 719.43,1227.12 724.35,1227.12 729.271,1204.23 734.191,1204.23 739.112,1209.33 744.032,1209.33 748.953,1194.12 753.873,1194.12 758.794,1197.8 763.714,1197.8 768.635,1206.68 773.556,1206.68 778.476,1199.81 783.397,1199.81 788.317,1204.23 793.238,1204.23 798.158,1201.94 803.079,1201.94 807.999,1190.8 812.92,1190.8 817.84,1194.12 822.761,1194.12 827.682,1199.81 832.602,1199.81 837.523,1227.12 842.443,1227.12 847.364,1195.91 852.284,1195.91 857.205,1222.72 862.125,1222.72 867.046,1209.33 871.966,1209.33 876.887,1212.2 881.808,1212.2 886.728,1238.18 891.649,1238.18 896.569,1238.18 901.49,1238.18 906.41,1204.23 911.331,1204.23 916.251,1194.12 921.172,1194.12 926.092,1194.12 931.013,1194.12 935.934,1197.8 940.854,1197.8 945.775,1195.91 950.695,1195.91 955.616,1199.81 960.536,1199.81 965.457,1199.81 970.377,1199.81 975.298,1245.5 980.219,1245.5 985.139,1206.68 990.06,1206.68 994.98,1238.18 999.901,1238.18 1004.82,1197.8 1009.74,1197.8 1014.66,1227.12 1019.58,1227.12 1024.5,1192.42 1029.42,1192.42 1034.34,1212.2 1039.27,1212.2 1044.19,1190.8 1049.11,1190.8 1054.03,1204.23 1058.95,1204.23 1063.87,1197.8 1068.79,1197.8 1073.71,1218.83 1078.63,1218.83 1083.55,1227.12 1088.47,1227.12 1093.39,1195.91 1098.31,1195.91 1103.23,1215.35 1108.15,1215.35 1113.07,1209.33 1117.99,1209.33 1122.91,1194.12 1127.83,1194.12 1132.76,1204.23 1137.68,1204.23 1142.6,1245.5 1147.52,1245.5 1152.44,1192.42 1157.36,1192.42 1162.28,1192.42 1167.2,1192.42 1172.12,1185.02 1177.04,1185.02 1181.96,1218.83 1186.88,1218.83 1191.8,1227.12 1196.72,1227.12 1201.64,1182.47 1206.56,1182.47 1211.48,1204.23 1216.4,1204.23 1221.33,1245.5 1226.25,1245.5 1231.17,1218.83 1236.09,1218.83 1241.01,1199.81 1245.93,1199.81 1250.85,1204.23 1255.77,1204.23 1260.69,1183.72 1265.61,1183.72 1270.53,1201.94 1275.45,1201.94 1280.37,1195.91 1285.29,1195.91 1290.21,1204.23 1295.13,1204.23 1300.05,1238.18 1304.97,1238.18 1309.9,1199.81 1314.82,1199.81 1319.74,1204.23 1324.66,1204.23 1329.58,1195.91 1334.5,1195.91 1339.42,1204.23 1344.34,1204.23 1349.26,1212.2 1354.18,1212.2 1359.1,1222.72 1364.02,1222.72 1368.94,1206.68 1373.86,1206.68 1378.78,1218.83 1383.7,1218.83 1388.62,1194.12 1393.54,1194.12 1398.47,1209.33 1403.39,1209.33 1408.31,1190.8 1413.23,1190.8 1418.15,1190.8 1423.07,1190.8 1427.99,1222.72 1432.91,1222.72 1437.83,1209.33 1442.75,1209.33 1447.67,1190.8 1452.59,1190.8 1457.51,1209.33 1462.43,1209.33 1467.35,1290.07 1472.27,1290.07 1477.19,1197.8 1482.11,1197.8 1487.03,1218.83 1491.96,1218.83 1496.88,1209.33 1501.8,1209.33 1506.72,1195.91 1511.64,1195.91 1516.56,1232.19 1521.48,1232.19 1526.4,1218.83 1531.32,1218.83 1536.24,1195.91 1541.16,1195.91 1546.08,1201.94 1551,1201.94 1555.92,1232.19 1560.84,1232.19 1565.76,1186.38 1570.68,1186.38 1575.6,1215.35 1580.53,1215.35 1585.45,1209.33 1590.37,1209.33 1595.29,1245.5 1600.21,1245.5 1605.13,1215.35 1610.05,1215.35 1614.97,1183.72 1619.89,1183.72 1624.81,1227.12 1629.73,1227.12 1634.65,1212.2 1639.57,1212.2 1644.49,1199.81 1649.41,1199.81 1654.33,1215.35 1659.25,1215.35 1664.17,1232.19 1669.1,1232.19 1674.02,1290.07 1678.94,1290.07 1683.86,1195.91 1688.78,1195.91 1693.7,1222.72 1698.62,1222.72 1703.54,1201.94 1708.46,1201.94 1713.38,1222.72 1718.3,1222.72 1723.22,1227.12 1728.14,1227.12 1733.06,1268.03 1737.98,1268.03 1742.9,1384.24 1747.82,1384.24 1752.74,1212.2 1757.66,1212.2 1762.59,1212.2 1767.51,1212.2 1772.43,1268.03 1777.35,1268.03 1782.27,1238.18 1787.19,1238.18 1792.11,1204.23 1797.03,1204.23 1801.95,1192.42 1806.87,1192.42 1811.79,1268.03 1816.71,1268.03 1821.63,1209.33 1826.55,1209.33 1831.47,1215.35 1836.39,1215.35 1841.31,1227.12 1846.23,1227.12 1851.16,1222.72 1856.08,1222.72 1861,1204.23 1865.92,1204.23 1870.84,1384.24 1875.76,1384.24 1880.68,1190.8 1885.6,1190.8 1890.52,1187.79 1895.44,1187.79 1900.36,1206.68 1905.28,1206.68 1910.2,1173.86 1915.12,1173.86 1920.04,1199.81 1924.96,1199.81 1929.88,1212.2 1934.8,1212.2 1939.73,1201.94 1944.65,1201.94 1949.57,1215.35 1954.49,1215.35 1959.41,1204.23 1964.33,1204.23 1969.25,1187.79 1974.17,1187.79 1979.09,1181.26 1984.01,1181.26 1988.93,1199.81 1993.85,1199.81 1998.77,1254.89 2003.69,1254.89 2008.61,1185.02 2013.53,1185.02 2018.45,1232.19 2023.37,1232.19 2028.3,1232.19 2033.22,1232.19 2038.14,1212.2 2043.06,1212.2 2047.98,1212.2 2052.9,1212.2 2057.82,1197.8 2062.74,1197.8 2067.66,1212.2 2072.58,1212.2 2077.5,1268.03 2082.42,1268.03 2087.34,1190.8 2092.26,1190.8 2097.18,1201.94 2102.1,1201.94 2107.02,1254.89 2111.94,1254.89 2116.86,1254.89 2121.79,1254.89 2126.71,1185.02 2131.63,1185.02 2136.55,1290.07 2141.47,1290.07 2146.39,1218.83 2151.31,1218.83 2156.23,1232.19 2161.15,1232.19 2166.07,1290.07 2170.99,1290.07 2175.91,1194.12 2180.83,1194.12 2185.75,1384.24 2190.67,1384.24 2195.59,1212.2 2200.51,1212.2 2205.43,1218.83 2210.36,1218.83 2215.28,1232.19 2220.2,1232.19 2225.12,1186.38 2230.04,1186.38 2234.96,1212.2 2239.88,1212.2 2244.8,1204.23 2249.72,1204.23 2254.64,1218.83 2259.56,1218.83 2264.48,1195.91 2269.4,1195.91 2274.32,1268.03 2279.24,1268.03 2284.16,1190.8 2289.08,1190.8 2294,1384.24 \"/>\n",
       "<path clip-path=\"url(#clip850)\" d=\"M1829.75 248.629 L2283.56 248.629 L2283.56 93.1086 L1829.75 93.1086  Z\" fill=\"#ffffff\" fill-rule=\"evenodd\" fill-opacity=\"1\"/>\n",
       "<polyline clip-path=\"url(#clip850)\" style=\"stroke:#000000; stroke-linecap:round; stroke-linejoin:round; stroke-width:4; stroke-opacity:1; fill:none\" points=\"1829.75,248.629 2283.56,248.629 2283.56,93.1086 1829.75,93.1086 1829.75,248.629 \"/>\n",
       "<polyline clip-path=\"url(#clip850)\" style=\"stroke:#009af9; stroke-linecap:round; stroke-linejoin:round; stroke-width:4; stroke-opacity:1; fill:none\" points=\"1852.81,144.949 1991.2,144.949 \"/>\n",
       "<path clip-path=\"url(#clip850)\" d=\"M2030.66 146.025 Q2032.16 146.534 2033.57 148.201 Q2035.01 149.868 2036.44 152.784 L2041.19 162.229 L2036.17 162.229 L2031.75 153.363 Q2030.03 149.891 2028.41 148.756 Q2026.82 147.622 2024.04 147.622 L2018.94 147.622 L2018.94 162.229 L2014.27 162.229 L2014.27 127.669 L2024.82 127.669 Q2030.75 127.669 2033.67 130.145 Q2036.58 132.622 2036.58 137.622 Q2036.58 140.886 2035.06 143.039 Q2033.55 145.192 2030.66 146.025 M2018.94 131.511 L2018.94 143.78 L2024.82 143.78 Q2028.2 143.78 2029.92 142.229 Q2031.65 140.655 2031.65 137.622 Q2031.65 134.59 2029.92 133.062 Q2028.2 131.511 2024.82 131.511 L2018.94 131.511 Z\" fill=\"#000000\" fill-rule=\"nonzero\" fill-opacity=\"1\" /><path clip-path=\"url(#clip850)\" d=\"M2067.07 148.201 L2067.07 150.284 L2047.49 150.284 Q2047.76 154.682 2050.13 156.997 Q2052.51 159.289 2056.75 159.289 Q2059.2 159.289 2061.49 158.687 Q2063.81 158.085 2066.07 156.881 L2066.07 160.909 Q2063.78 161.881 2061.38 162.391 Q2058.97 162.9 2056.49 162.9 Q2050.29 162.9 2046.65 159.289 Q2043.04 155.678 2043.04 149.52 Q2043.04 143.155 2046.47 139.428 Q2049.92 135.678 2055.75 135.678 Q2060.98 135.678 2064.01 139.057 Q2067.07 142.414 2067.07 148.201 M2062.81 146.951 Q2062.76 143.456 2060.84 141.372 Q2058.94 139.289 2055.8 139.289 Q2052.23 139.289 2050.08 141.303 Q2047.95 143.317 2047.63 146.974 L2062.81 146.951 Z\" fill=\"#000000\" fill-rule=\"nonzero\" fill-opacity=\"1\" /><path clip-path=\"url(#clip850)\" d=\"M2085.84 149.196 Q2080.68 149.196 2078.69 150.377 Q2076.7 151.557 2076.7 154.405 Q2076.7 156.673 2078.18 158.016 Q2079.69 159.335 2082.25 159.335 Q2085.8 159.335 2087.93 156.835 Q2090.08 154.312 2090.08 150.145 L2090.08 149.196 L2085.84 149.196 M2094.34 147.437 L2094.34 162.229 L2090.08 162.229 L2090.08 158.293 Q2088.62 160.655 2086.44 161.789 Q2084.27 162.9 2081.12 162.9 Q2077.14 162.9 2074.78 160.678 Q2072.44 158.432 2072.44 154.682 Q2072.44 150.307 2075.36 148.085 Q2078.3 145.863 2084.11 145.863 L2090.08 145.863 L2090.08 145.446 Q2090.08 142.507 2088.13 140.909 Q2086.21 139.289 2082.72 139.289 Q2080.5 139.289 2078.39 139.821 Q2076.28 140.354 2074.34 141.419 L2074.34 137.483 Q2076.68 136.581 2078.88 136.141 Q2081.07 135.678 2083.16 135.678 Q2088.78 135.678 2091.56 138.594 Q2094.34 141.511 2094.34 147.437 Z\" fill=\"#000000\" fill-rule=\"nonzero\" fill-opacity=\"1\" /><path clip-path=\"url(#clip850)\" d=\"M2103.11 126.21 L2107.37 126.21 L2107.37 162.229 L2103.11 162.229 L2103.11 126.21 Z\" fill=\"#000000\" fill-rule=\"nonzero\" fill-opacity=\"1\" /><polyline clip-path=\"url(#clip850)\" style=\"stroke:#e26f46; stroke-linecap:round; stroke-linejoin:round; stroke-width:4; stroke-opacity:1; fill:none\" points=\"1852.81,196.789 1991.2,196.789 \"/>\n",
       "<path clip-path=\"url(#clip850)\" d=\"M2014.27 179.509 L2018.94 179.509 L2018.94 214.069 L2014.27 214.069 L2014.27 179.509 Z\" fill=\"#000000\" fill-rule=\"nonzero\" fill-opacity=\"1\" /><path clip-path=\"url(#clip850)\" d=\"M2048.25 193.12 Q2049.85 190.249 2052.07 188.884 Q2054.29 187.518 2057.3 187.518 Q2061.35 187.518 2063.55 190.365 Q2065.75 193.189 2065.75 198.421 L2065.75 214.069 L2061.47 214.069 L2061.47 198.559 Q2061.47 194.833 2060.15 193.027 Q2058.83 191.222 2056.12 191.222 Q2052.81 191.222 2050.89 193.421 Q2048.97 195.62 2048.97 199.416 L2048.97 214.069 L2044.69 214.069 L2044.69 198.559 Q2044.69 194.809 2043.37 193.027 Q2042.05 191.222 2039.29 191.222 Q2036.03 191.222 2034.11 193.444 Q2032.19 195.643 2032.19 199.416 L2032.19 214.069 L2027.9 214.069 L2027.9 188.143 L2032.19 188.143 L2032.19 192.171 Q2033.64 189.786 2035.68 188.652 Q2037.72 187.518 2040.52 187.518 Q2043.34 187.518 2045.31 188.953 Q2047.3 190.388 2048.25 193.12 Z\" fill=\"#000000\" fill-rule=\"nonzero\" fill-opacity=\"1\" /><path clip-path=\"url(#clip850)\" d=\"M2086.03 201.036 Q2080.87 201.036 2078.88 202.217 Q2076.88 203.397 2076.88 206.245 Q2076.88 208.513 2078.37 209.856 Q2079.87 211.175 2082.44 211.175 Q2085.98 211.175 2088.11 208.675 Q2090.26 206.152 2090.26 201.985 L2090.26 201.036 L2086.03 201.036 M2094.52 199.277 L2094.52 214.069 L2090.26 214.069 L2090.26 210.133 Q2088.81 212.495 2086.63 213.629 Q2084.45 214.74 2081.31 214.74 Q2077.32 214.74 2074.96 212.518 Q2072.63 210.272 2072.63 206.522 Q2072.63 202.147 2075.54 199.925 Q2078.48 197.703 2084.29 197.703 L2090.26 197.703 L2090.26 197.286 Q2090.26 194.347 2088.32 192.749 Q2086.4 191.129 2082.9 191.129 Q2080.68 191.129 2078.57 191.661 Q2076.47 192.194 2074.52 193.259 L2074.52 189.323 Q2076.86 188.421 2079.06 187.981 Q2081.26 187.518 2083.34 187.518 Q2088.97 187.518 2091.75 190.434 Q2094.52 193.351 2094.52 199.277 Z\" fill=\"#000000\" fill-rule=\"nonzero\" fill-opacity=\"1\" /><path clip-path=\"url(#clip850)\" d=\"M2120.36 200.805 Q2120.36 196.175 2118.44 193.629 Q2116.54 191.083 2113.09 191.083 Q2109.66 191.083 2107.74 193.629 Q2105.84 196.175 2105.84 200.805 Q2105.84 205.411 2107.74 207.958 Q2109.66 210.504 2113.09 210.504 Q2116.54 210.504 2118.44 207.958 Q2120.36 205.411 2120.36 200.805 M2124.62 210.851 Q2124.62 217.471 2121.68 220.689 Q2118.74 223.93 2112.67 223.93 Q2110.43 223.93 2108.44 223.582 Q2106.44 223.258 2104.57 222.564 L2104.57 218.42 Q2106.44 219.439 2108.27 219.925 Q2110.1 220.411 2112 220.411 Q2116.19 220.411 2118.27 218.212 Q2120.36 216.036 2120.36 211.615 L2120.36 209.508 Q2119.04 211.8 2116.98 212.934 Q2114.92 214.069 2112.05 214.069 Q2107.28 214.069 2104.36 210.434 Q2101.44 206.8 2101.44 200.805 Q2101.44 194.786 2104.36 191.152 Q2107.28 187.518 2112.05 187.518 Q2114.92 187.518 2116.98 188.652 Q2119.04 189.786 2120.36 192.078 L2120.36 188.143 L2124.62 188.143 L2124.62 210.851 Z\" fill=\"#000000\" fill-rule=\"nonzero\" fill-opacity=\"1\" /><path clip-path=\"url(#clip850)\" d=\"M2133.39 188.143 L2137.65 188.143 L2137.65 214.069 L2133.39 214.069 L2133.39 188.143 M2133.39 178.05 L2137.65 178.05 L2137.65 183.444 L2133.39 183.444 L2133.39 178.05 Z\" fill=\"#000000\" fill-rule=\"nonzero\" fill-opacity=\"1\" /><path clip-path=\"url(#clip850)\" d=\"M2168.11 198.421 L2168.11 214.069 L2163.85 214.069 L2163.85 198.559 Q2163.85 194.879 2162.42 193.05 Q2160.98 191.222 2158.11 191.222 Q2154.66 191.222 2152.67 193.421 Q2150.68 195.62 2150.68 199.416 L2150.68 214.069 L2146.4 214.069 L2146.4 188.143 L2150.68 188.143 L2150.68 192.171 Q2152.21 189.833 2154.27 188.675 Q2156.35 187.518 2159.06 187.518 Q2163.53 187.518 2165.82 190.296 Q2168.11 193.05 2168.11 198.421 Z\" fill=\"#000000\" fill-rule=\"nonzero\" fill-opacity=\"1\" /><path clip-path=\"url(#clip850)\" d=\"M2188.39 201.036 Q2183.23 201.036 2181.24 202.217 Q2179.24 203.397 2179.24 206.245 Q2179.24 208.513 2180.73 209.856 Q2182.23 211.175 2184.8 211.175 Q2188.34 211.175 2190.47 208.675 Q2192.62 206.152 2192.62 201.985 L2192.62 201.036 L2188.39 201.036 M2196.88 199.277 L2196.88 214.069 L2192.62 214.069 L2192.62 210.133 Q2191.17 212.495 2188.99 213.629 Q2186.81 214.74 2183.67 214.74 Q2179.68 214.74 2177.32 212.518 Q2174.99 210.272 2174.99 206.522 Q2174.99 202.147 2177.9 199.925 Q2180.84 197.703 2186.65 197.703 L2192.62 197.703 L2192.62 197.286 Q2192.62 194.347 2190.68 192.749 Q2188.76 191.129 2185.26 191.129 Q2183.04 191.129 2180.93 191.661 Q2178.83 192.194 2176.88 193.259 L2176.88 189.323 Q2179.22 188.421 2181.42 187.981 Q2183.62 187.518 2185.7 187.518 Q2191.33 187.518 2194.11 190.434 Q2196.88 193.351 2196.88 199.277 Z\" fill=\"#000000\" fill-rule=\"nonzero\" fill-opacity=\"1\" /><path clip-path=\"url(#clip850)\" d=\"M2205.66 188.143 L2209.92 188.143 L2209.92 214.069 L2205.66 214.069 L2205.66 188.143 M2205.66 178.05 L2209.92 178.05 L2209.92 183.444 L2205.66 183.444 L2205.66 178.05 Z\" fill=\"#000000\" fill-rule=\"nonzero\" fill-opacity=\"1\" /><path clip-path=\"url(#clip850)\" d=\"M2233.85 192.124 Q2233.13 191.708 2232.28 191.522 Q2231.44 191.314 2230.43 191.314 Q2226.81 191.314 2224.87 193.675 Q2222.95 196.013 2222.95 200.411 L2222.95 214.069 L2218.67 214.069 L2218.67 188.143 L2222.95 188.143 L2222.95 192.171 Q2224.29 189.809 2226.44 188.675 Q2228.6 187.518 2231.68 187.518 Q2232.12 187.518 2232.65 187.587 Q2233.18 187.634 2233.83 187.749 L2233.85 192.124 Z\" fill=\"#000000\" fill-rule=\"nonzero\" fill-opacity=\"1\" /><path clip-path=\"url(#clip850)\" d=\"M2249.11 216.476 Q2247.3 221.106 2245.59 222.518 Q2243.87 223.93 2241 223.93 L2237.6 223.93 L2237.6 220.365 L2240.1 220.365 Q2241.86 220.365 2242.83 219.532 Q2243.8 218.698 2244.99 215.596 L2245.75 213.652 L2235.26 188.143 L2239.78 188.143 L2247.88 208.421 L2255.98 188.143 L2260.49 188.143 L2249.11 216.476 Z\" fill=\"#000000\" fill-rule=\"nonzero\" fill-opacity=\"1\" /></svg>\n"
      ]
     },
     "execution_count": 83,
     "metadata": {},
     "output_type": "execute_result"
    }
   ],
   "source": [
    "refs = funt(400)\n",
    "plot(2:400,abs.(real.(funt.(collect(2:400)) .- refs)) .+ eps(), xlabel = \"N\", ylabel = \"integral erre\", label = \"Real\", yaxis =:log)\n",
    "plot!(2:400,abs.(imag.(funt.(collect(2:400)) .- refs)) .+ eps(), label = \"Imaginairy\")"
   ]
  },
  {
   "cell_type": "code",
   "execution_count": 84,
   "metadata": {},
   "outputs": [
    {
     "data": {
      "text/plain": [
       "1.7724538509055177 - 6.661338147750939e-16im"
      ]
     },
     "execution_count": 84,
     "metadata": {},
     "output_type": "execute_result"
    }
   ],
   "source": [
    "w = [1]\n",
    "N = 300;\n",
    "m = 0;\n",
    "x = 0\n",
    "t = 1\n",
    "funt = N -> SpecialFunction(w, x, t, m, N)\n",
    "SpecialFunction(w, x, t, m, N)"
   ]
  },
  {
   "cell_type": "code",
   "execution_count": 85,
   "metadata": {},
   "outputs": [
    {
     "data": {
      "image/png": "[encoded data removed]",
      "image/svg+xml": [
       "<?xml version=\"1.0\" encoding=\"utf-8\"?>\n",
       "<svg xmlns=\"http://www.w3.org/2000/svg\" xmlns:xlink=\"http://www.w3.org/1999/xlink\" width=\"600\" height=\"400\" viewBox=\"0 0 2400 1600\">\n",
       "<defs>\n",
       "  <clipPath id=\"clip890\">\n",
       "    <rect x=\"0\" y=\"0\" width=\"2400\" height=\"1600\"/>\n",
       "  </clipPath>\n",
       "</defs>\n",
       "<path clip-path=\"url(#clip890)\" d=\"M0 1600 L2400 1600 L2400 0 L0 0  Z\" fill=\"#ffffff\" fill-rule=\"evenodd\" fill-opacity=\"1\"/>\n",
       "<defs>\n",
       "  <clipPath id=\"clip891\">\n",
       "    <rect x=\"480\" y=\"0\" width=\"1681\" height=\"1600\"/>\n",
       "  </clipPath>\n",
       "</defs>\n",
       "<path clip-path=\"url(#clip890)\" d=\"M276.876 1423.18 L2352.76 1423.18 L2352.76 47.2441 L276.876 47.2441  Z\" fill=\"#ffffff\" fill-rule=\"evenodd\" fill-opacity=\"1\"/>\n",
       "<defs>\n",
       "  <clipPath id=\"clip892\">\n",
       "    <rect x=\"276\" y=\"47\" width=\"2077\" height=\"1377\"/>\n",
       "  </clipPath>\n",
       "</defs>\n",
       "<polyline clip-path=\"url(#clip892)\" style=\"stroke:#000000; stroke-linecap:round; stroke-linejoin:round; stroke-width:2; stroke-opacity:0.1; fill:none\" points=\"325.786,1423.18 325.786,47.2441 \"/>\n",
       "<polyline clip-path=\"url(#clip892)\" style=\"stroke:#000000; stroke-linecap:round; stroke-linejoin:round; stroke-width:2; stroke-opacity:0.1; fill:none\" points=\"817.84,1423.18 817.84,47.2441 \"/>\n",
       "<polyline clip-path=\"url(#clip892)\" style=\"stroke:#000000; stroke-linecap:round; stroke-linejoin:round; stroke-width:2; stroke-opacity:0.1; fill:none\" points=\"1309.9,1423.18 1309.9,47.2441 \"/>\n",
       "<polyline clip-path=\"url(#clip892)\" style=\"stroke:#000000; stroke-linecap:round; stroke-linejoin:round; stroke-width:2; stroke-opacity:0.1; fill:none\" points=\"1801.95,1423.18 1801.95,47.2441 \"/>\n",
       "<polyline clip-path=\"url(#clip892)\" style=\"stroke:#000000; stroke-linecap:round; stroke-linejoin:round; stroke-width:2; stroke-opacity:0.1; fill:none\" points=\"2294,1423.18 2294,47.2441 \"/>\n",
       "<polyline clip-path=\"url(#clip890)\" style=\"stroke:#000000; stroke-linecap:round; stroke-linejoin:round; stroke-width:4; stroke-opacity:1; fill:none\" points=\"276.876,1423.18 2352.76,1423.18 \"/>\n",
       "<polyline clip-path=\"url(#clip890)\" style=\"stroke:#000000; stroke-linecap:round; stroke-linejoin:round; stroke-width:4; stroke-opacity:1; fill:none\" points=\"325.786,1423.18 325.786,1404.28 \"/>\n",
       "<polyline clip-path=\"url(#clip890)\" style=\"stroke:#000000; stroke-linecap:round; stroke-linejoin:round; stroke-width:4; stroke-opacity:1; fill:none\" points=\"817.84,1423.18 817.84,1404.28 \"/>\n",
       "<polyline clip-path=\"url(#clip890)\" style=\"stroke:#000000; stroke-linecap:round; stroke-linejoin:round; stroke-width:4; stroke-opacity:1; fill:none\" points=\"1309.9,1423.18 1309.9,1404.28 \"/>\n",
       "<polyline clip-path=\"url(#clip890)\" style=\"stroke:#000000; stroke-linecap:round; stroke-linejoin:round; stroke-width:4; stroke-opacity:1; fill:none\" points=\"1801.95,1423.18 1801.95,1404.28 \"/>\n",
       "<polyline clip-path=\"url(#clip890)\" style=\"stroke:#000000; stroke-linecap:round; stroke-linejoin:round; stroke-width:4; stroke-opacity:1; fill:none\" points=\"2294,1423.18 2294,1404.28 \"/>\n",
       "<path clip-path=\"url(#clip890)\" d=\"M325.786 1454.1 Q322.175 1454.1 320.346 1457.66 Q318.54 1461.2 318.54 1468.33 Q318.54 1475.44 320.346 1479.01 Q322.175 1482.55 325.786 1482.55 Q329.42 1482.55 331.226 1479.01 Q333.054 1475.44 333.054 1468.33 Q333.054 1461.2 331.226 1457.66 Q329.42 1454.1 325.786 1454.1 M325.786 1450.39 Q331.596 1450.39 334.651 1455 Q337.73 1459.58 337.73 1468.33 Q337.73 1477.06 334.651 1481.67 Q331.596 1486.25 325.786 1486.25 Q319.976 1486.25 316.897 1481.67 Q313.841 1477.06 313.841 1468.33 Q313.841 1459.58 316.897 1455 Q319.976 1450.39 325.786 1450.39 Z\" fill=\"#000000\" fill-rule=\"nonzero\" fill-opacity=\"1\" /><path clip-path=\"url(#clip890)\" d=\"M777.447 1481.64 L785.086 1481.64 L785.086 1455.28 L776.776 1456.95 L776.776 1452.69 L785.04 1451.02 L789.716 1451.02 L789.716 1481.64 L797.354 1481.64 L797.354 1485.58 L777.447 1485.58 L777.447 1481.64 Z\" fill=\"#000000\" fill-rule=\"nonzero\" fill-opacity=\"1\" /><path clip-path=\"url(#clip890)\" d=\"M816.799 1454.1 Q813.188 1454.1 811.359 1457.66 Q809.553 1461.2 809.553 1468.33 Q809.553 1475.44 811.359 1479.01 Q813.188 1482.55 816.799 1482.55 Q820.433 1482.55 822.239 1479.01 Q824.067 1475.44 824.067 1468.33 Q824.067 1461.2 822.239 1457.66 Q820.433 1454.1 816.799 1454.1 M816.799 1450.39 Q822.609 1450.39 825.664 1455 Q828.743 1459.58 828.743 1468.33 Q828.743 1477.06 825.664 1481.67 Q822.609 1486.25 816.799 1486.25 Q810.989 1486.25 807.91 1481.67 Q804.854 1477.06 804.854 1468.33 Q804.854 1459.58 807.91 1455 Q810.989 1450.39 816.799 1450.39 Z\" fill=\"#000000\" fill-rule=\"nonzero\" fill-opacity=\"1\" /><path clip-path=\"url(#clip890)\" d=\"M846.961 1454.1 Q843.35 1454.1 841.521 1457.66 Q839.715 1461.2 839.715 1468.33 Q839.715 1475.44 841.521 1479.01 Q843.35 1482.55 846.961 1482.55 Q850.595 1482.55 852.4 1479.01 Q854.229 1475.44 854.229 1468.33 Q854.229 1461.2 852.4 1457.66 Q850.595 1454.1 846.961 1454.1 M846.961 1450.39 Q852.771 1450.39 855.826 1455 Q858.905 1459.58 858.905 1468.33 Q858.905 1477.06 855.826 1481.67 Q852.771 1486.25 846.961 1486.25 Q841.151 1486.25 838.072 1481.67 Q835.016 1477.06 835.016 1468.33 Q835.016 1459.58 838.072 1455 Q841.151 1450.39 846.961 1450.39 Z\" fill=\"#000000\" fill-rule=\"nonzero\" fill-opacity=\"1\" /><path clip-path=\"url(#clip890)\" d=\"M1273.59 1481.64 L1289.91 1481.64 L1289.91 1485.58 L1267.96 1485.58 L1267.96 1481.64 Q1270.62 1478.89 1275.21 1474.26 Q1279.81 1469.61 1280.99 1468.27 Q1283.24 1465.74 1284.12 1464.01 Q1285.02 1462.25 1285.02 1460.56 Q1285.02 1457.8 1283.08 1456.07 Q1281.16 1454.33 1278.06 1454.33 Q1275.86 1454.33 1273.4 1455.09 Q1270.97 1455.86 1268.19 1457.41 L1268.19 1452.69 Q1271.02 1451.55 1273.47 1450.97 Q1275.93 1450.39 1277.96 1450.39 Q1283.33 1450.39 1286.53 1453.08 Q1289.72 1455.77 1289.72 1460.26 Q1289.72 1462.39 1288.91 1464.31 Q1288.12 1466.2 1286.02 1468.8 Q1285.44 1469.47 1282.34 1472.69 Q1279.24 1475.88 1273.59 1481.64 Z\" fill=\"#000000\" fill-rule=\"nonzero\" fill-opacity=\"1\" /><path clip-path=\"url(#clip890)\" d=\"M1309.72 1454.1 Q1306.11 1454.1 1304.28 1457.66 Q1302.48 1461.2 1302.48 1468.33 Q1302.48 1475.44 1304.28 1479.01 Q1306.11 1482.55 1309.72 1482.55 Q1313.36 1482.55 1315.16 1479.01 Q1316.99 1475.44 1316.99 1468.33 Q1316.99 1461.2 1315.16 1457.66 Q1313.36 1454.1 1309.72 1454.1 M1309.72 1450.39 Q1315.53 1450.39 1318.59 1455 Q1321.67 1459.58 1321.67 1468.33 Q1321.67 1477.06 1318.59 1481.67 Q1315.53 1486.25 1309.72 1486.25 Q1303.91 1486.25 1300.83 1481.67 Q1297.78 1477.06 1297.78 1468.33 Q1297.78 1459.58 1300.83 1455 Q1303.91 1450.39 1309.72 1450.39 Z\" fill=\"#000000\" fill-rule=\"nonzero\" fill-opacity=\"1\" /><path clip-path=\"url(#clip890)\" d=\"M1339.88 1454.1 Q1336.27 1454.1 1334.44 1457.66 Q1332.64 1461.2 1332.64 1468.33 Q1332.64 1475.44 1334.44 1479.01 Q1336.27 1482.55 1339.88 1482.55 Q1343.52 1482.55 1345.32 1479.01 Q1347.15 1475.44 1347.15 1468.33 Q1347.15 1461.2 1345.32 1457.66 Q1343.52 1454.1 1339.88 1454.1 M1339.88 1450.39 Q1345.69 1450.39 1348.75 1455 Q1351.83 1459.58 1351.83 1468.33 Q1351.83 1477.06 1348.75 1481.67 Q1345.69 1486.25 1339.88 1486.25 Q1334.07 1486.25 1330.99 1481.67 Q1327.94 1477.06 1327.94 1468.33 Q1327.94 1459.58 1330.99 1455 Q1334.07 1450.39 1339.88 1450.39 Z\" fill=\"#000000\" fill-rule=\"nonzero\" fill-opacity=\"1\" /><path clip-path=\"url(#clip890)\" d=\"M1775.71 1466.95 Q1779.07 1467.66 1780.94 1469.93 Q1782.84 1472.2 1782.84 1475.53 Q1782.84 1480.65 1779.32 1483.45 Q1775.8 1486.25 1769.32 1486.25 Q1767.15 1486.25 1764.83 1485.81 Q1762.54 1485.39 1760.09 1484.54 L1760.09 1480.02 Q1762.03 1481.16 1764.35 1481.74 Q1766.66 1482.32 1769.18 1482.32 Q1773.58 1482.32 1775.87 1480.58 Q1778.19 1478.84 1778.19 1475.53 Q1778.19 1472.48 1776.04 1470.77 Q1773.91 1469.03 1770.09 1469.03 L1766.06 1469.03 L1766.06 1465.19 L1770.27 1465.19 Q1773.72 1465.19 1775.55 1463.82 Q1777.38 1462.43 1777.38 1459.84 Q1777.38 1457.18 1775.48 1455.77 Q1773.61 1454.33 1770.09 1454.33 Q1768.17 1454.33 1765.97 1454.75 Q1763.77 1455.16 1761.13 1456.04 L1761.13 1451.88 Q1763.79 1451.14 1766.11 1450.77 Q1768.44 1450.39 1770.5 1450.39 Q1775.83 1450.39 1778.93 1452.83 Q1782.03 1455.23 1782.03 1459.35 Q1782.03 1462.22 1780.39 1464.21 Q1778.74 1466.18 1775.71 1466.95 Z\" fill=\"#000000\" fill-rule=\"nonzero\" fill-opacity=\"1\" /><path clip-path=\"url(#clip890)\" d=\"M1801.71 1454.1 Q1798.1 1454.1 1796.27 1457.66 Q1794.46 1461.2 1794.46 1468.33 Q1794.46 1475.44 1796.27 1479.01 Q1798.1 1482.55 1801.71 1482.55 Q1805.34 1482.55 1807.15 1479.01 Q1808.98 1475.44 1808.98 1468.33 Q1808.98 1461.2 1807.15 1457.66 Q1805.34 1454.1 1801.71 1454.1 M1801.71 1450.39 Q1807.52 1450.39 1810.57 1455 Q1813.65 1459.58 1813.65 1468.33 Q1813.65 1477.06 1810.57 1481.67 Q1807.52 1486.25 1801.71 1486.25 Q1795.9 1486.25 1792.82 1481.67 Q1789.76 1477.06 1789.76 1468.33 Q1789.76 1459.58 1792.82 1455 Q1795.9 1450.39 1801.71 1450.39 Z\" fill=\"#000000\" fill-rule=\"nonzero\" fill-opacity=\"1\" /><path clip-path=\"url(#clip890)\" d=\"M1831.87 1454.1 Q1828.26 1454.1 1826.43 1457.66 Q1824.62 1461.2 1824.62 1468.33 Q1824.62 1475.44 1826.43 1479.01 Q1828.26 1482.55 1831.87 1482.55 Q1835.5 1482.55 1837.31 1479.01 Q1839.14 1475.44 1839.14 1468.33 Q1839.14 1461.2 1837.31 1457.66 Q1835.5 1454.1 1831.87 1454.1 M1831.87 1450.39 Q1837.68 1450.39 1840.73 1455 Q1843.81 1459.58 1843.81 1468.33 Q1843.81 1477.06 1840.73 1481.67 Q1837.68 1486.25 1831.87 1486.25 Q1826.06 1486.25 1822.98 1481.67 Q1819.92 1477.06 1819.92 1468.33 Q1819.92 1459.58 1822.98 1455 Q1826.06 1450.39 1831.87 1450.39 Z\" fill=\"#000000\" fill-rule=\"nonzero\" fill-opacity=\"1\" /><path clip-path=\"url(#clip890)\" d=\"M2267.09 1455.09 L2255.29 1473.54 L2267.09 1473.54 L2267.09 1455.09 M2265.87 1451.02 L2271.75 1451.02 L2271.75 1473.54 L2276.68 1473.54 L2276.68 1477.43 L2271.75 1477.43 L2271.75 1485.58 L2267.09 1485.58 L2267.09 1477.43 L2251.49 1477.43 L2251.49 1472.92 L2265.87 1451.02 Z\" fill=\"#000000\" fill-rule=\"nonzero\" fill-opacity=\"1\" /><path clip-path=\"url(#clip890)\" d=\"M2294.41 1454.1 Q2290.8 1454.1 2288.97 1457.66 Q2287.16 1461.2 2287.16 1468.33 Q2287.16 1475.44 2288.97 1479.01 Q2290.8 1482.55 2294.41 1482.55 Q2298.04 1482.55 2299.85 1479.01 Q2301.68 1475.44 2301.68 1468.33 Q2301.68 1461.2 2299.85 1457.66 Q2298.04 1454.1 2294.41 1454.1 M2294.41 1450.39 Q2300.22 1450.39 2303.28 1455 Q2306.35 1459.58 2306.35 1468.33 Q2306.35 1477.06 2303.28 1481.67 Q2300.22 1486.25 2294.41 1486.25 Q2288.6 1486.25 2285.52 1481.67 Q2282.47 1477.06 2282.47 1468.33 Q2282.47 1459.58 2285.52 1455 Q2288.6 1450.39 2294.41 1450.39 Z\" fill=\"#000000\" fill-rule=\"nonzero\" fill-opacity=\"1\" /><path clip-path=\"url(#clip890)\" d=\"M2324.57 1454.1 Q2320.96 1454.1 2319.13 1457.66 Q2317.33 1461.2 2317.33 1468.33 Q2317.33 1475.44 2319.13 1479.01 Q2320.96 1482.55 2324.57 1482.55 Q2328.21 1482.55 2330.01 1479.01 Q2331.84 1475.44 2331.84 1468.33 Q2331.84 1461.2 2330.01 1457.66 Q2328.21 1454.1 2324.57 1454.1 M2324.57 1450.39 Q2330.38 1450.39 2333.44 1455 Q2336.52 1459.58 2336.52 1468.33 Q2336.52 1477.06 2333.44 1481.67 Q2330.38 1486.25 2324.57 1486.25 Q2318.76 1486.25 2315.68 1481.67 Q2312.63 1477.06 2312.63 1468.33 Q2312.63 1459.58 2315.68 1455 Q2318.76 1450.39 2324.57 1450.39 Z\" fill=\"#000000\" fill-rule=\"nonzero\" fill-opacity=\"1\" /><path clip-path=\"url(#clip890)\" d=\"M1296.83 1520.52 L1305.49 1520.52 L1326.56 1560.28 L1326.56 1520.52 L1332.8 1520.52 L1332.8 1568.04 L1324.14 1568.04 L1303.07 1528.29 L1303.07 1568.04 L1296.83 1568.04 L1296.83 1520.52 Z\" fill=\"#000000\" fill-rule=\"nonzero\" fill-opacity=\"1\" /><polyline clip-path=\"url(#clip892)\" style=\"stroke:#000000; stroke-linecap:round; stroke-linejoin:round; stroke-width:2; stroke-opacity:0.1; fill:none\" points=\"276.876,930.31 2352.76,930.31 \"/>\n",
       "<polyline clip-path=\"url(#clip892)\" style=\"stroke:#000000; stroke-linecap:round; stroke-linejoin:round; stroke-width:2; stroke-opacity:0.1; fill:none\" points=\"276.876,127.403 2352.76,127.403 \"/>\n",
       "<polyline clip-path=\"url(#clip890)\" style=\"stroke:#000000; stroke-linecap:round; stroke-linejoin:round; stroke-width:4; stroke-opacity:1; fill:none\" points=\"276.876,1423.18 276.876,47.2441 \"/>\n",
       "<polyline clip-path=\"url(#clip890)\" style=\"stroke:#000000; stroke-linecap:round; stroke-linejoin:round; stroke-width:4; stroke-opacity:1; fill:none\" points=\"276.876,930.31 295.773,930.31 \"/>\n",
       "<polyline clip-path=\"url(#clip890)\" style=\"stroke:#000000; stroke-linecap:round; stroke-linejoin:round; stroke-width:4; stroke-opacity:1; fill:none\" points=\"276.876,127.403 295.773,127.403 \"/>\n",
       "<path clip-path=\"url(#clip890)\" d=\"M114.931 950.102 L122.57 950.102 L122.57 923.737 L114.26 925.403 L114.26 921.144 L122.524 919.477 L127.2 919.477 L127.2 950.102 L134.839 950.102 L134.839 954.037 L114.931 954.037 L114.931 950.102 Z\" fill=\"#000000\" fill-rule=\"nonzero\" fill-opacity=\"1\" /><path clip-path=\"url(#clip890)\" d=\"M154.283 922.556 Q150.672 922.556 148.843 926.121 Q147.038 929.663 147.038 936.792 Q147.038 943.899 148.843 947.463 Q150.672 951.005 154.283 951.005 Q157.917 951.005 159.723 947.463 Q161.552 943.899 161.552 936.792 Q161.552 929.663 159.723 926.121 Q157.917 922.556 154.283 922.556 M154.283 918.852 Q160.093 918.852 163.149 923.459 Q166.227 928.042 166.227 936.792 Q166.227 945.519 163.149 950.125 Q160.093 954.709 154.283 954.709 Q148.473 954.709 145.394 950.125 Q142.339 945.519 142.339 936.792 Q142.339 928.042 145.394 923.459 Q148.473 918.852 154.283 918.852 Z\" fill=\"#000000\" fill-rule=\"nonzero\" fill-opacity=\"1\" /><path clip-path=\"url(#clip890)\" d=\"M166.227 912.954 L190.339 912.954 L190.339 916.151 L166.227 916.151 L166.227 912.954 Z\" fill=\"#000000\" fill-rule=\"nonzero\" fill-opacity=\"1\" /><path clip-path=\"url(#clip890)\" d=\"M199.197 923.43 L205.404 923.43 L205.404 902.008 L198.652 903.362 L198.652 899.901 L205.366 898.547 L209.166 898.547 L209.166 923.43 L215.372 923.43 L215.372 926.627 L199.197 926.627 L199.197 923.43 Z\" fill=\"#000000\" fill-rule=\"nonzero\" fill-opacity=\"1\" /><path clip-path=\"url(#clip890)\" d=\"M231.171 901.048 Q228.237 901.048 226.751 903.945 Q225.284 906.822 225.284 912.615 Q225.284 918.389 226.751 921.286 Q228.237 924.163 231.171 924.163 Q234.124 924.163 235.591 921.286 Q237.076 918.389 237.076 912.615 Q237.076 906.822 235.591 903.945 Q234.124 901.048 231.171 901.048 M231.171 898.039 Q235.891 898.039 238.374 901.782 Q240.876 905.506 240.876 912.615 Q240.876 919.706 238.374 923.449 Q235.891 927.172 231.171 927.172 Q226.45 927.172 223.949 923.449 Q221.466 919.706 221.466 912.615 Q221.466 905.506 223.949 901.782 Q226.45 898.039 231.171 898.039 Z\" fill=\"#000000\" fill-rule=\"nonzero\" fill-opacity=\"1\" /><path clip-path=\"url(#clip890)\" d=\"M170.17 147.195 L177.809 147.195 L177.809 120.829 L169.499 122.496 L169.499 118.237 L177.762 116.57 L182.438 116.57 L182.438 147.195 L190.077 147.195 L190.077 151.13 L170.17 151.13 L170.17 147.195 Z\" fill=\"#000000\" fill-rule=\"nonzero\" fill-opacity=\"1\" /><path clip-path=\"url(#clip890)\" d=\"M209.522 119.649 Q205.91 119.649 204.082 123.214 Q202.276 126.755 202.276 133.885 Q202.276 140.991 204.082 144.556 Q205.91 148.098 209.522 148.098 Q213.156 148.098 214.961 144.556 Q216.79 140.991 216.79 133.885 Q216.79 126.755 214.961 123.214 Q213.156 119.649 209.522 119.649 M209.522 115.945 Q215.332 115.945 218.387 120.552 Q221.466 125.135 221.466 133.885 Q221.466 142.612 218.387 147.218 Q215.332 151.801 209.522 151.801 Q203.711 151.801 200.633 147.218 Q197.577 142.612 197.577 133.885 Q197.577 125.135 200.633 120.552 Q203.711 115.945 209.522 115.945 Z\" fill=\"#000000\" fill-rule=\"nonzero\" fill-opacity=\"1\" /><path clip-path=\"url(#clip890)\" d=\"M231.171 98.1412 Q228.237 98.1412 226.751 101.038 Q225.284 103.915 225.284 109.708 Q225.284 115.482 226.751 118.378 Q228.237 121.256 231.171 121.256 Q234.124 121.256 235.591 118.378 Q237.076 115.482 237.076 109.708 Q237.076 103.915 235.591 101.038 Q234.124 98.1412 231.171 98.1412 M231.171 95.1319 Q235.891 95.1319 238.374 98.8747 Q240.876 102.599 240.876 109.708 Q240.876 116.798 238.374 120.541 Q235.891 124.265 231.171 124.265 Q226.45 124.265 223.949 120.541 Q221.466 116.798 221.466 109.708 Q221.466 102.599 223.949 98.8747 Q226.45 95.1319 231.171 95.1319 Z\" fill=\"#000000\" fill-rule=\"nonzero\" fill-opacity=\"1\" /><path clip-path=\"url(#clip890)\" d=\"M28.3562 932.04 L28.3562 926.183 L64.0042 926.183 L64.0042 932.04 L28.3562 932.04 M14.479 932.04 L14.479 926.183 L21.895 926.183 L21.895 932.04 L14.479 932.04 Z\" fill=\"#000000\" fill-rule=\"nonzero\" fill-opacity=\"1\" /><path clip-path=\"url(#clip890)\" d=\"M42.4881 884.297 L64.0042 884.297 L64.0042 890.153 L42.679 890.153 Q37.6183 890.153 35.1038 892.127 Q32.5894 894.1 32.5894 898.047 Q32.5894 902.789 35.6131 905.526 Q38.6368 908.264 43.8567 908.264 L64.0042 908.264 L64.0042 914.152 L28.3562 914.152 L28.3562 908.264 L33.8944 908.264 Q30.6797 906.163 29.0883 903.33 Q27.4968 900.466 27.4968 896.742 Q27.4968 890.599 31.3163 887.448 Q35.1038 884.297 42.4881 884.297 Z\" fill=\"#000000\" fill-rule=\"nonzero\" fill-opacity=\"1\" /><path clip-path=\"url(#clip890)\" d=\"M18.2347 866.823 L28.3562 866.823 L28.3562 854.76 L32.9077 854.76 L32.9077 866.823 L52.2594 866.823 Q56.6199 866.823 57.8613 865.645 Q59.1026 864.436 59.1026 860.776 L59.1026 854.76 L64.0042 854.76 L64.0042 860.776 Q64.0042 867.555 61.4897 870.133 Q58.9434 872.711 52.2594 872.711 L32.9077 872.711 L32.9077 877.008 L28.3562 877.008 L28.3562 872.711 L18.2347 872.711 L18.2347 866.823 Z\" fill=\"#000000\" fill-rule=\"nonzero\" fill-opacity=\"1\" /><path clip-path=\"url(#clip890)\" d=\"M44.7161 816.566 L47.5806 816.566 L47.5806 843.493 Q53.6281 843.111 56.8109 839.864 Q59.9619 836.586 59.9619 830.761 Q59.9619 827.387 59.1344 824.236 Q58.3069 821.054 56.6518 817.934 L62.1899 817.934 Q63.5267 821.085 64.227 824.396 Q64.9272 827.706 64.9272 831.111 Q64.9272 839.641 59.9619 844.638 Q54.9967 849.604 46.5303 849.604 Q37.7774 849.604 32.6531 844.893 Q27.4968 840.151 27.4968 832.13 Q27.4968 824.937 32.1438 820.767 Q36.7589 816.566 44.7161 816.566 M42.9973 822.422 Q38.1912 822.486 35.3266 825.128 Q32.4621 827.738 32.4621 832.066 Q32.4621 836.968 35.2312 839.928 Q38.0002 842.856 43.0292 843.302 L42.9973 822.422 Z\" fill=\"#000000\" fill-rule=\"nonzero\" fill-opacity=\"1\" /><path clip-path=\"url(#clip890)\" d=\"M45.7664 783.496 Q39.4007 783.496 35.8996 786.138 Q32.3984 788.748 32.3984 793.49 Q32.3984 798.201 35.8996 800.842 Q39.4007 803.452 45.7664 803.452 Q52.1003 803.452 55.6014 800.842 Q59.1026 798.201 59.1026 793.49 Q59.1026 788.748 55.6014 786.138 Q52.1003 783.496 45.7664 783.496 M59.58 777.639 Q68.683 777.639 73.1071 781.682 Q77.5631 785.724 77.5631 794.063 Q77.5631 797.15 77.0857 799.888 Q76.6401 802.625 75.6852 805.203 L69.9879 805.203 Q71.3884 802.625 72.0568 800.11 Q72.7252 797.596 72.7252 794.986 Q72.7252 789.225 69.7015 786.36 Q66.7096 783.496 60.6303 783.496 L57.7339 783.496 Q60.885 785.31 62.4446 788.143 Q64.0042 790.976 64.0042 794.922 Q64.0042 801.479 59.0071 805.489 Q54.01 809.5 45.7664 809.5 Q37.491 809.5 32.4939 805.489 Q27.4968 801.479 27.4968 794.922 Q27.4968 790.976 29.0564 788.143 Q30.616 785.31 33.7671 783.496 L28.3562 783.496 L28.3562 777.639 L59.58 777.639 Z\" fill=\"#000000\" fill-rule=\"nonzero\" fill-opacity=\"1\" /><path clip-path=\"url(#clip890)\" d=\"M33.8307 744.92 Q33.2578 745.906 33.0032 747.084 Q32.7167 748.23 32.7167 749.63 Q32.7167 754.596 35.9632 757.269 Q39.1779 759.911 45.2253 759.911 L64.0042 759.911 L64.0042 765.799 L28.3562 765.799 L28.3562 759.911 L33.8944 759.911 Q30.6479 758.065 29.0883 755.105 Q27.4968 752.145 27.4968 747.912 Q27.4968 747.307 27.5923 746.575 Q27.656 745.843 27.8151 744.951 L33.8307 744.92 Z\" fill=\"#000000\" fill-rule=\"nonzero\" fill-opacity=\"1\" /><path clip-path=\"url(#clip890)\" d=\"M46.0847 722.576 Q46.0847 729.674 47.7079 732.411 Q49.3312 735.148 53.2461 735.148 Q56.3653 735.148 58.2114 733.111 Q60.0256 731.042 60.0256 727.509 Q60.0256 722.64 56.5881 719.711 Q53.1188 716.751 47.3897 716.751 L46.0847 716.751 L46.0847 722.576 M43.6657 710.895 L64.0042 710.895 L64.0042 716.751 L58.5933 716.751 Q61.8398 718.757 63.3994 721.748 Q64.9272 724.74 64.9272 729.069 Q64.9272 734.544 61.8716 737.79 Q58.7843 741.005 53.6281 741.005 Q47.6125 741.005 44.5569 736.994 Q41.5014 732.952 41.5014 724.963 L41.5014 716.751 L40.9285 716.751 Q36.8862 716.751 34.6901 719.425 Q32.4621 722.067 32.4621 726.873 Q32.4621 729.928 33.1941 732.825 Q33.9262 735.721 35.3903 738.395 L29.9795 738.395 Q28.7381 735.18 28.1334 732.156 Q27.4968 729.133 27.4968 726.268 Q27.4968 718.534 31.5072 714.714 Q35.5176 710.895 43.6657 710.895 Z\" fill=\"#000000\" fill-rule=\"nonzero\" fill-opacity=\"1\" /><path clip-path=\"url(#clip890)\" d=\"M14.479 698.832 L14.479 692.976 L64.0042 692.976 L64.0042 698.832 L14.479 698.832 Z\" fill=\"#000000\" fill-rule=\"nonzero\" fill-opacity=\"1\" /><path clip-path=\"url(#clip890)\" d=\"M44.7161 629.509 L47.5806 629.509 L47.5806 656.436 Q53.6281 656.054 56.8109 652.808 Q59.9619 649.53 59.9619 643.705 Q59.9619 640.331 59.1344 637.18 Q58.3069 633.997 56.6518 630.878 L62.1899 630.878 Q63.5267 634.029 64.227 637.339 Q64.9272 640.649 64.9272 644.055 Q64.9272 652.585 59.9619 657.582 Q54.9967 662.547 46.5303 662.547 Q37.7774 662.547 32.6531 657.837 Q27.4968 653.094 27.4968 645.074 Q27.4968 637.88 32.1438 633.711 Q36.7589 629.509 44.7161 629.509 M42.9973 635.366 Q38.1912 635.43 35.3266 638.071 Q32.4621 640.681 32.4621 645.01 Q32.4621 649.911 35.2312 652.872 Q38.0002 655.8 43.0292 656.245 L42.9973 635.366 Z\" fill=\"#000000\" fill-rule=\"nonzero\" fill-opacity=\"1\" /><path clip-path=\"url(#clip890)\" d=\"M33.8307 599.24 Q33.2578 600.227 33.0032 601.405 Q32.7167 602.551 32.7167 603.951 Q32.7167 608.916 35.9632 611.59 Q39.1779 614.232 45.2253 614.232 L64.0042 614.232 L64.0042 620.12 L28.3562 620.12 L28.3562 614.232 L33.8944 614.232 Q30.6479 612.386 29.0883 609.426 Q27.4968 606.466 27.4968 602.232 Q27.4968 601.628 27.5923 600.896 Q27.656 600.164 27.8151 599.272 L33.8307 599.24 Z\" fill=\"#000000\" fill-rule=\"nonzero\" fill-opacity=\"1\" /><path clip-path=\"url(#clip890)\" d=\"M33.8307 573.587 Q33.2578 574.573 33.0032 575.751 Q32.7167 576.897 32.7167 578.297 Q32.7167 583.263 35.9632 585.936 Q39.1779 588.578 45.2253 588.578 L64.0042 588.578 L64.0042 594.466 L28.3562 594.466 L28.3562 588.578 L33.8944 588.578 Q30.6479 586.732 29.0883 583.772 Q27.4968 580.812 27.4968 576.579 Q27.4968 575.974 27.5923 575.242 Q27.656 574.51 27.8151 573.619 L33.8307 573.587 Z\" fill=\"#000000\" fill-rule=\"nonzero\" fill-opacity=\"1\" /><path clip-path=\"url(#clip890)\" d=\"M44.7161 538.384 L47.5806 538.384 L47.5806 565.311 Q53.6281 564.929 56.8109 561.683 Q59.9619 558.404 59.9619 552.58 Q59.9619 549.206 59.1344 546.055 Q58.3069 542.872 56.6518 539.753 L62.1899 539.753 Q63.5267 542.904 64.227 546.214 Q64.9272 549.524 64.9272 552.93 Q64.9272 561.46 59.9619 566.457 Q54.9967 571.422 46.5303 571.422 Q37.7774 571.422 32.6531 566.712 Q27.4968 561.969 27.4968 553.948 Q27.4968 546.755 32.1438 542.586 Q36.7589 538.384 44.7161 538.384 M42.9973 544.241 Q38.1912 544.304 35.3266 546.946 Q32.4621 549.556 32.4621 553.885 Q32.4621 558.786 35.2312 561.746 Q38.0002 564.675 43.0292 565.12 L42.9973 544.241 Z\" fill=\"#000000\" fill-rule=\"nonzero\" fill-opacity=\"1\" /><polyline clip-path=\"url(#clip892)\" style=\"stroke:#009af9; stroke-linecap:round; stroke-linejoin:round; stroke-width:4; stroke-opacity:1; fill:none\" points=\"335.627,86.1857 340.547,86.1857 345.468,163.152 350.388,163.152 355.309,171.31 360.23,171.31 365.15,172.698 370.071,172.698 374.991,289.395 379.912,289.395 384.832,232.911 389.753,232.911 394.673,290.241 399.594,290.241 404.515,314.593 409.435,314.593 414.356,462.402 419.276,462.402 424.197,371.34 429.117,371.34 434.038,437.547 438.958,437.547 443.879,430.24 448.799,430.24 453.72,492.337 458.641,492.337 463.561,521.704 468.482,521.704 473.402,701.753 478.323,701.753 483.243,542.678 488.164,542.678 493.084,560.649 498.005,560.649 502.925,608.876 507.846,608.876 512.767,644.897 517.687,644.897 522.608,629.748 527.528,629.748 532.449,654.561 537.369,654.561 542.29,738.298 547.21,738.298 552.131,708.068 557.051,708.068 561.972,718.447 566.893,718.447 571.813,766.867 576.734,766.867 581.654,793.263 586.575,793.263 591.495,788.675 596.416,788.675 601.336,826.342 606.257,826.342 611.177,882.27 616.098,882.27 621.019,861.903 625.939,861.903 630.86,895.152 635.78,895.152 640.701,967.068 645.621,967.068 650.542,936.459 655.462,936.459 660.383,969.733 665.303,969.733 670.224,1037.91 675.145,1037.91 680.065,1011.92 684.986,1011.92 689.906,1049.71 694.827,1049.71 699.747,1100.08 704.668,1100.08 709.588,1088.98 714.509,1088.98 719.43,1137.04 724.35,1137.04 729.271,1163.52 734.191,1163.52 739.112,1168.74 744.032,1168.74 748.953,1238.15 753.873,1238.15 758.794,1233.69 763.714,1233.69 768.635,1258.33 773.556,1258.33 778.476,1345.93 783.397,1345.93 788.317,1297.59 793.238,1297.59 798.158,1384.24 803.079,1384.24 807.999,1384.24 812.92,1384.24 817.84,1335.9 822.761,1335.9 827.682,1384.24 832.602,1384.24 837.523,1335.9 842.443,1335.9 847.364,1384.24 852.284,1384.24 857.205,1345.93 862.125,1345.93 867.046,1345.93 871.966,1345.93 876.887,1360.07 881.808,1360.07 886.728,1384.24 891.649,1384.24 896.569,1360.07 901.49,1360.07 906.41,1345.93 911.331,1345.93 916.251,1384.24 921.172,1384.24 926.092,1345.93 931.013,1345.93 935.934,1384.24 940.854,1384.24 945.775,1384.24 950.695,1384.24 955.616,1345.93 960.536,1345.93 965.457,1321.76 970.377,1321.76 975.298,1345.93 980.219,1345.93 985.139,1345.93 990.06,1345.93 994.98,1335.9 999.901,1335.9 1004.82,1328.12 1009.74,1328.12 1014.66,1345.93 1019.58,1345.93 1024.5,1345.93 1029.42,1345.93 1034.34,1384.24 1039.27,1384.24 1044.19,1345.93 1049.11,1345.93 1054.03,1345.93 1058.95,1345.93 1063.87,1335.9 1068.79,1335.9 1073.71,1345.93 1078.63,1345.93 1083.55,1345.93 1088.47,1345.93 1093.39,1384.24 1098.31,1384.24 1103.23,1316.38 1108.15,1316.38 1113.07,1360.07 1117.99,1360.07 1122.91,1384.24 1127.83,1384.24 1132.76,1335.9 1137.68,1335.9 1142.6,1328.12 1147.52,1328.12 1152.44,1384.24 1157.36,1384.24 1162.28,1345.93 1167.2,1345.93 1172.12,1335.9 1177.04,1335.9 1181.96,1384.24 1186.88,1384.24 1191.8,1335.9 1196.72,1335.9 1201.64,1335.9 1206.56,1335.9 1211.48,1335.9 1216.4,1335.9 1221.33,1321.76 1226.25,1321.76 1231.17,1384.24 1236.09,1384.24 1241.01,1328.12 1245.93,1328.12 1250.85,1345.93 1255.77,1345.93 1260.69,1384.24 1265.61,1384.24 1270.53,1360.07 1275.45,1360.07 1280.37,1328.12 1285.29,1328.12 1290.21,1335.9 1295.13,1335.9 1300.05,1345.93 1304.97,1345.93 1309.9,1345.93 1314.82,1345.93 1319.74,1345.93 1324.66,1345.93 1329.58,1360.07 1334.5,1360.07 1339.42,1384.24 1344.34,1384.24 1349.26,1328.12 1354.18,1328.12 1359.1,1345.93 1364.02,1345.93 1368.94,1345.93 1373.86,1345.93 1378.78,1384.24 1383.7,1384.24 1388.62,1345.93 1393.54,1345.93 1398.47,1316.38 1403.39,1316.38 1408.31,1345.93 1413.23,1345.93 1418.15,1335.9 1423.07,1335.9 1427.99,1345.93 1432.91,1345.93 1437.83,1328.12 1442.75,1328.12 1447.67,1345.93 1452.59,1345.93 1457.51,1328.12 1462.43,1328.12 1467.35,1384.24 1472.27,1384.24 1477.19,1316.38 1482.11,1316.38 1487.03,1384.24 1491.96,1384.24 1496.88,1335.9 1501.8,1335.9 1506.72,1345.93 1511.64,1345.93 1516.56,1384.24 1521.48,1384.24 1526.4,1345.93 1531.32,1345.93 1536.24,1384.24 1541.16,1384.24 1546.08,1384.24 1551,1384.24 1555.92,1321.76 1560.84,1321.76 1565.76,1335.9 1570.68,1335.9 1575.6,1384.24 1580.53,1384.24 1585.45,1345.93 1590.37,1345.93 1595.29,1345.93 1600.21,1345.93 1605.13,1345.93 1610.05,1345.93 1614.97,1345.93 1619.89,1345.93 1624.81,1335.9 1629.73,1335.9 1634.65,1345.93 1639.57,1345.93 1644.49,1345.93 1649.41,1345.93 1654.33,1345.93 1659.25,1345.93 1664.17,1345.93 1669.1,1345.93 1674.02,1384.24 1678.94,1384.24 1683.86,1328.12 1688.78,1328.12 1693.7,1345.93 1698.62,1345.93 1703.54,1345.93 1708.46,1345.93 1713.38,1345.93 1718.3,1345.93 1723.22,1321.76 1728.14,1321.76 1733.06,1384.24 1737.98,1384.24 1742.9,1335.9 1747.82,1335.9 1752.74,1345.93 1757.66,1345.93 1762.59,1345.93 1767.51,1345.93 1772.43,1345.93 1777.35,1345.93 1782.27,1321.76 1787.19,1321.76 1792.11,1384.24 1797.03,1384.24 1801.95,1316.38 1806.87,1316.38 1811.79,1328.12 1816.71,1328.12 1821.63,1345.93 1826.55,1345.93 1831.47,1335.9 1836.39,1335.9 1841.31,1345.93 1846.23,1345.93 1851.16,1360.07 1856.08,1360.07 1861,1335.9 1865.92,1335.9 1870.84,1345.93 1875.76,1345.93 1880.68,1316.38 1885.6,1316.38 1890.52,1316.38 1895.44,1316.38 1900.36,1345.93 1905.28,1345.93 1910.2,1335.9 1915.12,1335.9 1920.04,1345.93 1924.96,1345.93 1929.88,1384.24 1934.8,1384.24 1939.73,1335.9 1944.65,1335.9 1949.57,1384.24 1954.49,1384.24 1959.41,1321.76 1964.33,1321.76 1969.25,1345.93 1974.17,1345.93 1979.09,1345.93 1984.01,1345.93 1988.93,1360.07 1993.85,1360.07 1998.77,1384.24 2003.69,1384.24 2008.61,1328.12 2013.53,1328.12 2018.45,1345.93 2023.37,1345.93 2028.3,1384.24 2033.22,1384.24 2038.14,1384.24 2043.06,1384.24 2047.98,1360.07 2052.9,1360.07 2057.82,1384.24 2062.74,1384.24 2067.66,1345.93 2072.58,1345.93 2077.5,1345.93 2082.42,1345.93 2087.34,1360.07 2092.26,1360.07 2097.18,1345.93 2102.1,1345.93 2107.02,1345.93 2111.94,1345.93 2116.86,1345.93 2121.79,1345.93 2126.71,1345.93 2131.63,1345.93 2136.55,1384.24 2141.47,1384.24 2146.39,1321.76 2151.31,1321.76 2156.23,1384.24 2161.15,1384.24 2166.07,1384.24 2170.99,1384.24 2175.91,1335.9 2180.83,1335.9 2185.75,1360.07 2190.67,1360.07 2195.59,1345.93 2200.51,1345.93 2205.43,1321.76 2210.36,1321.76 2215.28,1345.93 2220.2,1345.93 2225.12,1328.12 2230.04,1328.12 2234.96,1384.24 2239.88,1384.24 2244.8,1345.93 2249.72,1345.93 2254.64,1345.93 2259.56,1345.93 2264.48,1345.93 2269.4,1345.93 2274.32,1316.38 2279.24,1316.38 2284.16,1345.93 2289.08,1345.93 2294,1384.24 \"/>\n",
       "<polyline clip-path=\"url(#clip892)\" style=\"stroke:#e26f46; stroke-linecap:round; stroke-linejoin:round; stroke-width:4; stroke-opacity:1; fill:none\" points=\"335.627,139.539 340.547,139.539 345.468,165.209 350.388,165.209 355.309,177.46 360.23,177.46 365.15,222.323 370.071,222.323 374.991,203.248 379.912,203.248 384.832,284.181 389.753,284.181 394.673,261.791 399.594,261.791 404.515,325.989 409.435,325.989 414.356,337.24 419.276,337.24 424.197,410.427 429.117,410.427 434.038,389.694 438.958,389.694 443.879,519.904 448.799,519.904 453.72,472.414 458.641,472.414 463.561,502.812 468.482,502.812 473.402,507.412 478.323,507.412 483.243,545.159 488.164,545.159 493.084,598.191 498.005,598.191 502.925,577.438 507.846,577.438 512.767,595.935 517.687,595.935 522.608,646.685 527.528,646.685 532.449,669.289 537.369,669.289 542.29,663.486 547.21,663.486 552.131,693.964 557.051,693.964 561.972,856.59 566.893,856.59 571.813,739.862 576.734,739.862 581.654,758.642 586.575,758.642 591.495,827.379 596.416,827.379 601.336,819.681 606.257,819.681 611.177,829.949 616.098,829.949 621.019,885.799 625.939,885.799 630.86,898.982 635.78,898.982 640.701,904.567 645.621,904.567 650.542,958.632 655.462,958.632 660.383,975.094 665.303,975.094 670.224,981.445 675.145,981.445 680.065,1041.59 684.986,1041.59 689.906,1048.35 694.827,1048.35 699.747,1060.89 704.668,1060.89 709.588,1140.71 714.509,1140.71 719.43,1121.39 724.35,1121.39 729.271,1144.32 734.191,1144.32 739.112,1269.96 744.032,1269.96 748.953,1197.13 753.873,1197.13 758.794,1234.39 763.714,1234.39 768.635,1278.08 773.556,1278.08 778.476,1273.42 783.397,1273.42 788.317,1331.79 793.238,1331.79 798.158,1352.29 803.079,1352.29 807.999,1384.24 812.92,1384.24 817.84,1345.93 822.761,1345.93 827.682,1345.93 832.602,1345.93 837.523,1370.1 842.443,1370.1 847.364,1384.24 852.284,1384.24 857.205,1384.24 862.125,1384.24 867.046,1384.24 871.966,1384.24 876.887,1345.93 881.808,1345.93 886.728,1360.07 891.649,1360.07 896.569,1352.29 901.49,1352.29 906.41,1370.1 911.331,1370.1 916.251,1360.07 921.172,1360.07 926.092,1384.24 931.013,1384.24 935.934,1360.07 940.854,1360.07 945.775,1360.07 950.695,1360.07 955.616,1335.9 960.536,1335.9 965.457,1335.9 970.377,1335.9 975.298,1360.07 980.219,1360.07 985.139,1340.55 990.06,1340.55 994.98,1370.1 999.901,1370.1 1004.82,1360.07 1009.74,1360.07 1014.66,1370.1 1019.58,1370.1 1024.5,1340.55 1029.42,1340.55 1034.34,1384.24 1039.27,1384.24 1044.19,1384.24 1049.11,1384.24 1054.03,1345.93 1058.95,1345.93 1063.87,1340.55 1068.79,1340.55 1073.71,1370.1 1078.63,1370.1 1083.55,1360.07 1088.47,1360.07 1093.39,1384.24 1098.31,1384.24 1103.23,1370.1 1108.15,1370.1 1113.07,1340.55 1117.99,1340.55 1122.91,1360.07 1127.83,1360.07 1132.76,1370.1 1137.68,1370.1 1142.6,1384.24 1147.52,1384.24 1152.44,1384.24 1157.36,1384.24 1162.28,1345.93 1167.2,1345.93 1172.12,1370.1 1177.04,1370.1 1181.96,1360.07 1186.88,1360.07 1191.8,1370.1 1196.72,1370.1 1201.64,1360.07 1206.56,1360.07 1211.48,1340.55 1216.4,1340.55 1221.33,1352.29 1226.25,1352.29 1231.17,1352.29 1236.09,1352.29 1241.01,1352.29 1245.93,1352.29 1250.85,1370.1 1255.77,1370.1 1260.69,1360.07 1265.61,1360.07 1270.53,1340.55 1275.45,1340.55 1280.37,1384.24 1285.29,1384.24 1290.21,1331.79 1295.13,1331.79 1300.05,1360.07 1304.97,1360.07 1309.9,1360.07 1314.82,1360.07 1319.74,1331.79 1324.66,1331.79 1329.58,1340.55 1334.5,1340.55 1339.42,1345.93 1344.34,1345.93 1349.26,1331.79 1354.18,1331.79 1359.1,1360.07 1364.02,1360.07 1368.94,1340.55 1373.86,1340.55 1378.78,1331.79 1383.7,1331.79 1388.62,1370.1 1393.54,1370.1 1398.47,1370.1 1403.39,1370.1 1408.31,1340.55 1413.23,1340.55 1418.15,1370.1 1423.07,1370.1 1427.99,1360.07 1432.91,1360.07 1437.83,1352.29 1442.75,1352.29 1447.67,1335.9 1452.59,1335.9 1457.51,1384.24 1462.43,1384.24 1467.35,1360.07 1472.27,1360.07 1477.19,1352.29 1482.11,1352.29 1487.03,1352.29 1491.96,1352.29 1496.88,1370.1 1501.8,1370.1 1506.72,1370.1 1511.64,1370.1 1516.56,1360.07 1521.48,1360.07 1526.4,1370.1 1531.32,1370.1 1536.24,1318.97 1541.16,1318.97 1546.08,1352.29 1551,1352.29 1555.92,1352.29 1560.84,1352.29 1565.76,1370.1 1570.68,1370.1 1575.6,1360.07 1580.53,1360.07 1585.45,1360.07 1590.37,1360.07 1595.29,1345.93 1600.21,1345.93 1605.13,1331.79 1610.05,1331.79 1614.97,1360.07 1619.89,1360.07 1624.81,1360.07 1629.73,1360.07 1634.65,1384.24 1639.57,1384.24 1644.49,1370.1 1649.41,1370.1 1654.33,1384.24 1659.25,1384.24 1664.17,1370.1 1669.1,1370.1 1674.02,1360.07 1678.94,1360.07 1683.86,1352.29 1688.78,1352.29 1693.7,1360.07 1698.62,1360.07 1703.54,1345.93 1708.46,1345.93 1713.38,1360.07 1718.3,1360.07 1723.22,1352.29 1728.14,1352.29 1733.06,1352.29 1737.98,1352.29 1742.9,1370.1 1747.82,1370.1 1752.74,1370.1 1757.66,1370.1 1762.59,1384.24 1767.51,1384.24 1772.43,1370.1 1777.35,1370.1 1782.27,1352.29 1787.19,1352.29 1792.11,1345.93 1797.03,1345.93 1801.95,1360.07 1806.87,1360.07 1811.79,1384.24 1816.71,1384.24 1821.63,1340.55 1826.55,1340.55 1831.47,1340.55 1836.39,1340.55 1841.31,1360.07 1846.23,1360.07 1851.16,1352.29 1856.08,1352.29 1861,1331.79 1865.92,1331.79 1870.84,1360.07 1875.76,1360.07 1880.68,1340.55 1885.6,1340.55 1890.52,1370.1 1895.44,1370.1 1900.36,1360.07 1905.28,1360.07 1910.2,1345.93 1915.12,1345.93 1920.04,1345.93 1924.96,1345.93 1929.88,1352.29 1934.8,1352.29 1939.73,1345.93 1944.65,1345.93 1949.57,1352.29 1954.49,1352.29 1959.41,1335.9 1964.33,1335.9 1969.25,1316.38 1974.17,1316.38 1979.09,1345.93 1984.01,1345.93 1988.93,1340.55 1993.85,1340.55 1998.77,1360.07 2003.69,1360.07 2008.61,1345.93 2013.53,1345.93 2018.45,1370.1 2023.37,1370.1 2028.3,1352.29 2033.22,1352.29 2038.14,1384.24 2043.06,1384.24 2047.98,1384.24 2052.9,1384.24 2057.82,1352.29 2062.74,1352.29 2067.66,1370.1 2072.58,1370.1 2077.5,1384.24 2082.42,1384.24 2087.34,1340.55 2092.26,1340.55 2097.18,1331.79 2102.1,1331.79 2107.02,1370.1 2111.94,1370.1 2116.86,1360.07 2121.79,1360.07 2126.71,1360.07 2131.63,1360.07 2136.55,1331.79 2141.47,1331.79 2146.39,1384.24 2151.31,1384.24 2156.23,1384.24 2161.15,1384.24 2166.07,1352.29 2170.99,1352.29 2175.91,1340.55 2180.83,1340.55 2185.75,1370.1 2190.67,1370.1 2195.59,1331.79 2200.51,1331.79 2205.43,1352.29 2210.36,1352.29 2215.28,1360.07 2220.2,1360.07 2225.12,1340.55 2230.04,1340.55 2234.96,1345.93 2239.88,1345.93 2244.8,1370.1 2249.72,1370.1 2254.64,1335.9 2259.56,1335.9 2264.48,1335.9 2269.4,1335.9 2274.32,1340.55 2279.24,1340.55 2284.16,1345.93 2289.08,1345.93 2294,1384.24 \"/>\n",
       "<path clip-path=\"url(#clip890)\" d=\"M1829.75 248.629 L2283.56 248.629 L2283.56 93.1086 L1829.75 93.1086  Z\" fill=\"#ffffff\" fill-rule=\"evenodd\" fill-opacity=\"1\"/>\n",
       "<polyline clip-path=\"url(#clip890)\" style=\"stroke:#000000; stroke-linecap:round; stroke-linejoin:round; stroke-width:4; stroke-opacity:1; fill:none\" points=\"1829.75,248.629 2283.56,248.629 2283.56,93.1086 1829.75,93.1086 1829.75,248.629 \"/>\n",
       "<polyline clip-path=\"url(#clip890)\" style=\"stroke:#009af9; stroke-linecap:round; stroke-linejoin:round; stroke-width:4; stroke-opacity:1; fill:none\" points=\"1852.81,144.949 1991.2,144.949 \"/>\n",
       "<path clip-path=\"url(#clip890)\" d=\"M2030.66 146.025 Q2032.16 146.534 2033.57 148.201 Q2035.01 149.868 2036.44 152.784 L2041.19 162.229 L2036.17 162.229 L2031.75 153.363 Q2030.03 149.891 2028.41 148.756 Q2026.82 147.622 2024.04 147.622 L2018.94 147.622 L2018.94 162.229 L2014.27 162.229 L2014.27 127.669 L2024.82 127.669 Q2030.75 127.669 2033.67 130.145 Q2036.58 132.622 2036.58 137.622 Q2036.58 140.886 2035.06 143.039 Q2033.55 145.192 2030.66 146.025 M2018.94 131.511 L2018.94 143.78 L2024.82 143.78 Q2028.2 143.78 2029.92 142.229 Q2031.65 140.655 2031.65 137.622 Q2031.65 134.59 2029.92 133.062 Q2028.2 131.511 2024.82 131.511 L2018.94 131.511 Z\" fill=\"#000000\" fill-rule=\"nonzero\" fill-opacity=\"1\" /><path clip-path=\"url(#clip890)\" d=\"M2067.07 148.201 L2067.07 150.284 L2047.49 150.284 Q2047.76 154.682 2050.13 156.997 Q2052.51 159.289 2056.75 159.289 Q2059.2 159.289 2061.49 158.687 Q2063.81 158.085 2066.07 156.881 L2066.07 160.909 Q2063.78 161.881 2061.38 162.391 Q2058.97 162.9 2056.49 162.9 Q2050.29 162.9 2046.65 159.289 Q2043.04 155.678 2043.04 149.52 Q2043.04 143.155 2046.47 139.428 Q2049.92 135.678 2055.75 135.678 Q2060.98 135.678 2064.01 139.057 Q2067.07 142.414 2067.07 148.201 M2062.81 146.951 Q2062.76 143.456 2060.84 141.372 Q2058.94 139.289 2055.8 139.289 Q2052.23 139.289 2050.08 141.303 Q2047.95 143.317 2047.63 146.974 L2062.81 146.951 Z\" fill=\"#000000\" fill-rule=\"nonzero\" fill-opacity=\"1\" /><path clip-path=\"url(#clip890)\" d=\"M2085.84 149.196 Q2080.68 149.196 2078.69 150.377 Q2076.7 151.557 2076.7 154.405 Q2076.7 156.673 2078.18 158.016 Q2079.69 159.335 2082.25 159.335 Q2085.8 159.335 2087.93 156.835 Q2090.08 154.312 2090.08 150.145 L2090.08 149.196 L2085.84 149.196 M2094.34 147.437 L2094.34 162.229 L2090.08 162.229 L2090.08 158.293 Q2088.62 160.655 2086.44 161.789 Q2084.27 162.9 2081.12 162.9 Q2077.14 162.9 2074.78 160.678 Q2072.44 158.432 2072.44 154.682 Q2072.44 150.307 2075.36 148.085 Q2078.3 145.863 2084.11 145.863 L2090.08 145.863 L2090.08 145.446 Q2090.08 142.507 2088.13 140.909 Q2086.21 139.289 2082.72 139.289 Q2080.5 139.289 2078.39 139.821 Q2076.28 140.354 2074.34 141.419 L2074.34 137.483 Q2076.68 136.581 2078.88 136.141 Q2081.07 135.678 2083.16 135.678 Q2088.78 135.678 2091.56 138.594 Q2094.34 141.511 2094.34 147.437 Z\" fill=\"#000000\" fill-rule=\"nonzero\" fill-opacity=\"1\" /><path clip-path=\"url(#clip890)\" d=\"M2103.11 126.21 L2107.37 126.21 L2107.37 162.229 L2103.11 162.229 L2103.11 126.21 Z\" fill=\"#000000\" fill-rule=\"nonzero\" fill-opacity=\"1\" /><polyline clip-path=\"url(#clip890)\" style=\"stroke:#e26f46; stroke-linecap:round; stroke-linejoin:round; stroke-width:4; stroke-opacity:1; fill:none\" points=\"1852.81,196.789 1991.2,196.789 \"/>\n",
       "<path clip-path=\"url(#clip890)\" d=\"M2014.27 179.509 L2018.94 179.509 L2018.94 214.069 L2014.27 214.069 L2014.27 179.509 Z\" fill=\"#000000\" fill-rule=\"nonzero\" fill-opacity=\"1\" /><path clip-path=\"url(#clip890)\" d=\"M2048.25 193.12 Q2049.85 190.249 2052.07 188.884 Q2054.29 187.518 2057.3 187.518 Q2061.35 187.518 2063.55 190.365 Q2065.75 193.189 2065.75 198.421 L2065.75 214.069 L2061.47 214.069 L2061.47 198.559 Q2061.47 194.833 2060.15 193.027 Q2058.83 191.222 2056.12 191.222 Q2052.81 191.222 2050.89 193.421 Q2048.97 195.62 2048.97 199.416 L2048.97 214.069 L2044.69 214.069 L2044.69 198.559 Q2044.69 194.809 2043.37 193.027 Q2042.05 191.222 2039.29 191.222 Q2036.03 191.222 2034.11 193.444 Q2032.19 195.643 2032.19 199.416 L2032.19 214.069 L2027.9 214.069 L2027.9 188.143 L2032.19 188.143 L2032.19 192.171 Q2033.64 189.786 2035.68 188.652 Q2037.72 187.518 2040.52 187.518 Q2043.34 187.518 2045.31 188.953 Q2047.3 190.388 2048.25 193.12 Z\" fill=\"#000000\" fill-rule=\"nonzero\" fill-opacity=\"1\" /><path clip-path=\"url(#clip890)\" d=\"M2086.03 201.036 Q2080.87 201.036 2078.88 202.217 Q2076.88 203.397 2076.88 206.245 Q2076.88 208.513 2078.37 209.856 Q2079.87 211.175 2082.44 211.175 Q2085.98 211.175 2088.11 208.675 Q2090.26 206.152 2090.26 201.985 L2090.26 201.036 L2086.03 201.036 M2094.52 199.277 L2094.52 214.069 L2090.26 214.069 L2090.26 210.133 Q2088.81 212.495 2086.63 213.629 Q2084.45 214.74 2081.31 214.74 Q2077.32 214.74 2074.96 212.518 Q2072.63 210.272 2072.63 206.522 Q2072.63 202.147 2075.54 199.925 Q2078.48 197.703 2084.29 197.703 L2090.26 197.703 L2090.26 197.286 Q2090.26 194.347 2088.32 192.749 Q2086.4 191.129 2082.9 191.129 Q2080.68 191.129 2078.57 191.661 Q2076.47 192.194 2074.52 193.259 L2074.52 189.323 Q2076.86 188.421 2079.06 187.981 Q2081.26 187.518 2083.34 187.518 Q2088.97 187.518 2091.75 190.434 Q2094.52 193.351 2094.52 199.277 Z\" fill=\"#000000\" fill-rule=\"nonzero\" fill-opacity=\"1\" /><path clip-path=\"url(#clip890)\" d=\"M2120.36 200.805 Q2120.36 196.175 2118.44 193.629 Q2116.54 191.083 2113.09 191.083 Q2109.66 191.083 2107.74 193.629 Q2105.84 196.175 2105.84 200.805 Q2105.84 205.411 2107.74 207.958 Q2109.66 210.504 2113.09 210.504 Q2116.54 210.504 2118.44 207.958 Q2120.36 205.411 2120.36 200.805 M2124.62 210.851 Q2124.62 217.471 2121.68 220.689 Q2118.74 223.93 2112.67 223.93 Q2110.43 223.93 2108.44 223.582 Q2106.44 223.258 2104.57 222.564 L2104.57 218.42 Q2106.44 219.439 2108.27 219.925 Q2110.1 220.411 2112 220.411 Q2116.19 220.411 2118.27 218.212 Q2120.36 216.036 2120.36 211.615 L2120.36 209.508 Q2119.04 211.8 2116.98 212.934 Q2114.92 214.069 2112.05 214.069 Q2107.28 214.069 2104.36 210.434 Q2101.44 206.8 2101.44 200.805 Q2101.44 194.786 2104.36 191.152 Q2107.28 187.518 2112.05 187.518 Q2114.92 187.518 2116.98 188.652 Q2119.04 189.786 2120.36 192.078 L2120.36 188.143 L2124.62 188.143 L2124.62 210.851 Z\" fill=\"#000000\" fill-rule=\"nonzero\" fill-opacity=\"1\" /><path clip-path=\"url(#clip890)\" d=\"M2133.39 188.143 L2137.65 188.143 L2137.65 214.069 L2133.39 214.069 L2133.39 188.143 M2133.39 178.05 L2137.65 178.05 L2137.65 183.444 L2133.39 183.444 L2133.39 178.05 Z\" fill=\"#000000\" fill-rule=\"nonzero\" fill-opacity=\"1\" /><path clip-path=\"url(#clip890)\" d=\"M2168.11 198.421 L2168.11 214.069 L2163.85 214.069 L2163.85 198.559 Q2163.85 194.879 2162.42 193.05 Q2160.98 191.222 2158.11 191.222 Q2154.66 191.222 2152.67 193.421 Q2150.68 195.62 2150.68 199.416 L2150.68 214.069 L2146.4 214.069 L2146.4 188.143 L2150.68 188.143 L2150.68 192.171 Q2152.21 189.833 2154.27 188.675 Q2156.35 187.518 2159.06 187.518 Q2163.53 187.518 2165.82 190.296 Q2168.11 193.05 2168.11 198.421 Z\" fill=\"#000000\" fill-rule=\"nonzero\" fill-opacity=\"1\" /><path clip-path=\"url(#clip890)\" d=\"M2188.39 201.036 Q2183.23 201.036 2181.24 202.217 Q2179.24 203.397 2179.24 206.245 Q2179.24 208.513 2180.73 209.856 Q2182.23 211.175 2184.8 211.175 Q2188.34 211.175 2190.47 208.675 Q2192.62 206.152 2192.62 201.985 L2192.62 201.036 L2188.39 201.036 M2196.88 199.277 L2196.88 214.069 L2192.62 214.069 L2192.62 210.133 Q2191.17 212.495 2188.99 213.629 Q2186.81 214.74 2183.67 214.74 Q2179.68 214.74 2177.32 212.518 Q2174.99 210.272 2174.99 206.522 Q2174.99 202.147 2177.9 199.925 Q2180.84 197.703 2186.65 197.703 L2192.62 197.703 L2192.62 197.286 Q2192.62 194.347 2190.68 192.749 Q2188.76 191.129 2185.26 191.129 Q2183.04 191.129 2180.93 191.661 Q2178.83 192.194 2176.88 193.259 L2176.88 189.323 Q2179.22 188.421 2181.42 187.981 Q2183.62 187.518 2185.7 187.518 Q2191.33 187.518 2194.11 190.434 Q2196.88 193.351 2196.88 199.277 Z\" fill=\"#000000\" fill-rule=\"nonzero\" fill-opacity=\"1\" /><path clip-path=\"url(#clip890)\" d=\"M2205.66 188.143 L2209.92 188.143 L2209.92 214.069 L2205.66 214.069 L2205.66 188.143 M2205.66 178.05 L2209.92 178.05 L2209.92 183.444 L2205.66 183.444 L2205.66 178.05 Z\" fill=\"#000000\" fill-rule=\"nonzero\" fill-opacity=\"1\" /><path clip-path=\"url(#clip890)\" d=\"M2233.85 192.124 Q2233.13 191.708 2232.28 191.522 Q2231.44 191.314 2230.43 191.314 Q2226.81 191.314 2224.87 193.675 Q2222.95 196.013 2222.95 200.411 L2222.95 214.069 L2218.67 214.069 L2218.67 188.143 L2222.95 188.143 L2222.95 192.171 Q2224.29 189.809 2226.44 188.675 Q2228.6 187.518 2231.68 187.518 Q2232.12 187.518 2232.65 187.587 Q2233.18 187.634 2233.83 187.749 L2233.85 192.124 Z\" fill=\"#000000\" fill-rule=\"nonzero\" fill-opacity=\"1\" /><path clip-path=\"url(#clip890)\" d=\"M2249.11 216.476 Q2247.3 221.106 2245.59 222.518 Q2243.87 223.93 2241 223.93 L2237.6 223.93 L2237.6 220.365 L2240.1 220.365 Q2241.86 220.365 2242.83 219.532 Q2243.8 218.698 2244.99 215.596 L2245.75 213.652 L2235.26 188.143 L2239.78 188.143 L2247.88 208.421 L2255.98 188.143 L2260.49 188.143 L2249.11 216.476 Z\" fill=\"#000000\" fill-rule=\"nonzero\" fill-opacity=\"1\" /></svg>\n"
      ],
      "text/html": [
       "<?xml version=\"1.0\" encoding=\"utf-8\"?>\n",
       "<svg xmlns=\"http://www.w3.org/2000/svg\" xmlns:xlink=\"http://www.w3.org/1999/xlink\" width=\"600\" height=\"400\" viewBox=\"0 0 2400 1600\">\n",
       "<defs>\n",
       "  <clipPath id=\"clip940\">\n",
       "    <rect x=\"0\" y=\"0\" width=\"2400\" height=\"1600\"/>\n",
       "  </clipPath>\n",
       "</defs>\n",
       "<path clip-path=\"url(#clip940)\" d=\"M0 1600 L2400 1600 L2400 0 L0 0  Z\" fill=\"#ffffff\" fill-rule=\"evenodd\" fill-opacity=\"1\"/>\n",
       "<defs>\n",
       "  <clipPath id=\"clip941\">\n",
       "    <rect x=\"480\" y=\"0\" width=\"1681\" height=\"1600\"/>\n",
       "  </clipPath>\n",
       "</defs>\n",
       "<path clip-path=\"url(#clip940)\" d=\"M276.876 1423.18 L2352.76 1423.18 L2352.76 47.2441 L276.876 47.2441  Z\" fill=\"#ffffff\" fill-rule=\"evenodd\" fill-opacity=\"1\"/>\n",
       "<defs>\n",
       "  <clipPath id=\"clip942\">\n",
       "    <rect x=\"276\" y=\"47\" width=\"2077\" height=\"1377\"/>\n",
       "  </clipPath>\n",
       "</defs>\n",
       "<polyline clip-path=\"url(#clip942)\" style=\"stroke:#000000; stroke-linecap:round; stroke-linejoin:round; stroke-width:2; stroke-opacity:0.1; fill:none\" points=\"325.786,1423.18 325.786,47.2441 \"/>\n",
       "<polyline clip-path=\"url(#clip942)\" style=\"stroke:#000000; stroke-linecap:round; stroke-linejoin:round; stroke-width:2; stroke-opacity:0.1; fill:none\" points=\"817.84,1423.18 817.84,47.2441 \"/>\n",
       "<polyline clip-path=\"url(#clip942)\" style=\"stroke:#000000; stroke-linecap:round; stroke-linejoin:round; stroke-width:2; stroke-opacity:0.1; fill:none\" points=\"1309.9,1423.18 1309.9,47.2441 \"/>\n",
       "<polyline clip-path=\"url(#clip942)\" style=\"stroke:#000000; stroke-linecap:round; stroke-linejoin:round; stroke-width:2; stroke-opacity:0.1; fill:none\" points=\"1801.95,1423.18 1801.95,47.2441 \"/>\n",
       "<polyline clip-path=\"url(#clip942)\" style=\"stroke:#000000; stroke-linecap:round; stroke-linejoin:round; stroke-width:2; stroke-opacity:0.1; fill:none\" points=\"2294,1423.18 2294,47.2441 \"/>\n",
       "<polyline clip-path=\"url(#clip940)\" style=\"stroke:#000000; stroke-linecap:round; stroke-linejoin:round; stroke-width:4; stroke-opacity:1; fill:none\" points=\"276.876,1423.18 2352.76,1423.18 \"/>\n",
       "<polyline clip-path=\"url(#clip940)\" style=\"stroke:#000000; stroke-linecap:round; stroke-linejoin:round; stroke-width:4; stroke-opacity:1; fill:none\" points=\"325.786,1423.18 325.786,1404.28 \"/>\n",
       "<polyline clip-path=\"url(#clip940)\" style=\"stroke:#000000; stroke-linecap:round; stroke-linejoin:round; stroke-width:4; stroke-opacity:1; fill:none\" points=\"817.84,1423.18 817.84,1404.28 \"/>\n",
       "<polyline clip-path=\"url(#clip940)\" style=\"stroke:#000000; stroke-linecap:round; stroke-linejoin:round; stroke-width:4; stroke-opacity:1; fill:none\" points=\"1309.9,1423.18 1309.9,1404.28 \"/>\n",
       "<polyline clip-path=\"url(#clip940)\" style=\"stroke:#000000; stroke-linecap:round; stroke-linejoin:round; stroke-width:4; stroke-opacity:1; fill:none\" points=\"1801.95,1423.18 1801.95,1404.28 \"/>\n",
       "<polyline clip-path=\"url(#clip940)\" style=\"stroke:#000000; stroke-linecap:round; stroke-linejoin:round; stroke-width:4; stroke-opacity:1; fill:none\" points=\"2294,1423.18 2294,1404.28 \"/>\n",
       "<path clip-path=\"url(#clip940)\" d=\"M325.786 1454.1 Q322.175 1454.1 320.346 1457.66 Q318.54 1461.2 318.54 1468.33 Q318.54 1475.44 320.346 1479.01 Q322.175 1482.55 325.786 1482.55 Q329.42 1482.55 331.226 1479.01 Q333.054 1475.44 333.054 1468.33 Q333.054 1461.2 331.226 1457.66 Q329.42 1454.1 325.786 1454.1 M325.786 1450.39 Q331.596 1450.39 334.651 1455 Q337.73 1459.58 337.73 1468.33 Q337.73 1477.06 334.651 1481.67 Q331.596 1486.25 325.786 1486.25 Q319.976 1486.25 316.897 1481.67 Q313.841 1477.06 313.841 1468.33 Q313.841 1459.58 316.897 1455 Q319.976 1450.39 325.786 1450.39 Z\" fill=\"#000000\" fill-rule=\"nonzero\" fill-opacity=\"1\" /><path clip-path=\"url(#clip940)\" d=\"M777.447 1481.64 L785.086 1481.64 L785.086 1455.28 L776.776 1456.95 L776.776 1452.69 L785.04 1451.02 L789.716 1451.02 L789.716 1481.64 L797.354 1481.64 L797.354 1485.58 L777.447 1485.58 L777.447 1481.64 Z\" fill=\"#000000\" fill-rule=\"nonzero\" fill-opacity=\"1\" /><path clip-path=\"url(#clip940)\" d=\"M816.799 1454.1 Q813.188 1454.1 811.359 1457.66 Q809.553 1461.2 809.553 1468.33 Q809.553 1475.44 811.359 1479.01 Q813.188 1482.55 816.799 1482.55 Q820.433 1482.55 822.239 1479.01 Q824.067 1475.44 824.067 1468.33 Q824.067 1461.2 822.239 1457.66 Q820.433 1454.1 816.799 1454.1 M816.799 1450.39 Q822.609 1450.39 825.664 1455 Q828.743 1459.58 828.743 1468.33 Q828.743 1477.06 825.664 1481.67 Q822.609 1486.25 816.799 1486.25 Q810.989 1486.25 807.91 1481.67 Q804.854 1477.06 804.854 1468.33 Q804.854 1459.58 807.91 1455 Q810.989 1450.39 816.799 1450.39 Z\" fill=\"#000000\" fill-rule=\"nonzero\" fill-opacity=\"1\" /><path clip-path=\"url(#clip940)\" d=\"M846.961 1454.1 Q843.35 1454.1 841.521 1457.66 Q839.715 1461.2 839.715 1468.33 Q839.715 1475.44 841.521 1479.01 Q843.35 1482.55 846.961 1482.55 Q850.595 1482.55 852.4 1479.01 Q854.229 1475.44 854.229 1468.33 Q854.229 1461.2 852.4 1457.66 Q850.595 1454.1 846.961 1454.1 M846.961 1450.39 Q852.771 1450.39 855.826 1455 Q858.905 1459.58 858.905 1468.33 Q858.905 1477.06 855.826 1481.67 Q852.771 1486.25 846.961 1486.25 Q841.151 1486.25 838.072 1481.67 Q835.016 1477.06 835.016 1468.33 Q835.016 1459.58 838.072 1455 Q841.151 1450.39 846.961 1450.39 Z\" fill=\"#000000\" fill-rule=\"nonzero\" fill-opacity=\"1\" /><path clip-path=\"url(#clip940)\" d=\"M1273.59 1481.64 L1289.91 1481.64 L1289.91 1485.58 L1267.96 1485.58 L1267.96 1481.64 Q1270.62 1478.89 1275.21 1474.26 Q1279.81 1469.61 1280.99 1468.27 Q1283.24 1465.74 1284.12 1464.01 Q1285.02 1462.25 1285.02 1460.56 Q1285.02 1457.8 1283.08 1456.07 Q1281.16 1454.33 1278.06 1454.33 Q1275.86 1454.33 1273.4 1455.09 Q1270.97 1455.86 1268.19 1457.41 L1268.19 1452.69 Q1271.02 1451.55 1273.47 1450.97 Q1275.93 1450.39 1277.96 1450.39 Q1283.33 1450.39 1286.53 1453.08 Q1289.72 1455.77 1289.72 1460.26 Q1289.72 1462.39 1288.91 1464.31 Q1288.12 1466.2 1286.02 1468.8 Q1285.44 1469.47 1282.34 1472.69 Q1279.24 1475.88 1273.59 1481.64 Z\" fill=\"#000000\" fill-rule=\"nonzero\" fill-opacity=\"1\" /><path clip-path=\"url(#clip940)\" d=\"M1309.72 1454.1 Q1306.11 1454.1 1304.28 1457.66 Q1302.48 1461.2 1302.48 1468.33 Q1302.48 1475.44 1304.28 1479.01 Q1306.11 1482.55 1309.72 1482.55 Q1313.36 1482.55 1315.16 1479.01 Q1316.99 1475.44 1316.99 1468.33 Q1316.99 1461.2 1315.16 1457.66 Q1313.36 1454.1 1309.72 1454.1 M1309.72 1450.39 Q1315.53 1450.39 1318.59 1455 Q1321.67 1459.58 1321.67 1468.33 Q1321.67 1477.06 1318.59 1481.67 Q1315.53 1486.25 1309.72 1486.25 Q1303.91 1486.25 1300.83 1481.67 Q1297.78 1477.06 1297.78 1468.33 Q1297.78 1459.58 1300.83 1455 Q1303.91 1450.39 1309.72 1450.39 Z\" fill=\"#000000\" fill-rule=\"nonzero\" fill-opacity=\"1\" /><path clip-path=\"url(#clip940)\" d=\"M1339.88 1454.1 Q1336.27 1454.1 1334.44 1457.66 Q1332.64 1461.2 1332.64 1468.33 Q1332.64 1475.44 1334.44 1479.01 Q1336.27 1482.55 1339.88 1482.55 Q1343.52 1482.55 1345.32 1479.01 Q1347.15 1475.44 1347.15 1468.33 Q1347.15 1461.2 1345.32 1457.66 Q1343.52 1454.1 1339.88 1454.1 M1339.88 1450.39 Q1345.69 1450.39 1348.75 1455 Q1351.83 1459.58 1351.83 1468.33 Q1351.83 1477.06 1348.75 1481.67 Q1345.69 1486.25 1339.88 1486.25 Q1334.07 1486.25 1330.99 1481.67 Q1327.94 1477.06 1327.94 1468.33 Q1327.94 1459.58 1330.99 1455 Q1334.07 1450.39 1339.88 1450.39 Z\" fill=\"#000000\" fill-rule=\"nonzero\" fill-opacity=\"1\" /><path clip-path=\"url(#clip940)\" d=\"M1775.71 1466.95 Q1779.07 1467.66 1780.94 1469.93 Q1782.84 1472.2 1782.84 1475.53 Q1782.84 1480.65 1779.32 1483.45 Q1775.8 1486.25 1769.32 1486.25 Q1767.15 1486.25 1764.83 1485.81 Q1762.54 1485.39 1760.09 1484.54 L1760.09 1480.02 Q1762.03 1481.16 1764.35 1481.74 Q1766.66 1482.32 1769.18 1482.32 Q1773.58 1482.32 1775.87 1480.58 Q1778.19 1478.84 1778.19 1475.53 Q1778.19 1472.48 1776.04 1470.77 Q1773.91 1469.03 1770.09 1469.03 L1766.06 1469.03 L1766.06 1465.19 L1770.27 1465.19 Q1773.72 1465.19 1775.55 1463.82 Q1777.38 1462.43 1777.38 1459.84 Q1777.38 1457.18 1775.48 1455.77 Q1773.61 1454.33 1770.09 1454.33 Q1768.17 1454.33 1765.97 1454.75 Q1763.77 1455.16 1761.13 1456.04 L1761.13 1451.88 Q1763.79 1451.14 1766.11 1450.77 Q1768.44 1450.39 1770.5 1450.39 Q1775.83 1450.39 1778.93 1452.83 Q1782.03 1455.23 1782.03 1459.35 Q1782.03 1462.22 1780.39 1464.21 Q1778.74 1466.18 1775.71 1466.95 Z\" fill=\"#000000\" fill-rule=\"nonzero\" fill-opacity=\"1\" /><path clip-path=\"url(#clip940)\" d=\"M1801.71 1454.1 Q1798.1 1454.1 1796.27 1457.66 Q1794.46 1461.2 1794.46 1468.33 Q1794.46 1475.44 1796.27 1479.01 Q1798.1 1482.55 1801.71 1482.55 Q1805.34 1482.55 1807.15 1479.01 Q1808.98 1475.44 1808.98 1468.33 Q1808.98 1461.2 1807.15 1457.66 Q1805.34 1454.1 1801.71 1454.1 M1801.71 1450.39 Q1807.52 1450.39 1810.57 1455 Q1813.65 1459.58 1813.65 1468.33 Q1813.65 1477.06 1810.57 1481.67 Q1807.52 1486.25 1801.71 1486.25 Q1795.9 1486.25 1792.82 1481.67 Q1789.76 1477.06 1789.76 1468.33 Q1789.76 1459.58 1792.82 1455 Q1795.9 1450.39 1801.71 1450.39 Z\" fill=\"#000000\" fill-rule=\"nonzero\" fill-opacity=\"1\" /><path clip-path=\"url(#clip940)\" d=\"M1831.87 1454.1 Q1828.26 1454.1 1826.43 1457.66 Q1824.62 1461.2 1824.62 1468.33 Q1824.62 1475.44 1826.43 1479.01 Q1828.26 1482.55 1831.87 1482.55 Q1835.5 1482.55 1837.31 1479.01 Q1839.14 1475.44 1839.14 1468.33 Q1839.14 1461.2 1837.31 1457.66 Q1835.5 1454.1 1831.87 1454.1 M1831.87 1450.39 Q1837.68 1450.39 1840.73 1455 Q1843.81 1459.58 1843.81 1468.33 Q1843.81 1477.06 1840.73 1481.67 Q1837.68 1486.25 1831.87 1486.25 Q1826.06 1486.25 1822.98 1481.67 Q1819.92 1477.06 1819.92 1468.33 Q1819.92 1459.58 1822.98 1455 Q1826.06 1450.39 1831.87 1450.39 Z\" fill=\"#000000\" fill-rule=\"nonzero\" fill-opacity=\"1\" /><path clip-path=\"url(#clip940)\" d=\"M2267.09 1455.09 L2255.29 1473.54 L2267.09 1473.54 L2267.09 1455.09 M2265.87 1451.02 L2271.75 1451.02 L2271.75 1473.54 L2276.68 1473.54 L2276.68 1477.43 L2271.75 1477.43 L2271.75 1485.58 L2267.09 1485.58 L2267.09 1477.43 L2251.49 1477.43 L2251.49 1472.92 L2265.87 1451.02 Z\" fill=\"#000000\" fill-rule=\"nonzero\" fill-opacity=\"1\" /><path clip-path=\"url(#clip940)\" d=\"M2294.41 1454.1 Q2290.8 1454.1 2288.97 1457.66 Q2287.16 1461.2 2287.16 1468.33 Q2287.16 1475.44 2288.97 1479.01 Q2290.8 1482.55 2294.41 1482.55 Q2298.04 1482.55 2299.85 1479.01 Q2301.68 1475.44 2301.68 1468.33 Q2301.68 1461.2 2299.85 1457.66 Q2298.04 1454.1 2294.41 1454.1 M2294.41 1450.39 Q2300.22 1450.39 2303.28 1455 Q2306.35 1459.58 2306.35 1468.33 Q2306.35 1477.06 2303.28 1481.67 Q2300.22 1486.25 2294.41 1486.25 Q2288.6 1486.25 2285.52 1481.67 Q2282.47 1477.06 2282.47 1468.33 Q2282.47 1459.58 2285.52 1455 Q2288.6 1450.39 2294.41 1450.39 Z\" fill=\"#000000\" fill-rule=\"nonzero\" fill-opacity=\"1\" /><path clip-path=\"url(#clip940)\" d=\"M2324.57 1454.1 Q2320.96 1454.1 2319.13 1457.66 Q2317.33 1461.2 2317.33 1468.33 Q2317.33 1475.44 2319.13 1479.01 Q2320.96 1482.55 2324.57 1482.55 Q2328.21 1482.55 2330.01 1479.01 Q2331.84 1475.44 2331.84 1468.33 Q2331.84 1461.2 2330.01 1457.66 Q2328.21 1454.1 2324.57 1454.1 M2324.57 1450.39 Q2330.38 1450.39 2333.44 1455 Q2336.52 1459.58 2336.52 1468.33 Q2336.52 1477.06 2333.44 1481.67 Q2330.38 1486.25 2324.57 1486.25 Q2318.76 1486.25 2315.68 1481.67 Q2312.63 1477.06 2312.63 1468.33 Q2312.63 1459.58 2315.68 1455 Q2318.76 1450.39 2324.57 1450.39 Z\" fill=\"#000000\" fill-rule=\"nonzero\" fill-opacity=\"1\" /><path clip-path=\"url(#clip940)\" d=\"M1296.83 1520.52 L1305.49 1520.52 L1326.56 1560.28 L1326.56 1520.52 L1332.8 1520.52 L1332.8 1568.04 L1324.14 1568.04 L1303.07 1528.29 L1303.07 1568.04 L1296.83 1568.04 L1296.83 1520.52 Z\" fill=\"#000000\" fill-rule=\"nonzero\" fill-opacity=\"1\" /><polyline clip-path=\"url(#clip942)\" style=\"stroke:#000000; stroke-linecap:round; stroke-linejoin:round; stroke-width:2; stroke-opacity:0.1; fill:none\" points=\"276.876,930.31 2352.76,930.31 \"/>\n",
       "<polyline clip-path=\"url(#clip942)\" style=\"stroke:#000000; stroke-linecap:round; stroke-linejoin:round; stroke-width:2; stroke-opacity:0.1; fill:none\" points=\"276.876,127.403 2352.76,127.403 \"/>\n",
       "<polyline clip-path=\"url(#clip940)\" style=\"stroke:#000000; stroke-linecap:round; stroke-linejoin:round; stroke-width:4; stroke-opacity:1; fill:none\" points=\"276.876,1423.18 276.876,47.2441 \"/>\n",
       "<polyline clip-path=\"url(#clip940)\" style=\"stroke:#000000; stroke-linecap:round; stroke-linejoin:round; stroke-width:4; stroke-opacity:1; fill:none\" points=\"276.876,930.31 295.773,930.31 \"/>\n",
       "<polyline clip-path=\"url(#clip940)\" style=\"stroke:#000000; stroke-linecap:round; stroke-linejoin:round; stroke-width:4; stroke-opacity:1; fill:none\" points=\"276.876,127.403 295.773,127.403 \"/>\n",
       "<path clip-path=\"url(#clip940)\" d=\"M114.931 950.102 L122.57 950.102 L122.57 923.737 L114.26 925.403 L114.26 921.144 L122.524 919.477 L127.2 919.477 L127.2 950.102 L134.839 950.102 L134.839 954.037 L114.931 954.037 L114.931 950.102 Z\" fill=\"#000000\" fill-rule=\"nonzero\" fill-opacity=\"1\" /><path clip-path=\"url(#clip940)\" d=\"M154.283 922.556 Q150.672 922.556 148.843 926.121 Q147.038 929.663 147.038 936.792 Q147.038 943.899 148.843 947.463 Q150.672 951.005 154.283 951.005 Q157.917 951.005 159.723 947.463 Q161.552 943.899 161.552 936.792 Q161.552 929.663 159.723 926.121 Q157.917 922.556 154.283 922.556 M154.283 918.852 Q160.093 918.852 163.149 923.459 Q166.227 928.042 166.227 936.792 Q166.227 945.519 163.149 950.125 Q160.093 954.709 154.283 954.709 Q148.473 954.709 145.394 950.125 Q142.339 945.519 142.339 936.792 Q142.339 928.042 145.394 923.459 Q148.473 918.852 154.283 918.852 Z\" fill=\"#000000\" fill-rule=\"nonzero\" fill-opacity=\"1\" /><path clip-path=\"url(#clip940)\" d=\"M166.227 912.954 L190.339 912.954 L190.339 916.151 L166.227 916.151 L166.227 912.954 Z\" fill=\"#000000\" fill-rule=\"nonzero\" fill-opacity=\"1\" /><path clip-path=\"url(#clip940)\" d=\"M199.197 923.43 L205.404 923.43 L205.404 902.008 L198.652 903.362 L198.652 899.901 L205.366 898.547 L209.166 898.547 L209.166 923.43 L215.372 923.43 L215.372 926.627 L199.197 926.627 L199.197 923.43 Z\" fill=\"#000000\" fill-rule=\"nonzero\" fill-opacity=\"1\" /><path clip-path=\"url(#clip940)\" d=\"M231.171 901.048 Q228.237 901.048 226.751 903.945 Q225.284 906.822 225.284 912.615 Q225.284 918.389 226.751 921.286 Q228.237 924.163 231.171 924.163 Q234.124 924.163 235.591 921.286 Q237.076 918.389 237.076 912.615 Q237.076 906.822 235.591 903.945 Q234.124 901.048 231.171 901.048 M231.171 898.039 Q235.891 898.039 238.374 901.782 Q240.876 905.506 240.876 912.615 Q240.876 919.706 238.374 923.449 Q235.891 927.172 231.171 927.172 Q226.45 927.172 223.949 923.449 Q221.466 919.706 221.466 912.615 Q221.466 905.506 223.949 901.782 Q226.45 898.039 231.171 898.039 Z\" fill=\"#000000\" fill-rule=\"nonzero\" fill-opacity=\"1\" /><path clip-path=\"url(#clip940)\" d=\"M170.17 147.195 L177.809 147.195 L177.809 120.829 L169.499 122.496 L169.499 118.237 L177.762 116.57 L182.438 116.57 L182.438 147.195 L190.077 147.195 L190.077 151.13 L170.17 151.13 L170.17 147.195 Z\" fill=\"#000000\" fill-rule=\"nonzero\" fill-opacity=\"1\" /><path clip-path=\"url(#clip940)\" d=\"M209.522 119.649 Q205.91 119.649 204.082 123.214 Q202.276 126.755 202.276 133.885 Q202.276 140.991 204.082 144.556 Q205.91 148.098 209.522 148.098 Q213.156 148.098 214.961 144.556 Q216.79 140.991 216.79 133.885 Q216.79 126.755 214.961 123.214 Q213.156 119.649 209.522 119.649 M209.522 115.945 Q215.332 115.945 218.387 120.552 Q221.466 125.135 221.466 133.885 Q221.466 142.612 218.387 147.218 Q215.332 151.801 209.522 151.801 Q203.711 151.801 200.633 147.218 Q197.577 142.612 197.577 133.885 Q197.577 125.135 200.633 120.552 Q203.711 115.945 209.522 115.945 Z\" fill=\"#000000\" fill-rule=\"nonzero\" fill-opacity=\"1\" /><path clip-path=\"url(#clip940)\" d=\"M231.171 98.1412 Q228.237 98.1412 226.751 101.038 Q225.284 103.915 225.284 109.708 Q225.284 115.482 226.751 118.378 Q228.237 121.256 231.171 121.256 Q234.124 121.256 235.591 118.378 Q237.076 115.482 237.076 109.708 Q237.076 103.915 235.591 101.038 Q234.124 98.1412 231.171 98.1412 M231.171 95.1319 Q235.891 95.1319 238.374 98.8747 Q240.876 102.599 240.876 109.708 Q240.876 116.798 238.374 120.541 Q235.891 124.265 231.171 124.265 Q226.45 124.265 223.949 120.541 Q221.466 116.798 221.466 109.708 Q221.466 102.599 223.949 98.8747 Q226.45 95.1319 231.171 95.1319 Z\" fill=\"#000000\" fill-rule=\"nonzero\" fill-opacity=\"1\" /><path clip-path=\"url(#clip940)\" d=\"M28.3562 932.04 L28.3562 926.183 L64.0042 926.183 L64.0042 932.04 L28.3562 932.04 M14.479 932.04 L14.479 926.183 L21.895 926.183 L21.895 932.04 L14.479 932.04 Z\" fill=\"#000000\" fill-rule=\"nonzero\" fill-opacity=\"1\" /><path clip-path=\"url(#clip940)\" d=\"M42.4881 884.297 L64.0042 884.297 L64.0042 890.153 L42.679 890.153 Q37.6183 890.153 35.1038 892.127 Q32.5894 894.1 32.5894 898.047 Q32.5894 902.789 35.6131 905.526 Q38.6368 908.264 43.8567 908.264 L64.0042 908.264 L64.0042 914.152 L28.3562 914.152 L28.3562 908.264 L33.8944 908.264 Q30.6797 906.163 29.0883 903.33 Q27.4968 900.466 27.4968 896.742 Q27.4968 890.599 31.3163 887.448 Q35.1038 884.297 42.4881 884.297 Z\" fill=\"#000000\" fill-rule=\"nonzero\" fill-opacity=\"1\" /><path clip-path=\"url(#clip940)\" d=\"M18.2347 866.823 L28.3562 866.823 L28.3562 854.76 L32.9077 854.76 L32.9077 866.823 L52.2594 866.823 Q56.6199 866.823 57.8613 865.645 Q59.1026 864.436 59.1026 860.776 L59.1026 854.76 L64.0042 854.76 L64.0042 860.776 Q64.0042 867.555 61.4897 870.133 Q58.9434 872.711 52.2594 872.711 L32.9077 872.711 L32.9077 877.008 L28.3562 877.008 L28.3562 872.711 L18.2347 872.711 L18.2347 866.823 Z\" fill=\"#000000\" fill-rule=\"nonzero\" fill-opacity=\"1\" /><path clip-path=\"url(#clip940)\" d=\"M44.7161 816.566 L47.5806 816.566 L47.5806 843.493 Q53.6281 843.111 56.8109 839.864 Q59.9619 836.586 59.9619 830.761 Q59.9619 827.387 59.1344 824.236 Q58.3069 821.054 56.6518 817.934 L62.1899 817.934 Q63.5267 821.085 64.227 824.396 Q64.9272 827.706 64.9272 831.111 Q64.9272 839.641 59.9619 844.638 Q54.9967 849.604 46.5303 849.604 Q37.7774 849.604 32.6531 844.893 Q27.4968 840.151 27.4968 832.13 Q27.4968 824.937 32.1438 820.767 Q36.7589 816.566 44.7161 816.566 M42.9973 822.422 Q38.1912 822.486 35.3266 825.128 Q32.4621 827.738 32.4621 832.066 Q32.4621 836.968 35.2312 839.928 Q38.0002 842.856 43.0292 843.302 L42.9973 822.422 Z\" fill=\"#000000\" fill-rule=\"nonzero\" fill-opacity=\"1\" /><path clip-path=\"url(#clip940)\" d=\"M45.7664 783.496 Q39.4007 783.496 35.8996 786.138 Q32.3984 788.748 32.3984 793.49 Q32.3984 798.201 35.8996 800.842 Q39.4007 803.452 45.7664 803.452 Q52.1003 803.452 55.6014 800.842 Q59.1026 798.201 59.1026 793.49 Q59.1026 788.748 55.6014 786.138 Q52.1003 783.496 45.7664 783.496 M59.58 777.639 Q68.683 777.639 73.1071 781.682 Q77.5631 785.724 77.5631 794.063 Q77.5631 797.15 77.0857 799.888 Q76.6401 802.625 75.6852 805.203 L69.9879 805.203 Q71.3884 802.625 72.0568 800.11 Q72.7252 797.596 72.7252 794.986 Q72.7252 789.225 69.7015 786.36 Q66.7096 783.496 60.6303 783.496 L57.7339 783.496 Q60.885 785.31 62.4446 788.143 Q64.0042 790.976 64.0042 794.922 Q64.0042 801.479 59.0071 805.489 Q54.01 809.5 45.7664 809.5 Q37.491 809.5 32.4939 805.489 Q27.4968 801.479 27.4968 794.922 Q27.4968 790.976 29.0564 788.143 Q30.616 785.31 33.7671 783.496 L28.3562 783.496 L28.3562 777.639 L59.58 777.639 Z\" fill=\"#000000\" fill-rule=\"nonzero\" fill-opacity=\"1\" /><path clip-path=\"url(#clip940)\" d=\"M33.8307 744.92 Q33.2578 745.906 33.0032 747.084 Q32.7167 748.23 32.7167 749.63 Q32.7167 754.596 35.9632 757.269 Q39.1779 759.911 45.2253 759.911 L64.0042 759.911 L64.0042 765.799 L28.3562 765.799 L28.3562 759.911 L33.8944 759.911 Q30.6479 758.065 29.0883 755.105 Q27.4968 752.145 27.4968 747.912 Q27.4968 747.307 27.5923 746.575 Q27.656 745.843 27.8151 744.951 L33.8307 744.92 Z\" fill=\"#000000\" fill-rule=\"nonzero\" fill-opacity=\"1\" /><path clip-path=\"url(#clip940)\" d=\"M46.0847 722.576 Q46.0847 729.674 47.7079 732.411 Q49.3312 735.148 53.2461 735.148 Q56.3653 735.148 58.2114 733.111 Q60.0256 731.042 60.0256 727.509 Q60.0256 722.64 56.5881 719.711 Q53.1188 716.751 47.3897 716.751 L46.0847 716.751 L46.0847 722.576 M43.6657 710.895 L64.0042 710.895 L64.0042 716.751 L58.5933 716.751 Q61.8398 718.757 63.3994 721.748 Q64.9272 724.74 64.9272 729.069 Q64.9272 734.544 61.8716 737.79 Q58.7843 741.005 53.6281 741.005 Q47.6125 741.005 44.5569 736.994 Q41.5014 732.952 41.5014 724.963 L41.5014 716.751 L40.9285 716.751 Q36.8862 716.751 34.6901 719.425 Q32.4621 722.067 32.4621 726.873 Q32.4621 729.928 33.1941 732.825 Q33.9262 735.721 35.3903 738.395 L29.9795 738.395 Q28.7381 735.18 28.1334 732.156 Q27.4968 729.133 27.4968 726.268 Q27.4968 718.534 31.5072 714.714 Q35.5176 710.895 43.6657 710.895 Z\" fill=\"#000000\" fill-rule=\"nonzero\" fill-opacity=\"1\" /><path clip-path=\"url(#clip940)\" d=\"M14.479 698.832 L14.479 692.976 L64.0042 692.976 L64.0042 698.832 L14.479 698.832 Z\" fill=\"#000000\" fill-rule=\"nonzero\" fill-opacity=\"1\" /><path clip-path=\"url(#clip940)\" d=\"M44.7161 629.509 L47.5806 629.509 L47.5806 656.436 Q53.6281 656.054 56.8109 652.808 Q59.9619 649.53 59.9619 643.705 Q59.9619 640.331 59.1344 637.18 Q58.3069 633.997 56.6518 630.878 L62.1899 630.878 Q63.5267 634.029 64.227 637.339 Q64.9272 640.649 64.9272 644.055 Q64.9272 652.585 59.9619 657.582 Q54.9967 662.547 46.5303 662.547 Q37.7774 662.547 32.6531 657.837 Q27.4968 653.094 27.4968 645.074 Q27.4968 637.88 32.1438 633.711 Q36.7589 629.509 44.7161 629.509 M42.9973 635.366 Q38.1912 635.43 35.3266 638.071 Q32.4621 640.681 32.4621 645.01 Q32.4621 649.911 35.2312 652.872 Q38.0002 655.8 43.0292 656.245 L42.9973 635.366 Z\" fill=\"#000000\" fill-rule=\"nonzero\" fill-opacity=\"1\" /><path clip-path=\"url(#clip940)\" d=\"M33.8307 599.24 Q33.2578 600.227 33.0032 601.405 Q32.7167 602.551 32.7167 603.951 Q32.7167 608.916 35.9632 611.59 Q39.1779 614.232 45.2253 614.232 L64.0042 614.232 L64.0042 620.12 L28.3562 620.12 L28.3562 614.232 L33.8944 614.232 Q30.6479 612.386 29.0883 609.426 Q27.4968 606.466 27.4968 602.232 Q27.4968 601.628 27.5923 600.896 Q27.656 600.164 27.8151 599.272 L33.8307 599.24 Z\" fill=\"#000000\" fill-rule=\"nonzero\" fill-opacity=\"1\" /><path clip-path=\"url(#clip940)\" d=\"M33.8307 573.587 Q33.2578 574.573 33.0032 575.751 Q32.7167 576.897 32.7167 578.297 Q32.7167 583.263 35.9632 585.936 Q39.1779 588.578 45.2253 588.578 L64.0042 588.578 L64.0042 594.466 L28.3562 594.466 L28.3562 588.578 L33.8944 588.578 Q30.6479 586.732 29.0883 583.772 Q27.4968 580.812 27.4968 576.579 Q27.4968 575.974 27.5923 575.242 Q27.656 574.51 27.8151 573.619 L33.8307 573.587 Z\" fill=\"#000000\" fill-rule=\"nonzero\" fill-opacity=\"1\" /><path clip-path=\"url(#clip940)\" d=\"M44.7161 538.384 L47.5806 538.384 L47.5806 565.311 Q53.6281 564.929 56.8109 561.683 Q59.9619 558.404 59.9619 552.58 Q59.9619 549.206 59.1344 546.055 Q58.3069 542.872 56.6518 539.753 L62.1899 539.753 Q63.5267 542.904 64.227 546.214 Q64.9272 549.524 64.9272 552.93 Q64.9272 561.46 59.9619 566.457 Q54.9967 571.422 46.5303 571.422 Q37.7774 571.422 32.6531 566.712 Q27.4968 561.969 27.4968 553.948 Q27.4968 546.755 32.1438 542.586 Q36.7589 538.384 44.7161 538.384 M42.9973 544.241 Q38.1912 544.304 35.3266 546.946 Q32.4621 549.556 32.4621 553.885 Q32.4621 558.786 35.2312 561.746 Q38.0002 564.675 43.0292 565.12 L42.9973 544.241 Z\" fill=\"#000000\" fill-rule=\"nonzero\" fill-opacity=\"1\" /><polyline clip-path=\"url(#clip942)\" style=\"stroke:#009af9; stroke-linecap:round; stroke-linejoin:round; stroke-width:4; stroke-opacity:1; fill:none\" points=\"335.627,86.1857 340.547,86.1857 345.468,163.152 350.388,163.152 355.309,171.31 360.23,171.31 365.15,172.698 370.071,172.698 374.991,289.395 379.912,289.395 384.832,232.911 389.753,232.911 394.673,290.241 399.594,290.241 404.515,314.593 409.435,314.593 414.356,462.402 419.276,462.402 424.197,371.34 429.117,371.34 434.038,437.547 438.958,437.547 443.879,430.24 448.799,430.24 453.72,492.337 458.641,492.337 463.561,521.704 468.482,521.704 473.402,701.753 478.323,701.753 483.243,542.678 488.164,542.678 493.084,560.649 498.005,560.649 502.925,608.876 507.846,608.876 512.767,644.897 517.687,644.897 522.608,629.748 527.528,629.748 532.449,654.561 537.369,654.561 542.29,738.298 547.21,738.298 552.131,708.068 557.051,708.068 561.972,718.447 566.893,718.447 571.813,766.867 576.734,766.867 581.654,793.263 586.575,793.263 591.495,788.675 596.416,788.675 601.336,826.342 606.257,826.342 611.177,882.27 616.098,882.27 621.019,861.903 625.939,861.903 630.86,895.152 635.78,895.152 640.701,967.068 645.621,967.068 650.542,936.459 655.462,936.459 660.383,969.733 665.303,969.733 670.224,1037.91 675.145,1037.91 680.065,1011.92 684.986,1011.92 689.906,1049.71 694.827,1049.71 699.747,1100.08 704.668,1100.08 709.588,1088.98 714.509,1088.98 719.43,1137.04 724.35,1137.04 729.271,1163.52 734.191,1163.52 739.112,1168.74 744.032,1168.74 748.953,1238.15 753.873,1238.15 758.794,1233.69 763.714,1233.69 768.635,1258.33 773.556,1258.33 778.476,1345.93 783.397,1345.93 788.317,1297.59 793.238,1297.59 798.158,1384.24 803.079,1384.24 807.999,1384.24 812.92,1384.24 817.84,1335.9 822.761,1335.9 827.682,1384.24 832.602,1384.24 837.523,1335.9 842.443,1335.9 847.364,1384.24 852.284,1384.24 857.205,1345.93 862.125,1345.93 867.046,1345.93 871.966,1345.93 876.887,1360.07 881.808,1360.07 886.728,1384.24 891.649,1384.24 896.569,1360.07 901.49,1360.07 906.41,1345.93 911.331,1345.93 916.251,1384.24 921.172,1384.24 926.092,1345.93 931.013,1345.93 935.934,1384.24 940.854,1384.24 945.775,1384.24 950.695,1384.24 955.616,1345.93 960.536,1345.93 965.457,1321.76 970.377,1321.76 975.298,1345.93 980.219,1345.93 985.139,1345.93 990.06,1345.93 994.98,1335.9 999.901,1335.9 1004.82,1328.12 1009.74,1328.12 1014.66,1345.93 1019.58,1345.93 1024.5,1345.93 1029.42,1345.93 1034.34,1384.24 1039.27,1384.24 1044.19,1345.93 1049.11,1345.93 1054.03,1345.93 1058.95,1345.93 1063.87,1335.9 1068.79,1335.9 1073.71,1345.93 1078.63,1345.93 1083.55,1345.93 1088.47,1345.93 1093.39,1384.24 1098.31,1384.24 1103.23,1316.38 1108.15,1316.38 1113.07,1360.07 1117.99,1360.07 1122.91,1384.24 1127.83,1384.24 1132.76,1335.9 1137.68,1335.9 1142.6,1328.12 1147.52,1328.12 1152.44,1384.24 1157.36,1384.24 1162.28,1345.93 1167.2,1345.93 1172.12,1335.9 1177.04,1335.9 1181.96,1384.24 1186.88,1384.24 1191.8,1335.9 1196.72,1335.9 1201.64,1335.9 1206.56,1335.9 1211.48,1335.9 1216.4,1335.9 1221.33,1321.76 1226.25,1321.76 1231.17,1384.24 1236.09,1384.24 1241.01,1328.12 1245.93,1328.12 1250.85,1345.93 1255.77,1345.93 1260.69,1384.24 1265.61,1384.24 1270.53,1360.07 1275.45,1360.07 1280.37,1328.12 1285.29,1328.12 1290.21,1335.9 1295.13,1335.9 1300.05,1345.93 1304.97,1345.93 1309.9,1345.93 1314.82,1345.93 1319.74,1345.93 1324.66,1345.93 1329.58,1360.07 1334.5,1360.07 1339.42,1384.24 1344.34,1384.24 1349.26,1328.12 1354.18,1328.12 1359.1,1345.93 1364.02,1345.93 1368.94,1345.93 1373.86,1345.93 1378.78,1384.24 1383.7,1384.24 1388.62,1345.93 1393.54,1345.93 1398.47,1316.38 1403.39,1316.38 1408.31,1345.93 1413.23,1345.93 1418.15,1335.9 1423.07,1335.9 1427.99,1345.93 1432.91,1345.93 1437.83,1328.12 1442.75,1328.12 1447.67,1345.93 1452.59,1345.93 1457.51,1328.12 1462.43,1328.12 1467.35,1384.24 1472.27,1384.24 1477.19,1316.38 1482.11,1316.38 1487.03,1384.24 1491.96,1384.24 1496.88,1335.9 1501.8,1335.9 1506.72,1345.93 1511.64,1345.93 1516.56,1384.24 1521.48,1384.24 1526.4,1345.93 1531.32,1345.93 1536.24,1384.24 1541.16,1384.24 1546.08,1384.24 1551,1384.24 1555.92,1321.76 1560.84,1321.76 1565.76,1335.9 1570.68,1335.9 1575.6,1384.24 1580.53,1384.24 1585.45,1345.93 1590.37,1345.93 1595.29,1345.93 1600.21,1345.93 1605.13,1345.93 1610.05,1345.93 1614.97,1345.93 1619.89,1345.93 1624.81,1335.9 1629.73,1335.9 1634.65,1345.93 1639.57,1345.93 1644.49,1345.93 1649.41,1345.93 1654.33,1345.93 1659.25,1345.93 1664.17,1345.93 1669.1,1345.93 1674.02,1384.24 1678.94,1384.24 1683.86,1328.12 1688.78,1328.12 1693.7,1345.93 1698.62,1345.93 1703.54,1345.93 1708.46,1345.93 1713.38,1345.93 1718.3,1345.93 1723.22,1321.76 1728.14,1321.76 1733.06,1384.24 1737.98,1384.24 1742.9,1335.9 1747.82,1335.9 1752.74,1345.93 1757.66,1345.93 1762.59,1345.93 1767.51,1345.93 1772.43,1345.93 1777.35,1345.93 1782.27,1321.76 1787.19,1321.76 1792.11,1384.24 1797.03,1384.24 1801.95,1316.38 1806.87,1316.38 1811.79,1328.12 1816.71,1328.12 1821.63,1345.93 1826.55,1345.93 1831.47,1335.9 1836.39,1335.9 1841.31,1345.93 1846.23,1345.93 1851.16,1360.07 1856.08,1360.07 1861,1335.9 1865.92,1335.9 1870.84,1345.93 1875.76,1345.93 1880.68,1316.38 1885.6,1316.38 1890.52,1316.38 1895.44,1316.38 1900.36,1345.93 1905.28,1345.93 1910.2,1335.9 1915.12,1335.9 1920.04,1345.93 1924.96,1345.93 1929.88,1384.24 1934.8,1384.24 1939.73,1335.9 1944.65,1335.9 1949.57,1384.24 1954.49,1384.24 1959.41,1321.76 1964.33,1321.76 1969.25,1345.93 1974.17,1345.93 1979.09,1345.93 1984.01,1345.93 1988.93,1360.07 1993.85,1360.07 1998.77,1384.24 2003.69,1384.24 2008.61,1328.12 2013.53,1328.12 2018.45,1345.93 2023.37,1345.93 2028.3,1384.24 2033.22,1384.24 2038.14,1384.24 2043.06,1384.24 2047.98,1360.07 2052.9,1360.07 2057.82,1384.24 2062.74,1384.24 2067.66,1345.93 2072.58,1345.93 2077.5,1345.93 2082.42,1345.93 2087.34,1360.07 2092.26,1360.07 2097.18,1345.93 2102.1,1345.93 2107.02,1345.93 2111.94,1345.93 2116.86,1345.93 2121.79,1345.93 2126.71,1345.93 2131.63,1345.93 2136.55,1384.24 2141.47,1384.24 2146.39,1321.76 2151.31,1321.76 2156.23,1384.24 2161.15,1384.24 2166.07,1384.24 2170.99,1384.24 2175.91,1335.9 2180.83,1335.9 2185.75,1360.07 2190.67,1360.07 2195.59,1345.93 2200.51,1345.93 2205.43,1321.76 2210.36,1321.76 2215.28,1345.93 2220.2,1345.93 2225.12,1328.12 2230.04,1328.12 2234.96,1384.24 2239.88,1384.24 2244.8,1345.93 2249.72,1345.93 2254.64,1345.93 2259.56,1345.93 2264.48,1345.93 2269.4,1345.93 2274.32,1316.38 2279.24,1316.38 2284.16,1345.93 2289.08,1345.93 2294,1384.24 \"/>\n",
       "<polyline clip-path=\"url(#clip942)\" style=\"stroke:#e26f46; stroke-linecap:round; stroke-linejoin:round; stroke-width:4; stroke-opacity:1; fill:none\" points=\"335.627,139.539 340.547,139.539 345.468,165.209 350.388,165.209 355.309,177.46 360.23,177.46 365.15,222.323 370.071,222.323 374.991,203.248 379.912,203.248 384.832,284.181 389.753,284.181 394.673,261.791 399.594,261.791 404.515,325.989 409.435,325.989 414.356,337.24 419.276,337.24 424.197,410.427 429.117,410.427 434.038,389.694 438.958,389.694 443.879,519.904 448.799,519.904 453.72,472.414 458.641,472.414 463.561,502.812 468.482,502.812 473.402,507.412 478.323,507.412 483.243,545.159 488.164,545.159 493.084,598.191 498.005,598.191 502.925,577.438 507.846,577.438 512.767,595.935 517.687,595.935 522.608,646.685 527.528,646.685 532.449,669.289 537.369,669.289 542.29,663.486 547.21,663.486 552.131,693.964 557.051,693.964 561.972,856.59 566.893,856.59 571.813,739.862 576.734,739.862 581.654,758.642 586.575,758.642 591.495,827.379 596.416,827.379 601.336,819.681 606.257,819.681 611.177,829.949 616.098,829.949 621.019,885.799 625.939,885.799 630.86,898.982 635.78,898.982 640.701,904.567 645.621,904.567 650.542,958.632 655.462,958.632 660.383,975.094 665.303,975.094 670.224,981.445 675.145,981.445 680.065,1041.59 684.986,1041.59 689.906,1048.35 694.827,1048.35 699.747,1060.89 704.668,1060.89 709.588,1140.71 714.509,1140.71 719.43,1121.39 724.35,1121.39 729.271,1144.32 734.191,1144.32 739.112,1269.96 744.032,1269.96 748.953,1197.13 753.873,1197.13 758.794,1234.39 763.714,1234.39 768.635,1278.08 773.556,1278.08 778.476,1273.42 783.397,1273.42 788.317,1331.79 793.238,1331.79 798.158,1352.29 803.079,1352.29 807.999,1384.24 812.92,1384.24 817.84,1345.93 822.761,1345.93 827.682,1345.93 832.602,1345.93 837.523,1370.1 842.443,1370.1 847.364,1384.24 852.284,1384.24 857.205,1384.24 862.125,1384.24 867.046,1384.24 871.966,1384.24 876.887,1345.93 881.808,1345.93 886.728,1360.07 891.649,1360.07 896.569,1352.29 901.49,1352.29 906.41,1370.1 911.331,1370.1 916.251,1360.07 921.172,1360.07 926.092,1384.24 931.013,1384.24 935.934,1360.07 940.854,1360.07 945.775,1360.07 950.695,1360.07 955.616,1335.9 960.536,1335.9 965.457,1335.9 970.377,1335.9 975.298,1360.07 980.219,1360.07 985.139,1340.55 990.06,1340.55 994.98,1370.1 999.901,1370.1 1004.82,1360.07 1009.74,1360.07 1014.66,1370.1 1019.58,1370.1 1024.5,1340.55 1029.42,1340.55 1034.34,1384.24 1039.27,1384.24 1044.19,1384.24 1049.11,1384.24 1054.03,1345.93 1058.95,1345.93 1063.87,1340.55 1068.79,1340.55 1073.71,1370.1 1078.63,1370.1 1083.55,1360.07 1088.47,1360.07 1093.39,1384.24 1098.31,1384.24 1103.23,1370.1 1108.15,1370.1 1113.07,1340.55 1117.99,1340.55 1122.91,1360.07 1127.83,1360.07 1132.76,1370.1 1137.68,1370.1 1142.6,1384.24 1147.52,1384.24 1152.44,1384.24 1157.36,1384.24 1162.28,1345.93 1167.2,1345.93 1172.12,1370.1 1177.04,1370.1 1181.96,1360.07 1186.88,1360.07 1191.8,1370.1 1196.72,1370.1 1201.64,1360.07 1206.56,1360.07 1211.48,1340.55 1216.4,1340.55 1221.33,1352.29 1226.25,1352.29 1231.17,1352.29 1236.09,1352.29 1241.01,1352.29 1245.93,1352.29 1250.85,1370.1 1255.77,1370.1 1260.69,1360.07 1265.61,1360.07 1270.53,1340.55 1275.45,1340.55 1280.37,1384.24 1285.29,1384.24 1290.21,1331.79 1295.13,1331.79 1300.05,1360.07 1304.97,1360.07 1309.9,1360.07 1314.82,1360.07 1319.74,1331.79 1324.66,1331.79 1329.58,1340.55 1334.5,1340.55 1339.42,1345.93 1344.34,1345.93 1349.26,1331.79 1354.18,1331.79 1359.1,1360.07 1364.02,1360.07 1368.94,1340.55 1373.86,1340.55 1378.78,1331.79 1383.7,1331.79 1388.62,1370.1 1393.54,1370.1 1398.47,1370.1 1403.39,1370.1 1408.31,1340.55 1413.23,1340.55 1418.15,1370.1 1423.07,1370.1 1427.99,1360.07 1432.91,1360.07 1437.83,1352.29 1442.75,1352.29 1447.67,1335.9 1452.59,1335.9 1457.51,1384.24 1462.43,1384.24 1467.35,1360.07 1472.27,1360.07 1477.19,1352.29 1482.11,1352.29 1487.03,1352.29 1491.96,1352.29 1496.88,1370.1 1501.8,1370.1 1506.72,1370.1 1511.64,1370.1 1516.56,1360.07 1521.48,1360.07 1526.4,1370.1 1531.32,1370.1 1536.24,1318.97 1541.16,1318.97 1546.08,1352.29 1551,1352.29 1555.92,1352.29 1560.84,1352.29 1565.76,1370.1 1570.68,1370.1 1575.6,1360.07 1580.53,1360.07 1585.45,1360.07 1590.37,1360.07 1595.29,1345.93 1600.21,1345.93 1605.13,1331.79 1610.05,1331.79 1614.97,1360.07 1619.89,1360.07 1624.81,1360.07 1629.73,1360.07 1634.65,1384.24 1639.57,1384.24 1644.49,1370.1 1649.41,1370.1 1654.33,1384.24 1659.25,1384.24 1664.17,1370.1 1669.1,1370.1 1674.02,1360.07 1678.94,1360.07 1683.86,1352.29 1688.78,1352.29 1693.7,1360.07 1698.62,1360.07 1703.54,1345.93 1708.46,1345.93 1713.38,1360.07 1718.3,1360.07 1723.22,1352.29 1728.14,1352.29 1733.06,1352.29 1737.98,1352.29 1742.9,1370.1 1747.82,1370.1 1752.74,1370.1 1757.66,1370.1 1762.59,1384.24 1767.51,1384.24 1772.43,1370.1 1777.35,1370.1 1782.27,1352.29 1787.19,1352.29 1792.11,1345.93 1797.03,1345.93 1801.95,1360.07 1806.87,1360.07 1811.79,1384.24 1816.71,1384.24 1821.63,1340.55 1826.55,1340.55 1831.47,1340.55 1836.39,1340.55 1841.31,1360.07 1846.23,1360.07 1851.16,1352.29 1856.08,1352.29 1861,1331.79 1865.92,1331.79 1870.84,1360.07 1875.76,1360.07 1880.68,1340.55 1885.6,1340.55 1890.52,1370.1 1895.44,1370.1 1900.36,1360.07 1905.28,1360.07 1910.2,1345.93 1915.12,1345.93 1920.04,1345.93 1924.96,1345.93 1929.88,1352.29 1934.8,1352.29 1939.73,1345.93 1944.65,1345.93 1949.57,1352.29 1954.49,1352.29 1959.41,1335.9 1964.33,1335.9 1969.25,1316.38 1974.17,1316.38 1979.09,1345.93 1984.01,1345.93 1988.93,1340.55 1993.85,1340.55 1998.77,1360.07 2003.69,1360.07 2008.61,1345.93 2013.53,1345.93 2018.45,1370.1 2023.37,1370.1 2028.3,1352.29 2033.22,1352.29 2038.14,1384.24 2043.06,1384.24 2047.98,1384.24 2052.9,1384.24 2057.82,1352.29 2062.74,1352.29 2067.66,1370.1 2072.58,1370.1 2077.5,1384.24 2082.42,1384.24 2087.34,1340.55 2092.26,1340.55 2097.18,1331.79 2102.1,1331.79 2107.02,1370.1 2111.94,1370.1 2116.86,1360.07 2121.79,1360.07 2126.71,1360.07 2131.63,1360.07 2136.55,1331.79 2141.47,1331.79 2146.39,1384.24 2151.31,1384.24 2156.23,1384.24 2161.15,1384.24 2166.07,1352.29 2170.99,1352.29 2175.91,1340.55 2180.83,1340.55 2185.75,1370.1 2190.67,1370.1 2195.59,1331.79 2200.51,1331.79 2205.43,1352.29 2210.36,1352.29 2215.28,1360.07 2220.2,1360.07 2225.12,1340.55 2230.04,1340.55 2234.96,1345.93 2239.88,1345.93 2244.8,1370.1 2249.72,1370.1 2254.64,1335.9 2259.56,1335.9 2264.48,1335.9 2269.4,1335.9 2274.32,1340.55 2279.24,1340.55 2284.16,1345.93 2289.08,1345.93 2294,1384.24 \"/>\n",
       "<path clip-path=\"url(#clip940)\" d=\"M1829.75 248.629 L2283.56 248.629 L2283.56 93.1086 L1829.75 93.1086  Z\" fill=\"#ffffff\" fill-rule=\"evenodd\" fill-opacity=\"1\"/>\n",
       "<polyline clip-path=\"url(#clip940)\" style=\"stroke:#000000; stroke-linecap:round; stroke-linejoin:round; stroke-width:4; stroke-opacity:1; fill:none\" points=\"1829.75,248.629 2283.56,248.629 2283.56,93.1086 1829.75,93.1086 1829.75,248.629 \"/>\n",
       "<polyline clip-path=\"url(#clip940)\" style=\"stroke:#009af9; stroke-linecap:round; stroke-linejoin:round; stroke-width:4; stroke-opacity:1; fill:none\" points=\"1852.81,144.949 1991.2,144.949 \"/>\n",
       "<path clip-path=\"url(#clip940)\" d=\"M2030.66 146.025 Q2032.16 146.534 2033.57 148.201 Q2035.01 149.868 2036.44 152.784 L2041.19 162.229 L2036.17 162.229 L2031.75 153.363 Q2030.03 149.891 2028.41 148.756 Q2026.82 147.622 2024.04 147.622 L2018.94 147.622 L2018.94 162.229 L2014.27 162.229 L2014.27 127.669 L2024.82 127.669 Q2030.75 127.669 2033.67 130.145 Q2036.58 132.622 2036.58 137.622 Q2036.58 140.886 2035.06 143.039 Q2033.55 145.192 2030.66 146.025 M2018.94 131.511 L2018.94 143.78 L2024.82 143.78 Q2028.2 143.78 2029.92 142.229 Q2031.65 140.655 2031.65 137.622 Q2031.65 134.59 2029.92 133.062 Q2028.2 131.511 2024.82 131.511 L2018.94 131.511 Z\" fill=\"#000000\" fill-rule=\"nonzero\" fill-opacity=\"1\" /><path clip-path=\"url(#clip940)\" d=\"M2067.07 148.201 L2067.07 150.284 L2047.49 150.284 Q2047.76 154.682 2050.13 156.997 Q2052.51 159.289 2056.75 159.289 Q2059.2 159.289 2061.49 158.687 Q2063.81 158.085 2066.07 156.881 L2066.07 160.909 Q2063.78 161.881 2061.38 162.391 Q2058.97 162.9 2056.49 162.9 Q2050.29 162.9 2046.65 159.289 Q2043.04 155.678 2043.04 149.52 Q2043.04 143.155 2046.47 139.428 Q2049.92 135.678 2055.75 135.678 Q2060.98 135.678 2064.01 139.057 Q2067.07 142.414 2067.07 148.201 M2062.81 146.951 Q2062.76 143.456 2060.84 141.372 Q2058.94 139.289 2055.8 139.289 Q2052.23 139.289 2050.08 141.303 Q2047.95 143.317 2047.63 146.974 L2062.81 146.951 Z\" fill=\"#000000\" fill-rule=\"nonzero\" fill-opacity=\"1\" /><path clip-path=\"url(#clip940)\" d=\"M2085.84 149.196 Q2080.68 149.196 2078.69 150.377 Q2076.7 151.557 2076.7 154.405 Q2076.7 156.673 2078.18 158.016 Q2079.69 159.335 2082.25 159.335 Q2085.8 159.335 2087.93 156.835 Q2090.08 154.312 2090.08 150.145 L2090.08 149.196 L2085.84 149.196 M2094.34 147.437 L2094.34 162.229 L2090.08 162.229 L2090.08 158.293 Q2088.62 160.655 2086.44 161.789 Q2084.27 162.9 2081.12 162.9 Q2077.14 162.9 2074.78 160.678 Q2072.44 158.432 2072.44 154.682 Q2072.44 150.307 2075.36 148.085 Q2078.3 145.863 2084.11 145.863 L2090.08 145.863 L2090.08 145.446 Q2090.08 142.507 2088.13 140.909 Q2086.21 139.289 2082.72 139.289 Q2080.5 139.289 2078.39 139.821 Q2076.28 140.354 2074.34 141.419 L2074.34 137.483 Q2076.68 136.581 2078.88 136.141 Q2081.07 135.678 2083.16 135.678 Q2088.78 135.678 2091.56 138.594 Q2094.34 141.511 2094.34 147.437 Z\" fill=\"#000000\" fill-rule=\"nonzero\" fill-opacity=\"1\" /><path clip-path=\"url(#clip940)\" d=\"M2103.11 126.21 L2107.37 126.21 L2107.37 162.229 L2103.11 162.229 L2103.11 126.21 Z\" fill=\"#000000\" fill-rule=\"nonzero\" fill-opacity=\"1\" /><polyline clip-path=\"url(#clip940)\" style=\"stroke:#e26f46; stroke-linecap:round; stroke-linejoin:round; stroke-width:4; stroke-opacity:1; fill:none\" points=\"1852.81,196.789 1991.2,196.789 \"/>\n",
       "<path clip-path=\"url(#clip940)\" d=\"M2014.27 179.509 L2018.94 179.509 L2018.94 214.069 L2014.27 214.069 L2014.27 179.509 Z\" fill=\"#000000\" fill-rule=\"nonzero\" fill-opacity=\"1\" /><path clip-path=\"url(#clip940)\" d=\"M2048.25 193.12 Q2049.85 190.249 2052.07 188.884 Q2054.29 187.518 2057.3 187.518 Q2061.35 187.518 2063.55 190.365 Q2065.75 193.189 2065.75 198.421 L2065.75 214.069 L2061.47 214.069 L2061.47 198.559 Q2061.47 194.833 2060.15 193.027 Q2058.83 191.222 2056.12 191.222 Q2052.81 191.222 2050.89 193.421 Q2048.97 195.62 2048.97 199.416 L2048.97 214.069 L2044.69 214.069 L2044.69 198.559 Q2044.69 194.809 2043.37 193.027 Q2042.05 191.222 2039.29 191.222 Q2036.03 191.222 2034.11 193.444 Q2032.19 195.643 2032.19 199.416 L2032.19 214.069 L2027.9 214.069 L2027.9 188.143 L2032.19 188.143 L2032.19 192.171 Q2033.64 189.786 2035.68 188.652 Q2037.72 187.518 2040.52 187.518 Q2043.34 187.518 2045.31 188.953 Q2047.3 190.388 2048.25 193.12 Z\" fill=\"#000000\" fill-rule=\"nonzero\" fill-opacity=\"1\" /><path clip-path=\"url(#clip940)\" d=\"M2086.03 201.036 Q2080.87 201.036 2078.88 202.217 Q2076.88 203.397 2076.88 206.245 Q2076.88 208.513 2078.37 209.856 Q2079.87 211.175 2082.44 211.175 Q2085.98 211.175 2088.11 208.675 Q2090.26 206.152 2090.26 201.985 L2090.26 201.036 L2086.03 201.036 M2094.52 199.277 L2094.52 214.069 L2090.26 214.069 L2090.26 210.133 Q2088.81 212.495 2086.63 213.629 Q2084.45 214.74 2081.31 214.74 Q2077.32 214.74 2074.96 212.518 Q2072.63 210.272 2072.63 206.522 Q2072.63 202.147 2075.54 199.925 Q2078.48 197.703 2084.29 197.703 L2090.26 197.703 L2090.26 197.286 Q2090.26 194.347 2088.32 192.749 Q2086.4 191.129 2082.9 191.129 Q2080.68 191.129 2078.57 191.661 Q2076.47 192.194 2074.52 193.259 L2074.52 189.323 Q2076.86 188.421 2079.06 187.981 Q2081.26 187.518 2083.34 187.518 Q2088.97 187.518 2091.75 190.434 Q2094.52 193.351 2094.52 199.277 Z\" fill=\"#000000\" fill-rule=\"nonzero\" fill-opacity=\"1\" /><path clip-path=\"url(#clip940)\" d=\"M2120.36 200.805 Q2120.36 196.175 2118.44 193.629 Q2116.54 191.083 2113.09 191.083 Q2109.66 191.083 2107.74 193.629 Q2105.84 196.175 2105.84 200.805 Q2105.84 205.411 2107.74 207.958 Q2109.66 210.504 2113.09 210.504 Q2116.54 210.504 2118.44 207.958 Q2120.36 205.411 2120.36 200.805 M2124.62 210.851 Q2124.62 217.471 2121.68 220.689 Q2118.74 223.93 2112.67 223.93 Q2110.43 223.93 2108.44 223.582 Q2106.44 223.258 2104.57 222.564 L2104.57 218.42 Q2106.44 219.439 2108.27 219.925 Q2110.1 220.411 2112 220.411 Q2116.19 220.411 2118.27 218.212 Q2120.36 216.036 2120.36 211.615 L2120.36 209.508 Q2119.04 211.8 2116.98 212.934 Q2114.92 214.069 2112.05 214.069 Q2107.28 214.069 2104.36 210.434 Q2101.44 206.8 2101.44 200.805 Q2101.44 194.786 2104.36 191.152 Q2107.28 187.518 2112.05 187.518 Q2114.92 187.518 2116.98 188.652 Q2119.04 189.786 2120.36 192.078 L2120.36 188.143 L2124.62 188.143 L2124.62 210.851 Z\" fill=\"#000000\" fill-rule=\"nonzero\" fill-opacity=\"1\" /><path clip-path=\"url(#clip940)\" d=\"M2133.39 188.143 L2137.65 188.143 L2137.65 214.069 L2133.39 214.069 L2133.39 188.143 M2133.39 178.05 L2137.65 178.05 L2137.65 183.444 L2133.39 183.444 L2133.39 178.05 Z\" fill=\"#000000\" fill-rule=\"nonzero\" fill-opacity=\"1\" /><path clip-path=\"url(#clip940)\" d=\"M2168.11 198.421 L2168.11 214.069 L2163.85 214.069 L2163.85 198.559 Q2163.85 194.879 2162.42 193.05 Q2160.98 191.222 2158.11 191.222 Q2154.66 191.222 2152.67 193.421 Q2150.68 195.62 2150.68 199.416 L2150.68 214.069 L2146.4 214.069 L2146.4 188.143 L2150.68 188.143 L2150.68 192.171 Q2152.21 189.833 2154.27 188.675 Q2156.35 187.518 2159.06 187.518 Q2163.53 187.518 2165.82 190.296 Q2168.11 193.05 2168.11 198.421 Z\" fill=\"#000000\" fill-rule=\"nonzero\" fill-opacity=\"1\" /><path clip-path=\"url(#clip940)\" d=\"M2188.39 201.036 Q2183.23 201.036 2181.24 202.217 Q2179.24 203.397 2179.24 206.245 Q2179.24 208.513 2180.73 209.856 Q2182.23 211.175 2184.8 211.175 Q2188.34 211.175 2190.47 208.675 Q2192.62 206.152 2192.62 201.985 L2192.62 201.036 L2188.39 201.036 M2196.88 199.277 L2196.88 214.069 L2192.62 214.069 L2192.62 210.133 Q2191.17 212.495 2188.99 213.629 Q2186.81 214.74 2183.67 214.74 Q2179.68 214.74 2177.32 212.518 Q2174.99 210.272 2174.99 206.522 Q2174.99 202.147 2177.9 199.925 Q2180.84 197.703 2186.65 197.703 L2192.62 197.703 L2192.62 197.286 Q2192.62 194.347 2190.68 192.749 Q2188.76 191.129 2185.26 191.129 Q2183.04 191.129 2180.93 191.661 Q2178.83 192.194 2176.88 193.259 L2176.88 189.323 Q2179.22 188.421 2181.42 187.981 Q2183.62 187.518 2185.7 187.518 Q2191.33 187.518 2194.11 190.434 Q2196.88 193.351 2196.88 199.277 Z\" fill=\"#000000\" fill-rule=\"nonzero\" fill-opacity=\"1\" /><path clip-path=\"url(#clip940)\" d=\"M2205.66 188.143 L2209.92 188.143 L2209.92 214.069 L2205.66 214.069 L2205.66 188.143 M2205.66 178.05 L2209.92 178.05 L2209.92 183.444 L2205.66 183.444 L2205.66 178.05 Z\" fill=\"#000000\" fill-rule=\"nonzero\" fill-opacity=\"1\" /><path clip-path=\"url(#clip940)\" d=\"M2233.85 192.124 Q2233.13 191.708 2232.28 191.522 Q2231.44 191.314 2230.43 191.314 Q2226.81 191.314 2224.87 193.675 Q2222.95 196.013 2222.95 200.411 L2222.95 214.069 L2218.67 214.069 L2218.67 188.143 L2222.95 188.143 L2222.95 192.171 Q2224.29 189.809 2226.44 188.675 Q2228.6 187.518 2231.68 187.518 Q2232.12 187.518 2232.65 187.587 Q2233.18 187.634 2233.83 187.749 L2233.85 192.124 Z\" fill=\"#000000\" fill-rule=\"nonzero\" fill-opacity=\"1\" /><path clip-path=\"url(#clip940)\" d=\"M2249.11 216.476 Q2247.3 221.106 2245.59 222.518 Q2243.87 223.93 2241 223.93 L2237.6 223.93 L2237.6 220.365 L2240.1 220.365 Q2241.86 220.365 2242.83 219.532 Q2243.8 218.698 2244.99 215.596 L2245.75 213.652 L2235.26 188.143 L2239.78 188.143 L2247.88 208.421 L2255.98 188.143 L2260.49 188.143 L2249.11 216.476 Z\" fill=\"#000000\" fill-rule=\"nonzero\" fill-opacity=\"1\" /></svg>\n"
      ]
     },
     "execution_count": 85,
     "metadata": {},
     "output_type": "execute_result"
    }
   ],
   "source": [
    "refs = funt(400)\n",
    "plot(2:400,abs.(real.(funt.(collect(2:400)) .- refs)) .+ eps(), xlabel = \"N\", ylabel = \"integral erre\", label = \"Real\", yaxis =:log)\n",
    "plot!(2:400,abs.(imag.(funt.(collect(2:400)) .- refs)) .+ eps(), label = \"Imaginairy\")"
   ]
  },
  {
   "cell_type": "code",
   "execution_count": 86,
   "metadata": {},
   "outputs": [
    {
     "data": {
      "text/plain": [
       "-1.268423784379068 - 6.262351748276274e-16im"
      ]
     },
     "execution_count": 86,
     "metadata": {},
     "output_type": "execute_result"
    }
   ],
   "source": [
    "n = 50\n",
    "w = zeros(n-1); w[end] = 1\n",
    "N = 300;\n",
    "m = -1;\n",
    "funt = (x,t) -> SpecialFunction(w, x, t, m, N)\n",
    "funt(1.,1.)"
   ]
  },
  {
   "cell_type": "code",
   "execution_count": 87,
   "metadata": {},
   "outputs": [
    {
     "data": {
      "text/plain": [
       "-1.1102230246251565e-16 - 3.3306690738754696e-16im"
      ]
     },
     "execution_count": 87,
     "metadata": {},
     "output_type": "execute_result"
    }
   ],
   "source": [
    "w = [1]\n",
    "N = 200;\n",
    "m = 1;\n",
    "funt = (x,t) -> SpecialFunction(w, x, t, m, N)\n",
    "funt(1,1)+sqrt(pi)/(2*exp(1/4))"
   ]
  },
  {
   "cell_type": "code",
   "execution_count": 88,
   "metadata": {},
   "outputs": [
    {
     "data": {
      "text/plain": [
       "2.7755575615628914e-16 - 3.885780586188048e-16im"
      ]
     },
     "execution_count": 88,
     "metadata": {},
     "output_type": "execute_result"
    }
   ],
   "source": [
    "w = [1]\n",
    "N = 200;\n",
    "m = 2;\n",
    "funt = (x,t) -> SpecialFunction(w, x, t, m, N)\n",
    "funt(1,1)+sqrt(pi)/(4*exp(1/4))"
   ]
  },
  {
   "cell_type": "code",
   "execution_count": 89,
   "metadata": {},
   "outputs": [
    {
     "data": {
      "text/plain": [
       "-1.1102230246251565e-16 + 8.326672684688043e-17im"
      ]
     },
     "execution_count": 89,
     "metadata": {},
     "output_type": "execute_result"
    }
   ],
   "source": [
    "w = [1]\n",
    "N = 200;\n",
    "m = 3;\n",
    "funt = (x,t) -> SpecialFunction(w, x, t, m, N)\n",
    "funt(1,1)-5*sqrt(pi)/(8*exp(1/4))"
   ]
  },
  {
   "cell_type": "code",
   "execution_count": 90,
   "metadata": {},
   "outputs": [
    {
     "data": {
      "text/plain": [
       "1.1102230246251565e-16 - 8.326672684688043e-17im"
      ]
     },
     "execution_count": 90,
     "metadata": {},
     "output_type": "execute_result"
    }
   ],
   "source": [
    "w = [1]\n",
    "N = 200;\n",
    "m = 3;\n",
    "funt = (x,t) -> SpecialFunction(w, x, t, m, N)\n",
    "funt(-1,1)+5*sqrt(pi)/(8*exp(1/4))"
   ]
  },
  {
   "cell_type": "code",
   "execution_count": 91,
   "metadata": {},
   "outputs": [
    {
     "data": {
      "text/plain": [
       "2.313618127122215 - 2.5653050747183667e12im"
      ]
     },
     "metadata": {},
     "output_type": "display_data"
    },
    {
     "data": {
      "text/plain": [
       "-0.827974526467578 - 3.885780586188048e-16im"
      ]
     },
     "metadata": {},
     "output_type": "display_data"
    }
   ],
   "source": [
    "integrande = (k,x,t) -> exp(1im*k*x-k^2*t)/((1im*k)^1)\n",
    "s = curv(x -> x,-500,500, x ->  1, 20000)\n",
    "\n",
    "w = [1]\n",
    "N = 200;\n",
    "m = -1;\n",
    "funt = (x,t) -> SpecialFunction(w, x, t, m, N)\n",
    "\n",
    "x = 0.5; t = 0.1;\n",
    "\n",
    "Clen_Curt(k -> integrande(k,x,t),s)|>display\n",
    "funt(x,t)|>display"
   ]
  },
  {
   "cell_type": "code",
   "execution_count": 92,
   "metadata": {},
   "outputs": [
    {
     "ename": "LoadError",
     "evalue": "MethodError: no method matching zero(::Type{Any})\n\n\u001b[0mClosest candidates are:\n\u001b[0m  zero(::Type{Union{Missing, T}}) where T\n\u001b[0m\u001b[90m   @\u001b[39m \u001b[90mBase\u001b[39m \u001b[90m\u001b[4mmissing.jl:105\u001b[24m\u001b[39m\n\u001b[0m  zero(\u001b[91m::Union{Type{P}, P}\u001b[39m) where P<:Dates.Period\n\u001b[0m\u001b[90m   @\u001b[39m \u001b[36mDates\u001b[39m \u001b[90mC:\\Users\\wiets\\AppData\\Local\\Programs\\Julia-1.9.3\\share\\julia\\stdlib\\v1.9\\Dates\\src\\\u001b[39m\u001b[90m\u001b[4mperiods.jl:51\u001b[24m\u001b[39m\n\u001b[0m  zero(\u001b[91m::UniformScaling{T}\u001b[39m) where T\n\u001b[0m\u001b[90m   @\u001b[39m \u001b[32mLinearAlgebra\u001b[39m \u001b[90mC:\\Users\\wiets\\AppData\\Local\\Programs\\Julia-1.9.3\\share\\julia\\stdlib\\v1.9\\LinearAlgebra\\src\\\u001b[39m\u001b[90m\u001b[4muniformscaling.jl:135\u001b[24m\u001b[39m\n\u001b[0m  ...\n",
     "output_type": "error",
     "traceback": [
      "MethodError: no method matching zero(::Type{Any})\n\n\u001b[0mClosest candidates are:\n\u001b[0m  zero(::Type{Union{Missing, T}}) where T\n\u001b[0m\u001b[90m   @\u001b[39m \u001b[90mBase\u001b[39m \u001b[90m\u001b[4mmissing.jl:105\u001b[24m\u001b[39m\n\u001b[0m  zero(\u001b[91m::Union{Type{P}, P}\u001b[39m) where P<:Dates.Period\n\u001b[0m\u001b[90m   @\u001b[39m \u001b[36mDates\u001b[39m \u001b[90mC:\\Users\\wiets\\AppData\\Local\\Programs\\Julia-1.9.3\\share\\julia\\stdlib\\v1.9\\Dates\\src\\\u001b[39m\u001b[90m\u001b[4mperiods.jl:51\u001b[24m\u001b[39m\n\u001b[0m  zero(\u001b[91m::UniformScaling{T}\u001b[39m) where T\n\u001b[0m\u001b[90m   @\u001b[39m \u001b[32mLinearAlgebra\u001b[39m \u001b[90mC:\\Users\\wiets\\AppData\\Local\\Programs\\Julia-1.9.3\\share\\julia\\stdlib\\v1.9\\LinearAlgebra\\src\\\u001b[39m\u001b[90m\u001b[4muniformscaling.jl:135\u001b[24m\u001b[39m\n\u001b[0m  ...\n",
      "",
      "Stacktrace:",
      "  [1] zero(#unused#::Type{Any})",
      "    @ Base .\\missing.jl:106",
      "  [2] reduce_empty(#unused#::typeof(+), #unused#::Type{Any})",
      "    @ Base .\\reduce.jl:338",
      "  [3] reduce_empty(#unused#::typeof(Base.add_sum), #unused#::Type{Any})",
      "    @ Base .\\reduce.jl:347",
      "  [4] mapreduce_empty(#unused#::typeof(identity), op::Function, T::Type)",
      "    @ Base .\\reduce.jl:367",
      "  [5] reduce_empty(op::Base.MappingRF{typeof(identity), typeof(Base.add_sum)}, #unused#::Type{Any})",
      "    @ Base .\\reduce.jl:356",
      "  [6] reduce_empty_iter",
      "    @ .\\reduce.jl:379 [inlined]",
      "  [7] mapreduce_empty_iter(f::Function, op::Function, itr::Vector{Any}, ItrEltype::Base.HasEltype)",
      "    @ Base .\\reduce.jl:375",
      "  [8] _mapreduce(f::typeof(identity), op::typeof(Base.add_sum), #unused#::IndexLinear, A::Vector{Any})",
      "    @ Base .\\reduce.jl:427",
      "  [9] _mapreduce_dim",
      "    @ .\\reducedim.jl:365 [inlined]",
      " [10] #mapreduce#800",
      "    @ .\\reducedim.jl:357 [inlined]",
      " [11] mapreduce",
      "    @ .\\reducedim.jl:357 [inlined]",
      " [12] #_sum#810",
      "    @ .\\reducedim.jl:999 [inlined]",
      " [13] _sum",
      "    @ .\\reducedim.jl:999 [inlined]",
      " [14] #_sum#809",
      "    @ .\\reducedim.jl:998 [inlined]",
      " [15] _sum",
      "    @ .\\reducedim.jl:998 [inlined]",
      " [16] #sum#807",
      "    @ .\\reducedim.jl:994 [inlined]",
      " [17] sum(a::Vector{Any})",
      "    @ Base .\\reducedim.jl:994",
      " [18] dom_sectioner(path::Vector{Any})",
      "    @ Main .\\In[68]:3",
      " [19] fpath_maker(path::Vector{Any}, cate::Vector{Any})",
      "    @ Main .\\In[70]:2",
      " [20] Deformation",
      "    @ .\\In[72]:2 [inlined]",
      " [21] FullPath(w::Vector{Int64}, xx::ComplexF64, tt::ComplexF64)",
      "    @ Main .\\In[73]:29",
      " [22] Integrand(w::Vector{Int64}, xx::ComplexF64, tt::ComplexF64, m::Int64)",
      "    @ Main .\\In[80]:2",
      " [23] SpecialFunction(w::Vector{Int64}, xx::ComplexF64, tt::Int64, m::Int64, N::Int64)",
      "    @ Main .\\In[81]:5",
      " [24] (::var\"#237#238\")(x::ComplexF64, t::Int64)",
      "    @ Main .\\In[92]:1",
      " [25] top-level scope",
      "    @ In[92]:2"
     ]
    }
   ],
   "source": [
    "w = [1];\n",
    "SF = (x,t) -> SpecialFunction(w, x, t, -1, 300);\n",
    "SF(1-2+2im*pi*1,1)|>display"
   ]
  }
 ],
 "metadata": {
  "kernelspec": {
   "display_name": "Julia 1.9.3",
   "language": "julia",
   "name": "julia-1.9"
  },
  "language_info": {
   "file_extension": ".jl",
   "mimetype": "application/julia",
   "name": "julia",
   "version": "1.9.3"
  }
 },
 "nbformat": 4,
 "nbformat_minor": 2
}
