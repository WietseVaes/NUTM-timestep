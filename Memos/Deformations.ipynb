{
 "cells": [
  {
   "cell_type": "code",
   "execution_count": 1,
   "metadata": {},
   "outputs": [],
   "source": [
    "using LinearAlgebra, Plots"
   ]
  },
  {
   "cell_type": "markdown",
   "metadata": {},
   "source": [
    "# Morituri te salutant"
   ]
  },
  {
   "cell_type": "code",
   "execution_count": 2,
   "metadata": {},
   "outputs": [
    {
     "data": {
      "text/plain": [
       "OrderRoots (generic function with 1 method)"
      ]
     },
     "execution_count": 2,
     "metadata": {},
     "output_type": "execute_result"
    }
   ],
   "source": [
    "function OrderRoots(x)\n",
    "    angles = angle.(x)\n",
    "    sorted_indices = sortperm(angles)\n",
    "    return x[sorted_indices]\n",
    "end"
   ]
  },
  {
   "cell_type": "code",
   "execution_count": 3,
   "metadata": {},
   "outputs": [
    {
     "data": {
      "text/plain": [
       "P (generic function with 1 method)"
      ]
     },
     "execution_count": 3,
     "metadata": {},
     "output_type": "execute_result"
    }
   ],
   "source": [
    "ω(w) = (z) -> sum([w[i] .* z.^(i + 1) for i in 1:length(w)])\n",
    "Dω(w) = (z) -> sum([(i + 1) .* w[i] .* z.^(i) for i in 1:length(w)])\n",
    "DDω(w) = (z) -> sum([(i + 1) * i .* w[i] .* z.^(i-1) for i in 1:length(w)])\n",
    "\n",
    "Φ(w, x, t, k) = begin\n",
    "    ω_kt = ω(w)(k .* t.^(-1 / (length(w) + 1)))\n",
    "    return 1im*k .- 1im .* ω_kt .* t ./ x \n",
    "end\n",
    "\n",
    "DΦ(w, x, t, k) = begin\n",
    "    Dω_kt = Dω(w)(k .* t.^(-1 / (length(w) + 1))) .* t.^(-1 / (length(w) + 1))\n",
    "    return 1im .- 1im .* Dω_kt .* t ./ x \n",
    "end\n",
    "\n",
    "DDΦ(w, x, t, k) = begin\n",
    "    DDω_kt = DDω(w)(k .* t.^(-1 / (length(w) + 1))) .* t.^(-2 / (length(w) + 1))\n",
    "    return - 1im .* DDω_kt .* t ./ x \n",
    "end\n",
    "\n",
    "P(w, x, t, k) = begin\n",
    "    result = exp(x * Φ(w, x, t, k))\n",
    "    if result ≈ 0.0\n",
    "        return 0.0\n",
    "    else\n",
    "        return result\n",
    "    end\n",
    "end"
   ]
  },
  {
   "cell_type": "code",
   "execution_count": 4,
   "metadata": {},
   "outputs": [
    {
     "data": {
      "text/plain": [
       "k0 (generic function with 1 method)"
      ]
     },
     "execution_count": 4,
     "metadata": {},
     "output_type": "execute_result"
    }
   ],
   "source": [
    "function k0(w, x, t)\n",
    "    m = length(w);\n",
    "    a = ones(m)\n",
    "    a[1] = x/(-(m+1)*w[m])\n",
    "    for i1 = 1:(m-1)\n",
    "        a[i1+1] = (i1+1)*w[i1]*t^((m-i1)/(m+1))/ ((m+1)*w[m] )\n",
    "    end\n",
    "    A = zeros(m,m);\n",
    "    for i1=1:m-1\n",
    "        A[i1+1,i1] = 1.0;\n",
    "    end\n",
    "    A[:,m] = -1. .* a\n",
    "    E = A |> eigen\n",
    "    result = E.values |> filter(k -> imag(k) >= -1e-15)\n",
    "    return OrderRoots(result)\n",
    "end"
   ]
  },
  {
   "cell_type": "code",
   "execution_count": 5,
   "metadata": {},
   "outputs": [
    {
     "data": {
      "text/plain": [
       "ArgD (generic function with 1 method)"
      ]
     },
     "execution_count": 5,
     "metadata": {},
     "output_type": "execute_result"
    }
   ],
   "source": [
    "function ArgD(w, x, t)\n",
    "    arg = angle.(DDΦ(w, x, t, k0(w, x, t)))\n",
    "    return [arg]\n",
    "end"
   ]
  },
  {
   "cell_type": "code",
   "execution_count": 6,
   "metadata": {},
   "outputs": [
    {
     "data": {
      "text/plain": [
       "mod_offset (generic function with 1 method)"
      ]
     },
     "execution_count": 6,
     "metadata": {},
     "output_type": "execute_result"
    }
   ],
   "source": [
    "function mod_offset(x, m, offset)\n",
    "    return offset .+ mod.(x .- offset, m)\n",
    "end"
   ]
  },
  {
   "cell_type": "code",
   "execution_count": 7,
   "metadata": {},
   "outputs": [
    {
     "data": {
      "text/plain": [
       "Dirs (generic function with 1 method)"
      ]
     },
     "execution_count": 7,
     "metadata": {},
     "output_type": "execute_result"
    }
   ],
   "source": [
    "function Dirs(w, x, t)\n",
    "    argd = ArgD(w, x, t)\n",
    "    return mod_offset(-argd[1] ./ 2 .+ π / 2, π, -π / 2)\n",
    "end"
   ]
  },
  {
   "cell_type": "code",
   "execution_count": 8,
   "metadata": {},
   "outputs": [
    {
     "data": {
      "text/plain": [
       "ConnectPts (generic function with 1 method)"
      ]
     },
     "execution_count": 8,
     "metadata": {},
     "output_type": "execute_result"
    }
   ],
   "source": [
    "function ConnectPts(R, w)\n",
    "    if sign(w[end]) < 0\n",
    "        return [exp(1im * (4 * m + 1) / (2 * (length(w) + 1)) * π) * R for m in 0:length(w)]\n",
    "    else\n",
    "        return [exp(1im * (4 * m - 1) / (2 * (length(w) + 1)) * π) * R for m in 0:length(w)]\n",
    "    end\n",
    "end"
   ]
  },
  {
   "cell_type": "code",
   "execution_count": 9,
   "metadata": {},
   "outputs": [
    {
     "data": {
      "text/plain": [
       "SomeConnectPts (generic function with 1 method)"
      ]
     },
     "execution_count": 9,
     "metadata": {},
     "output_type": "execute_result"
    }
   ],
   "source": [
    "function SomeConnectPts(R, w)\n",
    "    if sign(w[end]) < 0\n",
    "        return [exp(im * (4 * m + 1) / (2 * (length(w) + 1)) * π) * R for m in 0:floor(length(w)/2.)]\n",
    "    else\n",
    "        return [exp(im * (4 * m - 1) / (2 * (length(w) + 1)) * π) * R for m in 0:floor(length(w)/2.) + 1]\n",
    "    end\n",
    "end"
   ]
  },
  {
   "cell_type": "code",
   "execution_count": 10,
   "metadata": {},
   "outputs": [
    {
     "data": {
      "text/plain": [
       "Min2 (generic function with 1 method)"
      ]
     },
     "execution_count": 10,
     "metadata": {},
     "output_type": "execute_result"
    }
   ],
   "source": [
    "\n",
    "function Min2(X, Y)\n",
    "    out = []\n",
    "    for x in X\n",
    "        temp = abs.(Y .- x)\n",
    "        p1 = argmin(temp)\n",
    "        temp[p1] = Inf\n",
    "        p2 = argmin(temp)\n",
    "        push!(out, (Y[p1], Y[p2]))\n",
    "    end\n",
    "    return out\n",
    "end"
   ]
  },
  {
   "cell_type": "code",
   "execution_count": 11,
   "metadata": {},
   "outputs": [
    {
     "data": {
      "text/plain": [
       "GlobalR (generic function with 1 method)"
      ]
     },
     "execution_count": 11,
     "metadata": {},
     "output_type": "execute_result"
    }
   ],
   "source": [
    "function GlobalR(w, x, t)\n",
    "    return (30 + abs(x)^2 + 1000 / length(w))^(1 / (length(w) + 1))\n",
    "end"
   ]
  },
  {
   "cell_type": "code",
   "execution_count": 12,
   "metadata": {},
   "outputs": [
    {
     "data": {
      "text/plain": [
       "Rads (generic function with 1 method)"
      ]
     },
     "execution_count": 12,
     "metadata": {},
     "output_type": "execute_result"
    }
   ],
   "source": [
    "function Rads(w, xx, tt)\n",
    "    K0 = k0(w, xx, tt)\n",
    "    close = Min2(K0, ConnectPts(GlobalR(w, xx, tt), w))\n",
    "    args = Dirs(w, xx, tt) \n",
    "    maxrads = []\n",
    "    if length(w) > 1\n",
    "        for i in 1:length(close)\n",
    "            θ = angle.(close[i][1])\n",
    "            ϕ = θ - args[i]\n",
    "            γ = K0[i] * exp(-1im * args[i])\n",
    "            s = imag(γ) / imag(exp(1im * ϕ))\n",
    "            r1 = s * exp(1im * ϕ) - γ\n",
    "            θ = angle.(close[i][2])\n",
    "            ϕ = θ - args[i]\n",
    "            γ = K0[i] * exp(-1im * args[i])\n",
    "            s = imag(γ) / imag(exp(1im * ϕ))\n",
    "            r2 = s * exp(1im * ϕ) - γ\n",
    "            push!(maxrads, minimum(abs.([r1, r2])))\n",
    "        end\n",
    "    else\n",
    "        maxrads = [Inf]\n",
    "    end\n",
    "    scalerads = [10 / sqrt(abs(DDΦ(w, xx, tt, k)) * abs(xx / 2)) for k in K0]\n",
    "    \n",
    "    return K0, args, close, [minimum(r) for r in zip(maxrads, scalerads)]\n",
    "end"
   ]
  },
  {
   "cell_type": "code",
   "execution_count": 13,
   "metadata": {},
   "outputs": [
    {
     "data": {
      "text/plain": [
       "SDPaths (generic function with 1 method)"
      ]
     },
     "execution_count": 13,
     "metadata": {},
     "output_type": "execute_result"
    }
   ],
   "source": [
    "function SDPaths(w, xx, tt)\n",
    "    K0, args, close, rads = Rads(w, xx, tt)\n",
    "    paths = [K0[i] .+ [rads[i] * exp(1im * (args[i] + π)) 0; 0 rads[i] * exp(1im * args[i])] for i in 1:length(K0)]\n",
    "    return K0, close, paths\n",
    "end"
   ]
  },
  {
   "cell_type": "code",
   "execution_count": 14,
   "metadata": {},
   "outputs": [
    {
     "data": {
      "text/plain": [
       "sortreal (generic function with 1 method)"
      ]
     },
     "execution_count": 14,
     "metadata": {},
     "output_type": "execute_result"
    }
   ],
   "source": [
    "function sortreal(x)\n",
    "    return sort(x, by=real)\n",
    "end"
   ]
  },
  {
   "cell_type": "code",
   "execution_count": 15,
   "metadata": {},
   "outputs": [
    {
     "data": {
      "text/plain": [
       "SmallXPath (generic function with 1 method)"
      ]
     },
     "execution_count": 15,
     "metadata": {},
     "output_type": "execute_result"
    }
   ],
   "source": [
    "function SmallXPath(w, x, t)\n",
    "    p1 = sortreal(SomeConnectPts(0.5, w))\n",
    "    p2 = sortreal(SomeConnectPts(GlobalR(w, x, t), w))\n",
    "    if length(w) == 1\n",
    "        p1 .+= 0.5\n",
    "    end\n",
    "    s = []\n",
    "    for i in 1:length(p1) - 1\n",
    "        push!(s, [p2[i], p1[i]], [p1[i], p1[i+1]], [p1[i+1], p2[i+1]])\n",
    "    end\n",
    "    return s\n",
    "end"
   ]
  },
  {
   "cell_type": "code",
   "execution_count": 16,
   "metadata": {},
   "outputs": [
    {
     "data": {
      "text/plain": [
       "SortAbsIm (generic function with 1 method)"
      ]
     },
     "execution_count": 16,
     "metadata": {},
     "output_type": "execute_result"
    }
   ],
   "source": [
    "function SortAbsIm(x)\n",
    "    return sort(x, by = x -> abs(imag(x)))\n",
    "end"
   ]
  },
  {
   "cell_type": "code",
   "execution_count": 17,
   "metadata": {},
   "outputs": [
    {
     "data": {
      "text/plain": [
       "LEOrder (generic function with 1 method)"
      ]
     },
     "execution_count": 17,
     "metadata": {},
     "output_type": "execute_result"
    }
   ],
   "source": [
    "function LEOrder(x, y)\n",
    "    if abs(real(x[1]) - real(y[1])) < eps()\n",
    "        return imag(x[1]) < imag(y[1])\n",
    "    else\n",
    "        return real(x[1]) < real(y[1])\n",
    "    end\n",
    "end"
   ]
  },
  {
   "cell_type": "code",
   "execution_count": 18,
   "metadata": {},
   "outputs": [
    {
     "data": {
      "text/plain": [
       "SortLE (generic function with 1 method)"
      ]
     },
     "execution_count": 18,
     "metadata": {},
     "output_type": "execute_result"
    }
   ],
   "source": [
    "function SortLE(x)\n",
    "    return sort(x, lt = LEOrder)\n",
    "end"
   ]
  },
  {
   "cell_type": "code",
   "execution_count": 19,
   "metadata": {},
   "outputs": [
    {
     "data": {
      "text/plain": [
       "FullPath (generic function with 1 method)"
      ]
     },
     "execution_count": 19,
     "metadata": {},
     "output_type": "execute_result"
    }
   ],
   "source": [
    "function FullPath(w, xx, tt)\n",
    "    if abs(xx) < 0.1\n",
    "        return reverse(SmallXPath(w, xx, tt))\n",
    "    end\n",
    "    K0, close, paths = SDPaths(w, xx, tt) # Correct\n",
    "    connect = []\n",
    "    flatpath = zeros(2*length(K0),2) .* 1im; # Correct\n",
    "    for i1 = 1:2:2*length(K0)-1\n",
    "        flatpath[i1,:] = paths[Int(floor((i1-1.)/2.)+1.)][1,:]\n",
    "        flatpath[i1+1,:] = paths[Int(floor((i1-1.)/2.)+1.)][2,:]\n",
    "    end\n",
    "    cpts = ConnectPts(GlobalR(w, xx, tt), w) # Correct\n",
    "    for i in 1:length(paths)\n",
    "        ends = [paths[i][1, 1], paths[i][2, 2]]\n",
    "        closer = [0., 0.] .* 1im\n",
    "        if abs(ends[1] - close[i][1]) < abs(ends[2] - close[i][1])\n",
    "            closer[1] = close[i][1]\n",
    "        else\n",
    "            closer[1] = close[i][2]\n",
    "        end\n",
    "        if abs(ends[2] - close[i][1]) < abs(ends[1] - close[i][1])\n",
    "            closer[2] = close[i][1]\n",
    "        else\n",
    "            closer[2] = close[i][2]\n",
    "        end\n",
    "        \n",
    "        push!(connect, flatpath[2*i-1,:], flatpath[2*i,:], [closer[1], ends[1]], [ends[2], closer[2]])\n",
    "    end\n",
    "    \n",
    "    return connect\n",
    "end"
   ]
  },
  {
   "cell_type": "code",
   "execution_count": null,
   "metadata": {},
   "outputs": [],
   "source": [
    "function plot_paths(path)\n",
    "    plot()\n",
    "    for i1 in 1:length(path)\n",
    "        plot!([real(path[i1][1]),real(path[i1][2])],[imag(path[i1][1]),imag(path[i1][2])], arrow=true, color =:black, linewidth =2, label =\"\")\n",
    "        scatter!([real(path[i1][1]),real(path[i1][2])],[imag(path[i1][1]),imag(path[i1][2])], color =:black, markersize =5, label =\"\")\n",
    "    end\n",
    "    plot!()|>display\n",
    "end"
   ]
  },
  {
   "cell_type": "code",
   "execution_count": null,
   "metadata": {},
   "outputs": [],
   "source": [
    "n = 50\n",
    "w = ones(n-1,1);\n",
    "xx = 0.1;\n",
    "tt = 0.0005^(n/4);\n",
    "path = FullPath(w, xx+eps(), tt); #CORRECT\n",
    "plot_paths(path)"
   ]
  },
  {
   "cell_type": "code",
   "execution_count": null,
   "metadata": {},
   "outputs": [],
   "source": []
  }
 ],
 "metadata": {
  "kernelspec": {
   "display_name": "Julia 1.9.3",
   "language": "julia",
   "name": "julia-1.9"
  },
  "language_info": {
   "file_extension": ".jl",
   "mimetype": "application/julia",
   "name": "julia",
   "version": "1.9.3"
  }
 },
 "nbformat": 4,
 "nbformat_minor": 2
}
