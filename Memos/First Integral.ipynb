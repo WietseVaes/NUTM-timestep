{
 "cells": [
  {
   "cell_type": "code",
   "execution_count": 1,
   "metadata": {},
   "outputs": [
    {
     "data": {
      "text/plain": [
       "SpecialFunction (generic function with 1 method)"
      ]
     },
     "execution_count": 1,
     "metadata": {},
     "output_type": "execute_result"
    }
   ],
   "source": [
    "using  Plots, LaTeXStrings\n",
    "include(\"..\\\\Code_jail\\\\Master_func.jl\")"
   ]
  },
  {
   "cell_type": "markdown",
   "metadata": {},
   "source": [
    "# We aim to approximate\n",
    "$$\n",
    "I = \\int_{-\\infty}^{\\infty}e^{ik x - \\omega(k)t}\\hat{q}_0(k)\\mathrm{d}k.\n",
    "$$\n",
    "Note that if we have\n",
    "$$\n",
    "\\tilde{q}(x) = q(φ^{-1}(x)), \\text{ with }\\tilde{q}:[-1,1]\\to\\mathbb{R}\\text{ and } \\varphi^{-1}:[-1,1]\\to[0,L]: x ↦ \\frac{L}{2}(x+1),\n",
    "$$\n",
    "then\n",
    "$$\n",
    "\\mathcal{F}(q)[k] = \\frac{L}{2}e^{-ik\\frac{L}{2}} \\mathcal{F}(\\tilde{q})\\left[\\frac{L}{2}k\\right].\n",
    "$$\n",
    "Thus, doing the decomposition of $\\tilde{q}$ and mapping back, we get\n",
    "where \n",
    "\\begin{align*}\n",
    "\\hat{q}_0(k) &= \\frac{L}{2}e^{-ik\\frac{L}{2}}\\int_{-1}^1 e^{-ixk\\frac{L}{2}}\\tilde{q}(x)\\mathrm{d}x = \\frac{L}{2}e^{-ik\\frac{L}{2}}\\left(\\sum_{j=0}^{N-1} -\\left(\\frac{2}{ikL}\\right)^{j+1}\\left[\\tilde{q}^{(j)}(x)e^{-ik\\frac{L}{2}x}\\right]_{-1}^1 + \\left(\\frac{2}{ikL}\\right)^{N}\\int_{-1}^1\\tilde{q}^{(N)}(x)e^{-ik\\frac{L}{2}x}\\mathrm{d}x\\right).\\\\\n",
    "&= \\sum_{j=0}^{N-1} -\\left(\\frac{2}{L}\\right)^{j}\\left(\\frac{1}{ik}\\right)^{j+1}\\left[\\tilde{q}^{(j)}(x)e^{-ik\\frac{L}{2}(x+1)}\\right]_{-1}^1 + \\left(\\frac{2}{L}\\right)^{N-1}\\left(\\frac{1}{ik}\\right)^{N}\\int_{-1}^1\\tilde{q}^{(N)}(x)e^{-ik\\frac{L}{2}(x+1)}\\mathrm{d}x\n",
    "\\end{align*}\n",
    "Then define\n",
    "$$\n",
    "I_m(x,t) = \\int_{-\\infty}^{\\infty}e^{ik x - \\omega(k)t}(ik)^{-m}\\mathrm{d}k\n",
    "$$\n",
    "We then have that the integral becomes\n",
    "$$\n",
    "I = \\sum_{j=0}^{N-1} \\left(\\frac{2}{L}\\right)^{j}\\left(\\tilde{q}^{(j)}(-1)I_{j+1}(x,t)-\\tilde{q}^{(j)}(1)I_{j+1}(x-L,t)\\right) + \\left(\\frac{2}{L}\\right)^{N-1}\\int_{-1}^{1}\\tilde{q}^{(N)}(s)I_N\\left(x-\\frac{L}{2}(s+1),t\\right)\\mathrm{d}s.\n",
    "$$\n"
   ]
  },
  {
   "cell_type": "code",
   "execution_count": 2,
   "metadata": {},
   "outputs": [
    {
     "data": {
      "text/plain": [
       "First_Int (generic function with 1 method)"
      ]
     },
     "execution_count": 2,
     "metadata": {},
     "output_type": "execute_result"
    }
   ],
   "source": [
    "function First_Int(w,x,t,f,N,L)\n",
    "    Res = 0; \n",
    "    SF = (m,x,t) -> SpecialFunction(w, x, t, -m, 300); #SF = ∫exp(ixt-w(k)t)*(ik)^m\n",
    "    for i1 = 0:(N-1)\n",
    "        Res += (2/L)^i1*(f(-1)*SF(i1+1,x,t)-f(1)*SF(i1+1,x-L,t));\n",
    "        f = Diff(f);\n",
    "    end\n",
    "    s = curv(x->x,-1,1,x->1,1000)\n",
    "    Res += (2/L)^(N-1)*Clen_Curt(z -> f.(z).*SF.(N,x-L/2*(z+1),t),s)\n",
    "    return Res\n",
    "end"
   ]
  },
  {
   "cell_type": "code",
   "execution_count": 16,
   "metadata": {},
   "outputs": [
    {
     "data": {
      "image/png": "[encoded data removed]",
      "image/svg+xml": [
       "<?xml version=\"1.0\" encoding=\"utf-8\"?>\n",
       "<svg xmlns=\"http://www.w3.org/2000/svg\" xmlns:xlink=\"http://www.w3.org/1999/xlink\" width=\"600\" height=\"400\" viewBox=\"0 0 2400 1600\">\n",
       "<defs>\n",
       "  <clipPath id=\"clip960\">\n",
       "    <rect x=\"0\" y=\"0\" width=\"2400\" height=\"1600\"/>\n",
       "  </clipPath>\n",
       "</defs>\n",
       "<path clip-path=\"url(#clip960)\" d=\"M0 1600 L2400 1600 L2400 0 L0 0  Z\" fill=\"#ffffff\" fill-rule=\"evenodd\" fill-opacity=\"1\"/>\n",
       "<defs>\n",
       "  <clipPath id=\"clip961\">\n",
       "    <rect x=\"480\" y=\"0\" width=\"1681\" height=\"1600\"/>\n",
       "  </clipPath>\n",
       "</defs>\n",
       "<path clip-path=\"url(#clip960)\" d=\"M213.739 1486.45 L2352.76 1486.45 L2352.76 47.2441 L213.739 47.2441  Z\" fill=\"#ffffff\" fill-rule=\"evenodd\" fill-opacity=\"1\"/>\n",
       "<defs>\n",
       "  <clipPath id=\"clip962\">\n",
       "    <rect x=\"213\" y=\"47\" width=\"2140\" height=\"1440\"/>\n",
       "  </clipPath>\n",
       "</defs>\n",
       "<polyline clip-path=\"url(#clip962)\" style=\"stroke:#000000; stroke-linecap:round; stroke-linejoin:round; stroke-width:2; stroke-opacity:0.1; fill:none\" points=\"617.757,1486.45 617.757,47.2441 \"/>\n",
       "<polyline clip-path=\"url(#clip962)\" style=\"stroke:#000000; stroke-linecap:round; stroke-linejoin:round; stroke-width:2; stroke-opacity:0.1; fill:none\" points=\"1047.11,1486.45 1047.11,47.2441 \"/>\n",
       "<polyline clip-path=\"url(#clip962)\" style=\"stroke:#000000; stroke-linecap:round; stroke-linejoin:round; stroke-width:2; stroke-opacity:0.1; fill:none\" points=\"1476.45,1486.45 1476.45,47.2441 \"/>\n",
       "<polyline clip-path=\"url(#clip962)\" style=\"stroke:#000000; stroke-linecap:round; stroke-linejoin:round; stroke-width:2; stroke-opacity:0.1; fill:none\" points=\"1905.8,1486.45 1905.8,47.2441 \"/>\n",
       "<polyline clip-path=\"url(#clip962)\" style=\"stroke:#000000; stroke-linecap:round; stroke-linejoin:round; stroke-width:2; stroke-opacity:0.1; fill:none\" points=\"2335.15,1486.45 2335.15,47.2441 \"/>\n",
       "<polyline clip-path=\"url(#clip960)\" style=\"stroke:#000000; stroke-linecap:round; stroke-linejoin:round; stroke-width:4; stroke-opacity:1; fill:none\" points=\"213.739,1486.45 2352.76,1486.45 \"/>\n",
       "<polyline clip-path=\"url(#clip960)\" style=\"stroke:#000000; stroke-linecap:round; stroke-linejoin:round; stroke-width:4; stroke-opacity:1; fill:none\" points=\"617.757,1486.45 617.757,1467.55 \"/>\n",
       "<polyline clip-path=\"url(#clip960)\" style=\"stroke:#000000; stroke-linecap:round; stroke-linejoin:round; stroke-width:4; stroke-opacity:1; fill:none\" points=\"1047.11,1486.45 1047.11,1467.55 \"/>\n",
       "<polyline clip-path=\"url(#clip960)\" style=\"stroke:#000000; stroke-linecap:round; stroke-linejoin:round; stroke-width:4; stroke-opacity:1; fill:none\" points=\"1476.45,1486.45 1476.45,1467.55 \"/>\n",
       "<polyline clip-path=\"url(#clip960)\" style=\"stroke:#000000; stroke-linecap:round; stroke-linejoin:round; stroke-width:4; stroke-opacity:1; fill:none\" points=\"1905.8,1486.45 1905.8,1467.55 \"/>\n",
       "<polyline clip-path=\"url(#clip960)\" style=\"stroke:#000000; stroke-linecap:round; stroke-linejoin:round; stroke-width:4; stroke-opacity:1; fill:none\" points=\"2335.15,1486.45 2335.15,1467.55 \"/>\n",
       "<path clip-path=\"url(#clip960)\" d=\"M592.444 1544.91 L600.083 1544.91 L600.083 1518.55 L591.773 1520.21 L591.773 1515.95 L600.037 1514.29 L604.713 1514.29 L604.713 1544.91 L612.351 1544.91 L612.351 1548.85 L592.444 1548.85 L592.444 1544.91 Z\" fill=\"#000000\" fill-rule=\"nonzero\" fill-opacity=\"1\" /><path clip-path=\"url(#clip960)\" d=\"M631.796 1517.37 Q628.185 1517.37 626.356 1520.93 Q624.55 1524.47 624.55 1531.6 Q624.55 1538.71 626.356 1542.27 Q628.185 1545.82 631.796 1545.82 Q635.43 1545.82 637.236 1542.27 Q639.064 1538.71 639.064 1531.6 Q639.064 1524.47 637.236 1520.93 Q635.43 1517.37 631.796 1517.37 M631.796 1513.66 Q637.606 1513.66 640.662 1518.27 Q643.74 1522.85 643.74 1531.6 Q643.74 1540.33 640.662 1544.94 Q637.606 1549.52 631.796 1549.52 Q625.986 1549.52 622.907 1544.94 Q619.851 1540.33 619.851 1531.6 Q619.851 1522.85 622.907 1518.27 Q625.986 1513.66 631.796 1513.66 Z\" fill=\"#000000\" fill-rule=\"nonzero\" fill-opacity=\"1\" /><path clip-path=\"url(#clip960)\" d=\"M1025.88 1544.91 L1042.2 1544.91 L1042.2 1548.85 L1020.25 1548.85 L1020.25 1544.91 Q1022.92 1542.16 1027.5 1537.53 Q1032.11 1532.88 1033.29 1531.53 Q1035.53 1529.01 1036.41 1527.27 Q1037.31 1525.51 1037.31 1523.82 Q1037.31 1521.07 1035.37 1519.33 Q1033.45 1517.6 1030.35 1517.6 Q1028.15 1517.6 1025.69 1518.36 Q1023.26 1519.13 1020.49 1520.68 L1020.49 1515.95 Q1023.31 1514.82 1025.76 1514.24 Q1028.22 1513.66 1030.25 1513.66 Q1035.62 1513.66 1038.82 1516.35 Q1042.01 1519.03 1042.01 1523.52 Q1042.01 1525.65 1041.2 1527.57 Q1040.42 1529.47 1038.31 1532.07 Q1037.73 1532.74 1034.63 1535.95 Q1031.53 1539.15 1025.88 1544.91 Z\" fill=\"#000000\" fill-rule=\"nonzero\" fill-opacity=\"1\" /><path clip-path=\"url(#clip960)\" d=\"M1062.01 1517.37 Q1058.4 1517.37 1056.57 1520.93 Q1054.77 1524.47 1054.77 1531.6 Q1054.77 1538.71 1056.57 1542.27 Q1058.4 1545.82 1062.01 1545.82 Q1065.65 1545.82 1067.45 1542.27 Q1069.28 1538.71 1069.28 1531.6 Q1069.28 1524.47 1067.45 1520.93 Q1065.65 1517.37 1062.01 1517.37 M1062.01 1513.66 Q1067.82 1513.66 1070.88 1518.27 Q1073.96 1522.85 1073.96 1531.6 Q1073.96 1540.33 1070.88 1544.94 Q1067.82 1549.52 1062.01 1549.52 Q1056.2 1549.52 1053.12 1544.94 Q1050.07 1540.33 1050.07 1531.6 Q1050.07 1522.85 1053.12 1518.27 Q1056.2 1513.66 1062.01 1513.66 Z\" fill=\"#000000\" fill-rule=\"nonzero\" fill-opacity=\"1\" /><path clip-path=\"url(#clip960)\" d=\"M1465.3 1530.21 Q1468.65 1530.93 1470.53 1533.2 Q1472.43 1535.47 1472.43 1538.8 Q1472.43 1543.92 1468.91 1546.72 Q1465.39 1549.52 1458.91 1549.52 Q1456.73 1549.52 1454.42 1549.08 Q1452.13 1548.66 1449.67 1547.81 L1449.67 1543.29 Q1451.62 1544.43 1453.93 1545.01 Q1456.25 1545.58 1458.77 1545.58 Q1463.17 1545.58 1465.46 1543.85 Q1467.77 1542.11 1467.77 1538.8 Q1467.77 1535.75 1465.62 1534.03 Q1463.49 1532.3 1459.67 1532.3 L1455.64 1532.3 L1455.64 1528.45 L1459.86 1528.45 Q1463.31 1528.45 1465.14 1527.09 Q1466.96 1525.7 1466.96 1523.11 Q1466.96 1520.45 1465.07 1519.03 Q1463.19 1517.6 1459.67 1517.6 Q1457.75 1517.6 1455.55 1518.01 Q1453.35 1518.43 1450.71 1519.31 L1450.71 1515.14 Q1453.38 1514.4 1455.69 1514.03 Q1458.03 1513.66 1460.09 1513.66 Q1465.41 1513.66 1468.51 1516.09 Q1471.62 1518.5 1471.62 1522.62 Q1471.62 1525.49 1469.97 1527.48 Q1468.33 1529.45 1465.3 1530.21 Z\" fill=\"#000000\" fill-rule=\"nonzero\" fill-opacity=\"1\" /><path clip-path=\"url(#clip960)\" d=\"M1491.29 1517.37 Q1487.68 1517.37 1485.85 1520.93 Q1484.05 1524.47 1484.05 1531.6 Q1484.05 1538.71 1485.85 1542.27 Q1487.68 1545.82 1491.29 1545.82 Q1494.93 1545.82 1496.73 1542.27 Q1498.56 1538.71 1498.56 1531.6 Q1498.56 1524.47 1496.73 1520.93 Q1494.93 1517.37 1491.29 1517.37 M1491.29 1513.66 Q1497.1 1513.66 1500.16 1518.27 Q1503.24 1522.85 1503.24 1531.6 Q1503.24 1540.33 1500.16 1544.94 Q1497.1 1549.52 1491.29 1549.52 Q1485.48 1549.52 1482.4 1544.94 Q1479.35 1540.33 1479.35 1531.6 Q1479.35 1522.85 1482.4 1518.27 Q1485.48 1513.66 1491.29 1513.66 Z\" fill=\"#000000\" fill-rule=\"nonzero\" fill-opacity=\"1\" /><path clip-path=\"url(#clip960)\" d=\"M1893.97 1518.36 L1882.17 1536.81 L1893.97 1536.81 L1893.97 1518.36 M1892.75 1514.29 L1898.63 1514.29 L1898.63 1536.81 L1903.56 1536.81 L1903.56 1540.7 L1898.63 1540.7 L1898.63 1548.85 L1893.97 1548.85 L1893.97 1540.7 L1878.37 1540.7 L1878.37 1536.19 L1892.75 1514.29 Z\" fill=\"#000000\" fill-rule=\"nonzero\" fill-opacity=\"1\" /><path clip-path=\"url(#clip960)\" d=\"M1921.29 1517.37 Q1917.68 1517.37 1915.85 1520.93 Q1914.04 1524.47 1914.04 1531.6 Q1914.04 1538.71 1915.85 1542.27 Q1917.68 1545.82 1921.29 1545.82 Q1924.92 1545.82 1926.73 1542.27 Q1928.56 1538.71 1928.56 1531.6 Q1928.56 1524.47 1926.73 1520.93 Q1924.92 1517.37 1921.29 1517.37 M1921.29 1513.66 Q1927.1 1513.66 1930.16 1518.27 Q1933.23 1522.85 1933.23 1531.6 Q1933.23 1540.33 1930.16 1544.94 Q1927.1 1549.52 1921.29 1549.52 Q1915.48 1549.52 1912.4 1544.94 Q1909.35 1540.33 1909.35 1531.6 Q1909.35 1522.85 1912.4 1518.27 Q1915.48 1513.66 1921.29 1513.66 Z\" fill=\"#000000\" fill-rule=\"nonzero\" fill-opacity=\"1\" /><path clip-path=\"url(#clip960)\" d=\"M2309.85 1514.29 L2328.21 1514.29 L2328.21 1518.22 L2314.13 1518.22 L2314.13 1526.7 Q2315.15 1526.35 2316.17 1526.19 Q2317.19 1526 2318.21 1526 Q2324 1526 2327.37 1529.17 Q2330.75 1532.34 2330.75 1537.76 Q2330.75 1543.34 2327.28 1546.44 Q2323.81 1549.52 2317.49 1549.52 Q2315.31 1549.52 2313.05 1549.15 Q2310.8 1548.78 2308.39 1548.04 L2308.39 1543.34 Q2310.48 1544.47 2312.7 1545.03 Q2314.92 1545.58 2317.4 1545.58 Q2321.4 1545.58 2323.74 1543.48 Q2326.08 1541.37 2326.08 1537.76 Q2326.08 1534.15 2323.74 1532.04 Q2321.4 1529.94 2317.4 1529.94 Q2315.52 1529.94 2313.65 1530.35 Q2311.8 1530.77 2309.85 1531.65 L2309.85 1514.29 Z\" fill=\"#000000\" fill-rule=\"nonzero\" fill-opacity=\"1\" /><path clip-path=\"url(#clip960)\" d=\"M2349.97 1517.37 Q2346.36 1517.37 2344.53 1520.93 Q2342.72 1524.47 2342.72 1531.6 Q2342.72 1538.71 2344.53 1542.27 Q2346.36 1545.82 2349.97 1545.82 Q2353.6 1545.82 2355.41 1542.27 Q2357.24 1538.71 2357.24 1531.6 Q2357.24 1524.47 2355.41 1520.93 Q2353.6 1517.37 2349.97 1517.37 M2349.97 1513.66 Q2355.78 1513.66 2358.83 1518.27 Q2361.91 1522.85 2361.91 1531.6 Q2361.91 1540.33 2358.83 1544.94 Q2355.78 1549.52 2349.97 1549.52 Q2344.16 1549.52 2341.08 1544.94 Q2338.02 1540.33 2338.02 1531.6 Q2338.02 1522.85 2341.08 1518.27 Q2344.16 1513.66 2349.97 1513.66 Z\" fill=\"#000000\" fill-rule=\"nonzero\" fill-opacity=\"1\" /><polyline clip-path=\"url(#clip962)\" style=\"stroke:#000000; stroke-linecap:round; stroke-linejoin:round; stroke-width:2; stroke-opacity:0.1; fill:none\" points=\"213.739,1463.54 2352.76,1463.54 \"/>\n",
       "<polyline clip-path=\"url(#clip962)\" style=\"stroke:#000000; stroke-linecap:round; stroke-linejoin:round; stroke-width:2; stroke-opacity:0.1; fill:none\" points=\"213.739,1143.12 2352.76,1143.12 \"/>\n",
       "<polyline clip-path=\"url(#clip962)\" style=\"stroke:#000000; stroke-linecap:round; stroke-linejoin:round; stroke-width:2; stroke-opacity:0.1; fill:none\" points=\"213.739,822.71 2352.76,822.71 \"/>\n",
       "<polyline clip-path=\"url(#clip962)\" style=\"stroke:#000000; stroke-linecap:round; stroke-linejoin:round; stroke-width:2; stroke-opacity:0.1; fill:none\" points=\"213.739,502.296 2352.76,502.296 \"/>\n",
       "<polyline clip-path=\"url(#clip962)\" style=\"stroke:#000000; stroke-linecap:round; stroke-linejoin:round; stroke-width:2; stroke-opacity:0.1; fill:none\" points=\"213.739,181.882 2352.76,181.882 \"/>\n",
       "<polyline clip-path=\"url(#clip960)\" style=\"stroke:#000000; stroke-linecap:round; stroke-linejoin:round; stroke-width:4; stroke-opacity:1; fill:none\" points=\"213.739,1486.45 213.739,47.2441 \"/>\n",
       "<polyline clip-path=\"url(#clip960)\" style=\"stroke:#000000; stroke-linecap:round; stroke-linejoin:round; stroke-width:4; stroke-opacity:1; fill:none\" points=\"213.739,1463.54 232.637,1463.54 \"/>\n",
       "<polyline clip-path=\"url(#clip960)\" style=\"stroke:#000000; stroke-linecap:round; stroke-linejoin:round; stroke-width:4; stroke-opacity:1; fill:none\" points=\"213.739,1143.12 232.637,1143.12 \"/>\n",
       "<polyline clip-path=\"url(#clip960)\" style=\"stroke:#000000; stroke-linecap:round; stroke-linejoin:round; stroke-width:4; stroke-opacity:1; fill:none\" points=\"213.739,822.71 232.637,822.71 \"/>\n",
       "<polyline clip-path=\"url(#clip960)\" style=\"stroke:#000000; stroke-linecap:round; stroke-linejoin:round; stroke-width:4; stroke-opacity:1; fill:none\" points=\"213.739,502.296 232.637,502.296 \"/>\n",
       "<polyline clip-path=\"url(#clip960)\" style=\"stroke:#000000; stroke-linecap:round; stroke-linejoin:round; stroke-width:4; stroke-opacity:1; fill:none\" points=\"213.739,181.882 232.637,181.882 \"/>\n",
       "<path clip-path=\"url(#clip960)\" d=\"M51.7951 1483.33 L59.4339 1483.33 L59.4339 1456.97 L51.1238 1458.63 L51.1238 1454.37 L59.3876 1452.71 L64.0635 1452.71 L64.0635 1483.33 L71.7024 1483.33 L71.7024 1487.27 L51.7951 1487.27 L51.7951 1483.33 Z\" fill=\"#000000\" fill-rule=\"nonzero\" fill-opacity=\"1\" /><path clip-path=\"url(#clip960)\" d=\"M91.1467 1455.78 Q87.5356 1455.78 85.7069 1459.35 Q83.9014 1462.89 83.9014 1470.02 Q83.9014 1477.13 85.7069 1480.69 Q87.5356 1484.23 91.1467 1484.23 Q94.781 1484.23 96.5865 1480.69 Q98.4152 1477.13 98.4152 1470.02 Q98.4152 1462.89 96.5865 1459.35 Q94.781 1455.78 91.1467 1455.78 M91.1467 1452.08 Q96.9569 1452.08 100.012 1456.69 Q103.091 1461.27 103.091 1470.02 Q103.091 1478.75 100.012 1483.35 Q96.9569 1487.94 91.1467 1487.94 Q85.3366 1487.94 82.2579 1483.35 Q79.2023 1478.75 79.2023 1470.02 Q79.2023 1461.27 82.2579 1456.69 Q85.3366 1452.08 91.1467 1452.08 Z\" fill=\"#000000\" fill-rule=\"nonzero\" fill-opacity=\"1\" /><path clip-path=\"url(#clip960)\" d=\"M103.091 1446.18 L127.203 1446.18 L127.203 1449.38 L103.091 1449.38 L103.091 1446.18 Z\" fill=\"#000000\" fill-rule=\"nonzero\" fill-opacity=\"1\" /><path clip-path=\"url(#clip960)\" d=\"M138.675 1456.66 L151.935 1456.66 L151.935 1459.86 L134.105 1459.86 L134.105 1456.66 Q136.268 1454.42 139.992 1450.66 Q143.735 1446.88 144.694 1445.79 Q146.518 1443.74 147.233 1442.33 Q147.966 1440.9 147.966 1439.52 Q147.966 1437.29 146.387 1435.88 Q144.826 1434.46 142.305 1434.46 Q140.519 1434.46 138.525 1435.09 Q136.55 1435.71 134.293 1436.97 L134.293 1433.13 Q136.588 1432.21 138.581 1431.74 Q140.575 1431.27 142.23 1431.27 Q146.593 1431.27 149.189 1433.45 Q151.784 1435.63 151.784 1439.28 Q151.784 1441.01 151.126 1442.57 Q150.487 1444.11 148.775 1446.22 Q148.305 1446.77 145.785 1449.38 Q143.264 1451.98 138.675 1456.66 Z\" fill=\"#000000\" fill-rule=\"nonzero\" fill-opacity=\"1\" /><path clip-path=\"url(#clip960)\" d=\"M168.034 1434.28 Q165.1 1434.28 163.614 1437.17 Q162.147 1440.05 162.147 1445.84 Q162.147 1451.62 163.614 1454.51 Q165.1 1457.39 168.034 1457.39 Q170.987 1457.39 172.454 1454.51 Q173.94 1451.62 173.94 1445.84 Q173.94 1440.05 172.454 1437.17 Q170.987 1434.28 168.034 1434.28 M168.034 1431.27 Q172.755 1431.27 175.238 1435.01 Q177.739 1438.73 177.739 1445.84 Q177.739 1452.93 175.238 1456.68 Q172.755 1460.4 168.034 1460.4 Q163.314 1460.4 160.812 1456.68 Q158.33 1452.93 158.33 1445.84 Q158.33 1438.73 160.812 1435.01 Q163.314 1431.27 168.034 1431.27 Z\" fill=\"#000000\" fill-rule=\"nonzero\" fill-opacity=\"1\" /><path clip-path=\"url(#clip960)\" d=\"M51.9455 1162.92 L59.5844 1162.92 L59.5844 1136.55 L51.2742 1138.22 L51.2742 1133.96 L59.5381 1132.29 L64.214 1132.29 L64.214 1162.92 L71.8528 1162.92 L71.8528 1166.85 L51.9455 1166.85 L51.9455 1162.92 Z\" fill=\"#000000\" fill-rule=\"nonzero\" fill-opacity=\"1\" /><path clip-path=\"url(#clip960)\" d=\"M91.2972 1135.37 Q87.6861 1135.37 85.8574 1138.94 Q84.0518 1142.48 84.0518 1149.61 Q84.0518 1156.71 85.8574 1160.28 Q87.6861 1163.82 91.2972 1163.82 Q94.9314 1163.82 96.737 1160.28 Q98.5657 1156.71 98.5657 1149.61 Q98.5657 1142.48 96.737 1138.94 Q94.9314 1135.37 91.2972 1135.37 M91.2972 1131.67 Q97.1073 1131.67 100.163 1136.27 Q103.242 1140.86 103.242 1149.61 Q103.242 1158.33 100.163 1162.94 Q97.1073 1167.52 91.2972 1167.52 Q85.487 1167.52 82.4083 1162.94 Q79.3528 1158.33 79.3528 1149.61 Q79.3528 1140.86 82.4083 1136.27 Q85.487 1131.67 91.2972 1131.67 Z\" fill=\"#000000\" fill-rule=\"nonzero\" fill-opacity=\"1\" /><path clip-path=\"url(#clip960)\" d=\"M103.242 1125.77 L127.353 1125.77 L127.353 1128.97 L103.242 1128.97 L103.242 1125.77 Z\" fill=\"#000000\" fill-rule=\"nonzero\" fill-opacity=\"1\" /><path clip-path=\"url(#clip960)\" d=\"M136.212 1136.24 L142.418 1136.24 L142.418 1114.82 L135.666 1116.18 L135.666 1112.72 L142.381 1111.36 L146.18 1111.36 L146.18 1136.24 L152.386 1136.24 L152.386 1139.44 L136.212 1139.44 L136.212 1136.24 Z\" fill=\"#000000\" fill-rule=\"nonzero\" fill-opacity=\"1\" /><path clip-path=\"url(#clip960)\" d=\"M160.173 1138.86 L160.173 1135.4 Q161.602 1136.07 163.069 1136.43 Q164.536 1136.79 165.947 1136.79 Q169.708 1136.79 171.683 1134.27 Q173.677 1131.73 173.959 1126.58 Q172.868 1128.19 171.194 1129.06 Q169.52 1129.92 167.489 1129.92 Q163.276 1129.92 160.812 1127.39 Q158.367 1124.83 158.367 1120.41 Q158.367 1116.08 160.925 1113.47 Q163.483 1110.85 167.733 1110.85 Q172.605 1110.85 175.162 1114.6 Q177.739 1118.32 177.739 1125.43 Q177.739 1132.07 174.579 1136.04 Q171.439 1139.99 166.116 1139.99 Q164.687 1139.99 163.22 1139.7 Q161.753 1139.42 160.173 1138.86 M167.733 1126.95 Q170.291 1126.95 171.777 1125.2 Q173.282 1123.45 173.282 1120.41 Q173.282 1117.38 171.777 1115.63 Q170.291 1113.86 167.733 1113.86 Q165.176 1113.86 163.671 1115.63 Q162.185 1117.38 162.185 1120.41 Q162.185 1123.45 163.671 1125.2 Q165.176 1126.95 167.733 1126.95 Z\" fill=\"#000000\" fill-rule=\"nonzero\" fill-opacity=\"1\" /><path clip-path=\"url(#clip960)\" d=\"M51.8703 842.502 L59.5092 842.502 L59.5092 816.137 L51.199 817.803 L51.199 813.544 L59.4629 811.878 L64.1388 811.878 L64.1388 842.502 L71.7776 842.502 L71.7776 846.438 L51.8703 846.438 L51.8703 842.502 Z\" fill=\"#000000\" fill-rule=\"nonzero\" fill-opacity=\"1\" /><path clip-path=\"url(#clip960)\" d=\"M91.2219 814.956 Q87.6109 814.956 85.7822 818.521 Q83.9766 822.063 83.9766 829.192 Q83.9766 836.299 85.7822 839.863 Q87.6109 843.405 91.2219 843.405 Q94.8562 843.405 96.6617 839.863 Q98.4904 836.299 98.4904 829.192 Q98.4904 822.063 96.6617 818.521 Q94.8562 814.956 91.2219 814.956 M91.2219 811.253 Q97.0321 811.253 100.088 815.859 Q103.166 820.442 103.166 829.192 Q103.166 837.919 100.088 842.526 Q97.0321 847.109 91.2219 847.109 Q85.4118 847.109 82.3331 842.526 Q79.2776 837.919 79.2776 829.192 Q79.2776 820.442 82.3331 815.859 Q85.4118 811.253 91.2219 811.253 Z\" fill=\"#000000\" fill-rule=\"nonzero\" fill-opacity=\"1\" /><path clip-path=\"url(#clip960)\" d=\"M103.166 805.354 L127.278 805.354 L127.278 808.551 L103.166 808.551 L103.166 805.354 Z\" fill=\"#000000\" fill-rule=\"nonzero\" fill-opacity=\"1\" /><path clip-path=\"url(#clip960)\" d=\"M136.136 815.83 L142.343 815.83 L142.343 794.408 L135.591 795.762 L135.591 792.301 L142.305 790.947 L146.104 790.947 L146.104 815.83 L152.311 815.83 L152.311 819.027 L136.136 819.027 L136.136 815.83 Z\" fill=\"#000000\" fill-rule=\"nonzero\" fill-opacity=\"1\" /><path clip-path=\"url(#clip960)\" d=\"M168.11 805.692 Q165.401 805.692 163.84 807.141 Q162.298 808.589 162.298 811.128 Q162.298 813.667 163.84 815.115 Q165.401 816.563 168.11 816.563 Q170.818 816.563 172.379 815.115 Q173.94 813.648 173.94 811.128 Q173.94 808.589 172.379 807.141 Q170.837 805.692 168.11 805.692 M164.31 804.075 Q161.865 803.473 160.492 801.799 Q159.138 800.125 159.138 797.718 Q159.138 794.351 161.527 792.395 Q163.934 790.439 168.11 790.439 Q172.304 790.439 174.692 792.395 Q177.081 794.351 177.081 797.718 Q177.081 800.125 175.708 801.799 Q174.354 803.473 171.928 804.075 Q174.673 804.714 176.197 806.576 Q177.739 808.438 177.739 811.128 Q177.739 815.209 175.238 817.391 Q172.755 819.573 168.11 819.573 Q163.464 819.573 160.963 817.391 Q158.48 815.209 158.48 811.128 Q158.48 808.438 160.022 806.576 Q161.564 804.714 164.31 804.075 M162.919 798.075 Q162.919 800.257 164.273 801.479 Q165.646 802.702 168.11 802.702 Q170.555 802.702 171.928 801.479 Q173.319 800.257 173.319 798.075 Q173.319 795.894 171.928 794.671 Q170.555 793.449 168.11 793.449 Q165.646 793.449 164.273 794.671 Q162.919 795.894 162.919 798.075 Z\" fill=\"#000000\" fill-rule=\"nonzero\" fill-opacity=\"1\" /><path clip-path=\"url(#clip960)\" d=\"M52.5286 522.088 L60.1674 522.088 L60.1674 495.723 L51.8573 497.389 L51.8573 493.13 L60.1211 491.463 L64.797 491.463 L64.797 522.088 L72.4359 522.088 L72.4359 526.023 L52.5286 526.023 L52.5286 522.088 Z\" fill=\"#000000\" fill-rule=\"nonzero\" fill-opacity=\"1\" /><path clip-path=\"url(#clip960)\" d=\"M91.8802 494.542 Q88.2691 494.542 86.4404 498.107 Q84.6349 501.648 84.6349 508.778 Q84.6349 515.885 86.4404 519.449 Q88.2691 522.991 91.8802 522.991 Q95.5145 522.991 97.32 519.449 Q99.1487 515.885 99.1487 508.778 Q99.1487 501.648 97.32 498.107 Q95.5145 494.542 91.8802 494.542 M91.8802 490.838 Q97.6904 490.838 100.746 495.445 Q103.825 500.028 103.825 508.778 Q103.825 517.505 100.746 522.111 Q97.6904 526.695 91.8802 526.695 Q86.0701 526.695 82.9914 522.111 Q79.9358 517.505 79.9358 508.778 Q79.9358 500.028 82.9914 495.445 Q86.0701 490.838 91.8802 490.838 Z\" fill=\"#000000\" fill-rule=\"nonzero\" fill-opacity=\"1\" /><path clip-path=\"url(#clip960)\" d=\"M103.825 484.94 L127.936 484.94 L127.936 488.137 L103.825 488.137 L103.825 484.94 Z\" fill=\"#000000\" fill-rule=\"nonzero\" fill-opacity=\"1\" /><path clip-path=\"url(#clip960)\" d=\"M136.795 495.416 L143.001 495.416 L143.001 473.994 L136.249 475.348 L136.249 471.887 L142.964 470.533 L146.763 470.533 L146.763 495.416 L152.969 495.416 L152.969 498.613 L136.795 498.613 L136.795 495.416 Z\" fill=\"#000000\" fill-rule=\"nonzero\" fill-opacity=\"1\" /><path clip-path=\"url(#clip960)\" d=\"M159.684 470.533 L177.739 470.533 L177.739 472.15 L167.545 498.613 L163.577 498.613 L173.169 473.73 L159.684 473.73 L159.684 470.533 Z\" fill=\"#000000\" fill-rule=\"nonzero\" fill-opacity=\"1\" /><path clip-path=\"url(#clip960)\" d=\"M51.6634 201.674 L59.3023 201.674 L59.3023 175.308 L50.9921 176.975 L50.9921 172.716 L59.256 171.049 L63.9319 171.049 L63.9319 201.674 L71.5707 201.674 L71.5707 205.609 L51.6634 205.609 L51.6634 201.674 Z\" fill=\"#000000\" fill-rule=\"nonzero\" fill-opacity=\"1\" /><path clip-path=\"url(#clip960)\" d=\"M91.0151 174.128 Q87.404 174.128 85.5753 177.693 Q83.7697 181.234 83.7697 188.364 Q83.7697 195.47 85.5753 199.035 Q87.404 202.577 91.0151 202.577 Q94.6493 202.577 96.4548 199.035 Q98.2835 195.47 98.2835 188.364 Q98.2835 181.234 96.4548 177.693 Q94.6493 174.128 91.0151 174.128 M91.0151 170.424 Q96.8252 170.424 99.8808 175.031 Q102.959 179.614 102.959 188.364 Q102.959 197.091 99.8808 201.697 Q96.8252 206.28 91.0151 206.28 Q85.2049 206.28 82.1262 201.697 Q79.0707 197.091 79.0707 188.364 Q79.0707 179.614 82.1262 175.031 Q85.2049 170.424 91.0151 170.424 Z\" fill=\"#000000\" fill-rule=\"nonzero\" fill-opacity=\"1\" /><path clip-path=\"url(#clip960)\" d=\"M102.959 164.526 L127.071 164.526 L127.071 167.723 L102.959 167.723 L102.959 164.526 Z\" fill=\"#000000\" fill-rule=\"nonzero\" fill-opacity=\"1\" /><path clip-path=\"url(#clip960)\" d=\"M135.929 175.001 L142.136 175.001 L142.136 153.579 L135.384 154.934 L135.384 151.473 L142.098 150.119 L145.898 150.119 L145.898 175.001 L152.104 175.001 L152.104 178.199 L135.929 178.199 L135.929 175.001 Z\" fill=\"#000000\" fill-rule=\"nonzero\" fill-opacity=\"1\" /><path clip-path=\"url(#clip960)\" d=\"M168.373 162.645 Q165.815 162.645 164.31 164.394 Q162.825 166.143 162.825 169.19 Q162.825 172.218 164.31 173.986 Q165.815 175.735 168.373 175.735 Q170.931 175.735 172.417 173.986 Q173.921 172.218 173.921 169.19 Q173.921 166.143 172.417 164.394 Q170.931 162.645 168.373 162.645 M175.915 150.739 L175.915 154.2 Q174.485 153.523 173.018 153.166 Q171.57 152.808 170.141 152.808 Q166.379 152.808 164.386 155.347 Q162.411 157.886 162.129 163.021 Q163.238 161.385 164.912 160.519 Q166.586 159.636 168.599 159.636 Q172.83 159.636 175.275 162.212 Q177.739 164.77 177.739 169.19 Q177.739 173.516 175.181 176.13 Q172.623 178.744 168.373 178.744 Q163.502 178.744 160.925 175.02 Q158.348 171.278 158.348 164.187 Q158.348 157.529 161.508 153.579 Q164.668 149.611 169.99 149.611 Q171.42 149.611 172.868 149.893 Q174.335 150.175 175.915 150.739 Z\" fill=\"#000000\" fill-rule=\"nonzero\" fill-opacity=\"1\" /><polyline clip-path=\"url(#clip962)\" style=\"stroke:#009af9; stroke-linecap:round; stroke-linejoin:round; stroke-width:4; stroke-opacity:1; fill:none\" points=\"274.277,880.756 317.212,810.775 360.147,733.537 403.082,744.374 446.017,829.558 488.952,804.261 531.887,658.11 574.822,1281.21 617.757,647.674 660.691,598.848 703.626,730.923 746.561,1445.72 789.496,721.448 832.431,1069.09 875.366,511.717 918.301,504.806 961.236,674.333 1004.17,492.268 1047.11,498.823 1090.04,1094.09 1132.98,456.672 1175.91,355.205 1218.85,654.634 1261.78,421.728 1304.71,514.692 1347.65,221.735 1390.58,465.961 1433.52,351.897 1476.45,284.099 1519.39,553.67 1562.32,472.584 1605.26,262.465 1648.19,409.595 1691.13,235.213 1734.06,364.651 1777,322.232 1819.93,182.344 1862.87,87.9763 1905.8,405.825 1948.74,425.749 1991.67,547.918 2034.61,179.423 2077.54,222.938 2120.48,245.829 2163.41,247.803 2206.35,104.81 2249.28,303.297 2292.22,115.113 \"/>\n",
       "<path clip-path=\"url(#clip960)\" d=\"M2015.12 198.898 L2281.46 198.898 L2281.46 95.2176 L2015.12 95.2176  Z\" fill=\"#ffffff\" fill-rule=\"evenodd\" fill-opacity=\"1\"/>\n",
       "<polyline clip-path=\"url(#clip960)\" style=\"stroke:#000000; stroke-linecap:round; stroke-linejoin:round; stroke-width:4; stroke-opacity:1; fill:none\" points=\"2015.12,198.898 2281.46,198.898 2281.46,95.2176 2015.12,95.2176 2015.12,198.898 \"/>\n",
       "<polyline clip-path=\"url(#clip960)\" style=\"stroke:#009af9; stroke-linecap:round; stroke-linejoin:round; stroke-width:4; stroke-opacity:1; fill:none\" points=\"2038.89,147.058 2181.49,147.058 \"/>\n",
       "<path clip-path=\"url(#clip960)\" d=\"M2219.1 166.745 Q2217.3 171.375 2215.58 172.787 Q2213.87 174.199 2211 174.199 L2207.6 174.199 L2207.6 170.634 L2210.1 170.634 Q2211.86 170.634 2212.83 169.8 Q2213.8 168.967 2214.98 165.865 L2215.74 163.921 L2205.26 138.412 L2209.77 138.412 L2217.87 158.689 L2225.98 138.412 L2230.49 138.412 L2219.1 166.745 Z\" fill=\"#000000\" fill-rule=\"nonzero\" fill-opacity=\"1\" /><path clip-path=\"url(#clip960)\" d=\"M2237.78 160.402 L2245.42 160.402 L2245.42 134.037 L2237.11 135.703 L2237.11 131.444 L2245.37 129.778 L2250.05 129.778 L2250.05 160.402 L2257.69 160.402 L2257.69 164.338 L2237.78 164.338 L2237.78 160.402 Z\" fill=\"#000000\" fill-rule=\"nonzero\" fill-opacity=\"1\" /></svg>\n"
      ],
      "text/html": [
       "<?xml version=\"1.0\" encoding=\"utf-8\"?>\n",
       "<svg xmlns=\"http://www.w3.org/2000/svg\" xmlns:xlink=\"http://www.w3.org/1999/xlink\" width=\"600\" height=\"400\" viewBox=\"0 0 2400 1600\">\n",
       "<defs>\n",
       "  <clipPath id=\"clip010\">\n",
       "    <rect x=\"0\" y=\"0\" width=\"2400\" height=\"1600\"/>\n",
       "  </clipPath>\n",
       "</defs>\n",
       "<path clip-path=\"url(#clip010)\" d=\"M0 1600 L2400 1600 L2400 0 L0 0  Z\" fill=\"#ffffff\" fill-rule=\"evenodd\" fill-opacity=\"1\"/>\n",
       "<defs>\n",
       "  <clipPath id=\"clip011\">\n",
       "    <rect x=\"480\" y=\"0\" width=\"1681\" height=\"1600\"/>\n",
       "  </clipPath>\n",
       "</defs>\n",
       "<path clip-path=\"url(#clip010)\" d=\"M213.739 1486.45 L2352.76 1486.45 L2352.76 47.2441 L213.739 47.2441  Z\" fill=\"#ffffff\" fill-rule=\"evenodd\" fill-opacity=\"1\"/>\n",
       "<defs>\n",
       "  <clipPath id=\"clip012\">\n",
       "    <rect x=\"213\" y=\"47\" width=\"2140\" height=\"1440\"/>\n",
       "  </clipPath>\n",
       "</defs>\n",
       "<polyline clip-path=\"url(#clip012)\" style=\"stroke:#000000; stroke-linecap:round; stroke-linejoin:round; stroke-width:2; stroke-opacity:0.1; fill:none\" points=\"617.757,1486.45 617.757,47.2441 \"/>\n",
       "<polyline clip-path=\"url(#clip012)\" style=\"stroke:#000000; stroke-linecap:round; stroke-linejoin:round; stroke-width:2; stroke-opacity:0.1; fill:none\" points=\"1047.11,1486.45 1047.11,47.2441 \"/>\n",
       "<polyline clip-path=\"url(#clip012)\" style=\"stroke:#000000; stroke-linecap:round; stroke-linejoin:round; stroke-width:2; stroke-opacity:0.1; fill:none\" points=\"1476.45,1486.45 1476.45,47.2441 \"/>\n",
       "<polyline clip-path=\"url(#clip012)\" style=\"stroke:#000000; stroke-linecap:round; stroke-linejoin:round; stroke-width:2; stroke-opacity:0.1; fill:none\" points=\"1905.8,1486.45 1905.8,47.2441 \"/>\n",
       "<polyline clip-path=\"url(#clip012)\" style=\"stroke:#000000; stroke-linecap:round; stroke-linejoin:round; stroke-width:2; stroke-opacity:0.1; fill:none\" points=\"2335.15,1486.45 2335.15,47.2441 \"/>\n",
       "<polyline clip-path=\"url(#clip010)\" style=\"stroke:#000000; stroke-linecap:round; stroke-linejoin:round; stroke-width:4; stroke-opacity:1; fill:none\" points=\"213.739,1486.45 2352.76,1486.45 \"/>\n",
       "<polyline clip-path=\"url(#clip010)\" style=\"stroke:#000000; stroke-linecap:round; stroke-linejoin:round; stroke-width:4; stroke-opacity:1; fill:none\" points=\"617.757,1486.45 617.757,1467.55 \"/>\n",
       "<polyline clip-path=\"url(#clip010)\" style=\"stroke:#000000; stroke-linecap:round; stroke-linejoin:round; stroke-width:4; stroke-opacity:1; fill:none\" points=\"1047.11,1486.45 1047.11,1467.55 \"/>\n",
       "<polyline clip-path=\"url(#clip010)\" style=\"stroke:#000000; stroke-linecap:round; stroke-linejoin:round; stroke-width:4; stroke-opacity:1; fill:none\" points=\"1476.45,1486.45 1476.45,1467.55 \"/>\n",
       "<polyline clip-path=\"url(#clip010)\" style=\"stroke:#000000; stroke-linecap:round; stroke-linejoin:round; stroke-width:4; stroke-opacity:1; fill:none\" points=\"1905.8,1486.45 1905.8,1467.55 \"/>\n",
       "<polyline clip-path=\"url(#clip010)\" style=\"stroke:#000000; stroke-linecap:round; stroke-linejoin:round; stroke-width:4; stroke-opacity:1; fill:none\" points=\"2335.15,1486.45 2335.15,1467.55 \"/>\n",
       "<path clip-path=\"url(#clip010)\" d=\"M592.444 1544.91 L600.083 1544.91 L600.083 1518.55 L591.773 1520.21 L591.773 1515.95 L600.037 1514.29 L604.713 1514.29 L604.713 1544.91 L612.351 1544.91 L612.351 1548.85 L592.444 1548.85 L592.444 1544.91 Z\" fill=\"#000000\" fill-rule=\"nonzero\" fill-opacity=\"1\" /><path clip-path=\"url(#clip010)\" d=\"M631.796 1517.37 Q628.185 1517.37 626.356 1520.93 Q624.55 1524.47 624.55 1531.6 Q624.55 1538.71 626.356 1542.27 Q628.185 1545.82 631.796 1545.82 Q635.43 1545.82 637.236 1542.27 Q639.064 1538.71 639.064 1531.6 Q639.064 1524.47 637.236 1520.93 Q635.43 1517.37 631.796 1517.37 M631.796 1513.66 Q637.606 1513.66 640.662 1518.27 Q643.74 1522.85 643.74 1531.6 Q643.74 1540.33 640.662 1544.94 Q637.606 1549.52 631.796 1549.52 Q625.986 1549.52 622.907 1544.94 Q619.851 1540.33 619.851 1531.6 Q619.851 1522.85 622.907 1518.27 Q625.986 1513.66 631.796 1513.66 Z\" fill=\"#000000\" fill-rule=\"nonzero\" fill-opacity=\"1\" /><path clip-path=\"url(#clip010)\" d=\"M1025.88 1544.91 L1042.2 1544.91 L1042.2 1548.85 L1020.25 1548.85 L1020.25 1544.91 Q1022.92 1542.16 1027.5 1537.53 Q1032.11 1532.88 1033.29 1531.53 Q1035.53 1529.01 1036.41 1527.27 Q1037.31 1525.51 1037.31 1523.82 Q1037.31 1521.07 1035.37 1519.33 Q1033.45 1517.6 1030.35 1517.6 Q1028.15 1517.6 1025.69 1518.36 Q1023.26 1519.13 1020.49 1520.68 L1020.49 1515.95 Q1023.31 1514.82 1025.76 1514.24 Q1028.22 1513.66 1030.25 1513.66 Q1035.62 1513.66 1038.82 1516.35 Q1042.01 1519.03 1042.01 1523.52 Q1042.01 1525.65 1041.2 1527.57 Q1040.42 1529.47 1038.31 1532.07 Q1037.73 1532.74 1034.63 1535.95 Q1031.53 1539.15 1025.88 1544.91 Z\" fill=\"#000000\" fill-rule=\"nonzero\" fill-opacity=\"1\" /><path clip-path=\"url(#clip010)\" d=\"M1062.01 1517.37 Q1058.4 1517.37 1056.57 1520.93 Q1054.77 1524.47 1054.77 1531.6 Q1054.77 1538.71 1056.57 1542.27 Q1058.4 1545.82 1062.01 1545.82 Q1065.65 1545.82 1067.45 1542.27 Q1069.28 1538.71 1069.28 1531.6 Q1069.28 1524.47 1067.45 1520.93 Q1065.65 1517.37 1062.01 1517.37 M1062.01 1513.66 Q1067.82 1513.66 1070.88 1518.27 Q1073.96 1522.85 1073.96 1531.6 Q1073.96 1540.33 1070.88 1544.94 Q1067.82 1549.52 1062.01 1549.52 Q1056.2 1549.52 1053.12 1544.94 Q1050.07 1540.33 1050.07 1531.6 Q1050.07 1522.85 1053.12 1518.27 Q1056.2 1513.66 1062.01 1513.66 Z\" fill=\"#000000\" fill-rule=\"nonzero\" fill-opacity=\"1\" /><path clip-path=\"url(#clip010)\" d=\"M1465.3 1530.21 Q1468.65 1530.93 1470.53 1533.2 Q1472.43 1535.47 1472.43 1538.8 Q1472.43 1543.92 1468.91 1546.72 Q1465.39 1549.52 1458.91 1549.52 Q1456.73 1549.52 1454.42 1549.08 Q1452.13 1548.66 1449.67 1547.81 L1449.67 1543.29 Q1451.62 1544.43 1453.93 1545.01 Q1456.25 1545.58 1458.77 1545.58 Q1463.17 1545.58 1465.46 1543.85 Q1467.77 1542.11 1467.77 1538.8 Q1467.77 1535.75 1465.62 1534.03 Q1463.49 1532.3 1459.67 1532.3 L1455.64 1532.3 L1455.64 1528.45 L1459.86 1528.45 Q1463.31 1528.45 1465.14 1527.09 Q1466.96 1525.7 1466.96 1523.11 Q1466.96 1520.45 1465.07 1519.03 Q1463.19 1517.6 1459.67 1517.6 Q1457.75 1517.6 1455.55 1518.01 Q1453.35 1518.43 1450.71 1519.31 L1450.71 1515.14 Q1453.38 1514.4 1455.69 1514.03 Q1458.03 1513.66 1460.09 1513.66 Q1465.41 1513.66 1468.51 1516.09 Q1471.62 1518.5 1471.62 1522.62 Q1471.62 1525.49 1469.97 1527.48 Q1468.33 1529.45 1465.3 1530.21 Z\" fill=\"#000000\" fill-rule=\"nonzero\" fill-opacity=\"1\" /><path clip-path=\"url(#clip010)\" d=\"M1491.29 1517.37 Q1487.68 1517.37 1485.85 1520.93 Q1484.05 1524.47 1484.05 1531.6 Q1484.05 1538.71 1485.85 1542.27 Q1487.68 1545.82 1491.29 1545.82 Q1494.93 1545.82 1496.73 1542.27 Q1498.56 1538.71 1498.56 1531.6 Q1498.56 1524.47 1496.73 1520.93 Q1494.93 1517.37 1491.29 1517.37 M1491.29 1513.66 Q1497.1 1513.66 1500.16 1518.27 Q1503.24 1522.85 1503.24 1531.6 Q1503.24 1540.33 1500.16 1544.94 Q1497.1 1549.52 1491.29 1549.52 Q1485.48 1549.52 1482.4 1544.94 Q1479.35 1540.33 1479.35 1531.6 Q1479.35 1522.85 1482.4 1518.27 Q1485.48 1513.66 1491.29 1513.66 Z\" fill=\"#000000\" fill-rule=\"nonzero\" fill-opacity=\"1\" /><path clip-path=\"url(#clip010)\" d=\"M1893.97 1518.36 L1882.17 1536.81 L1893.97 1536.81 L1893.97 1518.36 M1892.75 1514.29 L1898.63 1514.29 L1898.63 1536.81 L1903.56 1536.81 L1903.56 1540.7 L1898.63 1540.7 L1898.63 1548.85 L1893.97 1548.85 L1893.97 1540.7 L1878.37 1540.7 L1878.37 1536.19 L1892.75 1514.29 Z\" fill=\"#000000\" fill-rule=\"nonzero\" fill-opacity=\"1\" /><path clip-path=\"url(#clip010)\" d=\"M1921.29 1517.37 Q1917.68 1517.37 1915.85 1520.93 Q1914.04 1524.47 1914.04 1531.6 Q1914.04 1538.71 1915.85 1542.27 Q1917.68 1545.82 1921.29 1545.82 Q1924.92 1545.82 1926.73 1542.27 Q1928.56 1538.71 1928.56 1531.6 Q1928.56 1524.47 1926.73 1520.93 Q1924.92 1517.37 1921.29 1517.37 M1921.29 1513.66 Q1927.1 1513.66 1930.16 1518.27 Q1933.23 1522.85 1933.23 1531.6 Q1933.23 1540.33 1930.16 1544.94 Q1927.1 1549.52 1921.29 1549.52 Q1915.48 1549.52 1912.4 1544.94 Q1909.35 1540.33 1909.35 1531.6 Q1909.35 1522.85 1912.4 1518.27 Q1915.48 1513.66 1921.29 1513.66 Z\" fill=\"#000000\" fill-rule=\"nonzero\" fill-opacity=\"1\" /><path clip-path=\"url(#clip010)\" d=\"M2309.85 1514.29 L2328.21 1514.29 L2328.21 1518.22 L2314.13 1518.22 L2314.13 1526.7 Q2315.15 1526.35 2316.17 1526.19 Q2317.19 1526 2318.21 1526 Q2324 1526 2327.37 1529.17 Q2330.75 1532.34 2330.75 1537.76 Q2330.75 1543.34 2327.28 1546.44 Q2323.81 1549.52 2317.49 1549.52 Q2315.31 1549.52 2313.05 1549.15 Q2310.8 1548.78 2308.39 1548.04 L2308.39 1543.34 Q2310.48 1544.47 2312.7 1545.03 Q2314.92 1545.58 2317.4 1545.58 Q2321.4 1545.58 2323.74 1543.48 Q2326.08 1541.37 2326.08 1537.76 Q2326.08 1534.15 2323.74 1532.04 Q2321.4 1529.94 2317.4 1529.94 Q2315.52 1529.94 2313.65 1530.35 Q2311.8 1530.77 2309.85 1531.65 L2309.85 1514.29 Z\" fill=\"#000000\" fill-rule=\"nonzero\" fill-opacity=\"1\" /><path clip-path=\"url(#clip010)\" d=\"M2349.97 1517.37 Q2346.36 1517.37 2344.53 1520.93 Q2342.72 1524.47 2342.72 1531.6 Q2342.72 1538.71 2344.53 1542.27 Q2346.36 1545.82 2349.97 1545.82 Q2353.6 1545.82 2355.41 1542.27 Q2357.24 1538.71 2357.24 1531.6 Q2357.24 1524.47 2355.41 1520.93 Q2353.6 1517.37 2349.97 1517.37 M2349.97 1513.66 Q2355.78 1513.66 2358.83 1518.27 Q2361.91 1522.85 2361.91 1531.6 Q2361.91 1540.33 2358.83 1544.94 Q2355.78 1549.52 2349.97 1549.52 Q2344.16 1549.52 2341.08 1544.94 Q2338.02 1540.33 2338.02 1531.6 Q2338.02 1522.85 2341.08 1518.27 Q2344.16 1513.66 2349.97 1513.66 Z\" fill=\"#000000\" fill-rule=\"nonzero\" fill-opacity=\"1\" /><polyline clip-path=\"url(#clip012)\" style=\"stroke:#000000; stroke-linecap:round; stroke-linejoin:round; stroke-width:2; stroke-opacity:0.1; fill:none\" points=\"213.739,1463.54 2352.76,1463.54 \"/>\n",
       "<polyline clip-path=\"url(#clip012)\" style=\"stroke:#000000; stroke-linecap:round; stroke-linejoin:round; stroke-width:2; stroke-opacity:0.1; fill:none\" points=\"213.739,1143.12 2352.76,1143.12 \"/>\n",
       "<polyline clip-path=\"url(#clip012)\" style=\"stroke:#000000; stroke-linecap:round; stroke-linejoin:round; stroke-width:2; stroke-opacity:0.1; fill:none\" points=\"213.739,822.71 2352.76,822.71 \"/>\n",
       "<polyline clip-path=\"url(#clip012)\" style=\"stroke:#000000; stroke-linecap:round; stroke-linejoin:round; stroke-width:2; stroke-opacity:0.1; fill:none\" points=\"213.739,502.296 2352.76,502.296 \"/>\n",
       "<polyline clip-path=\"url(#clip012)\" style=\"stroke:#000000; stroke-linecap:round; stroke-linejoin:round; stroke-width:2; stroke-opacity:0.1; fill:none\" points=\"213.739,181.882 2352.76,181.882 \"/>\n",
       "<polyline clip-path=\"url(#clip010)\" style=\"stroke:#000000; stroke-linecap:round; stroke-linejoin:round; stroke-width:4; stroke-opacity:1; fill:none\" points=\"213.739,1486.45 213.739,47.2441 \"/>\n",
       "<polyline clip-path=\"url(#clip010)\" style=\"stroke:#000000; stroke-linecap:round; stroke-linejoin:round; stroke-width:4; stroke-opacity:1; fill:none\" points=\"213.739,1463.54 232.637,1463.54 \"/>\n",
       "<polyline clip-path=\"url(#clip010)\" style=\"stroke:#000000; stroke-linecap:round; stroke-linejoin:round; stroke-width:4; stroke-opacity:1; fill:none\" points=\"213.739,1143.12 232.637,1143.12 \"/>\n",
       "<polyline clip-path=\"url(#clip010)\" style=\"stroke:#000000; stroke-linecap:round; stroke-linejoin:round; stroke-width:4; stroke-opacity:1; fill:none\" points=\"213.739,822.71 232.637,822.71 \"/>\n",
       "<polyline clip-path=\"url(#clip010)\" style=\"stroke:#000000; stroke-linecap:round; stroke-linejoin:round; stroke-width:4; stroke-opacity:1; fill:none\" points=\"213.739,502.296 232.637,502.296 \"/>\n",
       "<polyline clip-path=\"url(#clip010)\" style=\"stroke:#000000; stroke-linecap:round; stroke-linejoin:round; stroke-width:4; stroke-opacity:1; fill:none\" points=\"213.739,181.882 232.637,181.882 \"/>\n",
       "<path clip-path=\"url(#clip010)\" d=\"M51.7951 1483.33 L59.4339 1483.33 L59.4339 1456.97 L51.1238 1458.63 L51.1238 1454.37 L59.3876 1452.71 L64.0635 1452.71 L64.0635 1483.33 L71.7024 1483.33 L71.7024 1487.27 L51.7951 1487.27 L51.7951 1483.33 Z\" fill=\"#000000\" fill-rule=\"nonzero\" fill-opacity=\"1\" /><path clip-path=\"url(#clip010)\" d=\"M91.1467 1455.78 Q87.5356 1455.78 85.7069 1459.35 Q83.9014 1462.89 83.9014 1470.02 Q83.9014 1477.13 85.7069 1480.69 Q87.5356 1484.23 91.1467 1484.23 Q94.781 1484.23 96.5865 1480.69 Q98.4152 1477.13 98.4152 1470.02 Q98.4152 1462.89 96.5865 1459.35 Q94.781 1455.78 91.1467 1455.78 M91.1467 1452.08 Q96.9569 1452.08 100.012 1456.69 Q103.091 1461.27 103.091 1470.02 Q103.091 1478.75 100.012 1483.35 Q96.9569 1487.94 91.1467 1487.94 Q85.3366 1487.94 82.2579 1483.35 Q79.2023 1478.75 79.2023 1470.02 Q79.2023 1461.27 82.2579 1456.69 Q85.3366 1452.08 91.1467 1452.08 Z\" fill=\"#000000\" fill-rule=\"nonzero\" fill-opacity=\"1\" /><path clip-path=\"url(#clip010)\" d=\"M103.091 1446.18 L127.203 1446.18 L127.203 1449.38 L103.091 1449.38 L103.091 1446.18 Z\" fill=\"#000000\" fill-rule=\"nonzero\" fill-opacity=\"1\" /><path clip-path=\"url(#clip010)\" d=\"M138.675 1456.66 L151.935 1456.66 L151.935 1459.86 L134.105 1459.86 L134.105 1456.66 Q136.268 1454.42 139.992 1450.66 Q143.735 1446.88 144.694 1445.79 Q146.518 1443.74 147.233 1442.33 Q147.966 1440.9 147.966 1439.52 Q147.966 1437.29 146.387 1435.88 Q144.826 1434.46 142.305 1434.46 Q140.519 1434.46 138.525 1435.09 Q136.55 1435.71 134.293 1436.97 L134.293 1433.13 Q136.588 1432.21 138.581 1431.74 Q140.575 1431.27 142.23 1431.27 Q146.593 1431.27 149.189 1433.45 Q151.784 1435.63 151.784 1439.28 Q151.784 1441.01 151.126 1442.57 Q150.487 1444.11 148.775 1446.22 Q148.305 1446.77 145.785 1449.38 Q143.264 1451.98 138.675 1456.66 Z\" fill=\"#000000\" fill-rule=\"nonzero\" fill-opacity=\"1\" /><path clip-path=\"url(#clip010)\" d=\"M168.034 1434.28 Q165.1 1434.28 163.614 1437.17 Q162.147 1440.05 162.147 1445.84 Q162.147 1451.62 163.614 1454.51 Q165.1 1457.39 168.034 1457.39 Q170.987 1457.39 172.454 1454.51 Q173.94 1451.62 173.94 1445.84 Q173.94 1440.05 172.454 1437.17 Q170.987 1434.28 168.034 1434.28 M168.034 1431.27 Q172.755 1431.27 175.238 1435.01 Q177.739 1438.73 177.739 1445.84 Q177.739 1452.93 175.238 1456.68 Q172.755 1460.4 168.034 1460.4 Q163.314 1460.4 160.812 1456.68 Q158.33 1452.93 158.33 1445.84 Q158.33 1438.73 160.812 1435.01 Q163.314 1431.27 168.034 1431.27 Z\" fill=\"#000000\" fill-rule=\"nonzero\" fill-opacity=\"1\" /><path clip-path=\"url(#clip010)\" d=\"M51.9455 1162.92 L59.5844 1162.92 L59.5844 1136.55 L51.2742 1138.22 L51.2742 1133.96 L59.5381 1132.29 L64.214 1132.29 L64.214 1162.92 L71.8528 1162.92 L71.8528 1166.85 L51.9455 1166.85 L51.9455 1162.92 Z\" fill=\"#000000\" fill-rule=\"nonzero\" fill-opacity=\"1\" /><path clip-path=\"url(#clip010)\" d=\"M91.2972 1135.37 Q87.6861 1135.37 85.8574 1138.94 Q84.0518 1142.48 84.0518 1149.61 Q84.0518 1156.71 85.8574 1160.28 Q87.6861 1163.82 91.2972 1163.82 Q94.9314 1163.82 96.737 1160.28 Q98.5657 1156.71 98.5657 1149.61 Q98.5657 1142.48 96.737 1138.94 Q94.9314 1135.37 91.2972 1135.37 M91.2972 1131.67 Q97.1073 1131.67 100.163 1136.27 Q103.242 1140.86 103.242 1149.61 Q103.242 1158.33 100.163 1162.94 Q97.1073 1167.52 91.2972 1167.52 Q85.487 1167.52 82.4083 1162.94 Q79.3528 1158.33 79.3528 1149.61 Q79.3528 1140.86 82.4083 1136.27 Q85.487 1131.67 91.2972 1131.67 Z\" fill=\"#000000\" fill-rule=\"nonzero\" fill-opacity=\"1\" /><path clip-path=\"url(#clip010)\" d=\"M103.242 1125.77 L127.353 1125.77 L127.353 1128.97 L103.242 1128.97 L103.242 1125.77 Z\" fill=\"#000000\" fill-rule=\"nonzero\" fill-opacity=\"1\" /><path clip-path=\"url(#clip010)\" d=\"M136.212 1136.24 L142.418 1136.24 L142.418 1114.82 L135.666 1116.18 L135.666 1112.72 L142.381 1111.36 L146.18 1111.36 L146.18 1136.24 L152.386 1136.24 L152.386 1139.44 L136.212 1139.44 L136.212 1136.24 Z\" fill=\"#000000\" fill-rule=\"nonzero\" fill-opacity=\"1\" /><path clip-path=\"url(#clip010)\" d=\"M160.173 1138.86 L160.173 1135.4 Q161.602 1136.07 163.069 1136.43 Q164.536 1136.79 165.947 1136.79 Q169.708 1136.79 171.683 1134.27 Q173.677 1131.73 173.959 1126.58 Q172.868 1128.19 171.194 1129.06 Q169.52 1129.92 167.489 1129.92 Q163.276 1129.92 160.812 1127.39 Q158.367 1124.83 158.367 1120.41 Q158.367 1116.08 160.925 1113.47 Q163.483 1110.85 167.733 1110.85 Q172.605 1110.85 175.162 1114.6 Q177.739 1118.32 177.739 1125.43 Q177.739 1132.07 174.579 1136.04 Q171.439 1139.99 166.116 1139.99 Q164.687 1139.99 163.22 1139.7 Q161.753 1139.42 160.173 1138.86 M167.733 1126.95 Q170.291 1126.95 171.777 1125.2 Q173.282 1123.45 173.282 1120.41 Q173.282 1117.38 171.777 1115.63 Q170.291 1113.86 167.733 1113.86 Q165.176 1113.86 163.671 1115.63 Q162.185 1117.38 162.185 1120.41 Q162.185 1123.45 163.671 1125.2 Q165.176 1126.95 167.733 1126.95 Z\" fill=\"#000000\" fill-rule=\"nonzero\" fill-opacity=\"1\" /><path clip-path=\"url(#clip010)\" d=\"M51.8703 842.502 L59.5092 842.502 L59.5092 816.137 L51.199 817.803 L51.199 813.544 L59.4629 811.878 L64.1388 811.878 L64.1388 842.502 L71.7776 842.502 L71.7776 846.438 L51.8703 846.438 L51.8703 842.502 Z\" fill=\"#000000\" fill-rule=\"nonzero\" fill-opacity=\"1\" /><path clip-path=\"url(#clip010)\" d=\"M91.2219 814.956 Q87.6109 814.956 85.7822 818.521 Q83.9766 822.063 83.9766 829.192 Q83.9766 836.299 85.7822 839.863 Q87.6109 843.405 91.2219 843.405 Q94.8562 843.405 96.6617 839.863 Q98.4904 836.299 98.4904 829.192 Q98.4904 822.063 96.6617 818.521 Q94.8562 814.956 91.2219 814.956 M91.2219 811.253 Q97.0321 811.253 100.088 815.859 Q103.166 820.442 103.166 829.192 Q103.166 837.919 100.088 842.526 Q97.0321 847.109 91.2219 847.109 Q85.4118 847.109 82.3331 842.526 Q79.2776 837.919 79.2776 829.192 Q79.2776 820.442 82.3331 815.859 Q85.4118 811.253 91.2219 811.253 Z\" fill=\"#000000\" fill-rule=\"nonzero\" fill-opacity=\"1\" /><path clip-path=\"url(#clip010)\" d=\"M103.166 805.354 L127.278 805.354 L127.278 808.551 L103.166 808.551 L103.166 805.354 Z\" fill=\"#000000\" fill-rule=\"nonzero\" fill-opacity=\"1\" /><path clip-path=\"url(#clip010)\" d=\"M136.136 815.83 L142.343 815.83 L142.343 794.408 L135.591 795.762 L135.591 792.301 L142.305 790.947 L146.104 790.947 L146.104 815.83 L152.311 815.83 L152.311 819.027 L136.136 819.027 L136.136 815.83 Z\" fill=\"#000000\" fill-rule=\"nonzero\" fill-opacity=\"1\" /><path clip-path=\"url(#clip010)\" d=\"M168.11 805.692 Q165.401 805.692 163.84 807.141 Q162.298 808.589 162.298 811.128 Q162.298 813.667 163.84 815.115 Q165.401 816.563 168.11 816.563 Q170.818 816.563 172.379 815.115 Q173.94 813.648 173.94 811.128 Q173.94 808.589 172.379 807.141 Q170.837 805.692 168.11 805.692 M164.31 804.075 Q161.865 803.473 160.492 801.799 Q159.138 800.125 159.138 797.718 Q159.138 794.351 161.527 792.395 Q163.934 790.439 168.11 790.439 Q172.304 790.439 174.692 792.395 Q177.081 794.351 177.081 797.718 Q177.081 800.125 175.708 801.799 Q174.354 803.473 171.928 804.075 Q174.673 804.714 176.197 806.576 Q177.739 808.438 177.739 811.128 Q177.739 815.209 175.238 817.391 Q172.755 819.573 168.11 819.573 Q163.464 819.573 160.963 817.391 Q158.48 815.209 158.48 811.128 Q158.48 808.438 160.022 806.576 Q161.564 804.714 164.31 804.075 M162.919 798.075 Q162.919 800.257 164.273 801.479 Q165.646 802.702 168.11 802.702 Q170.555 802.702 171.928 801.479 Q173.319 800.257 173.319 798.075 Q173.319 795.894 171.928 794.671 Q170.555 793.449 168.11 793.449 Q165.646 793.449 164.273 794.671 Q162.919 795.894 162.919 798.075 Z\" fill=\"#000000\" fill-rule=\"nonzero\" fill-opacity=\"1\" /><path clip-path=\"url(#clip010)\" d=\"M52.5286 522.088 L60.1674 522.088 L60.1674 495.723 L51.8573 497.389 L51.8573 493.13 L60.1211 491.463 L64.797 491.463 L64.797 522.088 L72.4359 522.088 L72.4359 526.023 L52.5286 526.023 L52.5286 522.088 Z\" fill=\"#000000\" fill-rule=\"nonzero\" fill-opacity=\"1\" /><path clip-path=\"url(#clip010)\" d=\"M91.8802 494.542 Q88.2691 494.542 86.4404 498.107 Q84.6349 501.648 84.6349 508.778 Q84.6349 515.885 86.4404 519.449 Q88.2691 522.991 91.8802 522.991 Q95.5145 522.991 97.32 519.449 Q99.1487 515.885 99.1487 508.778 Q99.1487 501.648 97.32 498.107 Q95.5145 494.542 91.8802 494.542 M91.8802 490.838 Q97.6904 490.838 100.746 495.445 Q103.825 500.028 103.825 508.778 Q103.825 517.505 100.746 522.111 Q97.6904 526.695 91.8802 526.695 Q86.0701 526.695 82.9914 522.111 Q79.9358 517.505 79.9358 508.778 Q79.9358 500.028 82.9914 495.445 Q86.0701 490.838 91.8802 490.838 Z\" fill=\"#000000\" fill-rule=\"nonzero\" fill-opacity=\"1\" /><path clip-path=\"url(#clip010)\" d=\"M103.825 484.94 L127.936 484.94 L127.936 488.137 L103.825 488.137 L103.825 484.94 Z\" fill=\"#000000\" fill-rule=\"nonzero\" fill-opacity=\"1\" /><path clip-path=\"url(#clip010)\" d=\"M136.795 495.416 L143.001 495.416 L143.001 473.994 L136.249 475.348 L136.249 471.887 L142.964 470.533 L146.763 470.533 L146.763 495.416 L152.969 495.416 L152.969 498.613 L136.795 498.613 L136.795 495.416 Z\" fill=\"#000000\" fill-rule=\"nonzero\" fill-opacity=\"1\" /><path clip-path=\"url(#clip010)\" d=\"M159.684 470.533 L177.739 470.533 L177.739 472.15 L167.545 498.613 L163.577 498.613 L173.169 473.73 L159.684 473.73 L159.684 470.533 Z\" fill=\"#000000\" fill-rule=\"nonzero\" fill-opacity=\"1\" /><path clip-path=\"url(#clip010)\" d=\"M51.6634 201.674 L59.3023 201.674 L59.3023 175.308 L50.9921 176.975 L50.9921 172.716 L59.256 171.049 L63.9319 171.049 L63.9319 201.674 L71.5707 201.674 L71.5707 205.609 L51.6634 205.609 L51.6634 201.674 Z\" fill=\"#000000\" fill-rule=\"nonzero\" fill-opacity=\"1\" /><path clip-path=\"url(#clip010)\" d=\"M91.0151 174.128 Q87.404 174.128 85.5753 177.693 Q83.7697 181.234 83.7697 188.364 Q83.7697 195.47 85.5753 199.035 Q87.404 202.577 91.0151 202.577 Q94.6493 202.577 96.4548 199.035 Q98.2835 195.47 98.2835 188.364 Q98.2835 181.234 96.4548 177.693 Q94.6493 174.128 91.0151 174.128 M91.0151 170.424 Q96.8252 170.424 99.8808 175.031 Q102.959 179.614 102.959 188.364 Q102.959 197.091 99.8808 201.697 Q96.8252 206.28 91.0151 206.28 Q85.2049 206.28 82.1262 201.697 Q79.0707 197.091 79.0707 188.364 Q79.0707 179.614 82.1262 175.031 Q85.2049 170.424 91.0151 170.424 Z\" fill=\"#000000\" fill-rule=\"nonzero\" fill-opacity=\"1\" /><path clip-path=\"url(#clip010)\" d=\"M102.959 164.526 L127.071 164.526 L127.071 167.723 L102.959 167.723 L102.959 164.526 Z\" fill=\"#000000\" fill-rule=\"nonzero\" fill-opacity=\"1\" /><path clip-path=\"url(#clip010)\" d=\"M135.929 175.001 L142.136 175.001 L142.136 153.579 L135.384 154.934 L135.384 151.473 L142.098 150.119 L145.898 150.119 L145.898 175.001 L152.104 175.001 L152.104 178.199 L135.929 178.199 L135.929 175.001 Z\" fill=\"#000000\" fill-rule=\"nonzero\" fill-opacity=\"1\" /><path clip-path=\"url(#clip010)\" d=\"M168.373 162.645 Q165.815 162.645 164.31 164.394 Q162.825 166.143 162.825 169.19 Q162.825 172.218 164.31 173.986 Q165.815 175.735 168.373 175.735 Q170.931 175.735 172.417 173.986 Q173.921 172.218 173.921 169.19 Q173.921 166.143 172.417 164.394 Q170.931 162.645 168.373 162.645 M175.915 150.739 L175.915 154.2 Q174.485 153.523 173.018 153.166 Q171.57 152.808 170.141 152.808 Q166.379 152.808 164.386 155.347 Q162.411 157.886 162.129 163.021 Q163.238 161.385 164.912 160.519 Q166.586 159.636 168.599 159.636 Q172.83 159.636 175.275 162.212 Q177.739 164.77 177.739 169.19 Q177.739 173.516 175.181 176.13 Q172.623 178.744 168.373 178.744 Q163.502 178.744 160.925 175.02 Q158.348 171.278 158.348 164.187 Q158.348 157.529 161.508 153.579 Q164.668 149.611 169.99 149.611 Q171.42 149.611 172.868 149.893 Q174.335 150.175 175.915 150.739 Z\" fill=\"#000000\" fill-rule=\"nonzero\" fill-opacity=\"1\" /><polyline clip-path=\"url(#clip012)\" style=\"stroke:#009af9; stroke-linecap:round; stroke-linejoin:round; stroke-width:4; stroke-opacity:1; fill:none\" points=\"274.277,880.756 317.212,810.775 360.147,733.537 403.082,744.374 446.017,829.558 488.952,804.261 531.887,658.11 574.822,1281.21 617.757,647.674 660.691,598.848 703.626,730.923 746.561,1445.72 789.496,721.448 832.431,1069.09 875.366,511.717 918.301,504.806 961.236,674.333 1004.17,492.268 1047.11,498.823 1090.04,1094.09 1132.98,456.672 1175.91,355.205 1218.85,654.634 1261.78,421.728 1304.71,514.692 1347.65,221.735 1390.58,465.961 1433.52,351.897 1476.45,284.099 1519.39,553.67 1562.32,472.584 1605.26,262.465 1648.19,409.595 1691.13,235.213 1734.06,364.651 1777,322.232 1819.93,182.344 1862.87,87.9763 1905.8,405.825 1948.74,425.749 1991.67,547.918 2034.61,179.423 2077.54,222.938 2120.48,245.829 2163.41,247.803 2206.35,104.81 2249.28,303.297 2292.22,115.113 \"/>\n",
       "<path clip-path=\"url(#clip010)\" d=\"M2015.12 198.898 L2281.46 198.898 L2281.46 95.2176 L2015.12 95.2176  Z\" fill=\"#ffffff\" fill-rule=\"evenodd\" fill-opacity=\"1\"/>\n",
       "<polyline clip-path=\"url(#clip010)\" style=\"stroke:#000000; stroke-linecap:round; stroke-linejoin:round; stroke-width:4; stroke-opacity:1; fill:none\" points=\"2015.12,198.898 2281.46,198.898 2281.46,95.2176 2015.12,95.2176 2015.12,198.898 \"/>\n",
       "<polyline clip-path=\"url(#clip010)\" style=\"stroke:#009af9; stroke-linecap:round; stroke-linejoin:round; stroke-width:4; stroke-opacity:1; fill:none\" points=\"2038.89,147.058 2181.49,147.058 \"/>\n",
       "<path clip-path=\"url(#clip010)\" d=\"M2219.1 166.745 Q2217.3 171.375 2215.58 172.787 Q2213.87 174.199 2211 174.199 L2207.6 174.199 L2207.6 170.634 L2210.1 170.634 Q2211.86 170.634 2212.83 169.8 Q2213.8 168.967 2214.98 165.865 L2215.74 163.921 L2205.26 138.412 L2209.77 138.412 L2217.87 158.689 L2225.98 138.412 L2230.49 138.412 L2219.1 166.745 Z\" fill=\"#000000\" fill-rule=\"nonzero\" fill-opacity=\"1\" /><path clip-path=\"url(#clip010)\" d=\"M2237.78 160.402 L2245.42 160.402 L2245.42 134.037 L2237.11 135.703 L2237.11 131.444 L2245.37 129.778 L2250.05 129.778 L2250.05 160.402 L2257.69 160.402 L2257.69 164.338 L2237.78 164.338 L2237.78 160.402 Z\" fill=\"#000000\" fill-rule=\"nonzero\" fill-opacity=\"1\" /></svg>\n"
      ]
     },
     "metadata": {},
     "output_type": "display_data"
    },
    {
     "data": {
      "text/plain": [
       "48-element Vector{ComplexF64}:\n",
       "   6.589315466434655e-19 - 1.0036419253195681e-21im\n",
       "  1.0895494024249218e-18 - 4.045309447619193e-22im\n",
       "  1.8980361225893182e-18 - 4.908535428869187e-22im\n",
       "    1.75582951356279e-18 - 5.371471687125501e-23im\n",
       "   9.519809767602057e-19 - 8.145536094471994e-23im\n",
       "   1.141766259657431e-18 - 3.3412749129553055e-24im\n",
       "  3.2636926910540524e-18 - 6.147068586619949e-24im\n",
       "  -3.707230211565948e-20 - 1.1942961020562752e-25im\n",
       "  3.5178642623701414e-18 - 2.590421764465047e-25im\n",
       "   4.996486165699316e-18 - 2.765509270348544e-27im\n",
       " -1.9340292331176585e-18 - 6.91508719094668e-27im\n",
       "  1.1366416601233463e-20 - 4.484016789369851e-29im\n",
       "  2.0703085306498933e-18 - 1.2702222853070307e-28im\n",
       "                         ⋮\n",
       "   9.966837528030891e-17 + 5.776454471579173e-32im\n",
       "  1.9636982051027515e-16 + 1.211658199426465e-31im\n",
       "  -2.000231104238572e-17 - 1.6106529555418918e-32im\n",
       "  1.7333978084014536e-17 + 8.083827630830838e-33im\n",
       "   7.204662033064698e-18 + 1.3167417520170936e-33im\n",
       " -1.0178245637397107e-16 - 6.624333844849886e-32im\n",
       "   7.444991356193604e-17 + 4.302873561297967e-32im\n",
       "   6.315720511194621e-17 + 3.276375470431106e-32im\n",
       "  -6.226766664470848e-17 - 4.164992775923916e-32im\n",
       "  1.7399541477623022e-16 + 1.0926097739480677e-31im\n",
       "   4.178950871569059e-17 + 1.6047284640137474e-32im\n",
       " -1.6157804243431997e-16 - 1.0044495784273574e-31im"
      ]
     },
     "metadata": {},
     "output_type": "display_data"
    }
   ],
   "source": [
    "w =  [1];\n",
    "x = 1;\n",
    "t = .00001;\n",
    "N_ult = 50;\n",
    "L = 2;\n",
    "ψ = x -> (x+1)*L/2;\n",
    "ϕ = x -> 2/L*x-1;\n",
    "f = x -> sin(pi*x);\n",
    "ff = UltraFun(0,x -> f(ψ(x)),N_ult);\n",
    "N = 2;\n",
    "rel_res = First_Int(w,x,t,ff,N,L)\n",
    "\n",
    "err = zeros(length(2:N_ult-1))*1im\n",
    "NN = 2:N_ult-1\n",
    "for N_ulti = NN\n",
    "    ff = UltraFun(0,x -> f(ψ(x)),N_ulti);\n",
    "    err[N_ulti-1] = First_Int(w,x,t,ff,N,L) - rel_res \n",
    "end\n",
    "plot(NN,abs.(err),yaxis =:log)|>display\n",
    "err|>display\n"
   ]
  },
  {
   "cell_type": "code",
   "execution_count": 19,
   "metadata": {},
   "outputs": [
    {
     "data": {
      "text/plain": [
       "4.176872787454636e-12 + 2.6442180084055023e-12im"
      ]
     },
     "execution_count": 19,
     "metadata": {},
     "output_type": "execute_result"
    }
   ],
   "source": [
    "w =  [1];\n",
    "x = 1;\n",
    "t = 1;\n",
    "N_ult = 100;\n",
    "L = 2;\n",
    "ψ = x -> (x+1)*L/2;\n",
    "ϕ = x -> 2/L*x-1;\n",
    "f = x -> sin(pi*x);\n",
    "ff = UltraFun(0,x -> f(ψ(x)),N_ult);\n",
    "N = 4;\n",
    "rel_res = First_Int(w,x,t,ff,N,L)\n",
    "\n",
    "int1 = (g,k,x,t) -> exp(1im*k*x-k^2*t)*g(k)\n",
    "g = k -> -(π*(1-exp.(-2im*k)))/(k^2 .- π^2)\n",
    "\n",
    "s = curv(x -> x,-100,100, x ->  1, 20000, 0, 0 )\n",
    "Clen_Curt(k -> int1(g,k,x,t),s) - rel_res"
   ]
  },
  {
   "cell_type": "code",
   "execution_count": 20,
   "metadata": {},
   "outputs": [
    {
     "data": {
      "text/plain": [
       "6.7505743563551956e-18 - 1.1102230246251565e-16im"
      ]
     },
     "metadata": {},
     "output_type": "display_data"
    },
    {
     "data": {
      "text/plain": [
       "-4.17686603688028e-12 - 2.644329030707965e-12im"
      ]
     },
     "metadata": {},
     "output_type": "display_data"
    }
   ],
   "source": [
    "Clen_Curt(k -> int1(g,k,x,t),s)|>display\n",
    "rel_res|>display"
   ]
  },
  {
   "cell_type": "code",
   "execution_count": 13,
   "metadata": {},
   "outputs": [
    {
     "data": {
      "text/plain": [
       "3.0604046680338626 - 7.975091868469157e-15im"
      ]
     },
     "execution_count": 13,
     "metadata": {},
     "output_type": "execute_result"
    }
   ],
   "source": []
  },
  {
   "cell_type": "markdown",
   "metadata": {},
   "source": [
    "Let's say we have that case where $L=2$ and $q=\\sin(π x)$. We then have that $\\hat{q}=\\frac{π (e^{-2ik}-1)}{k^2-\\pi^2}$. We then want to evaluate\n",
    "\\begin{align*}\n",
    "\\int_{-\\infty}^∞ e^{ikx-k^2t}\\frac{π (e^{-2ik}-1)}{k^2-\\pi^2}\\mathrm{d}k &= \\int_{-\\infty}^∞ \\left(e^{ik(x-2)-k^2t}-e^{ikx-k^2t}\\right)\\frac{π}{(k-\\pi)(k+π)}\\mathrm{d}k\\\\\n",
    "&= \\frac{1}{2}\\int_{-\\infty}^∞ \\left(e^{ik(x-2)-k^2t}-e^{ikx-k^2t}\\right)\\left(\\frac{1}{k-π}-\\frac{1}{k+π}\\right)\\mathrm{d}k\\\\\n",
    "&= \\frac{1}{2}\\int_{-\\infty}^∞ \\frac{e^{ik(x-2)-k^2t}-e^{ikx-k^2t}}{k-π}\\mathrm{d}k-\\frac{1}{2}\\int_{-\\infty}^∞ \\frac{e^{ik(x-2)-k^2t}-e^{ikx-k^2t}}{k+π}\\mathrm{d}k\\\\\n",
    "&= \\frac{1}{2}\\int_{-\\infty}^∞ \\frac{e^{i(k+\\pi)(x-2)-(k+\\pi)^2t}-e^{i(k+\\pi)x-(k+\\pi)^2t}}{k}\\mathrm{d}k-\\frac{1}{2}\\int_{-\\infty}^∞ \\frac{e^{i(k-π)(x-2)-(k-π)^2t}-e^{(k-π)x-(k-π)^2t}}{k}\\mathrm{d}k\\\\\n",
    "&= \\frac{e^{i\\pi(x-2)-\\pi^2t}}{2}iI_{1}(x-2+2πti,t)-\\frac{e^{iπx-\\pi^2t}}{2}iI_{1}(x+2πti,t)\\\\&~~~~-\\frac{e^{-i\\pi(x-2)-\\pi^2t}}{2}iI_{1}(x-2-2πti,t)+\\frac{e^{-iπx-\\pi^2t}}{2}iI_{1}(x-2πti,t)\n",
    "\\end{align*}"
   ]
  },
  {
   "cell_type": "code",
   "execution_count": 6,
   "metadata": {},
   "outputs": [
    {
     "ename": "LoadError",
     "evalue": "MethodError: no method matching zero(::Type{Any})\n\n\u001b[0mClosest candidates are:\n\u001b[0m  zero(::Type{Union{Missing, T}}) where T\n\u001b[0m\u001b[90m   @\u001b[39m \u001b[90mBase\u001b[39m \u001b[90m\u001b[4mmissing.jl:105\u001b[24m\u001b[39m\n\u001b[0m  zero(\u001b[91m::Union{Type{P}, P}\u001b[39m) where P<:Dates.Period\n\u001b[0m\u001b[90m   @\u001b[39m \u001b[36mDates\u001b[39m \u001b[90mC:\\Users\\wiets\\AppData\\Local\\Programs\\Julia-1.9.3\\share\\julia\\stdlib\\v1.9\\Dates\\src\\\u001b[39m\u001b[90m\u001b[4mperiods.jl:51\u001b[24m\u001b[39m\n\u001b[0m  zero(\u001b[91m::UniformScaling{T}\u001b[39m) where T\n\u001b[0m\u001b[90m   @\u001b[39m \u001b[32mLinearAlgebra\u001b[39m \u001b[90mC:\\Users\\wiets\\AppData\\Local\\Programs\\Julia-1.9.3\\share\\julia\\stdlib\\v1.9\\LinearAlgebra\\src\\\u001b[39m\u001b[90m\u001b[4muniformscaling.jl:135\u001b[24m\u001b[39m\n\u001b[0m  ...\n",
     "output_type": "error",
     "traceback": [
      "MethodError: no method matching zero(::Type{Any})\n\n\u001b[0mClosest candidates are:\n\u001b[0m  zero(::Type{Union{Missing, T}}) where T\n\u001b[0m\u001b[90m   @\u001b[39m \u001b[90mBase\u001b[39m \u001b[90m\u001b[4mmissing.jl:105\u001b[24m\u001b[39m\n\u001b[0m  zero(\u001b[91m::Union{Type{P}, P}\u001b[39m) where P<:Dates.Period\n\u001b[0m\u001b[90m   @\u001b[39m \u001b[36mDates\u001b[39m \u001b[90mC:\\Users\\wiets\\AppData\\Local\\Programs\\Julia-1.9.3\\share\\julia\\stdlib\\v1.9\\Dates\\src\\\u001b[39m\u001b[90m\u001b[4mperiods.jl:51\u001b[24m\u001b[39m\n\u001b[0m  zero(\u001b[91m::UniformScaling{T}\u001b[39m) where T\n\u001b[0m\u001b[90m   @\u001b[39m \u001b[32mLinearAlgebra\u001b[39m \u001b[90mC:\\Users\\wiets\\AppData\\Local\\Programs\\Julia-1.9.3\\share\\julia\\stdlib\\v1.9\\LinearAlgebra\\src\\\u001b[39m\u001b[90m\u001b[4muniformscaling.jl:135\u001b[24m\u001b[39m\n\u001b[0m  ...\n",
      "",
      "Stacktrace:",
      "  [1] zero(#unused#::Type{Any})",
      "    @ Base .\\missing.jl:106",
      "  [2] reduce_empty(#unused#::typeof(+), #unused#::Type{Any})",
      "    @ Base .\\reduce.jl:338",
      "  [3] reduce_empty(#unused#::typeof(Base.add_sum), #unused#::Type{Any})",
      "    @ Base .\\reduce.jl:347",
      "  [4] mapreduce_empty(#unused#::typeof(identity), op::Function, T::Type)",
      "    @ Base .\\reduce.jl:367",
      "  [5] reduce_empty(op::Base.MappingRF{typeof(identity), typeof(Base.add_sum)}, #unused#::Type{Any})",
      "    @ Base .\\reduce.jl:356",
      "  [6] reduce_empty_iter",
      "    @ .\\reduce.jl:379 [inlined]",
      "  [7] mapreduce_empty_iter(f::Function, op::Function, itr::Vector{Any}, ItrEltype::Base.HasEltype)",
      "    @ Base .\\reduce.jl:375",
      "  [8] _mapreduce(f::typeof(identity), op::typeof(Base.add_sum), #unused#::IndexLinear, A::Vector{Any})",
      "    @ Base .\\reduce.jl:427",
      "  [9] _mapreduce_dim",
      "    @ .\\reducedim.jl:365 [inlined]",
      " [10] #mapreduce#800",
      "    @ .\\reducedim.jl:357 [inlined]",
      " [11] mapreduce",
      "    @ .\\reducedim.jl:357 [inlined]",
      " [12] #_sum#810",
      "    @ .\\reducedim.jl:999 [inlined]",
      " [13] _sum",
      "    @ .\\reducedim.jl:999 [inlined]",
      " [14] #_sum#809",
      "    @ .\\reducedim.jl:998 [inlined]",
      " [15] _sum",
      "    @ .\\reducedim.jl:998 [inlined]",
      " [16] #sum#807",
      "    @ .\\reducedim.jl:994 [inlined]",
      " [17] sum(a::Vector{Any})",
      "    @ Base .\\reducedim.jl:994",
      " [18] dom_sectioner(path::Vector{Any})",
      "    @ Main c:\\Users\\wiets\\OneDrive\\Documenten\\GitHub\\Tom-reading-course\\Code_jail\\Special f.jl:177",
      " [19] fpath_maker(path::Vector{Any}, cate::Vector{Any})",
      "    @ Main c:\\Users\\wiets\\OneDrive\\Documenten\\GitHub\\Tom-reading-course\\Code_jail\\Special f.jl:212",
      " [20] Deformation",
      "    @ c:\\Users\\wiets\\OneDrive\\Documenten\\GitHub\\Tom-reading-course\\Code_jail\\Special f.jl:239 [inlined]",
      " [21] FullPath(w::Vector{Int64}, xx::ComplexF64, tt::Complex{Int64})",
      "    @ Main c:\\Users\\wiets\\OneDrive\\Documenten\\GitHub\\Tom-reading-course\\Code_jail\\Special f.jl:271",
      " [22] Integrand(w::Vector{Int64}, xx::ComplexF64, tt::Complex{Int64}, m::Int64)",
      "    @ Main c:\\Users\\wiets\\OneDrive\\Documenten\\GitHub\\Tom-reading-course\\Code_jail\\Special f.jl:380",
      " [23] SpecialFunction(w::Vector{Int64}, xx::ComplexF64, tt::Int64, m::Int64, N::Int64)",
      "    @ Main c:\\Users\\wiets\\OneDrive\\Documenten\\GitHub\\Tom-reading-course\\Code_jail\\Special f.jl:389",
      " [24] (::var\"#305#306\")(x::ComplexF64, t::Int64)",
      "    @ Main .\\In[6]:2",
      " [25] (::var\"#307#308\")(x::Int64, t::Int64)",
      "    @ Main .\\In[6]:3",
      " [26] top-level scope",
      "    @ In[6]:4"
     ]
    }
   ],
   "source": [
    "w = [1];\n",
    "SF = (x,t) -> SpecialFunction(w, x, t, -1, 300);\n",
    "Solu = (x,t) -> exp(1im*pi*(x-2)-pi^2*t)/2*1im*SF(x-2+2im*pi*t,t) - exp(1im*pi*x-pi^2*t)/2*1im*SF(x+2im*pi*t,t)-exp(-1im*pi*(x-2)-pi^2*t)/2*1im*SF(x-2-2im*pi*t,t) + exp(-1im*pi*x-pi^2*t)/2*1im*SF(x-2im*pi*t,t);\n",
    "Solu(1,1)"
   ]
  },
  {
   "cell_type": "code",
   "execution_count": null,
   "metadata": {},
   "outputs": [
    {
     "data": {
      "text/plain": [
       "-1.5063940612579414 - 4.440892098500626e-16im"
      ]
     },
     "metadata": {},
     "output_type": "display_data"
    },
    {
     "ename": "LoadError",
     "evalue": "MethodError: no method matching zero(::Type{Any})\n\n\u001b[0mClosest candidates are:\n\u001b[0m  zero(::Type{Union{Missing, T}}) where T\n\u001b[0m\u001b[90m   @\u001b[39m \u001b[90mBase\u001b[39m \u001b[90m\u001b[4mmissing.jl:105\u001b[24m\u001b[39m\n\u001b[0m  zero(\u001b[91m::Union{Type{P}, P}\u001b[39m) where P<:Dates.Period\n\u001b[0m\u001b[90m   @\u001b[39m \u001b[36mDates\u001b[39m \u001b[90mC:\\Users\\wiets\\AppData\\Local\\Programs\\Julia-1.9.3\\share\\julia\\stdlib\\v1.9\\Dates\\src\\\u001b[39m\u001b[90m\u001b[4mperiods.jl:51\u001b[24m\u001b[39m\n\u001b[0m  zero(\u001b[91m::UniformScaling{T}\u001b[39m) where T\n\u001b[0m\u001b[90m   @\u001b[39m \u001b[32mLinearAlgebra\u001b[39m \u001b[90mC:\\Users\\wiets\\AppData\\Local\\Programs\\Julia-1.9.3\\share\\julia\\stdlib\\v1.9\\LinearAlgebra\\src\\\u001b[39m\u001b[90m\u001b[4muniformscaling.jl:135\u001b[24m\u001b[39m\n\u001b[0m  ...\n",
     "output_type": "error",
     "traceback": [
      "MethodError: no method matching zero(::Type{Any})\n\n\u001b[0mClosest candidates are:\n\u001b[0m  zero(::Type{Union{Missing, T}}) where T\n\u001b[0m\u001b[90m   @\u001b[39m \u001b[90mBase\u001b[39m \u001b[90m\u001b[4mmissing.jl:105\u001b[24m\u001b[39m\n\u001b[0m  zero(\u001b[91m::Union{Type{P}, P}\u001b[39m) where P<:Dates.Period\n\u001b[0m\u001b[90m   @\u001b[39m \u001b[36mDates\u001b[39m \u001b[90mC:\\Users\\wiets\\AppData\\Local\\Programs\\Julia-1.9.3\\share\\julia\\stdlib\\v1.9\\Dates\\src\\\u001b[39m\u001b[90m\u001b[4mperiods.jl:51\u001b[24m\u001b[39m\n\u001b[0m  zero(\u001b[91m::UniformScaling{T}\u001b[39m) where T\n\u001b[0m\u001b[90m   @\u001b[39m \u001b[32mLinearAlgebra\u001b[39m \u001b[90mC:\\Users\\wiets\\AppData\\Local\\Programs\\Julia-1.9.3\\share\\julia\\stdlib\\v1.9\\LinearAlgebra\\src\\\u001b[39m\u001b[90m\u001b[4muniformscaling.jl:135\u001b[24m\u001b[39m\n\u001b[0m  ...\n",
      "",
      "Stacktrace:",
      "  [1] zero(#unused#::Type{Any})",
      "    @ Base .\\missing.jl:106",
      "  [2] reduce_empty(#unused#::typeof(+), #unused#::Type{Any})",
      "    @ Base .\\reduce.jl:338",
      "  [3] reduce_empty(#unused#::typeof(Base.add_sum), #unused#::Type{Any})",
      "    @ Base .\\reduce.jl:347",
      "  [4] mapreduce_empty(#unused#::typeof(identity), op::Function, T::Type)",
      "    @ Base .\\reduce.jl:367",
      "  [5] reduce_empty(op::Base.MappingRF{typeof(identity), typeof(Base.add_sum)}, #unused#::Type{Any})",
      "    @ Base .\\reduce.jl:356",
      "  [6] reduce_empty_iter",
      "    @ .\\reduce.jl:379 [inlined]",
      "  [7] mapreduce_empty_iter(f::Function, op::Function, itr::Vector{Any}, ItrEltype::Base.HasEltype)",
      "    @ Base .\\reduce.jl:375",
      "  [8] _mapreduce(f::typeof(identity), op::typeof(Base.add_sum), #unused#::IndexLinear, A::Vector{Any})",
      "    @ Base .\\reduce.jl:427",
      "  [9] _mapreduce_dim",
      "    @ .\\reducedim.jl:365 [inlined]",
      " [10] #mapreduce#800",
      "    @ .\\reducedim.jl:357 [inlined]",
      " [11] mapreduce",
      "    @ .\\reducedim.jl:357 [inlined]",
      " [12] #_sum#810",
      "    @ .\\reducedim.jl:999 [inlined]",
      " [13] _sum",
      "    @ .\\reducedim.jl:999 [inlined]",
      " [14] #_sum#809",
      "    @ .\\reducedim.jl:998 [inlined]",
      " [15] _sum",
      "    @ .\\reducedim.jl:998 [inlined]",
      " [16] #sum#807",
      "    @ .\\reducedim.jl:994 [inlined]",
      " [17] sum(a::Vector{Any})",
      "    @ Base .\\reducedim.jl:994",
      " [18] dom_sectioner(path::Vector{Any})",
      "    @ Main c:\\Users\\wiets\\OneDrive\\Documenten\\GitHub\\Tom-reading-course\\Code_jail\\Special f.jl:177",
      " [19] fpath_maker(path::Vector{Any}, cate::Vector{Any})",
      "    @ Main c:\\Users\\wiets\\OneDrive\\Documenten\\GitHub\\Tom-reading-course\\Code_jail\\Special f.jl:212",
      " [20] Deformation",
      "    @ c:\\Users\\wiets\\OneDrive\\Documenten\\GitHub\\Tom-reading-course\\Code_jail\\Special f.jl:239 [inlined]",
      " [21] FullPath(w::Vector{Int64}, xx::ComplexF64, tt::Complex{Int64})",
      "    @ Main c:\\Users\\wiets\\OneDrive\\Documenten\\GitHub\\Tom-reading-course\\Code_jail\\Special f.jl:271",
      " [22] Integrand(w::Vector{Int64}, xx::ComplexF64, tt::Complex{Int64}, m::Int64)",
      "    @ Main c:\\Users\\wiets\\OneDrive\\Documenten\\GitHub\\Tom-reading-course\\Code_jail\\Special f.jl:380",
      " [23] SpecialFunction(w::Vector{Int64}, xx::ComplexF64, tt::Int64, m::Int64, N::Int64)",
      "    @ Main c:\\Users\\wiets\\OneDrive\\Documenten\\GitHub\\Tom-reading-course\\Code_jail\\Special f.jl:389",
      " [24] (::var\"#391#392\")(x::ComplexF64, t::Int64)",
      "    @ Main .\\In[15]:2",
      " [25] top-level scope",
      "    @ In[20]:2"
     ]
    }
   ],
   "source": [
    "SF(1,1)|>display\n",
    "SF(1-2+2im*pi*1,1)|>display"
   ]
  },
  {
   "cell_type": "code",
   "execution_count": null,
   "metadata": {},
   "outputs": [],
   "source": []
  }
 ],
 "metadata": {
  "kernelspec": {
   "display_name": "Julia 1.9.3",
   "language": "julia",
   "name": "julia-1.9"
  },
  "language_info": {
   "file_extension": ".jl",
   "mimetype": "application/julia",
   "name": "julia",
   "version": "1.9.3"
  }
 },
 "nbformat": 4,
 "nbformat_minor": 2
}
