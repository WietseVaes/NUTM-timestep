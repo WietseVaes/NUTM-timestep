{
 "cells": [
  {
   "cell_type": "code",
   "execution_count": 2,
   "metadata": {},
   "outputs": [],
   "source": [
    "include(\"..\\\\Code_jail\\\\Master_func.jl\")\n",
    "using JLD"
   ]
  },
  {
   "cell_type": "markdown",
   "metadata": {},
   "source": [
    "## Fourrier scaling\n",
    "Before we start, I want to go over scaling something with Fourrier. We'd like to get the Fourrier transform of $g:0 → L$. For this, we want to approximate $g$ through polynomials $T$. Say we have map $φ(x):[0,L]→[-1,1]: x ↦ \\frac{2}{L}x-1$ and $φ^{-1}(x):[-1,1]→[0,L]: x ↦ (x+1)\\frac{L}{2}$. We get\n",
    "\\begin{align*}\n",
    "\\mathcal{F}(g)[k] &= \\int_0^L e^{-ikx}g(x)\\mathrm{d}x = \\sum_jc_j \\int_0^L e^{-ikx}T_j(φ(x))\\mathrm{d}x = \\frac{L}{2}\\sum_jc_j \\int_{-1}^1 e^{-ik(x+1)\\frac{L}{2}}T_j(x)\\mathrm{d}x \\\\\n",
    "&= \\frac{L}{2}e^{-ik\\frac{L}{2}}\\sum_jc_j \\int_{-1}^1 e^{-ik\\frac{L}{2}x}T_j(x)\\mathrm{d}x\\\\\n",
    "&= \\frac{L}{2}e^{-ik\\frac{L}{2}}\\sum_jc_j \\mathcal{F}(T_j)\\left[\\frac{L}{2}k\\right]\n",
    "\\end{align*}"
   ]
  },
  {
   "cell_type": "markdown",
   "metadata": {},
   "source": [
    "## Fourrier transform for small $k$ \n",
    "Let's say we approximated $g₀$ using Chebyshev polynomials $T$. Note then that the Fourrier transform can be acchieved through two ways. We could use the three-term reccurence:\n",
    "$$\n",
    "b_{j+1}T_{j+1} = (a_j-x)T_j + b_jT_{j-1} ⇒ b_{j+1}\\hat{T}_{j+1} = a_j\\hat{T}_j-\\partial_k\\hat{T}_j + b_j\\hat{T}_{j-1}.\n",
    "$$\n",
    "We can get $\\partial_k\\hat{T}_j$, through deriving the three-term recurrence for $\\hat{T}_j$\n",
    "$$ \n",
    "b_{j}\\partial_k\\hat{T}_j = a_{j-1}\\partial_k\\hat{T}_{j-1}-\\partial_{kk}\\hat{T}_{j-1} + b_{j-1}\\partial_k\\hat{T}_{j-2}.\n",
    "$$\n",
    "We can go back to $\\hat{T}_{0}$ and get all the derivatives. through the three-term recurrence. Luckely,\n",
    "$$\n",
    "\\hat{T}_{0} = \\int_{-1}^1e^{-ikx}\\mathrm{d}x = 2\\text{sinc}(k) = -2\\int_0^1\\cos(xk)\\mathrm{d}x.\n",
    "$$\n",
    "Using this, we stabily compute the $n$th derivative,\n",
    "$$\n",
    "\\hat{T}^{(n)}_{0} = -2\\int_0^1x^n\\cos\\left(xk+\\frac{n\\pi}{2}\\right)\\mathrm{d}x.\n",
    "$$\n",
    "Using the three-term recurrence like this is stable for small $k$. It can quickly grow unstable when $k$ grows. Using this approximation as a substitute for the Fourrier transformed function will be nice.\n",
    "\n",
    "This is too time expensive, even more than just doing the normal quadrature."
   ]
  },
  {
   "cell_type": "markdown",
   "metadata": {},
   "source": [
    "## Fourrier transform for large $k$\n",
    "What if we integrate the Fourrier transform by parts. We get\n",
    "$$\n",
    "\\int_{-1}^1 e^{-ikx}T(x)\\mathrm{d}x = \\sum_{j=0}^N (-1)^{j}\\left(\\frac{i}{k}\\right)^{j+1}\\left[T^{(j)}(x)e^{-ikx}\\right]_{-1}^1 + (-1)^{N+1}\\left(\\frac{i}{k}\\right)^{N+1}\\int_{-1}^1T^{(N+1)}(x)e^{-ikx}\\mathrm{d}x.\n",
    "$$\n",
    "As $k$ is large, we should be able approximate it and just lose the last term.\n",
    "$$\n",
    "\\int_{-1}^1 e^{-ikx}T(x)\\mathrm{d}x = \\sum_{j=0}^N (-1)^{j}\\left(\\frac{i}{k}\\right)^{j+1}\\left[T^{(j)}(x)e^{-ikx}\\right]_{-1}^1\n",
    "$$"
   ]
  },
  {
   "cell_type": "code",
   "execution_count": null,
   "metadata": {},
   "outputs": [],
   "source": []
  }
 ],
 "metadata": {
  "kernelspec": {
   "display_name": "Julia 1.9.3",
   "language": "julia",
   "name": "julia-1.9"
  },
  "language_info": {
   "file_extension": ".jl",
   "mimetype": "application/julia",
   "name": "julia",
   "version": "1.9.3"
  }
 },
 "nbformat": 4,
 "nbformat_minor": 2
}
